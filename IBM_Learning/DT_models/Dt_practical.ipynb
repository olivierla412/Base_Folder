{
 "cells": [
  {
   "cell_type": "code",
   "execution_count": 2,
   "id": "cc8a9aac",
   "metadata": {},
   "outputs": [],
   "source": [
    "import pandas as pd\n",
    "import numpy as np\n",
    "from sklearn.tree import DecisionTreeClassifier"
   ]
  },
  {
   "cell_type": "code",
   "execution_count": 6,
   "id": "3dd31164",
   "metadata": {},
   "outputs": [
    {
     "data": {
      "text/html": [
       "<div>\n",
       "<style scoped>\n",
       "    .dataframe tbody tr th:only-of-type {\n",
       "        vertical-align: middle;\n",
       "    }\n",
       "\n",
       "    .dataframe tbody tr th {\n",
       "        vertical-align: top;\n",
       "    }\n",
       "\n",
       "    .dataframe thead th {\n",
       "        text-align: right;\n",
       "    }\n",
       "</style>\n",
       "<table border=\"1\" class=\"dataframe\">\n",
       "  <thead>\n",
       "    <tr style=\"text-align: right;\">\n",
       "      <th></th>\n",
       "      <th>Age</th>\n",
       "      <th>Sex</th>\n",
       "      <th>BP</th>\n",
       "      <th>Cholesterol</th>\n",
       "      <th>Na_to_K</th>\n",
       "      <th>Drug</th>\n",
       "    </tr>\n",
       "  </thead>\n",
       "  <tbody>\n",
       "    <tr>\n",
       "      <th>0</th>\n",
       "      <td>23</td>\n",
       "      <td>F</td>\n",
       "      <td>HIGH</td>\n",
       "      <td>HIGH</td>\n",
       "      <td>25.355</td>\n",
       "      <td>drugY</td>\n",
       "    </tr>\n",
       "    <tr>\n",
       "      <th>1</th>\n",
       "      <td>47</td>\n",
       "      <td>M</td>\n",
       "      <td>LOW</td>\n",
       "      <td>HIGH</td>\n",
       "      <td>13.093</td>\n",
       "      <td>drugC</td>\n",
       "    </tr>\n",
       "    <tr>\n",
       "      <th>2</th>\n",
       "      <td>47</td>\n",
       "      <td>M</td>\n",
       "      <td>LOW</td>\n",
       "      <td>HIGH</td>\n",
       "      <td>10.114</td>\n",
       "      <td>drugC</td>\n",
       "    </tr>\n",
       "    <tr>\n",
       "      <th>3</th>\n",
       "      <td>28</td>\n",
       "      <td>F</td>\n",
       "      <td>NORMAL</td>\n",
       "      <td>HIGH</td>\n",
       "      <td>7.798</td>\n",
       "      <td>drugX</td>\n",
       "    </tr>\n",
       "    <tr>\n",
       "      <th>4</th>\n",
       "      <td>61</td>\n",
       "      <td>F</td>\n",
       "      <td>LOW</td>\n",
       "      <td>HIGH</td>\n",
       "      <td>18.043</td>\n",
       "      <td>drugY</td>\n",
       "    </tr>\n",
       "  </tbody>\n",
       "</table>\n",
       "</div>"
      ],
      "text/plain": [
       "   Age Sex      BP Cholesterol  Na_to_K   Drug\n",
       "0   23   F    HIGH        HIGH   25.355  drugY\n",
       "1   47   M     LOW        HIGH   13.093  drugC\n",
       "2   47   M     LOW        HIGH   10.114  drugC\n",
       "3   28   F  NORMAL        HIGH    7.798  drugX\n",
       "4   61   F     LOW        HIGH   18.043  drugY"
      ]
     },
     "execution_count": 6,
     "metadata": {},
     "output_type": "execute_result"
    }
   ],
   "source": [
    "data = pd.read_csv(\"/Users/oliverla412/Desktop/Place_project/IBM_Learning/drug200.csv\")\n",
    "data[0:5]"
   ]
  },
  {
   "cell_type": "code",
   "execution_count": 8,
   "id": "2a69dbf6",
   "metadata": {},
   "outputs": [
    {
     "data": {
      "text/plain": [
       "Age            0\n",
       "Sex            0\n",
       "BP             0\n",
       "Cholesterol    0\n",
       "Na_to_K        0\n",
       "Drug           0\n",
       "dtype: int64"
      ]
     },
     "execution_count": 8,
     "metadata": {},
     "output_type": "execute_result"
    }
   ],
   "source": [
    "data.isna().sum()"
   ]
  },
  {
   "cell_type": "code",
   "execution_count": 10,
   "id": "4bee585d",
   "metadata": {},
   "outputs": [],
   "source": [
    "X = data[['Age','Sex','BP','Cholesterol','Na_to_K']].values"
   ]
  },
  {
   "cell_type": "code",
   "execution_count": 94,
   "id": "3f15a996",
   "metadata": {},
   "outputs": [],
   "source": [
    "c1 = data[data.columns].values"
   ]
  },
  {
   "cell_type": "code",
   "execution_count": 95,
   "id": "ec33a323",
   "metadata": {},
   "outputs": [
    {
     "data": {
      "text/plain": [
       "array([[23, 'F', 'HIGH', 'HIGH', 25.355, 'drugY'],\n",
       "       [47, 'M', 'LOW', 'HIGH', 13.093, 'drugC'],\n",
       "       [47, 'M', 'LOW', 'HIGH', 10.114, 'drugC'],\n",
       "       ...,\n",
       "       [52, 'M', 'NORMAL', 'HIGH', 9.894, 'drugX'],\n",
       "       [23, 'M', 'NORMAL', 'NORMAL', 14.02, 'drugX'],\n",
       "       [40, 'F', 'LOW', 'NORMAL', 11.349, 'drugX']], dtype=object)"
      ]
     },
     "execution_count": 95,
     "metadata": {},
     "output_type": "execute_result"
    }
   ],
   "source": [
    "c1"
   ]
  },
  {
   "cell_type": "code",
   "execution_count": 97,
   "id": "814b1092",
   "metadata": {},
   "outputs": [],
   "source": [
    "#c1[:,0]"
   ]
  },
  {
   "cell_type": "code",
   "execution_count": null,
   "id": "8de20b01",
   "metadata": {},
   "outputs": [],
   "source": []
  },
  {
   "cell_type": "code",
   "execution_count": 18,
   "id": "9c3ae468",
   "metadata": {},
   "outputs": [
    {
     "data": {
      "text/plain": [
       "array(['F', 'M', 'M', 'F', 'F'], dtype=object)"
      ]
     },
     "execution_count": 18,
     "metadata": {},
     "output_type": "execute_result"
    }
   ],
   "source": [
    "X[:,1][:5]"
   ]
  },
  {
   "cell_type": "code",
   "execution_count": 19,
   "id": "db007310",
   "metadata": {},
   "outputs": [
    {
     "data": {
      "text/plain": [
       "array(['HIGH', 'LOW', 'LOW', 'NORMAL', 'LOW', 'NORMAL', 'NORMAL', 'LOW',\n",
       "       'NORMAL', 'LOW'], dtype=object)"
      ]
     },
     "execution_count": 19,
     "metadata": {},
     "output_type": "execute_result"
    }
   ],
   "source": [
    "X[:,2][:10]"
   ]
  },
  {
   "cell_type": "code",
   "execution_count": 21,
   "id": "1ed1f802",
   "metadata": {},
   "outputs": [
    {
     "data": {
      "text/plain": [
       "array(['HIGH', 'HIGH', 'HIGH', 'HIGH', 'HIGH', 'HIGH', 'HIGH', 'HIGH',\n",
       "       'HIGH', 'NORMAL'], dtype=object)"
      ]
     },
     "execution_count": 21,
     "metadata": {},
     "output_type": "execute_result"
    }
   ],
   "source": [
    "X[:,3][:10]"
   ]
  },
  {
   "cell_type": "code",
   "execution_count": 22,
   "id": "aadbafe4",
   "metadata": {},
   "outputs": [
    {
     "data": {
      "text/plain": [
       "array(['HIGH', 'NORMAL'], dtype=object)"
      ]
     },
     "execution_count": 22,
     "metadata": {},
     "output_type": "execute_result"
    }
   ],
   "source": [
    "data['Cholesterol'].unique()"
   ]
  },
  {
   "cell_type": "markdown",
   "id": "84de542f",
   "metadata": {},
   "source": [
    "### Converting the categorical data into numerical data using pandas.get_dummies() method"
   ]
  },
  {
   "cell_type": "code",
   "execution_count": 14,
   "id": "e6d1cfa6",
   "metadata": {},
   "outputs": [
    {
     "data": {
      "text/plain": [
       "array([], shape=(0, 5), dtype=object)"
      ]
     },
     "execution_count": 14,
     "metadata": {},
     "output_type": "execute_result"
    }
   ],
   "source": [
    "X[1:1]"
   ]
  },
  {
   "cell_type": "code",
   "execution_count": 23,
   "id": "42641720",
   "metadata": {},
   "outputs": [
    {
     "data": {
      "text/plain": [
       "array([[23, 0, 0, 0, 25.355],\n",
       "       [47, 1, 1, 0, 13.093],\n",
       "       [47, 1, 1, 0, 10.114],\n",
       "       [28, 0, 2, 0, 7.798],\n",
       "       [61, 0, 1, 0, 18.043]], dtype=object)"
      ]
     },
     "execution_count": 23,
     "metadata": {},
     "output_type": "execute_result"
    }
   ],
   "source": [
    "from sklearn import preprocessing\n",
    "le_sex = preprocessing.LabelEncoder()\n",
    "le_sex.fit(['F','M'])\n",
    "X[:,1] = le_sex.transform(X[:,1])\n",
    "\n",
    "le_BP = preprocessing.LabelEncoder()\n",
    "le_BP.fit(['LOW','NORMAL','HIGH'])\n",
    "X[:,2] = le_BP.transform(X[:,2])\n",
    "le_Chol = preprocessing.LabelEncoder()\n",
    "le_Chol.fit(['NORMAL','HIGH'])\n",
    "X[:,3] = le_Chol.transform(X[:,3])\n",
    "X[:5]"
   ]
  },
  {
   "cell_type": "code",
   "execution_count": 25,
   "id": "413f322c",
   "metadata": {},
   "outputs": [
    {
     "data": {
      "text/plain": [
       "0    drugY\n",
       "1    drugC\n",
       "2    drugC\n",
       "3    drugX\n",
       "4    drugY\n",
       "Name: Drug, dtype: object"
      ]
     },
     "execution_count": 25,
     "metadata": {},
     "output_type": "execute_result"
    }
   ],
   "source": [
    "y = data['Drug']\n",
    "y[:5]"
   ]
  },
  {
   "cell_type": "code",
   "execution_count": 26,
   "id": "a9fa56e5",
   "metadata": {},
   "outputs": [],
   "source": [
    "y_unique = data['Drug'].unique()\n"
   ]
  },
  {
   "cell_type": "code",
   "execution_count": 27,
   "id": "5180baf9",
   "metadata": {},
   "outputs": [
    {
     "data": {
      "text/plain": [
       "array(['drugY', 'drugC', 'drugX', 'drugA', 'drugB'], dtype=object)"
      ]
     },
     "execution_count": 27,
     "metadata": {},
     "output_type": "execute_result"
    }
   ],
   "source": [
    "y_unique"
   ]
  },
  {
   "cell_type": "markdown",
   "id": "d7b6da5b",
   "metadata": {},
   "source": [
    "### setting up the Decision Tree Algorithum"
   ]
  },
  {
   "cell_type": "code",
   "execution_count": 28,
   "id": "a5c2bff1",
   "metadata": {},
   "outputs": [],
   "source": [
    "from sklearn.model_selection import train_test_split"
   ]
  },
  {
   "cell_type": "code",
   "execution_count": 30,
   "id": "e1f8cf31",
   "metadata": {},
   "outputs": [],
   "source": [
    "x_train,x_test, y_train, y_test = train_test_split(X, y, test_size=0.3, random_state=45)"
   ]
  },
  {
   "cell_type": "code",
   "execution_count": 83,
   "id": "1e0bcb7c",
   "metadata": {},
   "outputs": [
    {
     "data": {
      "text/plain": [
       "140"
      ]
     },
     "execution_count": 83,
     "metadata": {},
     "output_type": "execute_result"
    }
   ],
   "source": [
    "x_train.shape[0]"
   ]
  },
  {
   "cell_type": "code",
   "execution_count": 81,
   "id": "5d9c98f0",
   "metadata": {},
   "outputs": [
    {
     "data": {
      "text/plain": [
       "140"
      ]
     },
     "execution_count": 81,
     "metadata": {},
     "output_type": "execute_result"
    }
   ],
   "source": [
    "y_train.shape[0]"
   ]
  },
  {
   "cell_type": "code",
   "execution_count": 34,
   "id": "7d3f2a91",
   "metadata": {},
   "outputs": [
    {
     "data": {
      "text/plain": [
       "(60, 5)"
      ]
     },
     "execution_count": 34,
     "metadata": {},
     "output_type": "execute_result"
    }
   ],
   "source": [
    "x_test.shape"
   ]
  },
  {
   "cell_type": "code",
   "execution_count": 35,
   "id": "a86ef30b",
   "metadata": {},
   "outputs": [
    {
     "data": {
      "text/plain": [
       "(60,)"
      ]
     },
     "execution_count": 35,
     "metadata": {},
     "output_type": "execute_result"
    }
   ],
   "source": [
    "y_test.shape"
   ]
  },
  {
   "cell_type": "markdown",
   "id": "d108651f",
   "metadata": {},
   "source": [
    "### Modeling"
   ]
  },
  {
   "cell_type": "markdown",
   "id": "799055ca",
   "metadata": {},
   "source": [
    "we will first create an instance of the __DecisionTreeClassifier__ called __DrugTrue__\n",
    "Inside of the classifier, specifier criterion =\"entropy\" so we can see the information gain of each node."
   ]
  },
  {
   "cell_type": "code",
   "execution_count": 36,
   "id": "4f1019ac",
   "metadata": {},
   "outputs": [
    {
     "data": {
      "text/plain": [
       "DecisionTreeClassifier(criterion='entropy', max_depth=4)"
      ]
     },
     "execution_count": 36,
     "metadata": {},
     "output_type": "execute_result"
    }
   ],
   "source": [
    "drugTree = DecisionTreeClassifier(criterion=\"entropy\",\n",
    "                                  max_depth= 4)\n",
    "drugTree"
   ]
  },
  {
   "cell_type": "markdown",
   "id": "497a4102",
   "metadata": {},
   "source": [
    "Next we will fit the data with the training feature matrix __x_train__\n",
    "and training respose vector __y_train__"
   ]
  },
  {
   "cell_type": "code",
   "execution_count": 37,
   "id": "b3c30c89",
   "metadata": {},
   "outputs": [
    {
     "data": {
      "text/plain": [
       "DecisionTreeClassifier(criterion='entropy', max_depth=4)"
      ]
     },
     "execution_count": 37,
     "metadata": {},
     "output_type": "execute_result"
    }
   ],
   "source": [
    "drugTree.fit(x_train, y_train)"
   ]
  },
  {
   "cell_type": "markdown",
   "id": "53a919f8",
   "metadata": {},
   "source": [
    "### Prediction"
   ]
  },
  {
   "cell_type": "markdown",
   "id": "cde20981",
   "metadata": {},
   "source": [
    "Let's make some prediction on the testing dataset and store it into a variable called __PredTree__"
   ]
  },
  {
   "cell_type": "code",
   "execution_count": 38,
   "id": "29bb310a",
   "metadata": {},
   "outputs": [],
   "source": [
    "predTree = drugTree.predict(x_test)"
   ]
  },
  {
   "cell_type": "markdown",
   "id": "e69ee2c6",
   "metadata": {},
   "source": [
    "you can print out __predTree__ and __y_test__ if you want to visually compre \n",
    "the prediction to the actual values."
   ]
  },
  {
   "cell_type": "code",
   "execution_count": 40,
   "id": "fe802f39",
   "metadata": {},
   "outputs": [
    {
     "name": "stdout",
     "output_type": "stream",
     "text": [
      "['drugX' 'drugX' 'drugY' 'drugX' 'drugY' 'drugY' 'drugY' 'drugB' 'drugX'\n",
      " 'drugX']\n",
      "----------\n",
      "45     drugX\n",
      "72     drugX\n",
      "40     drugY\n",
      "58     drugX\n",
      "25     drugY\n",
      "13     drugY\n",
      "153    drugX\n",
      "80     drugB\n",
      "3      drugX\n",
      "44     drugX\n",
      "Name: Drug, dtype: object\n"
     ]
    }
   ],
   "source": [
    "print(predTree[:10])\n",
    "print('--'*5)\n",
    "print(y_test[:10])"
   ]
  },
  {
   "cell_type": "markdown",
   "id": "3b68b44a",
   "metadata": {},
   "source": [
    "### Evaluation of the model."
   ]
  },
  {
   "cell_type": "markdown",
   "id": "dfde78f3",
   "metadata": {},
   "source": [
    "Next , let's import the __metrics__ from sklearn and check the accuracy of our model."
   ]
  },
  {
   "cell_type": "code",
   "execution_count": 41,
   "id": "93225f5c",
   "metadata": {},
   "outputs": [],
   "source": [
    "from sklearn import metrics\n",
    "import matplotlib.pyplot as plt\n"
   ]
  },
  {
   "cell_type": "code",
   "execution_count": 42,
   "id": "155aa544",
   "metadata": {},
   "outputs": [
    {
     "name": "stdout",
     "output_type": "stream",
     "text": [
      "DecisonTrees's accuracy:  0.9666666666666667\n"
     ]
    }
   ],
   "source": [
    "print(\"DecisonTrees's accuracy: \",metrics.accuracy_score(y_test, predTree))"
   ]
  },
  {
   "cell_type": "code",
   "execution_count": null,
   "id": "d2d2f048",
   "metadata": {},
   "outputs": [],
   "source": []
  },
  {
   "cell_type": "markdown",
   "id": "1ba04ae5",
   "metadata": {},
   "source": [
    "__Accuracy classification score__ computes accuracy: the set of labels predicted for a sample must exactly match the \n",
    "the corresponding of labels __y_true__ "
   ]
  },
  {
   "cell_type": "markdown",
   "id": "abe41e2e",
   "metadata": {},
   "source": [
    "In multilabel classification, the function return the subset accuracy. if the entire set\n",
    "of predicted labels for sample strictly with the true set of labels, then\n",
    "the subset accuracy is : 1.0;\n",
    "otherwise it is : 0.0"
   ]
  },
  {
   "cell_type": "markdown",
   "id": "28039f28",
   "metadata": {},
   "source": [
    "### Visualization"
   ]
  },
  {
   "cell_type": "code",
   "execution_count": 54,
   "id": "a6646a68",
   "metadata": {},
   "outputs": [
    {
     "name": "stdout",
     "output_type": "stream",
     "text": [
      "Requirement already satisfied: pydotplus in /Library/Frameworks/Python.framework/Versions/3.9/lib/python3.9/site-packages (2.0.2)\r\n",
      "Requirement already satisfied: pyparsing>=2.0.1 in /Library/Frameworks/Python.framework/Versions/3.9/lib/python3.9/site-packages (from pydotplus) (2.4.7)\r\n"
     ]
    }
   ],
   "source": [
    "#!pip install six\n",
    "!pip install pydotplus"
   ]
  },
  {
   "cell_type": "code",
   "execution_count": 57,
   "id": "8a981b8c",
   "metadata": {},
   "outputs": [],
   "source": [
    "import six\n",
    "from six import StringIO\n",
    "import pydotplus\n",
    "import matplotlib.image as mpimg\n",
    "from sklearn import tree\n",
    "%matplotlib inline"
   ]
  },
  {
   "cell_type": "markdown",
   "id": "56dc1436",
   "metadata": {},
   "source": [
    "dot_data = StringIO()\n",
    "filename = 'drugTree.pnp'\n",
    "featureNames = data[0:5]\n",
    "targetNames = data['Drug'].unique().tolist()\n",
    "out = tree.export_graphviz(drugTree,\n",
    "                         feature_names=featureNames,\n",
    "                          out_file = dot_data,\n",
    "                          class_names= np.unique(y_train),\n",
    "                          filled= True,\n",
    "                          special_characters=True,\n",
    "                          rotate= True)\n",
    "graph = pydotplus.graph_from_dot_data(dot_data.getvalue)\n",
    "graph.write_png(out)\n",
    "img = mpimg.imread(filename)\n",
    "plt.figure(figsize=(100, 200))\n",
    "plt.imshow(img, interpolation='nearest')\n"
   ]
  },
  {
   "cell_type": "code",
   "execution_count": 77,
   "id": "91083640",
   "metadata": {},
   "outputs": [],
   "source": [
    "featureNames = list(data.columns[:5])\n",
    "targetNames = data['Drug'].unique().tolist()"
   ]
  },
  {
   "cell_type": "code",
   "execution_count": 78,
   "id": "802872ca",
   "metadata": {},
   "outputs": [
    {
     "data": {
      "text/plain": [
       "['Age', 'Sex', 'BP', 'Cholesterol', 'Na_to_K']"
      ]
     },
     "execution_count": 78,
     "metadata": {},
     "output_type": "execute_result"
    }
   ],
   "source": [
    "featureNames "
   ]
  },
  {
   "cell_type": "code",
   "execution_count": 79,
   "id": "f7f0eff9",
   "metadata": {},
   "outputs": [],
   "source": [
    "import graphviz\n",
    "from sklearn.tree import export_graphviz\n",
    "from sklearn import tree\n",
    "from IPython.display import Image\n",
    "import pydotplus\n",
    "# from time import sleep\n",
    "#sleep(5)\n",
    "#print('I love you darling')"
   ]
  },
  {
   "cell_type": "code",
   "execution_count": 80,
   "id": "2104541a",
   "metadata": {},
   "outputs": [
    {
     "data": {
      "image/png": "[encoded data removed]",
      "text/plain": [
       "<IPython.core.display.Image object>"
      ]
     },
     "execution_count": 80,
     "metadata": {},
     "output_type": "execute_result"
    }
   ],
   "source": [
    "# Create a dot_file which store the tree structure\n",
    "\n",
    "dot_data = export_graphviz(drugTree,\n",
    "                          feature_names=featureNames,\n",
    "                          rounded=True,\n",
    "                          filled= True,\n",
    "                          rotate=True,\n",
    "                          special_characters=True)\n",
    "# Draw the graph\n",
    "graph = pydotplus.graph_from_dot_data(dot_data)\n",
    "graph.write_png('drugTree.png')\n",
    "Image(graph.create_png())"
   ]
  },
  {
   "cell_type": "code",
   "execution_count": null,
   "id": "7cf9a923",
   "metadata": {},
   "outputs": [],
   "source": []
  }
 ],
 "metadata": {
  "kernelspec": {
   "display_name": "Python 3 (ipykernel)",
   "language": "python",
   "name": "python3"
  },
  "language_info": {
   "codemirror_mode": {
    "name": "ipython",
    "version": 3
   },
   "file_extension": ".py",
   "mimetype": "text/x-python",
   "name": "python",
   "nbconvert_exporter": "python",
   "pygments_lexer": "ipython3",
   "version": "3.9.7"
  }
 },
 "nbformat": 4,
 "nbformat_minor": 5
}
