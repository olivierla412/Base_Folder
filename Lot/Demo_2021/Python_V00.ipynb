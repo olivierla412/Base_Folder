{
 "cells": [
  {
   "cell_type": "markdown",
   "id": "e1dec7dd",
   "metadata": {},
   "source": [
    "Challenge 1: We will Write a Python class named Circle constructed by a radius and two methods which will compute the area and the perimeter of a circle."
   ]
  },
  {
   "cell_type": "code",
   "execution_count": 1,
   "id": "ef76bf10",
   "metadata": {},
   "outputs": [
    {
     "name": "stdout",
     "output_type": "stream",
     "text": [
      "200.96\n",
      "50.24\n"
     ]
    }
   ],
   "source": [
    "class Circle():\n",
    "    def __init__(self, r):\n",
    "        self.radius = r\n",
    "\n",
    "    def area(self):\n",
    "        return self.radius**2*3.14\n",
    "    \n",
    "    def perimeter(self):\n",
    "        return 2*self.radius*3.14\n",
    "\n",
    "NewCircle = Circle(8)\n",
    "print(NewCircle.area())\n",
    "print(NewCircle.perimeter())\n"
   ]
  },
  {
   "cell_type": "markdown",
   "id": "356c081c",
   "metadata": {},
   "source": [
    "Challenge 3: Write a Python class named Rectangle constructed by a length and width and a method which will compute the area of a rectangle"
   ]
  },
  {
   "cell_type": "code",
   "execution_count": 2,
   "id": "51021532",
   "metadata": {},
   "outputs": [
    {
     "name": "stdout",
     "output_type": "stream",
     "text": [
      "120\n"
     ]
    }
   ],
   "source": [
    "class Rectangle():\n",
    "    def __init__(self, l, w):\n",
    "        self.length = l\n",
    "        self.width  = w\n",
    "\n",
    "    def rectangle_area(self):\n",
    "        return self.length*self.width\n",
    "\n",
    "newRectangle = Rectangle(12, 10)\n",
    "print(newRectangle.rectangle_area())\n"
   ]
  },
  {
   "cell_type": "code",
   "execution_count": null,
   "id": "86388338",
   "metadata": {},
   "outputs": [],
   "source": []
  },
  {
   "cell_type": "markdown",
   "id": "079913b0",
   "metadata": {},
   "source": [
    "Challenge 4: Write a Python class which has two methods get_String and print_String. get_String accept a string from the user and print_String print the string in upper case."
   ]
  },
  {
   "cell_type": "code",
   "execution_count": 3,
   "id": "be6e8763",
   "metadata": {},
   "outputs": [],
   "source": [
    "class IOString():\n",
    "    def __init__(self):\n",
    "        self.str1 = \"\"\n",
    "\n",
    "    def get_String(self):\n",
    "        self.str1 = input()\n",
    "\n",
    "    def print_String(self):\n",
    "        print(self.str1.upper())\n",
    "\n",
    "# st = IOString()\n",
    "# st.get_String()\n",
    "# st.print_String()"
   ]
  },
  {
   "cell_type": "markdown",
   "id": "f59cb50d",
   "metadata": {},
   "source": [
    "Today a Python Programmer with 3-5 years of experience is asking for around $150,000 annual package and this is the most demanding programming language in America. Though it can vary depending on the location of the Job. It's impossible to list all of the companies using Python, to name a few big companies are:\n",
    "\n",
    "Google, \n",
    "Intel, \n",
    "NASA, \n",
    "PayPal, \n",
    "Facebook, \n",
    "IBM, \n",
    "Amazon, \n",
    "Netflix, \n",
    "Pinterest, \n",
    "Uber"
   ]
  },
  {
   "cell_type": "code",
   "execution_count": 2,
   "id": "7336616d",
   "metadata": {},
   "outputs": [
    {
     "name": "stdout",
     "output_type": "stream",
     "text": [
      "Enter the Password, be careful you only 4 tries !: eeett\n",
      "Wrong Password, Please Try again \n",
      "3 try left :)\n",
      "Enter the Password, be careful you only 3 tries !: hjhjjhjk\n",
      "Wrong Password, Please Try again \n",
      "2 try left :)\n",
      "Enter the Password, be careful you only 2 tries !: 0000\n",
      "Yes, Correct Password at 3 try great :)\n"
     ]
    }
   ],
   "source": [
    "# gmcode_n = input('Enter your name: ')\n",
    "# print(' '*30)\n",
    "\n",
    "# print(f\"Great your name is : {gmcode_n}\")\n",
    "# print(' '*30)\n",
    "# gmcodea = input('Enter your age : ')\n",
    "# print(' '*30)\n",
    "\n",
    "# print(f\"Great your name is : {gmcodea}\")\n",
    "# print(' '*30)\n",
    "\n",
    "password = '0000'\n",
    "for x in range(1,5):\n",
    "    counter = range(0,5)\n",
    "    ct = len(counter)\n",
    "    yy = 1\n",
    "    user_input = input(f'Enter the Password, be careful you only {ct -x} tries !: ')\n",
    "    if user_input ==password:\n",
    "        print(f'Yes, Correct Password at {x} try great :)')\n",
    "        break\n",
    "    else:\n",
    "        print('Wrong Password, Please Try again ')\n",
    "        print(f'{ct -x-1} try left :)')\n"
   ]
  },
  {
   "cell_type": "code",
   "execution_count": 5,
   "id": "d0dc67a0",
   "metadata": {},
   "outputs": [],
   "source": [
    "## https://github.com/olivierla412/data_train_live_classes/blob/master/live1.ipynb"
   ]
  },
  {
   "cell_type": "code",
   "execution_count": null,
   "id": "1263ef89",
   "metadata": {},
   "outputs": [],
   "source": []
  }
 ],
 "metadata": {
  "kernelspec": {
   "display_name": "Python 3 (ipykernel)",
   "language": "python",
   "name": "python3"
  },
  "language_info": {
   "codemirror_mode": {
    "name": "ipython",
    "version": 3
   },
   "file_extension": ".py",
   "mimetype": "text/x-python",
   "name": "python",
   "nbconvert_exporter": "python",
   "pygments_lexer": "ipython3",
   "version": "3.9.7"
  }
 },
 "nbformat": 4,
 "nbformat_minor": 5
}
