{
 "cells": [
  {
   "cell_type": "markdown",
   "metadata": {
    "id": "y-9xrwyWSKjC"
   },
   "source": [
    "**Numpy CheckPoints**"
   ]
  },
  {
   "cell_type": "markdown",
   "metadata": {
    "id": "cnHQhGXwSBRK"
   },
   "source": [
    "Objective\n",
    "Learn, practice, & have fun!\n",
    "\n",
    "Question 1\n",
    "\n",
    "Write a Python program to convert an array to an ordinary list with the same items.\n",
    "\n",
    "We can use the np.tolist() function.\n",
    "\n",
    "Question 2 \n",
    "\n",
    "Write a NumPy program to compute the sum of the diagonal elements of a given array.\n",
    "\n",
    "Hint: There are two possible methods to solve this problem: \n",
    "\n",
    "Manually (without direct function). \n",
    "Using the trace function.\n",
    "\n",
    "Question 3\n",
    "\n",
    "Given an array of your choice, get all the values higher than X:\n",
    "\n",
    "If a = [[1,2],[3,5]] and x = 2 :  then 3 and 5 are higher than 2. \n",
    "\n",
    "Question 4\n",
    "\n",
    "Given two arrays, A & B have the same shape. \n",
    "\n",
    "The task is to apply addition by hand: C is the new array. \n",
    "\n",
    "Question 5\n",
    "\n",
    "Write a NumPy program to subtract the mean of each row of a given matrix.\n",
    "\n",
    "Hint: use the mean function\n",
    "\n"
   ]
  },
  {
   "cell_type": "markdown",
   "metadata": {
    "id": "_Sps5rnBSdJj"
   },
   "source": [
    "**Question 1**\n",
    "\n",
    "Write a Python program to convert an array to an ordinary list with the same items.\n",
    "\n",
    "We can use the np.tolist() function."
   ]
  },
  {
   "cell_type": "code",
   "execution_count": 11,
   "metadata": {
    "colab": {
     "base_uri": "https://localhost:8080/"
    },
    "id": "Ld5x4HCzSiEu",
    "outputId": "9a889e6b-d02d-4672-8db1-519a48a134bb"
   },
   "outputs": [
    {
     "name": "stdout",
     "output_type": "stream",
     "text": [
      "my_array =  ['Bonjour' 'madame' 'Abidjan' 'Aboisso'] has the type :  <class 'numpy.ndarray'>\n",
      "**********\n",
      "my_result = ['Bonjour', 'madame', 'Abidjan', 'Aboisso'] has the type :  <class 'list'>\n"
     ]
    }
   ],
   "source": [
    "import numpy as np\n",
    "my_array =np.array(['Bonjour','madame','Abidjan','Aboisso'])\n",
    "my_result = my_array.tolist()\n",
    "print(f'my_array =  {my_array} has the type :  {type(my_array)}')\n",
    "print('**'*5)\n",
    "print(f'my_result = {my_result} has the type :  {type(my_result)}')\n"
   ]
  },
  {
   "cell_type": "markdown",
   "metadata": {
    "id": "LTpV_3H_WVfP"
   },
   "source": [
    "**Question 2**\n",
    "\n",
    "Write a NumPy program to compute the sum of the diagonal elements of a given array.\n",
    "\n",
    "Hint: There are two possible methods to solve this problem:\n",
    "\n",
    "Manually (without direct function). Using the trace function."
   ]
  },
  {
   "cell_type": "code",
   "execution_count": null,
   "metadata": {
    "id": "1xFmqcrso6kp"
   },
   "outputs": [],
   "source": []
  },
  {
   "cell_type": "code",
   "execution_count": null,
   "metadata": {
    "id": "6MiD_-bY_Ys8"
   },
   "outputs": [],
   "source": []
  },
  {
   "cell_type": "code",
   "execution_count": 15,
   "metadata": {
    "colab": {
     "base_uri": "https://localhost:8080/"
    },
    "id": "jSqfDhCLSzeX",
    "outputId": "44c4b197-4ed8-418f-bc54-01fadb255397"
   },
   "outputs": [
    {
     "name": "stdout",
     "output_type": "stream",
     "text": [
      "Enter number into the box[0][0]1\n",
      "Enter number into the box[0][1]2\n",
      "Enter number into the box[0][2]3\n",
      "Enter number into the box[1][0]4\n",
      "Enter number into the box[1][1]5\n",
      "Enter number into the box[1][2]6\n",
      "Enter number into the box[2][0]7\n",
      "Enter number into the box[2][1]8\n",
      "Enter number into the box[2][2]9\n",
      "1 2 3 \n",
      "4 5 6 \n",
      "7 8 9 \n",
      "15\n"
     ]
    }
   ],
   "source": [
    "from numpy.core.getlimits import array\n",
    "import numpy as np\n",
    "a =[]\n",
    "for i in range(3):\n",
    "  b = []\n",
    "  for j in range(3):\n",
    "    j = int(input(f'Enter number into the box[{str(i)}][{str(j)}]'))\n",
    "    b.append(j)\n",
    "    #print(b)\n",
    "  a.append(b)\n",
    "for i in range(3):\n",
    "  for j in range(3):\n",
    "    print(a[i][j],end=\" \")\n",
    "  print()  \n",
    "\n",
    "m= np.array(a)\n",
    "print(np.trace(m))\n",
    "\n"
   ]
  },
  {
   "cell_type": "markdown",
   "metadata": {
    "id": "RGJNBLDQ_bHf"
   },
   "source": [
    "**Question 3**\n",
    "\n",
    "Given an array of your choice, get all the values higher than X:\n",
    "\n",
    "If a = [[1,2],[3,5]] and x = 2 : then 3 and 5 are higher than 2."
   ]
  },
  {
   "cell_type": "code",
   "execution_count": 18,
   "metadata": {
    "colab": {
     "base_uri": "https://localhost:8080/"
    },
    "id": "jx823hzB_ach",
    "outputId": "bd57af56-4728-4e54-ce1a-be813893f0e8"
   },
   "outputs": [
    {
     "data": {
      "text/plain": [
       "[3, 5]"
      ]
     },
     "execution_count": 18,
     "metadata": {},
     "output_type": "execute_result"
    }
   ],
   "source": [
    "import numpy as np\n",
    "\n",
    "my_array = np.array([[1,2],[3,5]])\n",
    "result = []\n",
    "for i in my_array:\n",
    "  for j in i:\n",
    "    X = 2\n",
    "    if j >X:\n",
    "      result.append(j)\n",
    "result"
   ]
  },
  {
   "cell_type": "code",
   "execution_count": null,
   "metadata": {},
   "outputs": [],
   "source": [
    "\n",
    "import numpy as np\n",
    "X = 11\n",
    "a =[]\n",
    "for i in range(2):\n",
    "  b = []\n",
    "  for j in range(2):\n",
    "    j = int(input(f'Enter number into the box[{str(i)}][{str(j)}]'))\n",
    "    b.append(j)\n",
    "    #print(b)\n",
    "  a.append(b)\n",
    "for i in range(2):\n",
    "  for j in range(2):\n",
    "    print(a[i][j],end=\" \")\n",
    "  print()  \n",
    "\n",
    "m= np.array(a)\n",
    "\n",
    "result = []\n",
    "for i in m:\n",
    "  for j in i:\n",
    "    if j >X:\n",
    "      result.append(j)\n",
    "result"
   ]
  },
  {
   "cell_type": "markdown",
   "metadata": {
    "id": "c9SC3XpDSegb"
   },
   "source": [
    "**Question 4**\n",
    "\n",
    "Given two arrays, A & B have the same shape.\n",
    "\n",
    "The task is to apply addition by hand: C is the new array."
   ]
  },
  {
   "cell_type": "code",
   "execution_count": 3,
   "metadata": {
    "colab": {
     "base_uri": "https://localhost:8080/"
    },
    "id": "aR84lbaFTHF5",
    "outputId": "e71a06ff-efc1-4b5d-be9f-7921d4062db2"
   },
   "outputs": [
    {
     "data": {
      "text/plain": [
       "array([0, 2, 4])"
      ]
     },
     "execution_count": 3,
     "metadata": {},
     "output_type": "execute_result"
    }
   ],
   "source": [
    "\n",
    "a_array = np.array([ 0,  1,  2])\n",
    "b_array = np.array([ 0,  1,  2])\n",
    "c_array = a_array + b_array\n",
    "c_array \n"
   ]
  },
  {
   "cell_type": "markdown",
   "metadata": {
    "id": "0V8nMvEIVFEQ"
   },
   "source": [
    "***Question 5***\n",
    "\n",
    "Write a NumPy program to subtract the mean of each row of a given matrix.\n",
    "\n",
    "*Hint: use the mean function*"
   ]
  },
  {
   "cell_type": "code",
   "execution_count": 23,
   "metadata": {
    "colab": {
     "base_uri": "https://localhost:8080/"
    },
    "id": "_SqS-tHVTi2D",
    "outputId": "af6ec44f-d653-41f1-d21c-9c905cd51126"
   },
   "outputs": [
    {
     "name": "stdout",
     "output_type": "stream",
     "text": [
      "Enter number into the box[0][0]1\n",
      "Enter number into the box[0][1]2\n",
      "Enter number into the box[0][2]3\n",
      "Enter number into the box[1][0]4\n",
      "Enter number into the box[1][1]5\n",
      "Enter number into the box[1][2]6\n",
      "Enter number into the box[2][0]7\n",
      "Enter number into the box[2][1]8\n",
      "Enter number into the box[2][2]9\n",
      "The given Matrix is : \n",
      "1 2 3 \n",
      "4 5 6 \n",
      "7 8 9 \n",
      "The mean of each is : \n",
      "[4. 5. 6.]\n"
     ]
    }
   ],
   "source": [
    "import numpy as np\n",
    "a =[]\n",
    "for i in range(3):\n",
    "  b = []\n",
    "  for j in range(3):\n",
    "    c = int(input(f'Enter number into the box[{str(i)}][{str(j)}]'))\n",
    "    b.append(c)\n",
    "    #print(b)\n",
    "  a.append(b) # after the first iteration append the first result into a\n",
    "print('The given Matrix is : ')\n",
    "for i in range(3):\n",
    "  for j in range(3):\n",
    "    print(a[i][j],end=\" \")\n",
    "  print()  \n",
    "\n",
    "m= np.array(a)\n",
    "r = np.array([m[:,0].mean(),m[:,1].mean(),m[:,2].mean()])\n",
    "print('The mean of each is : ')\n",
    "print(r)\n",
    "# r = m[0,:]"
   ]
  },
  {
   "cell_type": "code",
   "execution_count": 19,
   "metadata": {
    "id": "dxPGczD8UNHu"
   },
   "outputs": [],
   "source": []
  },
  {
   "cell_type": "code",
   "execution_count": 17,
   "metadata": {
    "colab": {
     "base_uri": "https://localhost:8080/"
    },
    "id": "kF05BqmfUNAN",
    "outputId": "4992831a-813a-4ed2-cfa4-09dc310ba784"
   },
   "outputs": [
    {
     "data": {
      "text/plain": [
       "5"
      ]
     },
     "execution_count": 17,
     "metadata": {},
     "output_type": "execute_result"
    }
   ],
   "source": []
  },
  {
   "cell_type": "code",
   "execution_count": 18,
   "metadata": {
    "id": "wX-pGDCdUM34"
   },
   "outputs": [],
   "source": []
  },
  {
   "cell_type": "code",
   "execution_count": null,
   "metadata": {
    "id": "6_lbMEPmZMNa"
   },
   "outputs": [],
   "source": []
  },
  {
   "cell_type": "code",
   "execution_count": 17,
   "metadata": {
    "id": "z_V3Y0Wca6VK"
   },
   "outputs": [],
   "source": []
  },
  {
   "cell_type": "code",
   "execution_count": 2,
   "metadata": {
    "colab": {
     "base_uri": "https://localhost:8080/"
    },
    "id": "8_OETR09rYT5",
    "outputId": "ac840be0-b41b-4e8a-d79a-dda2eafee668"
   },
   "outputs": [
    {
     "data": {
      "text/plain": [
       "[3, 5]"
      ]
     },
     "execution_count": 2,
     "metadata": {},
     "output_type": "execute_result"
    }
   ],
   "source": []
  },
  {
   "cell_type": "code",
   "execution_count": 2,
   "metadata": {
    "id": "wLDBiH6frZKB"
   },
   "outputs": [],
   "source": []
  },
  {
   "cell_type": "code",
   "execution_count": null,
   "metadata": {
    "id": "MBITC7vySXe8"
   },
   "outputs": [],
   "source": []
  },
  {
   "cell_type": "code",
   "execution_count": null,
   "metadata": {
    "id": "hQVr1kj3SXnh"
   },
   "outputs": [],
   "source": []
  },
  {
   "cell_type": "code",
   "execution_count": null,
   "metadata": {
    "id": "i0WnzfbDSXtu"
   },
   "outputs": [],
   "source": []
  },
  {
   "cell_type": "code",
   "execution_count": null,
   "metadata": {
    "id": "_hzf7AU9SXwc"
   },
   "outputs": [],
   "source": []
  },
  {
   "cell_type": "code",
   "execution_count": null,
   "metadata": {
    "id": "eB6I2GR4SXzN"
   },
   "outputs": [],
   "source": []
  },
  {
   "cell_type": "code",
   "execution_count": null,
   "metadata": {
    "id": "LR-UjpDMSX1z"
   },
   "outputs": [],
   "source": []
  },
  {
   "cell_type": "code",
   "execution_count": 56,
   "metadata": {
    "colab": {
     "base_uri": "https://localhost:8080/"
    },
    "id": "PcmSOdsY1ljs",
    "outputId": "8b5ad4bb-bd86-4e46-9a0f-dc7abdfd3a26"
   },
   "outputs": [
    {
     "name": "stdout",
     "output_type": "stream",
     "text": [
      "bonjour 0\n",
      "bonjour 1\n",
      "bonjour 2\n",
      "----\n",
      "bonjour 0\n",
      "bonjour 1\n",
      "bonjour 2\n",
      "----\n",
      "bonjour 0\n",
      "bonjour 1\n",
      "bonjour 2\n",
      "----\n",
      "bonjour 0\n",
      "bonjour 1\n",
      "bonjour 2\n",
      "----\n",
      "bonjour 0\n",
      "bonjour 1\n",
      "bonjour 2\n",
      "----\n"
     ]
    }
   ],
   "source": [
    "for x in range(5):\n",
    "  for j in range(3):\n",
    "    print('bonjour',j)\n",
    "  print('--'*2)\n",
    "  \n",
    "    "
   ]
  },
  {
   "cell_type": "code",
   "execution_count": null,
   "metadata": {
    "id": "BKnyJcYLDctp"
   },
   "outputs": [],
   "source": []
  }
 ],
 "metadata": {
  "colab": {
   "provenance": []
  },
  "kernelspec": {
   "display_name": "Python 3 (ipykernel)",
   "language": "python",
   "name": "python3"
  },
  "language_info": {
   "codemirror_mode": {
    "name": "ipython",
    "version": 3
   },
   "file_extension": ".py",
   "mimetype": "text/x-python",
   "name": "python",
   "nbconvert_exporter": "python",
   "pygments_lexer": "ipython3",
   "version": "3.9.7"
  }
 },
 "nbformat": 4,
 "nbformat_minor": 1
}
