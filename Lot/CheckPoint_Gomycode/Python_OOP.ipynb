{
 "cells": [
  {
   "cell_type": "code",
   "execution_count": 1,
   "id": "0df5bdc1",
   "metadata": {},
   "outputs": [],
   "source": [
    "class Parrot:\n",
    "    # instance attributes\n",
    "    def __init__(self, name, age):\n",
    "        self.name = name\n",
    "        self.age = age\n",
    "    \n",
    "    # instance method\n",
    "    def sing(self, song):\n",
    "        return \"{} sings {}\".format(self.name, song)\n",
    "\n",
    "    def dance(self):\n",
    "        return \"{} is now dancing\".format(self.name)"
   ]
  },
  {
   "cell_type": "code",
   "execution_count": 2,
   "id": "77c65d97",
   "metadata": {},
   "outputs": [],
   "source": [
    "arr = Parrot('Olivier',23)"
   ]
  },
  {
   "cell_type": "code",
   "execution_count": 13,
   "id": "fe11d50b",
   "metadata": {},
   "outputs": [
    {
     "name": "stdout",
     "output_type": "stream",
     "text": [
      "Bird is ready\n",
      "Penguin is ready\n",
      "Penguin\n",
      "Run faster\n"
     ]
    }
   ],
   "source": [
    "# parent class\n",
    "class Bird:\n",
    "    \n",
    "    def __init__(self):\n",
    "        print(\"Bird is ready\")\n",
    "\n",
    "    def whoisThis(self):\n",
    "        print(\"Bird\")\n",
    "\n",
    "\n",
    "def swim(self):\n",
    "    print(\"Swim faster\")\n",
    "\n",
    "# child class\n",
    "class Penguin(Bird):\n",
    "    def __init__(self):\n",
    "        # call super() function\n",
    "        super().__init__()\n",
    "        print(\"Penguin is ready\")\n",
    "\n",
    "    def whoisThis(self):\n",
    "        print(\"Penguin\")\n",
    "\n",
    "    def run(self):\n",
    "        print(\"Run faster\")\n",
    "\n",
    "peggy = Penguin()\n",
    "peggy.whoisThis()\n",
    "#peggy.swim()\n",
    "peggy.run()"
   ]
  },
  {
   "cell_type": "markdown",
   "id": "c6a1b091",
   "metadata": {},
   "source": [
    "## Object Orienated Programming in Python"
   ]
  },
  {
   "cell_type": "code",
   "execution_count": 15,
   "id": "f15d57d7",
   "metadata": {},
   "outputs": [],
   "source": [
    "class Dog:\n",
    "    def bark(self): # This fuction is called a method\n",
    "        print(\"Bark\")\n",
    "d = Dog()         \n",
    "        "
   ]
  },
  {
   "cell_type": "code",
   "execution_count": 16,
   "id": "ebdbe925",
   "metadata": {},
   "outputs": [
    {
     "name": "stdout",
     "output_type": "stream",
     "text": [
      "<class '__main__.Dog'>\n"
     ]
    }
   ],
   "source": [
    "print(type(d))"
   ]
  },
  {
   "cell_type": "code",
   "execution_count": 17,
   "id": "7ee8e093",
   "metadata": {},
   "outputs": [
    {
     "name": "stdout",
     "output_type": "stream",
     "text": [
      "Bark\n"
     ]
    }
   ],
   "source": [
    "d.bark()"
   ]
  },
  {
   "cell_type": "code",
   "execution_count": 32,
   "id": "1c650b57",
   "metadata": {},
   "outputs": [],
   "source": [
    "class Dog:\n",
    "    def add_one(self, x):\n",
    "        self.x =x\n",
    "        return x + 1\n",
    "    def bark(self,y):\n",
    "        print('Bark{}'.format(self.x))\n",
    "        \n",
    "  "
   ]
  },
  {
   "cell_type": "code",
   "execution_count": 23,
   "id": "74baac7b",
   "metadata": {},
   "outputs": [],
   "source": [
    "d = Dog()\n"
   ]
  },
  {
   "cell_type": "code",
   "execution_count": 24,
   "id": "38d30392",
   "metadata": {},
   "outputs": [
    {
     "name": "stdout",
     "output_type": "stream",
     "text": [
      "34\n"
     ]
    }
   ],
   "source": [
    "print(d.add_one(33))"
   ]
  },
  {
   "cell_type": "code",
   "execution_count": 33,
   "id": "191026e9",
   "metadata": {},
   "outputs": [
    {
     "name": "stdout",
     "output_type": "stream",
     "text": [
      "Bark 33\n",
      "None\n"
     ]
    }
   ],
   "source": [
    "print(d.bark())\n"
   ]
  },
  {
   "cell_type": "markdown",
   "id": "467d3451",
   "metadata": {},
   "source": [
    "#### explaination of the __init()__ method."
   ]
  },
  {
   "cell_type": "code",
   "execution_count": 39,
   "id": "19ee2469",
   "metadata": {},
   "outputs": [],
   "source": [
    "class Dog:\n",
    "    def __init__(self, name, age): # Anytime we create or we call the class it will run\n",
    "        \n",
    "        self.name = name \n",
    "        self.age = age\n",
    "        print('My name {} and I am  {} years Dog'.format(name, age))\n",
    "        "
   ]
  },
  {
   "cell_type": "code",
   "execution_count": 40,
   "id": "ba096a98",
   "metadata": {},
   "outputs": [
    {
     "name": "stdout",
     "output_type": "stream",
     "text": [
      "My name Rocky and I am  11 years Dog\n"
     ]
    }
   ],
   "source": [
    "d1 = Dog('Rocky',11)"
   ]
  },
  {
   "cell_type": "code",
   "execution_count": 41,
   "id": "26c50e41",
   "metadata": {},
   "outputs": [
    {
     "name": "stdout",
     "output_type": "stream",
     "text": [
      "My name Elistou and I am  7 years Dog\n"
     ]
    }
   ],
   "source": [
    "d2 = Dog('Elistou',7)\n"
   ]
  },
  {
   "cell_type": "code",
   "execution_count": 44,
   "id": "3e314784",
   "metadata": {},
   "outputs": [
    {
     "name": "stdout",
     "output_type": "stream",
     "text": [
      "Rocky 11\n",
      "Elistou 7\n"
     ]
    }
   ],
   "source": [
    "print(d1.name, d1.age)\n",
    "print(d2.name, d2.age)\n",
    "\n"
   ]
  },
  {
   "cell_type": "code",
   "execution_count": 54,
   "id": "d33c676e",
   "metadata": {},
   "outputs": [],
   "source": [
    "class Dog:\n",
    "    def __init__(self, name, age): # Anytime we create or we call the class it will run\n",
    "        \n",
    "        self.name = name \n",
    "        self.age = age\n",
    "        print('My name {} and I am  {} years Dog'.format(name, age))\n",
    "        \n",
    "        ## This the rturn name method\n",
    "    def get_name(self,):\n",
    "        return self.name\n",
    "    \n",
    "        ## this the run age method\n",
    "    def get_age(self):\n",
    "        return self.age +1\n",
    "        "
   ]
  },
  {
   "cell_type": "code",
   "execution_count": 55,
   "id": "b74fd66e",
   "metadata": {},
   "outputs": [
    {
     "name": "stdout",
     "output_type": "stream",
     "text": [
      "My name Elistou and I am  7 years Dog\n"
     ]
    }
   ],
   "source": [
    "d2 = Dog('Elistou',7)\n"
   ]
  },
  {
   "cell_type": "code",
   "execution_count": 47,
   "id": "24c4a1bb",
   "metadata": {},
   "outputs": [
    {
     "name": "stdout",
     "output_type": "stream",
     "text": [
      "Elistou\n"
     ]
    }
   ],
   "source": [
    "print(d2.get_name())"
   ]
  },
  {
   "cell_type": "code",
   "execution_count": 56,
   "id": "86ee2296",
   "metadata": {},
   "outputs": [
    {
     "name": "stdout",
     "output_type": "stream",
     "text": [
      "8\n"
     ]
    }
   ],
   "source": [
    "print(d2.get_age())"
   ]
  },
  {
   "cell_type": "code",
   "execution_count": 58,
   "id": "5b17d6bb",
   "metadata": {},
   "outputs": [],
   "source": [
    "class Dog:\n",
    "    def __init__(self, name, age): # Anytime we create or we call the class it will run\n",
    "        \n",
    "        self.name = name \n",
    "        self.age = age\n",
    "        print('My name {} and I am  {} years Dog'.format(name, age))\n",
    "        \n",
    "        ## This the rturn name method\n",
    "    def get_name(self,):\n",
    "        return self.name\n",
    "    \n",
    "        ## this the run age method\n",
    "    def get_age(self):\n",
    "        return self.age\n",
    "        \n",
    "        ## this the run age method\n",
    "    def brand_name(self,brand):\n",
    "        self.brand = brand\n",
    "        return brand\n",
    "        "
   ]
  },
  {
   "cell_type": "code",
   "execution_count": 60,
   "id": "93ac2916",
   "metadata": {},
   "outputs": [
    {
     "name": "stdout",
     "output_type": "stream",
     "text": [
      "My name Elistou and I am  7 years Dog\n"
     ]
    }
   ],
   "source": [
    "d = Dog('Elistou',7)"
   ]
  },
  {
   "cell_type": "code",
   "execution_count": 61,
   "id": "98471e5e",
   "metadata": {},
   "outputs": [
    {
     "name": "stdout",
     "output_type": "stream",
     "text": [
      "Iphone\n"
     ]
    }
   ],
   "source": [
    "print(d.brand_name('Iphone'))"
   ]
  },
  {
   "cell_type": "code",
   "execution_count": 62,
   "id": "bc9c5171",
   "metadata": {},
   "outputs": [],
   "source": [
    "dd = d.brand_name('Iphone')"
   ]
  },
  {
   "cell_type": "code",
   "execution_count": 63,
   "id": "4602ef8f",
   "metadata": {},
   "outputs": [
    {
     "data": {
      "text/plain": [
       "'Iphone'"
      ]
     },
     "execution_count": 63,
     "metadata": {},
     "output_type": "execute_result"
    }
   ],
   "source": [
    "dd"
   ]
  },
  {
   "cell_type": "code",
   "execution_count": 67,
   "id": "340c9c02",
   "metadata": {},
   "outputs": [],
   "source": [
    "class Dog:\n",
    "    def __init__(self, name, age): # Anytime we create or we call the class it will run\n",
    "        \n",
    "        self.name = name \n",
    "        self.age = age\n",
    "        print('My name {} and I am  {} years Dog'.format(name, age))\n",
    "        \n",
    "        ## This the rturn name method\n",
    "    def get_name(self,):\n",
    "        return self.name\n",
    "    \n",
    "        ## this the run age method\n",
    "    def get_age(self):\n",
    "        return self.age\n",
    "        \n",
    "    def get_age(self,age):\n",
    "        self.age = age\n",
    "        return age\n",
    "        \n",
    "        "
   ]
  },
  {
   "cell_type": "code",
   "execution_count": 68,
   "id": "a0136af4",
   "metadata": {},
   "outputs": [
    {
     "name": "stdout",
     "output_type": "stream",
     "text": [
      "My name Elistou and I am  7 years Dog\n"
     ]
    }
   ],
   "source": [
    "d = Dog('Elistou',7)"
   ]
  },
  {
   "cell_type": "code",
   "execution_count": 69,
   "id": "969eb1ea",
   "metadata": {},
   "outputs": [
    {
     "name": "stdout",
     "output_type": "stream",
     "text": [
      "29\n"
     ]
    }
   ],
   "source": [
    "print(d.get_age(29))"
   ]
  },
  {
   "cell_type": "code",
   "execution_count": null,
   "id": "0a0053b2",
   "metadata": {},
   "outputs": [],
   "source": []
  }
 ],
 "metadata": {
  "kernelspec": {
   "display_name": "Python 3 (ipykernel)",
   "language": "python",
   "name": "python3"
  },
  "language_info": {
   "codemirror_mode": {
    "name": "ipython",
    "version": 3
   },
   "file_extension": ".py",
   "mimetype": "text/x-python",
   "name": "python",
   "nbconvert_exporter": "python",
   "pygments_lexer": "ipython3",
   "version": "3.9.7"
  }
 },
 "nbformat": 4,
 "nbformat_minor": 5
}
