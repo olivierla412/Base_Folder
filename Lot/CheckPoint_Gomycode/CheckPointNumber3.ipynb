{
 "cells": [
  {
   "cell_type": "markdown",
   "id": "48d85fef",
   "metadata": {},
   "source": [
    "## Q1"
   ]
  },
  {
   "cell_type": "code",
   "execution_count": 2,
   "id": "ef64ba59",
   "metadata": {},
   "outputs": [
    {
     "name": "stdout",
     "output_type": "stream",
     "text": [
      "Enter the first number: 5\n",
      "Enter the second number: 6\n",
      "Enter the third number: 1\n",
      "------------------------------\n",
      "                              \n",
      " The Number 6 is the Greatest.\n",
      "Thank you!\n"
     ]
    }
   ],
   "source": [
    "\"\"\"Question 1\n",
    "Write a Python function to find the largest (max) of three numbers.\n",
    "For example, the max of these three numbers (20, 35, 19) is 35.\"\"\"\n",
    "\n",
    "def max_number(*arg):\n",
    "    a = int(input('Enter the first number: '))\n",
    "    b = int(input('Enter the second number: '))\n",
    "    c = int(input('Enter the third number: '))\n",
    "    print('--'*15)\n",
    "    print('  '*15)\n",
    "    \n",
    "    my_nums = [a,b,c]\n",
    "    for x in my_nums:\n",
    "        if my_nums[0] > my_nums[1] and my_nums[0] > my_nums[2]:\n",
    "            print(f'The Number {my_nums[0]} is the Greatest.\\nTank you!' )\n",
    "            break\n",
    "        elif my_nums[1] > my_nums[0] and my_nums[1] > my_nums[2]: \n",
    "            print(f' The Number {my_nums[1]} is the Greatest.\\nThank you!' )\n",
    "            break\n",
    "        else:\n",
    "            print(f'The Number {my_nums[2]} is the Greatest.\\nThank you !' )\n",
    "            break\n",
    "max_number()"
   ]
  },
  {
   "cell_type": "markdown",
   "id": "b9c18f70",
   "metadata": {},
   "source": [
    "## Q2"
   ]
  },
  {
   "cell_type": "code",
   "execution_count": 20,
   "id": "50342914",
   "metadata": {},
   "outputs": [
    {
     "name": "stdout",
     "output_type": "stream",
     "text": [
      "The Addition of (40 + 10) is:\n",
      " 50\n",
      "------------------------------\n",
      "The Subtraction of (40 - 10) is:\n",
      " 30\n"
     ]
    }
   ],
   "source": [
    "\"\"\"Question 2\n",
    "Write a function calculation() so it can accept two variables and calculate the addition and subtraction of them. \n",
    "It must return both addition and subtraction in a single return call.\n",
    "For example:\n",
    "calculation(40, 10) should produce 50, 30\"\"\"\n",
    "\n",
    "def calculation(a, b):\n",
    "    add_of_numbers = int(a + b)\n",
    "    sub_of_numbers = int(a - b)\n",
    "    print(f'The Addition of ({a} + {b}) is:\\n {add_of_numbers}')\n",
    "    print('--'*15)\n",
    "    print(f'The Subtraction of ({a} - {b}) is:\\n {sub_of_numbers}')\n",
    "calculation(40,10)\n"
   ]
  },
  {
   "cell_type": "code",
   "execution_count": 3,
   "id": "9d8392c4",
   "metadata": {},
   "outputs": [],
   "source": [
    "arr = [2,3,4,5]"
   ]
  },
  {
   "cell_type": "code",
   "execution_count": 4,
   "id": "31ee9a6e",
   "metadata": {},
   "outputs": [
    {
     "data": {
      "text/plain": [
       "14"
      ]
     },
     "execution_count": 4,
     "metadata": {},
     "output_type": "execute_result"
    }
   ],
   "source": [
    "sum(arr)"
   ]
  },
  {
   "cell_type": "code",
   "execution_count": null,
   "id": "6c9c7b69",
   "metadata": {},
   "outputs": [],
   "source": []
  },
  {
   "cell_type": "markdown",
   "id": "4179621f",
   "metadata": {},
   "source": [
    "### Q3"
   ]
  },
  {
   "cell_type": "code",
   "execution_count": null,
   "id": "3f5f944a",
   "metadata": {},
   "outputs": [],
   "source": [
    "\"\"\"Question 3\n",
    "Write a function that sums the elements of a list of integers.\n",
    "Write a function that multiplies the elements of an integer list.\n",
    "Use the two functions to sum the elements whose position is an even number (0,2,4…) and multiply the rest.\n",
    "Hint: Consider extracting two lists from a first list.\"\"\""
   ]
  },
  {
   "cell_type": "code",
   "execution_count": 5,
   "id": "5e71840e",
   "metadata": {},
   "outputs": [
    {
     "name": "stdout",
     "output_type": "stream",
     "text": [
      "The Sum of item in the list [1, 3, 100, 2] are : 106\n"
     ]
    }
   ],
   "source": [
    "\"\"\"Question 3\n",
    "Write a function that sums the elements of a list of integers.\n",
    "\"\"\"\n",
    "def sum_num():\n",
    "    sum1= 0\n",
    "    my_list = [1,3,100,2]\n",
    "    for x in my_list:\n",
    "        sum1+=x\n",
    "    print(f'The Sum of item in the list {my_list} are : {sum1}')\n",
    "sum_num()   "
   ]
  },
  {
   "cell_type": "code",
   "execution_count": 28,
   "id": "099e81ce",
   "metadata": {},
   "outputs": [
    {
     "name": "stdout",
     "output_type": "stream",
     "text": [
      "600\n"
     ]
    }
   ],
   "source": [
    "\"\"\"Question 3\n",
    "Write a function that multiplies the elements of an integer list..\n",
    "\"\"\"\n",
    "def mults_num():\n",
    "    mult = 1\n",
    "    my_list = [1,3,100,2]\n",
    "    for x in my_list:\n",
    "        mult*=x\n",
    "    print(mult)\n",
    "mults_num()"
   ]
  },
  {
   "cell_type": "code",
   "execution_count": 43,
   "id": "bf7c5e08",
   "metadata": {},
   "outputs": [
    {
     "name": "stdout",
     "output_type": "stream",
     "text": [
      "                                                                                \n",
      "The sum of number with position Even number are :[1, 100, 5] and the Sum is:[106]\n",
      "--------------------------------------------------------------------------------\n",
      "The multi of nuumber with position Odd number are :[3, 2] and the mult is :[6]\n"
     ]
    }
   ],
   "source": [
    "\"\"\"Use the two functions to sum the elements whose position is an even number (0,2,4…) and multiply the rest.\n",
    "Hint: Consider extracting two lists from a first list.\"\"\"\n",
    "\n",
    "def sum_or_mult_func():\n",
    "    list1 = []\n",
    "    list2 = []\n",
    "    sum1 = 0\n",
    "    mult1 = 1\n",
    "    my_list = [1,3,100,2,5]\n",
    "    for x in my_list:\n",
    "        if my_list.index(x)%2==0:\n",
    "            list1.append(x)\n",
    "            sum1+=x\n",
    "        else:\n",
    "            list2.append(x)\n",
    "            mult1*=x\n",
    "    print('  '*40)        \n",
    "    print(f'The sum of number with position Even number are :{list1} and the Sum is:[{sum1}]')\n",
    "    print('--'*40)\n",
    "    print(f'The multi of nuumber with position Odd number are :{list2} and the mult is :[{mult1}]') \n",
    "            \n",
    "            \n",
    "sum_or_mult_func()"
   ]
  },
  {
   "cell_type": "markdown",
   "id": "38abbb76",
   "metadata": {},
   "source": [
    "## Q4"
   ]
  },
  {
   "cell_type": "code",
   "execution_count": 6,
   "id": "bf83db19",
   "metadata": {},
   "outputs": [
    {
     "name": "stdout",
     "output_type": "stream",
     "text": [
      "What are the words?   green-red-yellow-black-white\n",
      "['black-green-red-white-yellow']\n"
     ]
    }
   ],
   "source": [
    "\"\"\"Question 4\n",
    "Write a Python program that accepts a hyphen-separated sequence of words as input and prints the words in a hyphen-separated sequence after sorting them alphabetically.\n",
    "Sample items: green-red-yellow-black-white\n",
    "Expected result: black-green-red-white-yellow\n",
    "Hint: There's a split function to separate your input string into words and a sort function to sort.\"\"\"\n",
    "def split_it():\n",
    "    result_word = [] # Will store the final result in the variable\n",
    "    Text = input(\"What are the words?   \")\n",
    "    Text_splited = Text.split('-')\n",
    "    #my_word.append(Text.split('-'))\n",
    "    #Splited = Text.split()\n",
    "    #Sorted = sorted(Splited)\n",
    "    Text_s = sorted(Text_splited)\n",
    "    result_word.append('-'.join(Text_s))\n",
    "    \n",
    "    print(result_word)\n",
    "split_it()\n"
   ]
  },
  {
   "cell_type": "markdown",
   "id": "f47bb634",
   "metadata": {},
   "source": [
    "## Q5"
   ]
  },
  {
   "cell_type": "code",
   "execution_count": 76,
   "id": "be249edc",
   "metadata": {},
   "outputs": [
    {
     "name": "stdout",
     "output_type": "stream",
     "text": [
      "Enter The Number 1: 100\n",
      "Enter The Number 2: 150\n",
      "Enter The Number 3: 180\n",
      "----------------------------\n",
      "The given Input are :100,150,180\n",
      "                            \n",
      "Your Output result is:18, 22,24\n"
     ]
    }
   ],
   "source": [
    "\"\"\"Question 5 (Bonus)\n",
    "Write a function that calculates and prints the value according to the given formula: \n",
    "Q = square root of [(2 * C * D)/H]. \n",
    "Following are the fixed values of C and H: C is 50, and H is 30. \n",
    "D is the variable whose values should be input to your program in a comma-separated sequence. \n",
    "Example: Let us assume the following comma-separated input sequence is given to the function: 100,150,180. \n",
    "Expected result: 18,22,24 \n",
    "Hints: If the output received is in decimal form, it should be rounded off to its nearest value. \n",
    "For example, if the output received is 26.0, it should be printed as 26. \n",
    "In the case of input data being supplied to the question, it should be assumed to be a console input.\"\"\"\n",
    "\n",
    "#Q = square root of [(2 * C * D)/H].\n",
    "\n",
    "from math import sqrt, floor, ceil\n",
    "\n",
    "def formula_and_sqrt(*args):\n",
    "    result =[]\n",
    "    my_list_D=[]\n",
    "    C = 50\n",
    "    H = 30\n",
    "    count =1\n",
    "    i = 0\n",
    "    while i<3:\n",
    "        my_list_D.append(int(input(f'Enter The Number {count}: ')))\n",
    "        i+=1\n",
    "        count+=1\n",
    "    for D in my_list_D:\n",
    "        result.append(floor(sqrt((2*C*int(D))/30)))\n",
    "    print('--'*14)\n",
    "    print(f'The given Input are :{my_list_D[0]}, {my_list_D[1]}, {my_list_D[2]}')\n",
    "    print('  '*14)\n",
    "    print(f'Your Output result is:{result[0]}, {result[1]}, {result[2]}')\n",
    "formula_and_sqrt()\n"
   ]
  },
  {
   "cell_type": "code",
   "execution_count": 58,
   "id": "4a2af60d",
   "metadata": {},
   "outputs": [],
   "source": []
  },
  {
   "cell_type": "code",
   "execution_count": null,
   "id": "09367977",
   "metadata": {},
   "outputs": [],
   "source": []
  }
 ],
 "metadata": {
  "kernelspec": {
   "display_name": "Python 3 (ipykernel)",
   "language": "python",
   "name": "python3"
  },
  "language_info": {
   "codemirror_mode": {
    "name": "ipython",
    "version": 3
   },
   "file_extension": ".py",
   "mimetype": "text/x-python",
   "name": "python",
   "nbconvert_exporter": "python",
   "pygments_lexer": "ipython3",
   "version": "3.9.7"
  }
 },
 "nbformat": 4,
 "nbformat_minor": 5
}
