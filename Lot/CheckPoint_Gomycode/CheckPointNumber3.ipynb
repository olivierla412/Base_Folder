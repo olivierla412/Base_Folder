{
 "cells": [
  {
   "cell_type": "code",
   "execution_count": 17,
   "id": "ef64ba59",
   "metadata": {},
   "outputs": [
    {
     "name": "stdout",
     "output_type": "stream",
     "text": [
      "Enter the first number: 20\n",
      "Enter the first number: 35\n",
      "Enter the first number: 19\n",
      "------------------------------\n",
      "                              \n",
      " The Number 35 is the Greatest.\n",
      "Thank you!\n"
     ]
    }
   ],
   "source": [
    "\"\"\"Question 1\n",
    "Write a Python function to find the largest (max) of three numbers.\n",
    "For example, the max of these three numbers (20, 35, 19) is 35.\"\"\"\n",
    "\n",
    "def max_number(*arg):\n",
    "    a = int(input('Enter the first number: '))\n",
    "    b = int(input('Enter the first number: '))\n",
    "    c = int(input('Enter the first number: '))\n",
    "    print('--'*15)\n",
    "    print('  '*15)\n",
    "    \n",
    "    my_nums = [a,b,c]\n",
    "    for x in my_nums:\n",
    "        if my_nums[0] > my_nums[1] and my_nums[0] > my_nums[2]:\n",
    "            print(f'The Number {my_nums[0]} is the Greatest.\\nTank you!' )\n",
    "            break\n",
    "        elif my_nums[1] > my_nums[0] and my_nums[1] > my_nums[2]: \n",
    "            print(f' The Number {my_nums[1]} is the Greatest.\\nThank you!' )\n",
    "            break\n",
    "        else:\n",
    "            print(f'The Number {my_nums[2]} is the Greatest.\\nThank you !' )\n",
    "            break\n",
    "max_number()"
   ]
  },
  {
   "cell_type": "code",
   "execution_count": null,
   "id": "50342914",
   "metadata": {},
   "outputs": [],
   "source": []
  }
 ],
 "metadata": {
  "kernelspec": {
   "display_name": "Python 3 (ipykernel)",
   "language": "python",
   "name": "python3"
  },
  "language_info": {
   "codemirror_mode": {
    "name": "ipython",
    "version": 3
   },
   "file_extension": ".py",
   "mimetype": "text/x-python",
   "name": "python",
   "nbconvert_exporter": "python",
   "pygments_lexer": "ipython3",
   "version": "3.9.7"
  }
 },
 "nbformat": 4,
 "nbformat_minor": 5
}
