{
 "cells": [
  {
   "cell_type": "markdown",
   "id": "c7218242",
   "metadata": {},
   "source": [
    "### Pyhton \"if\" statements"
   ]
  },
  {
   "cell_type": "code",
   "execution_count": 3,
   "id": "787b88d8",
   "metadata": {},
   "outputs": [
    {
     "name": "stdout",
     "output_type": "stream",
     "text": [
      "Enjoy your day\n"
     ]
    }
   ],
   "source": [
    "is_hot = False\n",
    "\n",
    "if is_hot:\n",
    "    print(\"it's hot enjoy your day!!\")\n",
    "print(\"Enjoy your day\")    \n",
    "    "
   ]
  },
  {
   "cell_type": "code",
   "execution_count": 8,
   "id": "2843b4f5",
   "metadata": {},
   "outputs": [
    {
     "name": "stdout",
     "output_type": "stream",
     "text": [
      "it's hot enjoy your day!!  \n",
      "drink plenty of water \n",
      "\n",
      "Enjoy your day\n"
     ]
    }
   ],
   "source": [
    "is_hot = True\n",
    "\n",
    "if is_hot:\n",
    "    print(\"it's hot enjoy your day!!  \\ndrink plenty of water \\n\")\n",
    "    \n",
    "print(\"Enjoy your day\")"
   ]
  },
  {
   "cell_type": "code",
   "execution_count": 11,
   "id": "2dbeaed1",
   "metadata": {},
   "outputs": [
    {
     "name": "stdout",
     "output_type": "stream",
     "text": [
      "Enjoy your day\n"
     ]
    }
   ],
   "source": [
    "is_hot = False # True\n",
    "\n",
    "if is_hot:\n",
    "    print(\"it's hot enjoy your day!!  \\ndrink plenty of water \\n\")\n",
    "else:\n",
    "    print(\"Enjoy your day\")"
   ]
  },
  {
   "cell_type": "code",
   "execution_count": 18,
   "id": "cf5efff9",
   "metadata": {},
   "outputs": [
    {
     "name": "stdout",
     "output_type": "stream",
     "text": [
      "Abidjan c'est la vie!!\n"
     ]
    }
   ],
   "source": [
    "is_hot = False\n",
    "is_cold =False\n",
    "\n",
    "if is_hot:\n",
    "    print(\"it's hot enjoy your day!!  \\ndrink plenty of water \\n\")\n",
    "elif is_cold:\n",
    "    print(\"It's a cold day \\nwear warm clothes\")\n",
    "else:\n",
    "    print('Abidjan c\\'est la vie!!')\n"
   ]
  },
  {
   "cell_type": "code",
   "execution_count": null,
   "id": "72d6f315",
   "metadata": {},
   "outputs": [],
   "source": []
  }
 ],
 "metadata": {
  "kernelspec": {
   "display_name": "Python 3 (ipykernel)",
   "language": "python",
   "name": "python3"
  },
  "language_info": {
   "codemirror_mode": {
    "name": "ipython",
    "version": 3
   },
   "file_extension": ".py",
   "mimetype": "text/x-python",
   "name": "python",
   "nbconvert_exporter": "python",
   "pygments_lexer": "ipython3",
   "version": "3.9.7"
  }
 },
 "nbformat": 4,
 "nbformat_minor": 5
}
