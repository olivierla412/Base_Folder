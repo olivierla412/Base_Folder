{
 "cells": [
  {
   "cell_type": "code",
   "execution_count": 1,
   "id": "0df5bdc1",
   "metadata": {},
   "outputs": [],
   "source": [
    "class Parrot:\n",
    "    # instance attributes\n",
    "    def __init__(self, name, age):\n",
    "        self.name = name\n",
    "        self.age = age\n",
    "    \n",
    "    # instance method\n",
    "    def sing(self, song):\n",
    "        return \"{} sings {}\".format(self.name, song)\n",
    "\n",
    "    def dance(self):\n",
    "        return \"{} is now dancing\".format(self.name)"
   ]
  },
  {
   "cell_type": "code",
   "execution_count": 2,
   "id": "77c65d97",
   "metadata": {},
   "outputs": [],
   "source": [
    "arr = Parrot('Olivier',23)"
   ]
  },
  {
   "cell_type": "code",
   "execution_count": 13,
   "id": "fe11d50b",
   "metadata": {},
   "outputs": [
    {
     "name": "stdout",
     "output_type": "stream",
     "text": [
      "Bird is ready\n",
      "Penguin is ready\n",
      "Penguin\n",
      "Run faster\n"
     ]
    }
   ],
   "source": [
    "# parent class\n",
    "class Bird:\n",
    "    \n",
    "    def __init__(self):\n",
    "        print(\"Bird is ready\")\n",
    "\n",
    "    def whoisThis(self):\n",
    "        print(\"Bird\")\n",
    "\n",
    "\n",
    "def swim(self):\n",
    "    print(\"Swim faster\")\n",
    "\n",
    "# child class\n",
    "class Penguin(Bird):\n",
    "    def __init__(self):\n",
    "        # call super() function\n",
    "        super().__init__()\n",
    "        print(\"Penguin is ready\")\n",
    "\n",
    "    def whoisThis(self):\n",
    "        print(\"Penguin\")\n",
    "\n",
    "    def run(self):\n",
    "        print(\"Run faster\")\n",
    "\n",
    "peggy = Penguin()\n",
    "peggy.whoisThis()\n",
    "#peggy.swim()\n",
    "peggy.run()"
   ]
  },
  {
   "cell_type": "markdown",
   "id": "c6a1b091",
   "metadata": {},
   "source": [
    "## Object Orienated Programming in Python"
   ]
  },
  {
   "cell_type": "code",
   "execution_count": 15,
   "id": "f15d57d7",
   "metadata": {},
   "outputs": [],
   "source": [
    "class Dog:\n",
    "    def bark(self): # This fuction is called a method\n",
    "        print(\"Bark\")\n",
    "d = Dog()         \n",
    "        "
   ]
  },
  {
   "cell_type": "code",
   "execution_count": 16,
   "id": "ebdbe925",
   "metadata": {},
   "outputs": [
    {
     "name": "stdout",
     "output_type": "stream",
     "text": [
      "<class '__main__.Dog'>\n"
     ]
    }
   ],
   "source": [
    "print(type(d))"
   ]
  },
  {
   "cell_type": "code",
   "execution_count": 17,
   "id": "7ee8e093",
   "metadata": {},
   "outputs": [
    {
     "name": "stdout",
     "output_type": "stream",
     "text": [
      "Bark\n"
     ]
    }
   ],
   "source": [
    "d.bark()"
   ]
  },
  {
   "cell_type": "code",
   "execution_count": 32,
   "id": "1c650b57",
   "metadata": {},
   "outputs": [],
   "source": [
    "class Dog:\n",
    "    def add_one(self, x):\n",
    "        self.x =x\n",
    "        return x + 1\n",
    "    def bark(self,y):\n",
    "        print('Bark{}'.format(self.x))\n",
    "        \n",
    "  "
   ]
  },
  {
   "cell_type": "code",
   "execution_count": 23,
   "id": "74baac7b",
   "metadata": {},
   "outputs": [],
   "source": [
    "d = Dog()\n"
   ]
  },
  {
   "cell_type": "code",
   "execution_count": 24,
   "id": "38d30392",
   "metadata": {},
   "outputs": [
    {
     "name": "stdout",
     "output_type": "stream",
     "text": [
      "34\n"
     ]
    }
   ],
   "source": [
    "print(d.add_one(33))"
   ]
  },
  {
   "cell_type": "code",
   "execution_count": 33,
   "id": "191026e9",
   "metadata": {},
   "outputs": [
    {
     "name": "stdout",
     "output_type": "stream",
     "text": [
      "Bark 33\n",
      "None\n"
     ]
    }
   ],
   "source": [
    "print(d.bark())\n"
   ]
  },
  {
   "cell_type": "markdown",
   "id": "467d3451",
   "metadata": {},
   "source": [
    "#### explaination of the __init()__ method."
   ]
  },
  {
   "cell_type": "code",
   "execution_count": 39,
   "id": "19ee2469",
   "metadata": {},
   "outputs": [],
   "source": [
    "class Dog:\n",
    "    def __init__(self, name, age): # Anytime we create or we call the class it will run\n",
    "        \n",
    "        self.name = name \n",
    "        self.age = age\n",
    "        print('My name {} and I am  {} years Dog'.format(name, age))\n",
    "        "
   ]
  },
  {
   "cell_type": "code",
   "execution_count": 40,
   "id": "ba096a98",
   "metadata": {},
   "outputs": [
    {
     "name": "stdout",
     "output_type": "stream",
     "text": [
      "My name Rocky and I am  11 years Dog\n"
     ]
    }
   ],
   "source": [
    "d1 = Dog('Rocky',11)"
   ]
  },
  {
   "cell_type": "code",
   "execution_count": 41,
   "id": "26c50e41",
   "metadata": {},
   "outputs": [
    {
     "name": "stdout",
     "output_type": "stream",
     "text": [
      "My name Elistou and I am  7 years Dog\n"
     ]
    }
   ],
   "source": [
    "d2 = Dog('Elistou',7)\n"
   ]
  },
  {
   "cell_type": "code",
   "execution_count": 44,
   "id": "3e314784",
   "metadata": {},
   "outputs": [
    {
     "name": "stdout",
     "output_type": "stream",
     "text": [
      "Rocky 11\n",
      "Elistou 7\n"
     ]
    }
   ],
   "source": [
    "print(d1.name, d1.age)\n",
    "print(d2.name, d2.age)\n",
    "\n"
   ]
  },
  {
   "cell_type": "code",
   "execution_count": 54,
   "id": "d33c676e",
   "metadata": {},
   "outputs": [],
   "source": [
    "class Dog:\n",
    "    def __init__(self, name, age): # Anytime we create or we call the class it will run\n",
    "        \n",
    "        self.name = name \n",
    "        self.age = age\n",
    "        print('My name {} and I am  {} years Dog'.format(name, age))\n",
    "        \n",
    "        ## This the rturn name method\n",
    "    def get_name(self,):\n",
    "        return self.name\n",
    "    \n",
    "        ## this the run age method\n",
    "    def get_age(self):\n",
    "        return self.age +1\n",
    "        "
   ]
  },
  {
   "cell_type": "code",
   "execution_count": 55,
   "id": "b74fd66e",
   "metadata": {},
   "outputs": [
    {
     "name": "stdout",
     "output_type": "stream",
     "text": [
      "My name Elistou and I am  7 years Dog\n"
     ]
    }
   ],
   "source": [
    "d2 = Dog('Elistou',7)\n"
   ]
  },
  {
   "cell_type": "code",
   "execution_count": 47,
   "id": "24c4a1bb",
   "metadata": {},
   "outputs": [
    {
     "name": "stdout",
     "output_type": "stream",
     "text": [
      "Elistou\n"
     ]
    }
   ],
   "source": [
    "print(d2.get_name())"
   ]
  },
  {
   "cell_type": "code",
   "execution_count": 56,
   "id": "86ee2296",
   "metadata": {},
   "outputs": [
    {
     "name": "stdout",
     "output_type": "stream",
     "text": [
      "8\n"
     ]
    }
   ],
   "source": [
    "print(d2.get_age())"
   ]
  },
  {
   "cell_type": "code",
   "execution_count": 58,
   "id": "5b17d6bb",
   "metadata": {},
   "outputs": [],
   "source": [
    "class Dog:\n",
    "    def __init__(self, name, age): # Anytime we create or we call the class it will run\n",
    "        \n",
    "        self.name = name \n",
    "        self.age = age\n",
    "        print('My name {} and I am  {} years Dog'.format(name, age))\n",
    "        \n",
    "        ## This the rturn name method\n",
    "    def get_name(self,):\n",
    "        return self.name\n",
    "    \n",
    "        ## this the run age method\n",
    "    def get_age(self):\n",
    "        return self.age\n",
    "        \n",
    "        ## this the run age method\n",
    "    def brand_name(self,brand):\n",
    "        self.brand = brand\n",
    "        return brand\n",
    "        "
   ]
  },
  {
   "cell_type": "code",
   "execution_count": 60,
   "id": "93ac2916",
   "metadata": {},
   "outputs": [
    {
     "name": "stdout",
     "output_type": "stream",
     "text": [
      "My name Elistou and I am  7 years Dog\n"
     ]
    }
   ],
   "source": [
    "d = Dog('Elistou',7)"
   ]
  },
  {
   "cell_type": "code",
   "execution_count": 61,
   "id": "98471e5e",
   "metadata": {},
   "outputs": [
    {
     "name": "stdout",
     "output_type": "stream",
     "text": [
      "Iphone\n"
     ]
    }
   ],
   "source": [
    "print(d.brand_name('Iphone'))"
   ]
  },
  {
   "cell_type": "code",
   "execution_count": 62,
   "id": "bc9c5171",
   "metadata": {},
   "outputs": [],
   "source": [
    "dd = d.brand_name('Iphone')"
   ]
  },
  {
   "cell_type": "code",
   "execution_count": 63,
   "id": "4602ef8f",
   "metadata": {},
   "outputs": [
    {
     "data": {
      "text/plain": [
       "'Iphone'"
      ]
     },
     "execution_count": 63,
     "metadata": {},
     "output_type": "execute_result"
    }
   ],
   "source": [
    "dd"
   ]
  },
  {
   "cell_type": "code",
   "execution_count": 67,
   "id": "340c9c02",
   "metadata": {},
   "outputs": [],
   "source": [
    "class Dog:\n",
    "    def __init__(self, name, age): # Anytime we create or we call the class it will run\n",
    "        \n",
    "        self.name = name \n",
    "        self.age = age\n",
    "        print('My name {} and I am  {} years Dog'.format(name, age))\n",
    "        \n",
    "        ## This the rturn name method\n",
    "    def get_name(self,):\n",
    "        return self.name\n",
    "    \n",
    "        ## this the run age method\n",
    "    def get_age(self):\n",
    "        return self.age\n",
    "        \n",
    "    def get_age(self,age):\n",
    "        self.age = age\n",
    "        return age\n",
    "        \n",
    "        "
   ]
  },
  {
   "cell_type": "code",
   "execution_count": 68,
   "id": "a0136af4",
   "metadata": {},
   "outputs": [
    {
     "name": "stdout",
     "output_type": "stream",
     "text": [
      "My name Elistou and I am  7 years Dog\n"
     ]
    }
   ],
   "source": [
    "d = Dog('Elistou',7)"
   ]
  },
  {
   "cell_type": "code",
   "execution_count": 69,
   "id": "969eb1ea",
   "metadata": {},
   "outputs": [
    {
     "name": "stdout",
     "output_type": "stream",
     "text": [
      "29\n"
     ]
    }
   ],
   "source": [
    "print(d.get_age(29))"
   ]
  },
  {
   "cell_type": "markdown",
   "id": "0d8f2f27",
   "metadata": {},
   "source": [
    "### Example 2"
   ]
  },
  {
   "cell_type": "code",
   "execution_count": 18,
   "id": "5436ef86",
   "metadata": {},
   "outputs": [
    {
     "name": "stdout",
     "output_type": "stream",
     "text": [
      "The  student is enroll for Science course and is name is Olivier I am 29 and I got 95\n",
      "The  student is enroll for Science course and is name is Thiru I am 26 and I got 89\n"
     ]
    }
   ],
   "source": [
    "class Stduent():\n",
    "    def __init__(self, name, age, grade):\n",
    "        self.name = name\n",
    "        self.age = age\n",
    "        self.grade = grade # 0 100\n",
    "    def get_grade(self):\n",
    "        return self.grade\n",
    "    \n",
    "    \n",
    "class Course:\n",
    "    def __init__(self, cours_name, max_stuents):\n",
    "        self.cours_name = cours_name\n",
    "        self.max_stuents = max_stuents\n",
    "        \n",
    "        self.students = []           ## Here we are creating an empty list which take the stutents\n",
    "        \n",
    "        # this method I will used to add student in the above list\n",
    "    def add_student(self, student):\n",
    "        if len(self.students) < self.max_stuents:\n",
    "            self.students.append(student)\n",
    "            return True     # return True if stduent is added properly.\n",
    "        return False        #  return False if it fails to add stduent.\n",
    "       # This method will be use to calculate the AVG of student's grades\n",
    "    def get_avg_grade(self):\n",
    "        pass\n",
    "# creating Student class objects\n",
    "\n",
    "s1 = Stduent(\"Olivier\", 29, 95) \n",
    "s2 = Stduent(\"Jack\", 23, 75)    \n",
    "s2 = Stduent(\"Thiru\", 26, 89)  \n",
    "\n",
    "# creating course obj\n",
    "course = Course('Science',2)\n",
    "        \n",
    "## let's a course\n",
    "\n",
    "course.add_student(s1)\n",
    "\n",
    "course.add_student(s2)\n",
    "# i = 0\n",
    "# while i <=1:\n",
    "#     print(f'The  student is enroll for {course.cours_name} course and is name is {course.students[i].name} I am {course.students[i].age} and I got {course.students[i].grade}')\n",
    "#     i+=1\n",
    "print(course.students[0].name)"
   ]
  },
  {
   "cell_type": "code",
   "execution_count": null,
   "id": "1aeeb2cf",
   "metadata": {},
   "outputs": [],
   "source": []
  },
  {
   "cell_type": "code",
   "execution_count": 32,
   "id": "dd3f53ca",
   "metadata": {},
   "outputs": [
    {
     "data": {
      "text/plain": [
       "True"
      ]
     },
     "execution_count": 32,
     "metadata": {},
     "output_type": "execute_result"
    }
   ],
   "source": [
    "class Student:\n",
    "    def __init__(self, name, age, grade):\n",
    "        self.name = name\n",
    "        self.age =age\n",
    "        self.grade = grade\n",
    "        \n",
    "        ## This is get the grate of students\n",
    "    def get_grate(self):\n",
    "        return self.grade\n",
    "\n",
    "\n",
    "class Course:\n",
    "    def __init__(self, cours_name, max_course):\n",
    "        self.cours_name = cours_name,\n",
    "        self.max_course = max_course\n",
    "        self.students = []\n",
    "\n",
    "    def add_course(self,student):\n",
    "        if len(self.students) < self.max_course:\n",
    "            self.students.append(student)\n",
    "            return True\n",
    "\n",
    "        return False\n",
    "\n",
    "    def get_avg_grate(self):\n",
    "        value =0\n",
    "        for student in self.students:\n",
    "            value+= student.get_grate()\n",
    "            \n",
    "        return value/len(self.students)    \n",
    "\n",
    "\n",
    "\n",
    "s1= Student('Naka',19,89)\n",
    "s2 = Student('Eric',27,78)\n",
    "s3 = Student('Beld',23,80)\n",
    "course = Course('Data Science',2)\n",
    "course.add_course(s1)\n",
    "course.add_course(s2)\n",
    "#course.add_course(s3)"
   ]
  },
  {
   "cell_type": "code",
   "execution_count": 25,
   "id": "28daf233",
   "metadata": {},
   "outputs": [
    {
     "data": {
      "text/plain": [
       "('Data Science',)"
      ]
     },
     "execution_count": 25,
     "metadata": {},
     "output_type": "execute_result"
    }
   ],
   "source": [
    "course.cours_name"
   ]
  },
  {
   "cell_type": "code",
   "execution_count": 26,
   "id": "ac01d6d2",
   "metadata": {},
   "outputs": [
    {
     "data": {
      "text/plain": [
       "2"
      ]
     },
     "execution_count": 26,
     "metadata": {},
     "output_type": "execute_result"
    }
   ],
   "source": [
    "course.max_course"
   ]
  },
  {
   "cell_type": "code",
   "execution_count": 33,
   "id": "37e1c102",
   "metadata": {},
   "outputs": [
    {
     "data": {
      "text/plain": [
       "83.5"
      ]
     },
     "execution_count": 33,
     "metadata": {},
     "output_type": "execute_result"
    }
   ],
   "source": [
    "course.get_avg_grate()"
   ]
  },
  {
   "cell_type": "markdown",
   "id": "fbf807a3",
   "metadata": {},
   "source": [
    "## Creating tow classes , called Dog() and Cat()"
   ]
  },
  {
   "cell_type": "code",
   "execution_count": 46,
   "id": "72d41034",
   "metadata": {},
   "outputs": [],
   "source": [
    "class Dog:\n",
    "    def __init__(self, name, age):\n",
    "        self.name = name\n",
    "        self.age = age\n",
    "        print('Bark')\n",
    "    def les(self):\n",
    "        return f'Yes we can {self.age}'\n",
    "        \n",
    "class Cat:\n",
    "    def __init__(self, name, age):\n",
    "        self.name = name\n",
    "        self.age = age\n",
    "        print('Meow')        \n",
    "        "
   ]
  },
  {
   "cell_type": "code",
   "execution_count": 47,
   "id": "8381c975",
   "metadata": {},
   "outputs": [
    {
     "name": "stdout",
     "output_type": "stream",
     "text": [
      "Bark\n"
     ]
    }
   ],
   "source": [
    "d = Dog('hak',7)"
   ]
  },
  {
   "cell_type": "code",
   "execution_count": 48,
   "id": "26a4e966",
   "metadata": {},
   "outputs": [
    {
     "data": {
      "text/plain": [
       "'Yes we can 7'"
      ]
     },
     "execution_count": 48,
     "metadata": {},
     "output_type": "execute_result"
    }
   ],
   "source": [
    "d.les()"
   ]
  },
  {
   "cell_type": "code",
   "execution_count": 89,
   "id": "579ced97",
   "metadata": {},
   "outputs": [],
   "source": [
    "class Pet:\n",
    "    def __init__(self, name, age):\n",
    "        self.name = name\n",
    "        self.age = age\n",
    "    def show(self):\n",
    "        print(f'I am {self.name} and I am {self.age} years old')\n",
    "        \n",
    "    def speak(self):\n",
    "        print(\"Sorry but I don\\'t know what to say!!\")\n",
    "  \n"
   ]
  },
  {
   "cell_type": "code",
   "execution_count": 80,
   "id": "250d6771",
   "metadata": {},
   "outputs": [],
   "source": [
    "class Cat(Pet):\n",
    "    def speak(self):\n",
    "        print('Meow')\n",
    "\n",
    "class Dog(Pet):\n",
    "    def speak(self):\n",
    "        print('Bark')"
   ]
  },
  {
   "cell_type": "code",
   "execution_count": 90,
   "id": "e51e0a39",
   "metadata": {},
   "outputs": [],
   "source": [
    "p = Pet('Lim',8)"
   ]
  },
  {
   "cell_type": "code",
   "execution_count": 72,
   "id": "a67840ea",
   "metadata": {},
   "outputs": [
    {
     "name": "stdout",
     "output_type": "stream",
     "text": [
      "I am Lim and I am 8 years old\n"
     ]
    }
   ],
   "source": [
    "p.show()"
   ]
  },
  {
   "cell_type": "code",
   "execution_count": 73,
   "id": "6d004270",
   "metadata": {},
   "outputs": [],
   "source": [
    "c1 = Cat('UnderGo',9)"
   ]
  },
  {
   "cell_type": "code",
   "execution_count": 74,
   "id": "1596433d",
   "metadata": {},
   "outputs": [
    {
     "data": {
      "text/plain": [
       "'UnderGo'"
      ]
     },
     "execution_count": 74,
     "metadata": {},
     "output_type": "execute_result"
    }
   ],
   "source": [
    "c1.name"
   ]
  },
  {
   "cell_type": "code",
   "execution_count": 81,
   "id": "e380492f",
   "metadata": {},
   "outputs": [],
   "source": [
    "d1 = Dog('Book_e', 5)\n",
    "d2 = Dog('Book_Y', 4)"
   ]
  },
  {
   "cell_type": "code",
   "execution_count": 83,
   "id": "a547b0d4",
   "metadata": {},
   "outputs": [
    {
     "name": "stdout",
     "output_type": "stream",
     "text": [
      "I am Book_Y and I am 4 years old\n"
     ]
    }
   ],
   "source": [
    "d2.show()"
   ]
  },
  {
   "cell_type": "code",
   "execution_count": 78,
   "id": "ca3c226a",
   "metadata": {},
   "outputs": [
    {
     "name": "stdout",
     "output_type": "stream",
     "text": [
      "Meow\n",
      "Bark\n"
     ]
    }
   ],
   "source": [
    "c1.speak()\n",
    "d1.speak()"
   ]
  },
  {
   "cell_type": "code",
   "execution_count": 91,
   "id": "227372f7",
   "metadata": {},
   "outputs": [
    {
     "name": "stdout",
     "output_type": "stream",
     "text": [
      "Sorry but I don't know what to say!!\n"
     ]
    }
   ],
   "source": [
    "p.speak()"
   ]
  },
  {
   "cell_type": "code",
   "execution_count": 92,
   "id": "af34bcbb",
   "metadata": {},
   "outputs": [],
   "source": [
    "## Create a class call Fish which will inheritance\n",
    "\n",
    "class Fish(Pet):\n",
    "    pass\n",
    "    "
   ]
  },
  {
   "cell_type": "code",
   "execution_count": 93,
   "id": "ae2fe9ad",
   "metadata": {},
   "outputs": [],
   "source": [
    "f = Fish('Machoisron',11)"
   ]
  },
  {
   "cell_type": "code",
   "execution_count": 94,
   "id": "1ae2bdb3",
   "metadata": {},
   "outputs": [
    {
     "name": "stdout",
     "output_type": "stream",
     "text": [
      "Sorry but I don't know what to say!!\n"
     ]
    }
   ],
   "source": [
    "f.speak()"
   ]
  },
  {
   "cell_type": "code",
   "execution_count": 120,
   "id": "863bdfde",
   "metadata": {},
   "outputs": [],
   "source": [
    "## Let's get access of modification of the inner classes\n",
    "class Pet:\n",
    "    def __init__(self, name, age):\n",
    "        self.name = name\n",
    "        self.age = age\n",
    "    def show(self):\n",
    "        print(f'I am {self.name} and I am {self.age} years old')\n",
    "        \n",
    "    def speak(self):\n",
    "        print(\"Sorry but I don\\'t know what to say!!\")\n",
    "        \n",
    "        \n",
    "class Cat(Pet):\n",
    "    def __init__(self, name, age, color):\n",
    "        super().__init__(name, age) ## This will to have access to the parents class vars\n",
    "        self.color = color\n",
    "        \n",
    "    def show(self):\n",
    "        print(f'I am {self.name} and I am {self.age} years old and I am {self.color}')   \n",
    "        \n",
    "        #return name This will not work because \n",
    "        \n",
    "    def speak(self):\n",
    "        print('Meow')\n",
    "        \n",
    "\n",
    "class Dog(Pet):\n",
    "    def __init__(self, name, age, color):\n",
    "#         self.name = name\n",
    "#         self.age = age\n",
    "        super().__init__(name, age)\n",
    "        self.color = color\n",
    "        \n",
    "    def show(self):\n",
    "        print(f'I am {self.name} and I am {self.age} years old and I am {self.color}')    \n",
    "        #return name\n",
    "        \n",
    "    def speak(self):\n",
    "        print('Bark')"
   ]
  },
  {
   "cell_type": "code",
   "execution_count": 121,
   "id": "2b205366",
   "metadata": {},
   "outputs": [],
   "source": [
    "p = Pet('Lim',8)"
   ]
  },
  {
   "cell_type": "code",
   "execution_count": 122,
   "id": "9b09d5d3",
   "metadata": {},
   "outputs": [],
   "source": [
    "d1 = Dog('Dass',4,'grew')\n",
    "c1 = Cat('Gat',5,'black')"
   ]
  },
  {
   "cell_type": "code",
   "execution_count": 123,
   "id": "007e19cd",
   "metadata": {},
   "outputs": [
    {
     "name": "stdout",
     "output_type": "stream",
     "text": [
      "I am Dass and I am 4 years old and I am grew\n"
     ]
    }
   ],
   "source": [
    "d1.show()"
   ]
  },
  {
   "cell_type": "code",
   "execution_count": 108,
   "id": "84231f67",
   "metadata": {},
   "outputs": [
    {
     "name": "stdout",
     "output_type": "stream",
     "text": [
      "I am Gat and I am 5 years old and I am black\n"
     ]
    }
   ],
   "source": [
    "c1.show()"
   ]
  },
  {
   "cell_type": "code",
   "execution_count": 124,
   "id": "3e13eded",
   "metadata": {},
   "outputs": [
    {
     "name": "stdout",
     "output_type": "stream",
     "text": [
      "Rover says bark, bark, bark!\n",
      "Fido says bark, bark, bark!\n",
      "Fluffy says meeeoooow\n",
      "Spike says meeeoooow\n",
      "Big Bird says tweet\n"
     ]
    }
   ],
   "source": [
    "# Pets polymorphism\n",
    "# Three classes, all with a different \"speak\" method\n",
    "\n",
    "class Dog():\n",
    "    def __init__(self, name):\n",
    "        self.name = name\n",
    "\n",
    "    def speak(self):\n",
    "        print(self.name, 'says bark, bark, bark!')\n",
    "\n",
    "class Cat():\n",
    "    def __init__(self, name):\n",
    "        self.name = name\n",
    "\n",
    "    def speak(self):\n",
    "        print(self.name, 'says meeeoooow')\n",
    "\n",
    "class Bird():\n",
    "    def __init__(self, name):\n",
    "        self.name = name\n",
    "\n",
    "    def speak(self):\n",
    "        print(self.name, 'says tweet')\n",
    "\n",
    "oDog1 = Dog('Rover')\n",
    "oDog2 = Dog('Fido')\n",
    "oCat1 = Cat('Fluffy')\n",
    "oCat2 = Cat('Spike')\n",
    "oBird = Bird('Big Bird')\n",
    "\n",
    "petsList = [oDog1, oDog2, oCat1, oCat2, oBird]\n",
    "\n",
    "# Send the same message (call the same method) of all pets\n",
    "for oPet in petsList:\n",
    "    oPet.speak()"
   ]
  },
  {
   "cell_type": "markdown",
   "id": "af2dc158",
   "metadata": {},
   "source": [
    "### How class variable works ?"
   ]
  },
  {
   "cell_type": "code",
   "execution_count": 166,
   "id": "d364b867",
   "metadata": {},
   "outputs": [],
   "source": [
    "class Person:\n",
    "    number_of_people = 0\n",
    "    def __init__(self, name):\n",
    "        self.name = name\n",
    "        \n",
    "        "
   ]
  },
  {
   "cell_type": "code",
   "execution_count": 167,
   "id": "869921a3",
   "metadata": {},
   "outputs": [
    {
     "name": "stdout",
     "output_type": "stream",
     "text": [
      "19\n",
      "19\n"
     ]
    }
   ],
   "source": [
    "p1 = Person('JACK')\n",
    "p2 = Person('William')"
   ]
  },
  {
   "cell_type": "code",
   "execution_count": 168,
   "id": "8e6b8b03",
   "metadata": {},
   "outputs": [
    {
     "data": {
      "text/plain": [
       "0"
      ]
     },
     "execution_count": 168,
     "metadata": {},
     "output_type": "execute_result"
    }
   ],
   "source": [
    "p2.number_of_people"
   ]
  },
  {
   "cell_type": "code",
   "execution_count": 169,
   "id": "30f09751",
   "metadata": {},
   "outputs": [
    {
     "name": "stdout",
     "output_type": "stream",
     "text": [
      "0\n",
      "0\n"
     ]
    }
   ],
   "source": [
    "print(p1.number_of_people)\n",
    "print(p2.number_of_people)"
   ]
  },
  {
   "cell_type": "code",
   "execution_count": 157,
   "id": "1876db0d",
   "metadata": {},
   "outputs": [],
   "source": [
    "Person.number_of_people = 22"
   ]
  },
  {
   "cell_type": "code",
   "execution_count": 158,
   "id": "102ddb04",
   "metadata": {},
   "outputs": [
    {
     "data": {
      "text/plain": [
       "22"
      ]
     },
     "execution_count": 158,
     "metadata": {},
     "output_type": "execute_result"
    }
   ],
   "source": [
    "p2.number_of_people"
   ]
  },
  {
   "cell_type": "code",
   "execution_count": 159,
   "id": "f1677a45",
   "metadata": {},
   "outputs": [
    {
     "name": "stdout",
     "output_type": "stream",
     "text": [
      "22\n",
      "22\n"
     ]
    }
   ],
   "source": [
    "print(p1.number_of_people)\n",
    "print(p2.number_of_people)"
   ]
  },
  {
   "cell_type": "code",
   "execution_count": 153,
   "id": "1f92d9d2",
   "metadata": {},
   "outputs": [
    {
     "data": {
      "text/plain": [
       "__main__.Person"
      ]
     },
     "execution_count": 153,
     "metadata": {},
     "output_type": "execute_result"
    }
   ],
   "source": [
    "type(p1)"
   ]
  },
  {
   "cell_type": "markdown",
   "id": "a2fe2d47",
   "metadata": {},
   "source": [
    "### How to increment the class varibale ?"
   ]
  },
  {
   "cell_type": "code",
   "execution_count": 179,
   "id": "dc91020a",
   "metadata": {},
   "outputs": [],
   "source": [
    "class Person:\n",
    "    number_of_people = 0\n",
    "    def __init__(self, name):\n",
    "        self.name = name\n",
    "        Person.number_of_people +=1\n",
    "        \n",
    "        "
   ]
  },
  {
   "cell_type": "code",
   "execution_count": 177,
   "id": "cc0858fe",
   "metadata": {},
   "outputs": [
    {
     "name": "stdout",
     "output_type": "stream",
     "text": [
      "1\n",
      "2\n"
     ]
    }
   ],
   "source": [
    "p1 = Person('Aly')\n",
    "print(Person.number_of_people)\n",
    "p2 =Person('Oli')\n",
    "print(Person.number_of_people)"
   ]
  },
  {
   "cell_type": "code",
   "execution_count": 199,
   "id": "aaeb2343",
   "metadata": {},
   "outputs": [
    {
     "name": "stdout",
     "output_type": "stream",
     "text": [
      "Aly is 2\n"
     ]
    }
   ],
   "source": [
    "p1 = Person('Aly')\n",
    "print(p1.name,'is',Person.number_of_people)\n",
    "#Person.number_of_people =0\n",
    "if Person.number_of_people ==6:\n",
    "    Person.number_of_people =0\n",
    "    \n"
   ]
  },
  {
   "cell_type": "markdown",
   "id": "a3c29725",
   "metadata": {},
   "source": [
    "### How to create a class method ?\n"
   ]
  },
  {
   "cell_type": "code",
   "execution_count": 222,
   "id": "04ef3cab",
   "metadata": {},
   "outputs": [],
   "source": [
    "class Person:\n",
    "    number_of_people = 0\n",
    "    \n",
    "    def __init__(self, name):\n",
    "        self.name = name\n",
    "        Person.number_of_people+=1\n",
    "    @classmethod              # This the way of creating a class method\n",
    "    def number_of_people_(cls):   # add decorator before the method\n",
    "        \n",
    "        return cls.number_of_people\n",
    "    @classmethod\n",
    "    def add_person(cls):\n",
    "        cls.number_of_people+=1\n",
    "        \n",
    "        "
   ]
  },
  {
   "cell_type": "code",
   "execution_count": 223,
   "id": "f4f6a44c",
   "metadata": {},
   "outputs": [],
   "source": [
    "p1 = Person('JACK')\n",
    "p2 = Person('William')"
   ]
  },
  {
   "cell_type": "code",
   "execution_count": 226,
   "id": "f142cf8a",
   "metadata": {},
   "outputs": [
    {
     "name": "stdout",
     "output_type": "stream",
     "text": [
      "2\n"
     ]
    }
   ],
   "source": [
    "print(Person.number_of_people_())"
   ]
  },
  {
   "cell_type": "markdown",
   "id": "a9bce2f1",
   "metadata": {},
   "source": [
    "### How to create a static class ?"
   ]
  },
  {
   "cell_type": "code",
   "execution_count": 227,
   "id": "c4d2b4b4",
   "metadata": {},
   "outputs": [],
   "source": [
    "class Math:\n",
    "    @staticmethod ## This tells the method is static method\n",
    "    def add5(x):    # The static are doing nothing\n",
    "        return x +5\n",
    "    "
   ]
  },
  {
   "cell_type": "code",
   "execution_count": 229,
   "id": "8fd944b7",
   "metadata": {},
   "outputs": [
    {
     "name": "stdout",
     "output_type": "stream",
     "text": [
      "10\n"
     ]
    }
   ],
   "source": [
    "print(Math.add5(5))"
   ]
  },
  {
   "cell_type": "markdown",
   "id": "0b0e1e84",
   "metadata": {},
   "source": [
    "## Learners checkpoing:"
   ]
  },
  {
   "cell_type": "markdown",
   "id": "16a36133",
   "metadata": {},
   "source": [
    "### Q1"
   ]
  },
  {
   "cell_type": "markdown",
   "id": "df9fd106",
   "metadata": {},
   "source": [
    "Write a Python class named Point3D defined by x, y, and z.\n",
    "Define a method that returns (x, y ,z). This tells Python \n",
    "to represent this object in the following format: (x, y, z).\n",
    "Then create a variable named my_point containing \n",
    "a new instance of Point3D with x=1, y=2, and z=3 and print it."
   ]
  },
  {
   "cell_type": "code",
   "execution_count": 237,
   "id": "8d837f2d",
   "metadata": {},
   "outputs": [
    {
     "name": "stdout",
     "output_type": "stream",
     "text": [
      "(1, 2, 3)\n"
     ]
    }
   ],
   "source": [
    "class Point3D:\n",
    "    def __init__(self, x, y, z):\n",
    "        self.x = x\n",
    "        self.y = y\n",
    "        self.z = z\n",
    "    def get_result(self):\n",
    "        return(self.x, self.y, self.z)\n",
    "    \n",
    "my_point = Point3D(1, 2, 3)\n",
    "\n",
    "print(my_point.get_result())  "
   ]
  },
  {
   "cell_type": "code",
   "execution_count": 236,
   "id": "a6aca64f",
   "metadata": {},
   "outputs": [
    {
     "name": "stdout",
     "output_type": "stream",
     "text": [
      "(1, 2, 3)\n"
     ]
    }
   ],
   "source": []
  },
  {
   "cell_type": "markdown",
   "id": "9a31df0a",
   "metadata": {},
   "source": [
    "### Q2"
   ]
  },
  {
   "cell_type": "markdown",
   "id": "cfd949d2",
   "metadata": {},
   "source": [
    "Write a Python class named Rectangle constructed by a length and width. Define two methods, area and perimeter, which will compute the area and the perimeter of the rectangle. Then create a variable named my_rectangle containing a new instance of Rectangle with width=3 and length = 4 and compute both area and perimeter"
   ]
  },
  {
   "cell_type": "code",
   "execution_count": 239,
   "id": "de4da2fb",
   "metadata": {},
   "outputs": [
    {
     "name": "stdout",
     "output_type": "stream",
     "text": [
      "12\n",
      " \n",
      "14\n"
     ]
    }
   ],
   "source": [
    "class Rectangle:\n",
    "    def __init__(self, length, width):\n",
    "        self.length = length\n",
    "        self.width = width\n",
    "        \n",
    "        ## creating the method which will compute the area  of the rectangle\n",
    "    def area_of_rect(self):\n",
    "        area = self.length * self.width\n",
    "        return area\n",
    "    \n",
    "    ## creating the method which will compute the perimeter of the rectangle\n",
    "    # P=2(l+w)\n",
    "    def perimeter_of_rect(self):\n",
    "        perimter = 2*(self.length + self.width)\n",
    "        return perimter\n",
    "my_rectangle = Rectangle(4,3)\n",
    "print(my_rectangle.area_of_rect())\n",
    "print(' ')\n",
    "print(my_rectangle.perimeter_of_rect())"
   ]
  },
  {
   "cell_type": "code",
   "execution_count": null,
   "id": "da9bca91",
   "metadata": {},
   "outputs": [],
   "source": []
  },
  {
   "cell_type": "markdown",
   "id": "4f542328",
   "metadata": {},
   "source": [
    "### Q3"
   ]
  },
  {
   "cell_type": "markdown",
   "id": "52bd824c",
   "metadata": {},
   "source": [
    "Write a Python  class named Circle constructed by its center O and radius r. Define two methods, area and perimeter, which will compute the area and the perimeter of the circle, and is Inside() method which allows you to test whether a point A(x, y) belongs to the circle C(O, r) or not."
   ]
  },
  {
   "cell_type": "code",
   "execution_count": 116,
   "id": "23f5a9bf",
   "metadata": {},
   "outputs": [
    {
     "name": "stdout",
     "output_type": "stream",
     "text": [
      "The Perimeter of my Circle is : 31.41592653589793\n",
      " \n",
      "The Area of my Circle is : 78.53981633974483\n",
      "---------------------------------------------\n",
      "-\n",
      "The point A with coodinate A(-4, 3) \n",
      "is  belong to the             Circle O(-2, 1) and Radius 5\n",
      "None\n"
     ]
    }
   ],
   "source": [
    "from  math import pi;abs\n",
    "from math import sqrt\n",
    "\n",
    "class Circle:\n",
    "    def __init__(self, r):\n",
    "        self.r = r\n",
    "        \n",
    "        # The area method,  Formula: (A = πr^2)\n",
    "    def  get_area(self):\n",
    "        area = pi*self.r**2\n",
    "        \n",
    "        return area\n",
    "    \n",
    "    # The perimeter method, Formula:  (C=2πr)\n",
    "    def get_perimeter(self):\n",
    "        perimiter  = 2*pi*self.r\n",
    "        \n",
    "        return perimiter\n",
    "        \n",
    "        ## The method to find whether the a point A(x,Y) belong to to Circle or not\n",
    "        #Formula: (x - center_x)² + (y - center_y)² < radius²\n",
    "    def Inside(self, x, y, center_x, center_y):\n",
    "        self.x =x\n",
    "        self.y =y\n",
    "        self.center_x = center_x\n",
    "        self.center_y = center_y\n",
    "        \n",
    "        dx = (self.x - center_x)**2\n",
    "        dy = (self.y - center_y)**2\n",
    "        \n",
    "        if sqrt(dx + dy) < (self.r)**2:\n",
    "            print(f'The point A with coodinate A{self.x, self.y} \\n belong to the \\\n",
    "            Circle O{self.center_x, self.center_y} and Radius {self.r}')\n",
    "        else:\n",
    "            print(f'The point A with coodinate A{self.x, self.y} \\n not belong to the \\\n",
    "            Circle O{self.center_x, self.center_y} and Radius {self.r}')    \n",
    "my_cirle= Circle(5)\n",
    "print(f'The Perimeter of my Circle is : {my_cirle.get_perimeter()}')\n",
    "print(' ')\n",
    "print(f'The Area of my Circle is : {my_cirle.get_area()}')\n",
    "print('-'*45)\n",
    "print('-')\n",
    "print(my_cirle.Inside(-4,3,-2,1))\n"
   ]
  },
  {
   "cell_type": "raw",
   "id": "2db880a8",
   "metadata": {},
   "source": []
  },
  {
   "cell_type": "markdown",
   "id": "933cf6bd",
   "metadata": {},
   "source": [
    "Suppose we want to model a bank account with support for deposit and withdraw operations. Let’s create a Python class named Bank defined by its balance. Define two methods, deposit and withdraw, to compute the new amount of each operation."
   ]
  },
  {
   "cell_type": "code",
   "execution_count": 226,
   "id": "cd6a0505",
   "metadata": {},
   "outputs": [
    {
     "name": "stdout",
     "output_type": "stream",
     "text": [
      "BANK BALANCE:  300\n"
     ]
    }
   ],
   "source": []
  },
  {
   "cell_type": "code",
   "execution_count": null,
   "id": "b216654b",
   "metadata": {},
   "outputs": [],
   "source": []
  },
  {
   "cell_type": "code",
   "execution_count": null,
   "id": "28b73b6c",
   "metadata": {},
   "outputs": [],
   "source": []
  },
  {
   "cell_type": "code",
   "execution_count": 238,
   "id": "fdc614da",
   "metadata": {},
   "outputs": [
    {
     "name": "stdout",
     "output_type": "stream",
     "text": [
      "Hello!!! Welcome to the Deposit & Withdrawal Machine\n"
     ]
    }
   ],
   "source": [
    "# Python program to create Bankaccount class\n",
    "# with both a deposit() and a withdraw() function\n",
    "class Bank_Account:\n",
    "    def __init__(self):\n",
    "        self.balance=0\n",
    "        print(\"Hello!!! Welcome to the Deposit & Withdrawal Machine\")\n",
    " \n",
    "    def deposit(self):\n",
    "        amount=float(input(\"Enter amount to be Deposited: \"))\n",
    "        self.balance += amount\n",
    "        print(\"\\n Amount Deposited:\",amount)\n",
    " \n",
    "    def withdraw(self):\n",
    "        amount = float(input(\"Enter amount to be Withdrawn: \"))\n",
    "        if self.balance>=amount:\n",
    "            self.balance-=amount\n",
    "            print(\"\\n You Withdrew:\", amount)\n",
    "        else:\n",
    "            print(\"\\n Insufficient balance sorry, make a Deposit\")\n",
    " \n",
    "    def display(self):\n",
    "        print(\"\\n Net Available Balance=\",self.balance)\n",
    "        \n",
    " #Driver code \n",
    "# creating an object of class\n",
    "s = Bank_Account()\n",
    "\n",
    "\n",
    "  "
   ]
  },
  {
   "cell_type": "code",
   "execution_count": 239,
   "id": "a998a7f1",
   "metadata": {},
   "outputs": [
    {
     "name": "stdout",
     "output_type": "stream",
     "text": [
      "For Deposit Enter: 1, for Widthdraw Enter: 21\n",
      "Enter amount to be Deposited: 400\n",
      "\n",
      " Amount Deposited: 400.0\n",
      "\n",
      " Net Available Balance= 400.0\n"
     ]
    }
   ],
   "source": [
    "User_choice = int(input('For Deposit Enter: 1, for Widthdraw Enter: 2'))\n",
    "\n",
    "if User_choice ==1:\n",
    "    s.deposit()\n",
    "    s.display()\n",
    "else:\n",
    "    s.withdraw()\n",
    "    s.display()\n",
    "    "
   ]
  },
  {
   "cell_type": "code",
   "execution_count": 240,
   "id": "af0f9917",
   "metadata": {},
   "outputs": [
    {
     "name": "stdout",
     "output_type": "stream",
     "text": [
      "For Deposit Enter: 1, for Widthdraw Enter: 22\n",
      "Enter amount to be Withdrawn: 6000\n",
      "\n",
      " Insufficient balance sorry, make a Deposit\n",
      "\n",
      " Net Available Balance= 400.0\n"
     ]
    }
   ],
   "source": [
    "User_choice = int(input('For Deposit Enter: 1, for Widthdraw Enter: 2'))\n",
    "\n",
    "if User_choice ==1:\n",
    "    s.deposit()\n",
    "    s.display()\n",
    "else:\n",
    "    s.withdraw()\n",
    "    s.display()"
   ]
  },
  {
   "cell_type": "code",
   "execution_count": 241,
   "id": "4cb2fb29",
   "metadata": {},
   "outputs": [],
   "source": [
    "import math"
   ]
  },
  {
   "cell_type": "code",
   "execution_count": 242,
   "id": "6ae5b789",
   "metadata": {},
   "outputs": [
    {
     "data": {
      "text/plain": [
       "3.0"
      ]
     },
     "execution_count": 242,
     "metadata": {},
     "output_type": "execute_result"
    }
   ],
   "source": [
    "math.sqrt(9)\n"
   ]
  },
  {
   "cell_type": "code",
   "execution_count": 13,
   "id": "42a0e4ad",
   "metadata": {},
   "outputs": [],
   "source": [
    "class Banking:\n",
    "    def __init__(self):\n",
    "        self.balance = 0\n",
    "        print('WELCOME TO DEPOSIT & WIDTHDRAW MACHINE (ATM)!')\n",
    "    def deposit(self):\n",
    "        amount = float(input('ENTER THE AMOUNT TO DEPOSIT: '))\n",
    "        self.balance+=amount\n",
    "        print(' ')\n",
    "        print('THE DEPOSIT OF {} $ IS COMPLETED SUCCESSFULLY!'.format(amount))\n",
    "    def widthdraw(self):\n",
    "        amount = float(input('ENTER THE AMOUNT TO WIDTHDRAW: '))\n",
    "        if self.balance >= amount:\n",
    "            self.balance-=amount\n",
    "            print(' ')\n",
    "            print('THE WIDTHDRAW OF {} $ IS COMPLETED SUCCESSFULLY!'.format(amount))\n",
    "    def get_display(self):\n",
    "        print(' ')\n",
    "        print('YOUR CURRENT BALANCE IS : {} $'.format(self.balance))\n",
    "        \n",
    "        "
   ]
  },
  {
   "cell_type": "code",
   "execution_count": 11,
   "id": "71c1c0f0",
   "metadata": {},
   "outputs": [
    {
     "name": "stdout",
     "output_type": "stream",
     "text": [
      "WELCOME TO DEPOSIT & WIDTHDRAW MACHINE (ATM)!\n"
     ]
    }
   ],
   "source": [
    "bank = Banking()"
   ]
  },
  {
   "cell_type": "code",
   "execution_count": 14,
   "id": "1e07ceb3",
   "metadata": {},
   "outputs": [
    {
     "name": "stdout",
     "output_type": "stream",
     "text": [
      "ENTER THE AMOUNT TO DEPOSIT: 3000\n",
      " \n",
      "THE DEPOSIT OF 3000.0 $ IS COMPLETED SUCCESSFULLY!\n",
      " \n",
      "YOUR CURRENT BALANCE IS : 7000.0\n"
     ]
    }
   ],
   "source": [
    "bank.deposit()\n",
    "bank.get_display()"
   ]
  },
  {
   "cell_type": "code",
   "execution_count": null,
   "id": "7f8d0f16",
   "metadata": {},
   "outputs": [],
   "source": []
  }
 ],
 "metadata": {
  "kernelspec": {
   "display_name": "Python 3 (ipykernel)",
   "language": "python",
   "name": "python3"
  },
  "language_info": {
   "codemirror_mode": {
    "name": "ipython",
    "version": 3
   },
   "file_extension": ".py",
   "mimetype": "text/x-python",
   "name": "python",
   "nbconvert_exporter": "python",
   "pygments_lexer": "ipython3",
   "version": "3.9.7"
  }
 },
 "nbformat": 4,
 "nbformat_minor": 5
}
