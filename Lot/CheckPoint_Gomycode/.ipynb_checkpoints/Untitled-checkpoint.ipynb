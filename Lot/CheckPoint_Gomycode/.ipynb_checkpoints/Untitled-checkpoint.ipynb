{
 "cells": [
  {
   "cell_type": "markdown",
   "id": "54be3175",
   "metadata": {},
   "source": [
    "### Saturday   12/11/2022 \n",
    "\n",
    "\n",
    "\n",
    "\n",
    "\n"
   ]
  },
  {
   "cell_type": "code",
   "execution_count": 1,
   "id": "b5d93e83",
   "metadata": {},
   "outputs": [
    {
     "ename": "ValueError",
     "evalue": "could not convert string to float: 'Oliver'",
     "output_type": "error",
     "traceback": [
      "\u001b[0;31m---------------------------------------------------------------------------\u001b[0m",
      "\u001b[0;31mValueError\u001b[0m                                Traceback (most recent call last)",
      "\u001b[0;32m/var/folders/_1/66lm052n7y529trsmgljqf1h0000gn/T/ipykernel_8151/439365277.py\u001b[0m in \u001b[0;36m<module>\u001b[0;34m\u001b[0m\n\u001b[1;32m      1\u001b[0m \u001b[0mname\u001b[0m \u001b[0;34m=\u001b[0m \u001b[0;34m'Oliver'\u001b[0m\u001b[0;34m\u001b[0m\u001b[0;34m\u001b[0m\u001b[0m\n\u001b[0;32m----> 2\u001b[0;31m \u001b[0mnumber\u001b[0m \u001b[0;34m=\u001b[0m \u001b[0mfloat\u001b[0m\u001b[0;34m(\u001b[0m\u001b[0mname\u001b[0m\u001b[0;34m)\u001b[0m\u001b[0;34m\u001b[0m\u001b[0;34m\u001b[0m\u001b[0m\n\u001b[0m",
      "\u001b[0;31mValueError\u001b[0m: could not convert string to float: 'Oliver'"
     ]
    }
   ],
   "source": [
    "name = 'Oliver'\n",
    "number = float(name)"
   ]
  },
  {
   "cell_type": "code",
   "execution_count": 2,
   "id": "15a685d7",
   "metadata": {},
   "outputs": [
    {
     "name": "stdout",
     "output_type": "stream",
     "text": [
      "200.0\n"
     ]
    }
   ],
   "source": [
    "number = 200\n",
    "\n",
    "## convert  number   into float type\n",
    "\n",
    "my_float_number = float(number)\n",
    "print(my_float_number)"
   ]
  },
  {
   "cell_type": "code",
   "execution_count": 3,
   "id": "9d54b8c5",
   "metadata": {},
   "outputs": [
    {
     "name": "stdout",
     "output_type": "stream",
     "text": [
      "<class 'int'>\n"
     ]
    }
   ],
   "source": [
    "print(type(number))"
   ]
  },
  {
   "cell_type": "code",
   "execution_count": 4,
   "id": "ac56c1e5",
   "metadata": {},
   "outputs": [
    {
     "name": "stdout",
     "output_type": "stream",
     "text": [
      "<class 'float'>\n"
     ]
    }
   ],
   "source": [
    "print(type(my_float_number))"
   ]
  },
  {
   "cell_type": "code",
   "execution_count": 7,
   "id": "77d3b4c4",
   "metadata": {},
   "outputs": [
    {
     "data": {
      "text/plain": [
       "5.0"
      ]
     },
     "execution_count": 7,
     "metadata": {},
     "output_type": "execute_result"
    }
   ],
   "source": [
    "float(5) #conversion from integer to float"
   ]
  },
  {
   "cell_type": "code",
   "execution_count": 8,
   "id": "a6ce3a3d",
   "metadata": {},
   "outputs": [
    {
     "data": {
      "text/plain": [
       "2.5"
      ]
     },
     "execution_count": 8,
     "metadata": {},
     "output_type": "execute_result"
    }
   ],
   "source": [
    "float(\"2.5\") #conversion from string to float"
   ]
  },
  {
   "cell_type": "code",
   "execution_count": 9,
   "id": "fccc2584",
   "metadata": {},
   "outputs": [
    {
     "data": {
      "text/plain": [
       "'25'"
      ]
     },
     "execution_count": 9,
     "metadata": {},
     "output_type": "execute_result"
    }
   ],
   "source": [
    "\n",
    "\n",
    "str(25) #conversion from integer to string"
   ]
  },
  {
   "cell_type": "code",
   "execution_count": 6,
   "id": "1e4f8287",
   "metadata": {},
   "outputs": [
    {
     "data": {
      "text/plain": [
       "2"
      ]
     },
     "execution_count": 6,
     "metadata": {},
     "output_type": "execute_result"
    }
   ],
   "source": [
    "\n",
    "\n",
    "int(\"2\") #conversion impossible, string must contain compatible values"
   ]
  },
  {
   "cell_type": "code",
   "execution_count": null,
   "id": "bf0dfb6f",
   "metadata": {},
   "outputs": [],
   "source": [
    "\" \""
   ]
  },
  {
   "cell_type": "code",
   "execution_count": null,
   "id": "6afb9393",
   "metadata": {},
   "outputs": [],
   "source": [
    "''"
   ]
  },
  {
   "cell_type": "code",
   "execution_count": 10,
   "id": "9a50b428",
   "metadata": {},
   "outputs": [],
   "source": [
    "name = 'Oliver'"
   ]
  },
  {
   "cell_type": "code",
   "execution_count": 11,
   "id": "a0fcfecc",
   "metadata": {},
   "outputs": [
    {
     "data": {
      "text/plain": [
       "str"
      ]
     },
     "execution_count": 11,
     "metadata": {},
     "output_type": "execute_result"
    }
   ],
   "source": [
    "type(name)"
   ]
  },
  {
   "cell_type": "code",
   "execution_count": 12,
   "id": "ed78230a",
   "metadata": {},
   "outputs": [
    {
     "name": "stdout",
     "output_type": "stream",
     "text": [
      "OLIVER\n"
     ]
    }
   ],
   "source": [
    "print(name.upper())"
   ]
  },
  {
   "cell_type": "code",
   "execution_count": 13,
   "id": "5e902f5f",
   "metadata": {},
   "outputs": [],
   "source": [
    "x = True\n",
    "y = False"
   ]
  },
  {
   "cell_type": "code",
   "execution_count": 17,
   "id": "ac4de99d",
   "metadata": {},
   "outputs": [
    {
     "data": {
      "text/plain": [
       "True"
      ]
     },
     "execution_count": 17,
     "metadata": {},
     "output_type": "execute_result"
    }
   ],
   "source": [
    "y = (10 > 9) #\n",
    "y\n"
   ]
  },
  {
   "cell_type": "code",
   "execution_count": 18,
   "id": "58711e90",
   "metadata": {},
   "outputs": [],
   "source": [
    "x = 10 < 9"
   ]
  },
  {
   "cell_type": "code",
   "execution_count": 19,
   "id": "2d3e88d8",
   "metadata": {},
   "outputs": [
    {
     "data": {
      "text/plain": [
       "False"
      ]
     },
     "execution_count": 19,
     "metadata": {},
     "output_type": "execute_result"
    }
   ],
   "source": [
    "x"
   ]
  },
  {
   "cell_type": "code",
   "execution_count": 20,
   "id": "ec8506db",
   "metadata": {},
   "outputs": [],
   "source": [
    "name = 'Oliver'"
   ]
  },
  {
   "cell_type": "code",
   "execution_count": 21,
   "id": "f3f58631",
   "metadata": {},
   "outputs": [
    {
     "data": {
      "text/plain": [
       "'Oliver'"
      ]
     },
     "execution_count": 21,
     "metadata": {},
     "output_type": "execute_result"
    }
   ],
   "source": [
    "name"
   ]
  },
  {
   "cell_type": "code",
   "execution_count": 22,
   "id": "9ca4f8cf",
   "metadata": {},
   "outputs": [
    {
     "name": "stdout",
     "output_type": "stream",
     "text": [
      "Oliver\n"
     ]
    }
   ],
   "source": [
    "print(name)"
   ]
  },
  {
   "cell_type": "code",
   "execution_count": 23,
   "id": "b5058a34",
   "metadata": {},
   "outputs": [
    {
     "data": {
      "text/plain": [
       "10"
      ]
     },
     "execution_count": 23,
     "metadata": {},
     "output_type": "execute_result"
    }
   ],
   "source": [
    "x = 10\n",
    "x"
   ]
  },
  {
   "cell_type": "code",
   "execution_count": 24,
   "id": "a34a8d64",
   "metadata": {},
   "outputs": [
    {
     "name": "stdout",
     "output_type": "stream",
     "text": [
      "10\n"
     ]
    }
   ],
   "source": [
    "x = 10\n",
    "print(x)"
   ]
  },
  {
   "cell_type": "code",
   "execution_count": 25,
   "id": "2c2b317c",
   "metadata": {},
   "outputs": [
    {
     "data": {
      "text/plain": [
       "False"
      ]
     },
     "execution_count": 25,
     "metadata": {},
     "output_type": "execute_result"
    }
   ],
   "source": [
    "x = 20 == 90\n",
    "x"
   ]
  },
  {
   "cell_type": "code",
   "execution_count": 26,
   "id": "52de97a9",
   "metadata": {},
   "outputs": [
    {
     "name": "stdout",
     "output_type": "stream",
     "text": [
      "False\n"
     ]
    }
   ],
   "source": [
    "x = 20 == 90\n",
    "print(x)"
   ]
  },
  {
   "cell_type": "code",
   "execution_count": 27,
   "id": "e4600ee4",
   "metadata": {},
   "outputs": [
    {
     "name": "stdout",
     "output_type": "stream",
     "text": [
      "www\n"
     ]
    }
   ],
   "source": [
    "cv = 'www'\n",
    "\n",
    "print(cv)"
   ]
  },
  {
   "cell_type": "code",
   "execution_count": 28,
   "id": "caf5e408",
   "metadata": {},
   "outputs": [
    {
     "name": "stdout",
     "output_type": "stream",
     "text": [
      "False\n"
     ]
    }
   ],
   "source": [
    "x = (20 == 10) ## est ce que 20 equal 10 ?\n",
    "print(x)"
   ]
  },
  {
   "cell_type": "code",
   "execution_count": 30,
   "id": "d838cbf5",
   "metadata": {},
   "outputs": [
    {
     "name": "stdout",
     "output_type": "stream",
     "text": [
      "Merci Abidjan\n"
     ]
    }
   ],
   "source": [
    "if (20 == 20):\n",
    "    print('Merci Abidjan')"
   ]
  },
  {
   "cell_type": "code",
   "execution_count": 31,
   "id": "085cc521",
   "metadata": {},
   "outputs": [
    {
     "name": "stdout",
     "output_type": "stream",
     "text": [
      "Welcome to Gomycode\n"
     ]
    }
   ],
   "source": [
    "x = 'gomycode'\n",
    "y = 'gomycode'\n",
    "if x == y:\n",
    "    print('Welcome to Gomycode')"
   ]
  },
  {
   "cell_type": "code",
   "execution_count": 36,
   "id": "207c3ab5",
   "metadata": {},
   "outputs": [
    {
     "name": "stdout",
     "output_type": "stream",
     "text": [
      "is a positive number.\n",
      "This is always printed. merci\n"
     ]
    }
   ],
   "source": [
    "\n",
    "num = 3\n",
    "if num >0:\n",
    "    print(\"is a positive number.\") # what will be the output of this Q?\n",
    "    \n",
    "    \n",
    "print(\"This is always printed. merci\")"
   ]
  },
  {
   "cell_type": "code",
   "execution_count": 39,
   "id": "b3e7bccb",
   "metadata": {},
   "outputs": [
    {
     "name": "stdout",
     "output_type": "stream",
     "text": [
      "-3 is negative number\n",
      "This is always printed. merci\n"
     ]
    }
   ],
   "source": [
    "\n",
    "num = -3\n",
    "if num >0:\n",
    "    print(num,\"is a positive number.\") # what will be the output of this Q?\n",
    "    \n",
    "else:\n",
    "    print(num,'is negative number')\n",
    "    \n",
    "    \n",
    "print(\"This is always printed. merci\")"
   ]
  },
  {
   "cell_type": "markdown",
   "id": "8d835a0c",
   "metadata": {},
   "source": [
    "Python If-else Condition\n",
    "The if-else clause evaluates the condition and will execute the statement only when the test condition is True.\n",
    "If the condition is False, the else statement is executed."
   ]
  },
  {
   "cell_type": "code",
   "execution_count": 41,
   "id": "2c9ed58d",
   "metadata": {},
   "outputs": [
    {
     "name": "stdout",
     "output_type": "stream",
     "text": [
      "3 Positive or Zero\n"
     ]
    }
   ],
   "source": [
    "my_number = 3\n",
    "\n",
    "if my_number >= 0: \n",
    "    print(my_number,\"Positive or Zero\")  # the indentation is essential to separate the blocks.\n",
    "else:\n",
    "    print(\"Negative number\")"
   ]
  },
  {
   "cell_type": "code",
   "execution_count": null,
   "id": "8a1de79e",
   "metadata": {},
   "outputs": [],
   "source": [
    "my_number = 3\n",
    "\n",
    "if my_number >= -1: \n",
    "    print(\"Positive or Zero\")  # the indentation is essential to separate the blocks.\n",
    "else:\n",
    "    print(\"Negative number\")"
   ]
  },
  {
   "cell_type": "code",
   "execution_count": 44,
   "id": "59682d86",
   "metadata": {},
   "outputs": [
    {
     "name": "stdout",
     "output_type": "stream",
     "text": [
      "True x is True\n"
     ]
    }
   ],
   "source": [
    "x = (2>5) == (3==6)\n",
    "   # False  ==  # False\n",
    "if x :\n",
    "    print(x,'x is True')\n",
    "else:\n",
    "    print('x is not True')"
   ]
  },
  {
   "cell_type": "code",
   "execution_count": null,
   "id": "21b82c06",
   "metadata": {},
   "outputs": [],
   "source": [
    "x = (2>5) == (3==6)\n",
    "   # False  ==  # False\n",
    "if x == True :\n",
    "    print(x,'x is True')\n",
    "else:\n",
    "    print('x is not True')"
   ]
  },
  {
   "cell_type": "code",
   "execution_count": 45,
   "id": "73f51aea",
   "metadata": {},
   "outputs": [
    {
     "name": "stdout",
     "output_type": "stream",
     "text": [
      "x is not True\n"
     ]
    }
   ],
   "source": [
    "x = (2>5) != (3==6)\n",
    "   # False  ==  # False\n",
    "if x:\n",
    "    print(x,'x is True')\n",
    "else:\n",
    "    print('x is not True')"
   ]
  },
  {
   "cell_type": "code",
   "execution_count": null,
   "id": "d88d58dd",
   "metadata": {},
   "outputs": [],
   "source": []
  },
  {
   "cell_type": "code",
   "execution_count": null,
   "id": "bb74eed4",
   "metadata": {},
   "outputs": [],
   "source": []
  },
  {
   "cell_type": "code",
   "execution_count": null,
   "id": "c01a0c4b",
   "metadata": {},
   "outputs": [],
   "source": []
  },
  {
   "cell_type": "code",
   "execution_count": null,
   "id": "159dc491",
   "metadata": {},
   "outputs": [],
   "source": []
  }
 ],
 "metadata": {
  "kernelspec": {
   "display_name": "Python 3 (ipykernel)",
   "language": "python",
   "name": "python3"
  },
  "language_info": {
   "codemirror_mode": {
    "name": "ipython",
    "version": 3
   },
   "file_extension": ".py",
   "mimetype": "text/x-python",
   "name": "python",
   "nbconvert_exporter": "python",
   "pygments_lexer": "ipython3",
   "version": "3.9.7"
  }
 },
 "nbformat": 4,
 "nbformat_minor": 5
}
