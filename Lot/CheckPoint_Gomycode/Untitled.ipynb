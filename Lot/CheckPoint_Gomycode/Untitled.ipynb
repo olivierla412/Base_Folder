{
 "cells": [
  {
   "cell_type": "markdown",
   "id": "4c271889",
   "metadata": {},
   "source": [
    "### Saturday   12/11/2022 \n",
    "\n",
    "\n",
    "\n",
    "\n",
    "\n"
   ]
  },
  {
   "cell_type": "code",
   "execution_count": 1,
   "id": "fafdd036",
   "metadata": {},
   "outputs": [
    {
     "ename": "ValueError",
     "evalue": "could not convert string to float: 'Oliver'",
     "output_type": "error",
     "traceback": [
      "\u001b[0;31m---------------------------------------------------------------------------\u001b[0m",
      "\u001b[0;31mValueError\u001b[0m                                Traceback (most recent call last)",
      "\u001b[0;32m/var/folders/_1/66lm052n7y529trsmgljqf1h0000gn/T/ipykernel_8151/439365277.py\u001b[0m in \u001b[0;36m<module>\u001b[0;34m\u001b[0m\n\u001b[1;32m      1\u001b[0m \u001b[0mname\u001b[0m \u001b[0;34m=\u001b[0m \u001b[0;34m'Oliver'\u001b[0m\u001b[0;34m\u001b[0m\u001b[0;34m\u001b[0m\u001b[0m\n\u001b[0;32m----> 2\u001b[0;31m \u001b[0mnumber\u001b[0m \u001b[0;34m=\u001b[0m \u001b[0mfloat\u001b[0m\u001b[0;34m(\u001b[0m\u001b[0mname\u001b[0m\u001b[0;34m)\u001b[0m\u001b[0;34m\u001b[0m\u001b[0;34m\u001b[0m\u001b[0m\n\u001b[0m",
      "\u001b[0;31mValueError\u001b[0m: could not convert string to float: 'Oliver'"
     ]
    }
   ],
   "source": [
    "name = 'Oliver'\n",
    "number = float(name)"
   ]
  },
  {
   "cell_type": "code",
   "execution_count": 2,
   "id": "1f45ca22",
   "metadata": {},
   "outputs": [
    {
     "name": "stdout",
     "output_type": "stream",
     "text": [
      "200.0\n"
     ]
    }
   ],
   "source": [
    "number = 200\n",
    "\n",
    "## convert  number   into float type\n",
    "\n",
    "my_float_number = float(number)\n",
    "print(my_float_number)"
   ]
  },
  {
   "cell_type": "code",
   "execution_count": 3,
   "id": "65444868",
   "metadata": {},
   "outputs": [
    {
     "name": "stdout",
     "output_type": "stream",
     "text": [
      "<class 'int'>\n"
     ]
    }
   ],
   "source": [
    "print(type(number))"
   ]
  },
  {
   "cell_type": "code",
   "execution_count": 4,
   "id": "a225c292",
   "metadata": {},
   "outputs": [
    {
     "name": "stdout",
     "output_type": "stream",
     "text": [
      "<class 'float'>\n"
     ]
    }
   ],
   "source": [
    "print(type(my_float_number))"
   ]
  },
  {
   "cell_type": "code",
   "execution_count": 7,
   "id": "109c341c",
   "metadata": {},
   "outputs": [
    {
     "data": {
      "text/plain": [
       "5.0"
      ]
     },
     "execution_count": 7,
     "metadata": {},
     "output_type": "execute_result"
    }
   ],
   "source": [
    "float(5) #conversion from integer to float"
   ]
  },
  {
   "cell_type": "code",
   "execution_count": 8,
   "id": "cb8c1b08",
   "metadata": {},
   "outputs": [
    {
     "data": {
      "text/plain": [
       "2.5"
      ]
     },
     "execution_count": 8,
     "metadata": {},
     "output_type": "execute_result"
    }
   ],
   "source": [
    "float(\"2.5\") #conversion from string to float"
   ]
  },
  {
   "cell_type": "code",
   "execution_count": 9,
   "id": "beb6b546",
   "metadata": {},
   "outputs": [
    {
     "data": {
      "text/plain": [
       "'25'"
      ]
     },
     "execution_count": 9,
     "metadata": {},
     "output_type": "execute_result"
    }
   ],
   "source": [
    "\n",
    "\n",
    "str(25) #conversion from integer to string"
   ]
  },
  {
   "cell_type": "code",
   "execution_count": 6,
   "id": "e647d36f",
   "metadata": {},
   "outputs": [
    {
     "data": {
      "text/plain": [
       "2"
      ]
     },
     "execution_count": 6,
     "metadata": {},
     "output_type": "execute_result"
    }
   ],
   "source": [
    "\n",
    "\n",
    "int(\"2\") #conversion impossible, string must contain compatible values"
   ]
  },
  {
   "cell_type": "code",
   "execution_count": null,
   "id": "85a02c6f",
   "metadata": {},
   "outputs": [],
   "source": [
    "\" \""
   ]
  },
  {
   "cell_type": "code",
   "execution_count": null,
   "id": "1389e62c",
   "metadata": {},
   "outputs": [],
   "source": [
    "''"
   ]
  },
  {
   "cell_type": "code",
   "execution_count": 10,
   "id": "a12e78c4",
   "metadata": {},
   "outputs": [],
   "source": [
    "name = 'Oliver'"
   ]
  },
  {
   "cell_type": "code",
   "execution_count": 11,
   "id": "34b6b320",
   "metadata": {},
   "outputs": [
    {
     "data": {
      "text/plain": [
       "str"
      ]
     },
     "execution_count": 11,
     "metadata": {},
     "output_type": "execute_result"
    }
   ],
   "source": [
    "type(name)"
   ]
  },
  {
   "cell_type": "code",
   "execution_count": 12,
   "id": "1e58b940",
   "metadata": {},
   "outputs": [
    {
     "name": "stdout",
     "output_type": "stream",
     "text": [
      "OLIVER\n"
     ]
    }
   ],
   "source": [
    "print(name.upper())"
   ]
  },
  {
   "cell_type": "code",
   "execution_count": 13,
   "id": "7178c043",
   "metadata": {},
   "outputs": [],
   "source": [
    "x = True\n",
    "y = False"
   ]
  },
  {
   "cell_type": "code",
   "execution_count": 17,
   "id": "2194b797",
   "metadata": {},
   "outputs": [
    {
     "data": {
      "text/plain": [
       "True"
      ]
     },
     "execution_count": 17,
     "metadata": {},
     "output_type": "execute_result"
    }
   ],
   "source": [
    "y = (10 > 9) #\n",
    "y\n"
   ]
  },
  {
   "cell_type": "code",
   "execution_count": 18,
   "id": "833524ec",
   "metadata": {},
   "outputs": [],
   "source": [
    "x = 10 < 9"
   ]
  },
  {
   "cell_type": "code",
   "execution_count": 19,
   "id": "f07cde6a",
   "metadata": {},
   "outputs": [
    {
     "data": {
      "text/plain": [
       "False"
      ]
     },
     "execution_count": 19,
     "metadata": {},
     "output_type": "execute_result"
    }
   ],
   "source": [
    "x"
   ]
  },
  {
   "cell_type": "code",
   "execution_count": 20,
   "id": "65540bac",
   "metadata": {},
   "outputs": [],
   "source": [
    "name = 'Oliver'"
   ]
  },
  {
   "cell_type": "code",
   "execution_count": 21,
   "id": "c39e5cf7",
   "metadata": {},
   "outputs": [
    {
     "data": {
      "text/plain": [
       "'Oliver'"
      ]
     },
     "execution_count": 21,
     "metadata": {},
     "output_type": "execute_result"
    }
   ],
   "source": [
    "name"
   ]
  },
  {
   "cell_type": "code",
   "execution_count": 22,
   "id": "f6da1b6f",
   "metadata": {},
   "outputs": [
    {
     "name": "stdout",
     "output_type": "stream",
     "text": [
      "Oliver\n"
     ]
    }
   ],
   "source": [
    "print(name)"
   ]
  },
  {
   "cell_type": "code",
   "execution_count": 23,
   "id": "dcde79e3",
   "metadata": {},
   "outputs": [
    {
     "data": {
      "text/plain": [
       "10"
      ]
     },
     "execution_count": 23,
     "metadata": {},
     "output_type": "execute_result"
    }
   ],
   "source": [
    "x = 10\n",
    "x"
   ]
  },
  {
   "cell_type": "code",
   "execution_count": 24,
   "id": "68e6982b",
   "metadata": {},
   "outputs": [
    {
     "name": "stdout",
     "output_type": "stream",
     "text": [
      "10\n"
     ]
    }
   ],
   "source": [
    "x = 10\n",
    "print(x)"
   ]
  },
  {
   "cell_type": "code",
   "execution_count": 25,
   "id": "532e48c0",
   "metadata": {},
   "outputs": [
    {
     "data": {
      "text/plain": [
       "False"
      ]
     },
     "execution_count": 25,
     "metadata": {},
     "output_type": "execute_result"
    }
   ],
   "source": [
    "x = 20 == 90\n",
    "x"
   ]
  },
  {
   "cell_type": "code",
   "execution_count": 26,
   "id": "fadde05f",
   "metadata": {},
   "outputs": [
    {
     "name": "stdout",
     "output_type": "stream",
     "text": [
      "False\n"
     ]
    }
   ],
   "source": [
    "x = 20 == 90\n",
    "print(x)"
   ]
  },
  {
   "cell_type": "code",
   "execution_count": 27,
   "id": "03887638",
   "metadata": {},
   "outputs": [
    {
     "name": "stdout",
     "output_type": "stream",
     "text": [
      "www\n"
     ]
    }
   ],
   "source": [
    "cv = 'www'\n",
    "\n",
    "print(cv)"
   ]
  },
  {
   "cell_type": "code",
   "execution_count": 28,
   "id": "4f4d6bab",
   "metadata": {},
   "outputs": [
    {
     "name": "stdout",
     "output_type": "stream",
     "text": [
      "False\n"
     ]
    }
   ],
   "source": [
    "x = (20 == 10) ## est ce que 20 equal 10 ?\n",
    "print(x)"
   ]
  },
  {
   "cell_type": "code",
   "execution_count": 30,
   "id": "dcd17a34",
   "metadata": {},
   "outputs": [
    {
     "name": "stdout",
     "output_type": "stream",
     "text": [
      "Merci Abidjan\n"
     ]
    }
   ],
   "source": [
    "if (20 == 20):\n",
    "    print('Merci Abidjan')"
   ]
  },
  {
   "cell_type": "code",
   "execution_count": 31,
   "id": "397bc52d",
   "metadata": {},
   "outputs": [
    {
     "name": "stdout",
     "output_type": "stream",
     "text": [
      "Welcome to Gomycode\n"
     ]
    }
   ],
   "source": [
    "x = 'gomycode'\n",
    "y = 'gomycode'\n",
    "if x == y:\n",
    "    print('Welcome to Gomycode')"
   ]
  },
  {
   "cell_type": "code",
   "execution_count": 36,
   "id": "900208f7",
   "metadata": {},
   "outputs": [
    {
     "name": "stdout",
     "output_type": "stream",
     "text": [
      "is a positive number.\n",
      "This is always printed. merci\n"
     ]
    }
   ],
   "source": [
    "\n",
    "num = 3\n",
    "if num >0:\n",
    "    print(\"is a positive number.\") # what will be the output of this Q?\n",
    "    \n",
    "    \n",
    "print(\"This is always printed. merci\")"
   ]
  },
  {
   "cell_type": "code",
   "execution_count": 39,
   "id": "7409c44a",
   "metadata": {},
   "outputs": [
    {
     "name": "stdout",
     "output_type": "stream",
     "text": [
      "-3 is negative number\n",
      "This is always printed. merci\n"
     ]
    }
   ],
   "source": [
    "\n",
    "num = -3\n",
    "if num >0:\n",
    "    print(num,\"is a positive number.\") # what will be the output of this Q?\n",
    "    \n",
    "else:\n",
    "    print(num,'is negative number')\n",
    "    \n",
    "    \n",
    "print(\"This is always printed. merci\")"
   ]
  },
  {
   "cell_type": "markdown",
   "id": "85741646",
   "metadata": {},
   "source": [
    "Python If-else Condition\n",
    "The if-else clause evaluates the condition and will execute the statement only when the test condition is True.\n",
    "If the condition is False, the else statement is executed."
   ]
  },
  {
   "cell_type": "code",
   "execution_count": 41,
   "id": "bcde15d4",
   "metadata": {},
   "outputs": [
    {
     "name": "stdout",
     "output_type": "stream",
     "text": [
      "3 Positive or Zero\n"
     ]
    }
   ],
   "source": [
    "my_number = 3\n",
    "\n",
    "if my_number >= 0: \n",
    "    print(my_number,\"Positive or Zero\")  # the indentation is essential to separate the blocks.\n",
    "else:\n",
    "    print(\"Negative number\")"
   ]
  },
  {
   "cell_type": "code",
   "execution_count": null,
   "id": "2550b030",
   "metadata": {},
   "outputs": [],
   "source": [
    "my_number = 3\n",
    "\n",
    "if my_number >= -1: \n",
    "    print(\"Positive or Zero\")  # the indentation is essential to separate the blocks.\n",
    "else:\n",
    "    print(\"Negative number\")"
   ]
  },
  {
   "cell_type": "code",
   "execution_count": 44,
   "id": "64c0248a",
   "metadata": {},
   "outputs": [
    {
     "name": "stdout",
     "output_type": "stream",
     "text": [
      "True x is True\n"
     ]
    }
   ],
   "source": [
    "x = (2>5) == (3==6)\n",
    "   # False  ==  # False\n",
    "if x :\n",
    "    print(x,'x is True')\n",
    "else:\n",
    "    print('x is not True')"
   ]
  },
  {
   "cell_type": "code",
   "execution_count": null,
   "id": "6543ba83",
   "metadata": {},
   "outputs": [],
   "source": [
    "x = (2>5) == (3==6)\n",
    "   # False  ==  # False\n",
    "if x == True :\n",
    "    print(x,'x is True')\n",
    "else:\n",
    "    print('x is not True')"
   ]
  },
  {
   "cell_type": "code",
   "execution_count": 45,
   "id": "7aeb82cc",
   "metadata": {},
   "outputs": [
    {
     "name": "stdout",
     "output_type": "stream",
     "text": [
      "x is not True\n"
     ]
    }
   ],
   "source": [
    "x = (2>5) != (3==6)\n",
    "   # False  ==  # False\n",
    "if x:\n",
    "    print(x,'x is True')\n",
    "else:\n",
    "    print('x is not True')"
   ]
  },
  {
   "cell_type": "code",
   "execution_count": 47,
   "id": "9c76c45b",
   "metadata": {},
   "outputs": [
    {
     "name": "stdout",
     "output_type": "stream",
     "text": [
      "X is equal to 10\n"
     ]
    }
   ],
   "source": [
    "x=10\n",
    "\n",
    "if x==1:\n",
    "      print('X is equal to 1') ## NO NO \n",
    "elif x==5:\n",
    "      print('X is equal to 5') # NO NO \n",
    "elif x==10:\n",
    "      print('X is equal to 10') # YES YES \n",
    "else: \n",
    "      print('X =', x) ## NO NO \n",
    "        "
   ]
  },
  {
   "cell_type": "markdown",
   "id": "105684c9",
   "metadata": {},
   "source": [
    "## What's the output of the following code?"
   ]
  },
  {
   "cell_type": "code",
   "execution_count": null,
   "id": "ddb85d6e",
   "metadata": {},
   "outputs": [],
   "source": []
  },
  {
   "cell_type": "code",
   "execution_count": 48,
   "id": "ab5ab930",
   "metadata": {},
   "outputs": [
    {
     "name": "stdout",
     "output_type": "stream",
     "text": [
      "Good evening\n"
     ]
    }
   ],
   "source": [
    "x=19\n",
    "\n",
    "if x < 10:\n",
    "    print (\"Good morning\")\n",
    "elif x<12: \n",
    "    print (\"Soon time for lunch\")\n",
    "\n",
    "elif x<18: \n",
    "    print (\"Good day\")\n",
    "\n",
    "elif x<22: \n",
    "    print (\"Good evening\")\n",
    "\n",
    "else: \n",
    "    print (\"Good night\")\n",
    "         "
   ]
  },
  {
   "cell_type": "code",
   "execution_count": 49,
   "id": "44879106",
   "metadata": {},
   "outputs": [
    {
     "name": "stdout",
     "output_type": "stream",
     "text": [
      "<class 'list'>\n"
     ]
    }
   ],
   "source": [
    "numbers = [6, 5, 3, 8, 4, 2, 5, 4, 11]\n",
    "print(type(numbers))"
   ]
  },
  {
   "cell_type": "code",
   "execution_count": 51,
   "id": "1f8b65fb",
   "metadata": {},
   "outputs": [
    {
     "name": "stdout",
     "output_type": "stream",
     "text": [
      "6\n",
      "5\n",
      "3\n",
      "8\n",
      "4\n",
      "2\n",
      "5\n",
      "4\n",
      "11\n",
      "the for ends here\n"
     ]
    }
   ],
   "source": [
    "numbers = [6, 5, 3, 8, 4, 2, 5, 4, 11]\n",
    "\n",
    "for val in numbers: # iterate over the list\n",
    "    print(val)  \n",
    "    \n",
    "print(\"the for ends here\")    "
   ]
  },
  {
   "cell_type": "code",
   "execution_count": 52,
   "id": "dce10bd3",
   "metadata": {},
   "outputs": [
    {
     "name": "stdout",
     "output_type": "stream",
     "text": [
      "6\n",
      "5\n",
      "3\n",
      "8\n"
     ]
    }
   ],
   "source": [
    "numbers = [6, 5, 3, 8, 4, 2, 5, 4, 11]\n",
    "\n",
    "## break\n",
    "\n",
    "for val in numbers: # iterate over the list\n",
    "    print(val)\n",
    "    if  val==8:\n",
    "        break\n",
    "    \n"
   ]
  },
  {
   "cell_type": "code",
   "execution_count": 53,
   "id": "86dfb432",
   "metadata": {},
   "outputs": [
    {
     "name": "stdout",
     "output_type": "stream",
     "text": [
      "6\n",
      "5\n",
      "3\n"
     ]
    }
   ],
   "source": [
    "numbers = [6, 5, 3, 8, 4, 2, 5, 4, 11]\n",
    "\n",
    "## break \n",
    "\n",
    "for val in numbers: # iterate over the list\n",
    "    if  val==8:\n",
    "        break\n",
    "    print(val)   "
   ]
  },
  {
   "cell_type": "code",
   "execution_count": 54,
   "id": "aaab3efd",
   "metadata": {},
   "outputs": [
    {
     "name": "stdout",
     "output_type": "stream",
     "text": [
      "6\n",
      "5\n",
      "3\n",
      "4\n",
      "2\n",
      "5\n",
      "4\n",
      "11\n"
     ]
    }
   ],
   "source": [
    "numbers = [6, 5, 3, 8, 4, 2, 5, 4, 11]\n",
    "\n",
    "## contunue\n",
    "\n",
    "for val in numbers: # iterate over the list\n",
    "    \n",
    "    if  val==8:\n",
    "        continue\n",
    "    print(val)"
   ]
  },
  {
   "cell_type": "code",
   "execution_count": 55,
   "id": "c69b0ca9",
   "metadata": {},
   "outputs": [
    {
     "name": "stdout",
     "output_type": "stream",
     "text": [
      "6\n",
      "5\n",
      "3\n",
      "4\n",
      "5\n",
      "4\n",
      "11\n"
     ]
    }
   ],
   "source": [
    "numbers = [6, 5, 3, 8, 4, 2, 5, 4, 11]\n",
    "\n",
    "## contunue\n",
    "\n",
    "for val in numbers: # iterate over the list\n",
    "    \n",
    "    if  val==8 or val ==2 :\n",
    "        continue\n",
    "    print(val)"
   ]
  },
  {
   "cell_type": "code",
   "execution_count": 56,
   "id": "426d1c22",
   "metadata": {},
   "outputs": [],
   "source": [
    "# range(start, end, step)\n",
    "\n",
    "numbers  = [x for x in range(0,10,1) ]  "
   ]
  },
  {
   "cell_type": "code",
   "execution_count": 57,
   "id": "e7846c39",
   "metadata": {},
   "outputs": [
    {
     "data": {
      "text/plain": [
       "[0, 1, 2, 3, 4, 5, 6, 7, 8, 9]"
      ]
     },
     "execution_count": 57,
     "metadata": {},
     "output_type": "execute_result"
    }
   ],
   "source": [
    "numbers"
   ]
  },
  {
   "cell_type": "code",
   "execution_count": 60,
   "id": "365b5bdb",
   "metadata": {},
   "outputs": [
    {
     "name": "stdout",
     "output_type": "stream",
     "text": [
      "[0, 1, 2, 3, 4, 5, 6, 7, 8, 9]\n"
     ]
    }
   ],
   "source": [
    "empty_list = []\n",
    "for x in range(0,10,1):\n",
    "    empty_list.append(x)\n",
    "print(empty_list)"
   ]
  },
  {
   "cell_type": "markdown",
   "id": "408d0dcf",
   "metadata": {},
   "source": [
    "## Python While Loop"
   ]
  },
  {
   "cell_type": "markdown",
   "id": "ff68f049",
   "metadata": {},
   "source": [
    "\n",
    "The while loop in Python is used to iterate over a block of code as long as the test expression (condition) is True.\n",
    "\n"
   ]
  },
  {
   "cell_type": "code",
   "execution_count": 66,
   "id": "6f1e9398",
   "metadata": {},
   "outputs": [
    {
     "name": "stdout",
     "output_type": "stream",
     "text": [
      "The sum is 55\n"
     ]
    }
   ],
   "source": [
    "my_sum = 0 ## Initial value\n",
    "\n",
    "i = 1 # initialize sum and counter\n",
    "n = 10\n",
    "\n",
    "while i <= n:\n",
    "    \n",
    "    my_sum = my_sum + i\n",
    "    \n",
    "    i= i+1    # update counter i = 1 , i =2\n",
    "\n",
    "print(\"The sum is\", my_sum) # print the sum\n",
    "\n"
   ]
  },
  {
   "cell_type": "code",
   "execution_count": 69,
   "id": "e3b858e2",
   "metadata": {},
   "outputs": [
    {
     "name": "stdout",
     "output_type": "stream",
     "text": [
      "Gomycode!\n",
      "Gomycode!\n",
      "Gomycode!\n",
      "Gomycode!\n",
      "Gomycode!\n"
     ]
    }
   ],
   "source": [
    "i = 0\n",
    "while i < 5:\n",
    "    print('Gomycode!')\n",
    "    i=i+1"
   ]
  },
  {
   "cell_type": "code",
   "execution_count": 72,
   "id": "4bc09fc5",
   "metadata": {},
   "outputs": [
    {
     "name": "stdout",
     "output_type": "stream",
     "text": [
      "Gomycode! 0\n",
      "Gomycode! 1\n",
      "Gomycode! 2\n",
      "Gomycode! 3\n",
      "Gomycode! 4\n",
      "Gomycode! 5\n",
      "Gomycode! 6\n",
      "Gomycode! 7\n",
      "Gomycode! 8\n",
      "Gomycode! 9\n",
      "Gomycode! 10\n"
     ]
    }
   ],
   "source": [
    "i = 0\n",
    "while i < 10:\n",
    "    print('Gomycode!',i)\n",
    "    i+=1 ### shotcut i+=1"
   ]
  },
  {
   "cell_type": "code",
   "execution_count": 73,
   "id": "aeed8676",
   "metadata": {},
   "outputs": [
    {
     "name": "stdout",
     "output_type": "stream",
     "text": [
      "Gomycode! 0\n",
      "Gomycode! 1\n",
      "Gomycode! 2\n",
      "Gomycode! 3\n",
      "Gomycode! 4\n",
      "Gomycode! 5\n",
      "Gomycode! 6\n",
      "Gomycode! 7\n",
      "Gomycode! 8\n",
      "Gomycode! 9\n",
      "Gomycode! 10\n"
     ]
    }
   ],
   "source": [
    "i = 0\n",
    "while i < 10+1:\n",
    "    print('Gomycode!',i)\n",
    "    i+=1 ### shotcut i+=1"
   ]
  },
  {
   "cell_type": "code",
   "execution_count": 74,
   "id": "28c14af4",
   "metadata": {},
   "outputs": [
    {
     "name": "stdout",
     "output_type": "stream",
     "text": [
      "Gomycode! 0\n",
      "Gomycode! 1\n",
      "Gomycode! 2\n",
      "Gomycode! 3\n",
      "Gomycode! 4\n",
      "Gomycode! 5\n",
      "Gomycode! 6\n",
      "Gomycode! 7\n",
      "Gomycode! 8\n",
      "Gomycode! 9\n",
      "Gomycode! 10\n"
     ]
    }
   ],
   "source": [
    "i = 0\n",
    "while i < 11:\n",
    "    print('Gomycode!',i)\n",
    "    i+=1 ### shotcut i+=1"
   ]
  },
  {
   "cell_type": "code",
   "execution_count": null,
   "id": "6eb7e52f",
   "metadata": {},
   "outputs": [],
   "source": []
  },
  {
   "cell_type": "markdown",
   "id": "4877827d",
   "metadata": {},
   "source": [
    "Objective\n",
    "Learn, practice & have fun!\n",
    "\n",
    "Question 1\n",
    "\n",
    "Write a Python program that accepts the user's first and last name, and prints them in reverse order with a space between them.\n",
    "\n",
    "Question 2\n",
    "\n",
    "Write a Python program that accepts an integer (n) and computes the value of n+nn+nnn.\n",
    "\n",
    "The sample value of n is 5.\n",
    "\n",
    "Expected Result: 615 (5+55+555)\n",
    "\n",
    "Question 3\n",
    "\n",
    "Write a Python program to find whether a given number (accept from the user) is even or odd, and print out an appropriate message to the user.\n",
    "\n",
    "Question 4\n",
    "\n",
    "Write a program which will find all such numbers which are divisible by 7 but are not a multiple of 5, between 2000 and 3200 (both included). The numbers obtained should be printed in a sequence on a single line.\n",
    "\n",
    "Hints: Consider use range(#begin, #end) method \n",
    "\n",
    " \n",
    "\n",
    "Question 5\n",
    "\n",
    "Write a program that can compute the factorial of a given number. The results should be printed in a sequence on a single line. Suppose the following input is supplied to the program: 8. Then, the output should be: 40320 \n",
    "\n",
    "Hint: The factorial function (symbol: !) multiplies all whole numbers from our chosen number down to 1. Examples: \n",
    "\n",
    "4! = 4 × 3 × 2 × 1\n",
    "\n",
    "8! = 8 × 7 × 6 × 5 × 4 × 3 × 2 × 1\n",
    "\n",
    "1! = 1\n",
    "\n",
    "0! = 1 (by convention)\n",
    "\n",
    "Question 6\n",
    "\n",
    "Write a program to remove the characters which have odd index values of a given string.\n",
    "\n",
    "For example: string =\"hello team\"\n",
    "\n",
    "The result should be: hlota\n",
    "\n",
    "Question 7\n",
    "\n",
    "In this challenge, you must discount a price according to its value.\n",
    "\n",
    "- If the price is 500 or above, there will be a 50% discount.\n",
    "\n",
    "- If the price is between 200 and 500 (200 inclusive), there will be a 30% discount.\n",
    "\n",
    "- If the price is less than 200, there will be a 10% discount.\n",
    "\n"
   ]
  },
  {
   "cell_type": "code",
   "execution_count": null,
   "id": "96fe0e09",
   "metadata": {},
   "outputs": [],
   "source": []
  }
 ],
 "metadata": {
  "kernelspec": {
   "display_name": "Python 3 (ipykernel)",
   "language": "python",
   "name": "python3"
  },
  "language_info": {
   "codemirror_mode": {
    "name": "ipython",
    "version": 3
   },
   "file_extension": ".py",
   "mimetype": "text/x-python",
   "name": "python",
   "nbconvert_exporter": "python",
   "pygments_lexer": "ipython3",
   "version": "3.9.7"
  }
 },
 "nbformat": 4,
 "nbformat_minor": 5
}
