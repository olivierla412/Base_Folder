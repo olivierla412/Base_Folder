{
 "cells": [
  {
   "cell_type": "code",
   "execution_count": 1,
   "id": "a3babfa9",
   "metadata": {},
   "outputs": [],
   "source": [
    "## Importing the libraries\n",
    "import pandas as pd\n",
    "import selenium\n",
    "from selenium import webdriver\n",
    "import time\n",
    "from selenium.common.exceptions import StaleElementReferenceException,NoSuchElementException\n",
    "from tqdm import tqdm\n",
    "import time\n",
    "\n",
    "time.sleep(2)\n",
    "## open a new driver\n",
    "\n",
    "driver = webdriver.Chrome('/Users/oliverla412/Desktop/chromedriver 2')\n",
    "time.sleep(3)\n",
    "\n",
    "url = 'https://lonaci.net/produits/loto_bonheur/resultats'\n",
    " \n",
    "driver.get(url)\n",
    "time.sleep(2)\n",
    "driver.maximize_window()\n",
    "time.sleep(3)\n",
    "date = driver.find_elements_by_xpath('//small[@class=\"loto-date\"]')\n",
    "\n",
    "Date_list =[]\n",
    "for x in date:\n",
    "    Date_list.append(x.text)\n",
    "\n",
    "    \n",
    "    \n",
    "first_no = driver.find_elements_by_xpath('//span[@class=\"loto-first-number\"]')\n",
    "First_no = []\n",
    "for x in first_no:\n",
    "    First_no.append(x.text)   \n",
    "\n",
    "type_of_game = driver.find_elements_by_xpath('//h3[@class=\"loto-second-title\"]')\n",
    "Type_of_game = []\n",
    "for x in type_of_game:\n",
    "    Type_of_game.append(x.text) \n",
    "     \n",
    "lotto_no = driver.find_elements_by_xpath('//span[@class=\"loto-number\"]')\n",
    "Lotto_no= []\n",
    "for x in lotto_no:\n",
    "    Lotto_no.append(x.text)\n",
    "    \n",
    "Lotto_nos = Lotto_no[:48] \n",
    "\n",
    "lott_no2 = []\n",
    "lott_no3 = []\n",
    "lott_no4 = []\n",
    "lott_no5 = []\n",
    "\n",
    "for x in range(0,len(Lotto_nos),4):\n",
    "    lott_no2.append(Lotto_nos[x])\n",
    "    lott_no3.append(Lotto_nos[x + 1])\n",
    "    lott_no4.append(Lotto_nos[x + 2])\n",
    "    lott_no5.append(Lotto_nos[x + 3])\n",
    "    \n",
    "import pandas as pd\n",
    "data = pd.DataFrame({})\n",
    "\n",
    "data['play_days'] = Date_list\n",
    "data['First_number'] = First_no[:12]\n",
    "data['Type_of_game'] = Type_of_game \n",
    "data['lott_no2'] = lott_no2\n",
    "data['lott_no3'] = lott_no3\n",
    "data['lott_no4'] = lott_no4\n",
    "data['lott_no5'] = lott_no5\n",
    "data.to_csv('Data_76.csv')\n",
    "time.sleep(3)\n",
    "driver.close() "
   ]
  },
  {
   "cell_type": "code",
   "execution_count": 2,
   "id": "a05ae972",
   "metadata": {},
   "outputs": [
    {
     "data": {
      "text/html": [
       "<div>\n",
       "<style scoped>\n",
       "    .dataframe tbody tr th:only-of-type {\n",
       "        vertical-align: middle;\n",
       "    }\n",
       "\n",
       "    .dataframe tbody tr th {\n",
       "        vertical-align: top;\n",
       "    }\n",
       "\n",
       "    .dataframe thead th {\n",
       "        text-align: right;\n",
       "    }\n",
       "</style>\n",
       "<table border=\"1\" class=\"dataframe\">\n",
       "  <thead>\n",
       "    <tr style=\"text-align: right;\">\n",
       "      <th></th>\n",
       "      <th>play_days</th>\n",
       "      <th>First_number</th>\n",
       "      <th>Type_of_game</th>\n",
       "      <th>lott_no2</th>\n",
       "      <th>lott_no3</th>\n",
       "      <th>lott_no4</th>\n",
       "      <th>lott_no5</th>\n",
       "    </tr>\n",
       "  </thead>\n",
       "  <tbody>\n",
       "    <tr>\n",
       "      <th>0</th>\n",
       "      <td>VENDREDI 20 MAI 2022</td>\n",
       "      <td>66</td>\n",
       "      <td>TIRAGE «CASH» N°196</td>\n",
       "      <td>08</td>\n",
       "      <td>17</td>\n",
       "      <td>77</td>\n",
       "      <td>01</td>\n",
       "    </tr>\n",
       "    <tr>\n",
       "      <th>1</th>\n",
       "      <td>VENDREDI 20 MAI 2022</td>\n",
       "      <td>32</td>\n",
       "      <td>TIRAGE «CASH» NUMEROS MACHINE N°196</td>\n",
       "      <td>46</td>\n",
       "      <td>12</td>\n",
       "      <td>55</td>\n",
       "      <td>25</td>\n",
       "    </tr>\n",
       "    <tr>\n",
       "      <th>2</th>\n",
       "      <td>JEUDI 19 MAI 2022</td>\n",
       "      <td>35</td>\n",
       "      <td>TIRAGE «MONNI» N°176</td>\n",
       "      <td>62</td>\n",
       "      <td>51</td>\n",
       "      <td>25</td>\n",
       "      <td>85</td>\n",
       "    </tr>\n",
       "    <tr>\n",
       "      <th>3</th>\n",
       "      <td>JEUDI 19 MAI 2022</td>\n",
       "      <td>47</td>\n",
       "      <td>TIRAGE «MONNI» NUMEROS MACHINE N°176</td>\n",
       "      <td>87</td>\n",
       "      <td>55</td>\n",
       "      <td>16</td>\n",
       "      <td>66</td>\n",
       "    </tr>\n",
       "    <tr>\n",
       "      <th>4</th>\n",
       "      <td>JEUDI 19 MAI 2022</td>\n",
       "      <td>53</td>\n",
       "      <td>TIRAGE «PRIVILEGE» N°316</td>\n",
       "      <td>51</td>\n",
       "      <td>79</td>\n",
       "      <td>65</td>\n",
       "      <td>67</td>\n",
       "    </tr>\n",
       "    <tr>\n",
       "      <th>5</th>\n",
       "      <td>JEUDI 19 MAI 2022</td>\n",
       "      <td>16</td>\n",
       "      <td>TIRAGE «PRIVILEGE» NUMEROS MACHINE N°316</td>\n",
       "      <td>30</td>\n",
       "      <td>62</td>\n",
       "      <td>84</td>\n",
       "      <td>74</td>\n",
       "    </tr>\n",
       "    <tr>\n",
       "      <th>6</th>\n",
       "      <td>JEUDI 19 MAI 2022</td>\n",
       "      <td>77</td>\n",
       "      <td>TIRAGE «KADO» N°194</td>\n",
       "      <td>64</td>\n",
       "      <td>02</td>\n",
       "      <td>83</td>\n",
       "      <td>57</td>\n",
       "    </tr>\n",
       "    <tr>\n",
       "      <th>7</th>\n",
       "      <td>JEUDI 19 MAI 2022</td>\n",
       "      <td>12</td>\n",
       "      <td>TIRAGE «KADO» NUMEROS MACHINE N°194</td>\n",
       "      <td>60</td>\n",
       "      <td>29</td>\n",
       "      <td>20</td>\n",
       "      <td>44</td>\n",
       "    </tr>\n",
       "    <tr>\n",
       "      <th>8</th>\n",
       "      <td>MERCREDI 18 MAI 2022</td>\n",
       "      <td>01</td>\n",
       "      <td>TIRAGE « MID WEEK » N°963</td>\n",
       "      <td>89</td>\n",
       "      <td>23</td>\n",
       "      <td>65</td>\n",
       "      <td>69</td>\n",
       "    </tr>\n",
       "    <tr>\n",
       "      <th>9</th>\n",
       "      <td>MERCREDI 18 MAI 2022</td>\n",
       "      <td>84</td>\n",
       "      <td>TIRAGE «BARAKA» NUMEROS MACHINE N°176</td>\n",
       "      <td>49</td>\n",
       "      <td>89</td>\n",
       "      <td>48</td>\n",
       "      <td>88</td>\n",
       "    </tr>\n",
       "    <tr>\n",
       "      <th>10</th>\n",
       "      <td>MERCREDI 18 MAI 2022</td>\n",
       "      <td>04</td>\n",
       "      <td>TIRAGE «BARAKA» N°176</td>\n",
       "      <td>29</td>\n",
       "      <td>72</td>\n",
       "      <td>68</td>\n",
       "      <td>30</td>\n",
       "    </tr>\n",
       "    <tr>\n",
       "      <th>11</th>\n",
       "      <td>MERCREDI 18 MAI 2022</td>\n",
       "      <td>62</td>\n",
       "      <td>TIRAGE «FORTUNE» NUMEROS MACHINE N°724</td>\n",
       "      <td>29</td>\n",
       "      <td>35</td>\n",
       "      <td>47</td>\n",
       "      <td>23</td>\n",
       "    </tr>\n",
       "  </tbody>\n",
       "</table>\n",
       "</div>"
      ],
      "text/plain": [
       "               play_days First_number  \\\n",
       "0   VENDREDI 20 MAI 2022           66   \n",
       "1   VENDREDI 20 MAI 2022           32   \n",
       "2      JEUDI 19 MAI 2022           35   \n",
       "3      JEUDI 19 MAI 2022           47   \n",
       "4      JEUDI 19 MAI 2022           53   \n",
       "5      JEUDI 19 MAI 2022           16   \n",
       "6      JEUDI 19 MAI 2022           77   \n",
       "7      JEUDI 19 MAI 2022           12   \n",
       "8   MERCREDI 18 MAI 2022           01   \n",
       "9   MERCREDI 18 MAI 2022           84   \n",
       "10  MERCREDI 18 MAI 2022           04   \n",
       "11  MERCREDI 18 MAI 2022           62   \n",
       "\n",
       "                                Type_of_game lott_no2 lott_no3 lott_no4  \\\n",
       "0                        TIRAGE «CASH» N°196       08       17       77   \n",
       "1        TIRAGE «CASH» NUMEROS MACHINE N°196       46       12       55   \n",
       "2                       TIRAGE «MONNI» N°176       62       51       25   \n",
       "3       TIRAGE «MONNI» NUMEROS MACHINE N°176       87       55       16   \n",
       "4                   TIRAGE «PRIVILEGE» N°316       51       79       65   \n",
       "5   TIRAGE «PRIVILEGE» NUMEROS MACHINE N°316       30       62       84   \n",
       "6                        TIRAGE «KADO» N°194       64       02       83   \n",
       "7        TIRAGE «KADO» NUMEROS MACHINE N°194       60       29       20   \n",
       "8                  TIRAGE « MID WEEK » N°963       89       23       65   \n",
       "9      TIRAGE «BARAKA» NUMEROS MACHINE N°176       49       89       48   \n",
       "10                     TIRAGE «BARAKA» N°176       29       72       68   \n",
       "11    TIRAGE «FORTUNE» NUMEROS MACHINE N°724       29       35       47   \n",
       "\n",
       "   lott_no5  \n",
       "0        01  \n",
       "1        25  \n",
       "2        85  \n",
       "3        66  \n",
       "4        67  \n",
       "5        74  \n",
       "6        57  \n",
       "7        44  \n",
       "8        69  \n",
       "9        88  \n",
       "10       30  \n",
       "11       23  "
      ]
     },
     "execution_count": 2,
     "metadata": {},
     "output_type": "execute_result"
    }
   ],
   "source": [
    "data"
   ]
  },
  {
   "cell_type": "code",
   "execution_count": 40,
   "id": "01c58e69",
   "metadata": {},
   "outputs": [
    {
     "data": {
      "text/plain": [
       "(12, 7)"
      ]
     },
     "execution_count": 40,
     "metadata": {},
     "output_type": "execute_result"
    }
   ],
   "source": [
    "data.shape"
   ]
  },
  {
   "cell_type": "markdown",
   "id": "9e6eb936",
   "metadata": {},
   "source": [
    "# Putting all the .csv files into  a single file. (Concatination)"
   ]
  },
  {
   "cell_type": "code",
   "execution_count": 11,
   "id": "099df154",
   "metadata": {},
   "outputs": [],
   "source": [
    "import os\n",
    "import glob\n",
    "import pandas as pd\n",
    "os.chdir('/Users/oliverla412/Desktop/Place_project/Lot')"
   ]
  },
  {
   "cell_type": "code",
   "execution_count": 12,
   "id": "10e7cd73",
   "metadata": {},
   "outputs": [],
   "source": [
    "extension = 'csv'\n",
    "all_filenames = [i for i in glob.glob('*.{}'.format(extension))]\n"
   ]
  },
  {
   "cell_type": "code",
   "execution_count": 13,
   "id": "f256624e",
   "metadata": {},
   "outputs": [
    {
     "data": {
      "text/plain": [
       "70"
      ]
     },
     "execution_count": 13,
     "metadata": {},
     "output_type": "execute_result"
    }
   ],
   "source": [
    "len(all_filenames)"
   ]
  },
  {
   "cell_type": "code",
   "execution_count": 14,
   "id": "923d279e",
   "metadata": {},
   "outputs": [],
   "source": [
    "#combine all files in the list\n",
    "combined_csv = pd.concat([pd.read_csv(f) for f in all_filenames ])\n",
    "\n",
    "#export to csv\n",
    "\n",
    "combined_csv.to_csv( \"Big_data.csv\", index=False, encoding='utf-8-sig')\n"
   ]
  },
  {
   "cell_type": "code",
   "execution_count": 15,
   "id": "ef1ccb77",
   "metadata": {},
   "outputs": [],
   "source": [
    "My_data= pd.read_csv('Big_data.csv')"
   ]
  },
  {
   "cell_type": "code",
   "execution_count": null,
   "id": "a4ab853b",
   "metadata": {},
   "outputs": [],
   "source": []
  },
  {
   "cell_type": "markdown",
   "id": "e239099c",
   "metadata": {},
   "source": [
    "## Data Clearning (EDA Exploratory Data Analysis)."
   ]
  },
  {
   "cell_type": "code",
   "execution_count": 16,
   "id": "1e7bc528",
   "metadata": {},
   "outputs": [
    {
     "data": {
      "text/html": [
       "<div>\n",
       "<style scoped>\n",
       "    .dataframe tbody tr th:only-of-type {\n",
       "        vertical-align: middle;\n",
       "    }\n",
       "\n",
       "    .dataframe tbody tr th {\n",
       "        vertical-align: top;\n",
       "    }\n",
       "\n",
       "    .dataframe thead th {\n",
       "        text-align: right;\n",
       "    }\n",
       "</style>\n",
       "<table border=\"1\" class=\"dataframe\">\n",
       "  <thead>\n",
       "    <tr style=\"text-align: right;\">\n",
       "      <th></th>\n",
       "      <th>Unnamed: 0</th>\n",
       "      <th>play_days</th>\n",
       "      <th>First_number</th>\n",
       "      <th>Type_of_game</th>\n",
       "      <th>lott_no2</th>\n",
       "      <th>lott_no3</th>\n",
       "      <th>lott_no4</th>\n",
       "      <th>lott_no5</th>\n",
       "    </tr>\n",
       "  </thead>\n",
       "  <tbody>\n",
       "    <tr>\n",
       "      <th>0</th>\n",
       "      <td>0</td>\n",
       "      <td>MERCREDI 2 FÉVRIER 2022</td>\n",
       "      <td>22</td>\n",
       "      <td>TIRAGE «FORTUNE» N°709</td>\n",
       "      <td>7</td>\n",
       "      <td>36</td>\n",
       "      <td>52</td>\n",
       "      <td>14</td>\n",
       "    </tr>\n",
       "    <tr>\n",
       "      <th>1</th>\n",
       "      <td>1</td>\n",
       "      <td>MERCREDI 2 FÉVRIER 2022</td>\n",
       "      <td>3</td>\n",
       "      <td>TIRAGE «FORTUNE» N°709</td>\n",
       "      <td>73</td>\n",
       "      <td>85</td>\n",
       "      <td>63</td>\n",
       "      <td>54</td>\n",
       "    </tr>\n",
       "    <tr>\n",
       "      <th>2</th>\n",
       "      <td>2</td>\n",
       "      <td>MERCREDI 2 FÉVRIER 2022</td>\n",
       "      <td>58</td>\n",
       "      <td>« LUCKY TUESDAY » N°751</td>\n",
       "      <td>24</td>\n",
       "      <td>87</td>\n",
       "      <td>60</td>\n",
       "      <td>39</td>\n",
       "    </tr>\n",
       "    <tr>\n",
       "      <th>3</th>\n",
       "      <td>3</td>\n",
       "      <td>MERCREDI 2 FÉVRIER 2022</td>\n",
       "      <td>19</td>\n",
       "      <td>« LUCKY TUESDAY » N°751</td>\n",
       "      <td>43</td>\n",
       "      <td>85</td>\n",
       "      <td>36</td>\n",
       "      <td>30</td>\n",
       "    </tr>\n",
       "    <tr>\n",
       "      <th>4</th>\n",
       "      <td>4</td>\n",
       "      <td>MARDI 1 FÉVRIER 2022</td>\n",
       "      <td>82</td>\n",
       "      <td>« LUCKY TUESDAY » N°751</td>\n",
       "      <td>16</td>\n",
       "      <td>47</td>\n",
       "      <td>52</td>\n",
       "      <td>68</td>\n",
       "    </tr>\n",
       "    <tr>\n",
       "      <th>...</th>\n",
       "      <td>...</td>\n",
       "      <td>...</td>\n",
       "      <td>...</td>\n",
       "      <td>...</td>\n",
       "      <td>...</td>\n",
       "      <td>...</td>\n",
       "      <td>...</td>\n",
       "      <td>...</td>\n",
       "    </tr>\n",
       "    <tr>\n",
       "      <th>823</th>\n",
       "      <td>7</td>\n",
       "      <td>LUNDI 14 FÉVRIER 2022</td>\n",
       "      <td>26</td>\n",
       "      <td>TIRAGE «REVEIL» NUMEROS MACHINE N°182</td>\n",
       "      <td>39</td>\n",
       "      <td>45</td>\n",
       "      <td>54</td>\n",
       "      <td>87</td>\n",
       "    </tr>\n",
       "    <tr>\n",
       "      <th>824</th>\n",
       "      <td>8</td>\n",
       "      <td>LUNDI 14 FÉVRIER 2022</td>\n",
       "      <td>14</td>\n",
       "      <td>TIRAGE «REVEIL» N°182</td>\n",
       "      <td>1</td>\n",
       "      <td>33</td>\n",
       "      <td>74</td>\n",
       "      <td>89</td>\n",
       "    </tr>\n",
       "    <tr>\n",
       "      <th>825</th>\n",
       "      <td>9</td>\n",
       "      <td>DIMANCHE 13 FÉVRIER 2022</td>\n",
       "      <td>21</td>\n",
       "      <td>TIRAGE «ESPOIR» NUMEROS MACHINE N°199</td>\n",
       "      <td>85</td>\n",
       "      <td>35</td>\n",
       "      <td>34</td>\n",
       "      <td>18</td>\n",
       "    </tr>\n",
       "    <tr>\n",
       "      <th>826</th>\n",
       "      <td>10</td>\n",
       "      <td>DIMANCHE 13 FÉVRIER 2022</td>\n",
       "      <td>23</td>\n",
       "      <td>TIRAGE «ESPOIR» N°199</td>\n",
       "      <td>58</td>\n",
       "      <td>2</td>\n",
       "      <td>68</td>\n",
       "      <td>65</td>\n",
       "    </tr>\n",
       "    <tr>\n",
       "      <th>827</th>\n",
       "      <td>11</td>\n",
       "      <td>DIMANCHE 13 FÉVRIER 2022</td>\n",
       "      <td>16</td>\n",
       "      <td>TIRAGE «AWALE» NUMEROS MACHINE N°162</td>\n",
       "      <td>73</td>\n",
       "      <td>59</td>\n",
       "      <td>71</td>\n",
       "      <td>62</td>\n",
       "    </tr>\n",
       "  </tbody>\n",
       "</table>\n",
       "<p>828 rows × 8 columns</p>\n",
       "</div>"
      ],
      "text/plain": [
       "     Unnamed: 0                 play_days  First_number  \\\n",
       "0             0   MERCREDI 2 FÉVRIER 2022            22   \n",
       "1             1   MERCREDI 2 FÉVRIER 2022             3   \n",
       "2             2   MERCREDI 2 FÉVRIER 2022            58   \n",
       "3             3   MERCREDI 2 FÉVRIER 2022            19   \n",
       "4             4      MARDI 1 FÉVRIER 2022            82   \n",
       "..          ...                       ...           ...   \n",
       "823           7     LUNDI 14 FÉVRIER 2022            26   \n",
       "824           8     LUNDI 14 FÉVRIER 2022            14   \n",
       "825           9  DIMANCHE 13 FÉVRIER 2022            21   \n",
       "826          10  DIMANCHE 13 FÉVRIER 2022            23   \n",
       "827          11  DIMANCHE 13 FÉVRIER 2022            16   \n",
       "\n",
       "                              Type_of_game  lott_no2  lott_no3  lott_no4  \\\n",
       "0                   TIRAGE «FORTUNE» N°709         7        36        52   \n",
       "1                   TIRAGE «FORTUNE» N°709        73        85        63   \n",
       "2                  « LUCKY TUESDAY » N°751        24        87        60   \n",
       "3                  « LUCKY TUESDAY » N°751        43        85        36   \n",
       "4                  « LUCKY TUESDAY » N°751        16        47        52   \n",
       "..                                     ...       ...       ...       ...   \n",
       "823  TIRAGE «REVEIL» NUMEROS MACHINE N°182        39        45        54   \n",
       "824                  TIRAGE «REVEIL» N°182         1        33        74   \n",
       "825  TIRAGE «ESPOIR» NUMEROS MACHINE N°199        85        35        34   \n",
       "826                  TIRAGE «ESPOIR» N°199        58         2        68   \n",
       "827   TIRAGE «AWALE» NUMEROS MACHINE N°162        73        59        71   \n",
       "\n",
       "     lott_no5  \n",
       "0          14  \n",
       "1          54  \n",
       "2          39  \n",
       "3          30  \n",
       "4          68  \n",
       "..        ...  \n",
       "823        87  \n",
       "824        89  \n",
       "825        18  \n",
       "826        65  \n",
       "827        62  \n",
       "\n",
       "[828 rows x 8 columns]"
      ]
     },
     "execution_count": 16,
     "metadata": {},
     "output_type": "execute_result"
    }
   ],
   "source": [
    "My_data"
   ]
  },
  {
   "cell_type": "code",
   "execution_count": 17,
   "id": "aa213f98",
   "metadata": {},
   "outputs": [
    {
     "data": {
      "text/plain": [
       "(828, 8)"
      ]
     },
     "execution_count": 17,
     "metadata": {},
     "output_type": "execute_result"
    }
   ],
   "source": [
    "My_data.shape"
   ]
  },
  {
   "cell_type": "code",
   "execution_count": 18,
   "id": "a83281dc",
   "metadata": {},
   "outputs": [
    {
     "data": {
      "text/plain": [
       "12"
      ]
     },
     "execution_count": 18,
     "metadata": {},
     "output_type": "execute_result"
    }
   ],
   "source": [
    "My_data.duplicated().sum()"
   ]
  },
  {
   "cell_type": "code",
   "execution_count": 19,
   "id": "639d1dc8",
   "metadata": {},
   "outputs": [],
   "source": [
    "import pandas as pd"
   ]
  },
  {
   "cell_type": "code",
   "execution_count": 20,
   "id": "46105d72",
   "metadata": {},
   "outputs": [],
   "source": [
    "Data = pd.DataFrame({})"
   ]
  },
  {
   "cell_type": "code",
   "execution_count": 21,
   "id": "f7d98a8c",
   "metadata": {},
   "outputs": [],
   "source": [
    "import warnings\n",
    "warnings.filterwarnings('ignore')"
   ]
  },
  {
   "cell_type": "code",
   "execution_count": 22,
   "id": "9244e41d",
   "metadata": {},
   "outputs": [
    {
     "data": {
      "text/html": [
       "<div>\n",
       "<style scoped>\n",
       "    .dataframe tbody tr th:only-of-type {\n",
       "        vertical-align: middle;\n",
       "    }\n",
       "\n",
       "    .dataframe tbody tr th {\n",
       "        vertical-align: top;\n",
       "    }\n",
       "\n",
       "    .dataframe thead th {\n",
       "        text-align: right;\n",
       "    }\n",
       "</style>\n",
       "<table border=\"1\" class=\"dataframe\">\n",
       "  <thead>\n",
       "    <tr style=\"text-align: right;\">\n",
       "      <th></th>\n",
       "      <th>Unnamed: 0</th>\n",
       "      <th>play_days</th>\n",
       "      <th>First_number</th>\n",
       "      <th>Type_of_game</th>\n",
       "      <th>lott_no2</th>\n",
       "      <th>lott_no3</th>\n",
       "      <th>lott_no4</th>\n",
       "      <th>lott_no5</th>\n",
       "    </tr>\n",
       "  </thead>\n",
       "  <tbody>\n",
       "    <tr>\n",
       "      <th>0</th>\n",
       "      <td>0</td>\n",
       "      <td>MERCREDI 2 FÉVRIER 2022</td>\n",
       "      <td>22</td>\n",
       "      <td>TIRAGE «FORTUNE» N°709</td>\n",
       "      <td>7</td>\n",
       "      <td>36</td>\n",
       "      <td>52</td>\n",
       "      <td>14</td>\n",
       "    </tr>\n",
       "    <tr>\n",
       "      <th>1</th>\n",
       "      <td>1</td>\n",
       "      <td>MERCREDI 2 FÉVRIER 2022</td>\n",
       "      <td>3</td>\n",
       "      <td>TIRAGE «FORTUNE» N°709</td>\n",
       "      <td>73</td>\n",
       "      <td>85</td>\n",
       "      <td>63</td>\n",
       "      <td>54</td>\n",
       "    </tr>\n",
       "  </tbody>\n",
       "</table>\n",
       "</div>"
      ],
      "text/plain": [
       "   Unnamed: 0                play_days  First_number            Type_of_game  \\\n",
       "0           0  MERCREDI 2 FÉVRIER 2022            22  TIRAGE «FORTUNE» N°709   \n",
       "1           1  MERCREDI 2 FÉVRIER 2022             3  TIRAGE «FORTUNE» N°709   \n",
       "\n",
       "   lott_no2  lott_no3  lott_no4  lott_no5  \n",
       "0         7        36        52        14  \n",
       "1        73        85        63        54  "
      ]
     },
     "execution_count": 22,
     "metadata": {},
     "output_type": "execute_result"
    }
   ],
   "source": [
    "My_data.head(2)"
   ]
  },
  {
   "cell_type": "code",
   "execution_count": 23,
   "id": "6289a8b0",
   "metadata": {},
   "outputs": [],
   "source": [
    "#### edata = My_data[['play_days','Type_of_game','First_number']] # selection of attributes for the project\n",
    "\n",
    "# date = My_data.play_days\n",
    "\n",
    "# day =[]\n",
    "# day_no =[]\n",
    "# month = []\n",
    "# for x in date:\n",
    "#     x = x.split(' ')\n",
    "#     day.append(x[0])\n",
    "#     day_no.append(x[1])\n",
    "#     month.append(x[2])\n",
    "#     #print()\n",
    "# Data['day'] = day[:534]\n",
    "# Data['day_no'] = day_no[:534]\n",
    "# Data['month'] = month[:534]\n",
    "\n",
    "\n",
    "## dropping play_days coulumns\n",
    "My_data.drop(columns=My_data[['play_days']],axis=1,inplace=True)\n",
    "\n",
    "# cleaning the type of games\n",
    "games = My_data.Type_of_game\n",
    "\n",
    "Machine_no =[] # getting the machine no\n",
    "for c in games:\n",
    "    c = c.split(' ')\n",
    "    Machine_no.append(c[-1])\n",
    "# getting all possible type of games\n",
    "\n",
    "array = []\n",
    "for c in games:\n",
    "    c = c.split(' ')\n",
    "    array.append(c)\n",
    "    #print(c)  \n",
    "# creating an array containing all categorical type of games\n",
    "f = ['LUCKY', '«FORTUNE»','SIKA»','EMERGENCE','MATINALE','«AKWABA»','EMERGENCE','«ETOILE»','«REVEIL»','«KADO»','MID',\\\n",
    "    '«BARAKA»','SOLUTION','«MONNI»','«PRIVILEGE»','«BENEDICTION»','BONANZA»','«MONDAY','«ESPOIR»','«AWALE»',\\\n",
    "    'MOAYE','DIAMANT»','SOUTRA»','«SATURDAY','«PREMIERE','«PRESTIGE»','«CASH»','WARI','FORTUNE','«SIKA»']\n",
    "\n",
    "vs = []\n",
    "for x in array:\n",
    "    #print(x) \n",
    "    vs.append(x)\n",
    "    \n",
    "target = []\n",
    "for x in vs:\n",
    "    #print(x)\n",
    "    for y in x:\n",
    "        if y in f:\n",
    "            target.append(y)    \n",
    "Data['Machine_no'] = Machine_no[:820]\n",
    "Data['game_type'] = target[:820] \n",
    "Data['First_number'] = My_data['First_number'][:820]\n",
    "\n",
    "Data['No2'] = My_data['lott_no2'][:820]\n",
    "Data['No3'] = My_data['lott_no3'][:820]\n",
    "Data['No4'] = My_data['lott_no4'][:820]\n",
    "Data['No5'] = My_data['lott_no5'][:820]\n",
    "\n",
    "\n",
    "My_data.drop(columns=My_data[['Type_of_game']],axis=1,inplace=True)"
   ]
  },
  {
   "cell_type": "code",
   "execution_count": null,
   "id": "8b9f83d8",
   "metadata": {},
   "outputs": [],
   "source": []
  },
  {
   "cell_type": "code",
   "execution_count": 24,
   "id": "41985332",
   "metadata": {},
   "outputs": [
    {
     "data": {
      "text/html": [
       "<div>\n",
       "<style scoped>\n",
       "    .dataframe tbody tr th:only-of-type {\n",
       "        vertical-align: middle;\n",
       "    }\n",
       "\n",
       "    .dataframe tbody tr th {\n",
       "        vertical-align: top;\n",
       "    }\n",
       "\n",
       "    .dataframe thead th {\n",
       "        text-align: right;\n",
       "    }\n",
       "</style>\n",
       "<table border=\"1\" class=\"dataframe\">\n",
       "  <thead>\n",
       "    <tr style=\"text-align: right;\">\n",
       "      <th></th>\n",
       "      <th>Machine_no</th>\n",
       "      <th>game_type</th>\n",
       "      <th>First_number</th>\n",
       "      <th>No2</th>\n",
       "      <th>No3</th>\n",
       "      <th>No4</th>\n",
       "      <th>No5</th>\n",
       "    </tr>\n",
       "  </thead>\n",
       "  <tbody>\n",
       "    <tr>\n",
       "      <th>0</th>\n",
       "      <td>N°709</td>\n",
       "      <td>«FORTUNE»</td>\n",
       "      <td>22</td>\n",
       "      <td>7</td>\n",
       "      <td>36</td>\n",
       "      <td>52</td>\n",
       "      <td>14</td>\n",
       "    </tr>\n",
       "    <tr>\n",
       "      <th>1</th>\n",
       "      <td>N°709</td>\n",
       "      <td>«FORTUNE»</td>\n",
       "      <td>3</td>\n",
       "      <td>73</td>\n",
       "      <td>85</td>\n",
       "      <td>63</td>\n",
       "      <td>54</td>\n",
       "    </tr>\n",
       "    <tr>\n",
       "      <th>2</th>\n",
       "      <td>N°751</td>\n",
       "      <td>LUCKY</td>\n",
       "      <td>58</td>\n",
       "      <td>24</td>\n",
       "      <td>87</td>\n",
       "      <td>60</td>\n",
       "      <td>39</td>\n",
       "    </tr>\n",
       "    <tr>\n",
       "      <th>3</th>\n",
       "      <td>N°751</td>\n",
       "      <td>LUCKY</td>\n",
       "      <td>19</td>\n",
       "      <td>43</td>\n",
       "      <td>85</td>\n",
       "      <td>36</td>\n",
       "      <td>30</td>\n",
       "    </tr>\n",
       "    <tr>\n",
       "      <th>4</th>\n",
       "      <td>N°751</td>\n",
       "      <td>LUCKY</td>\n",
       "      <td>82</td>\n",
       "      <td>16</td>\n",
       "      <td>47</td>\n",
       "      <td>52</td>\n",
       "      <td>68</td>\n",
       "    </tr>\n",
       "    <tr>\n",
       "      <th>...</th>\n",
       "      <td>...</td>\n",
       "      <td>...</td>\n",
       "      <td>...</td>\n",
       "      <td>...</td>\n",
       "      <td>...</td>\n",
       "      <td>...</td>\n",
       "      <td>...</td>\n",
       "    </tr>\n",
       "    <tr>\n",
       "      <th>815</th>\n",
       "      <td>N°184</td>\n",
       "      <td>«REVEIL»</td>\n",
       "      <td>89</td>\n",
       "      <td>19</td>\n",
       "      <td>30</td>\n",
       "      <td>35</td>\n",
       "      <td>56</td>\n",
       "    </tr>\n",
       "    <tr>\n",
       "      <th>816</th>\n",
       "      <td>N°182</td>\n",
       "      <td>«REVEIL»</td>\n",
       "      <td>63</td>\n",
       "      <td>10</td>\n",
       "      <td>22</td>\n",
       "      <td>89</td>\n",
       "      <td>68</td>\n",
       "    </tr>\n",
       "    <tr>\n",
       "      <th>817</th>\n",
       "      <td>N°182</td>\n",
       "      <td>«ESPOIR»</td>\n",
       "      <td>16</td>\n",
       "      <td>58</td>\n",
       "      <td>31</td>\n",
       "      <td>37</td>\n",
       "      <td>72</td>\n",
       "    </tr>\n",
       "    <tr>\n",
       "      <th>818</th>\n",
       "      <td>N°820</td>\n",
       "      <td>«ESPOIR»</td>\n",
       "      <td>65</td>\n",
       "      <td>46</td>\n",
       "      <td>85</td>\n",
       "      <td>23</td>\n",
       "      <td>42</td>\n",
       "    </tr>\n",
       "    <tr>\n",
       "      <th>819</th>\n",
       "      <td>N°163</td>\n",
       "      <td>«AWALE»</td>\n",
       "      <td>53</td>\n",
       "      <td>50</td>\n",
       "      <td>87</td>\n",
       "      <td>15</td>\n",
       "      <td>3</td>\n",
       "    </tr>\n",
       "  </tbody>\n",
       "</table>\n",
       "<p>820 rows × 7 columns</p>\n",
       "</div>"
      ],
      "text/plain": [
       "    Machine_no  game_type  First_number  No2  No3  No4  No5\n",
       "0        N°709  «FORTUNE»            22    7   36   52   14\n",
       "1        N°709  «FORTUNE»             3   73   85   63   54\n",
       "2        N°751      LUCKY            58   24   87   60   39\n",
       "3        N°751      LUCKY            19   43   85   36   30\n",
       "4        N°751      LUCKY            82   16   47   52   68\n",
       "..         ...        ...           ...  ...  ...  ...  ...\n",
       "815      N°184   «REVEIL»            89   19   30   35   56\n",
       "816      N°182   «REVEIL»            63   10   22   89   68\n",
       "817      N°182   «ESPOIR»            16   58   31   37   72\n",
       "818      N°820   «ESPOIR»            65   46   85   23   42\n",
       "819      N°163    «AWALE»            53   50   87   15    3\n",
       "\n",
       "[820 rows x 7 columns]"
      ]
     },
     "execution_count": 24,
     "metadata": {},
     "output_type": "execute_result"
    }
   ],
   "source": [
    "Data"
   ]
  },
  {
   "cell_type": "code",
   "execution_count": 27,
   "id": "1e78f1d3",
   "metadata": {},
   "outputs": [
    {
     "data": {
      "text/plain": [
       "array([ 7, 73, 24, 43, 16, 31, 42, 47, 65, 34, 79,  9, 21, 40, 37, 68, 55,\n",
       "       45, 66, 23, 53, 49, 86, 81, 80, 10, 62, 90, 22, 59, 63, 18, 87, 33,\n",
       "       14, 57, 64, 41, 25, 27, 44, 58, 54, 39, 51, 67, 77,  8, 30, 60, 61,\n",
       "       78, 70, 26, 32, 29, 50, 69,  6,  1, 84,  2,  3, 56, 11, 46, 13, 17,\n",
       "       82, 85, 28, 83, 35, 89, 71, 36,  5, 88, 52, 15, 12,  4, 75, 48, 20,\n",
       "       74, 38, 76, 19, 72, 98])"
      ]
     },
     "execution_count": 27,
     "metadata": {},
     "output_type": "execute_result"
    }
   ],
   "source": [
    "Data.No2.unique()"
   ]
  },
  {
   "cell_type": "code",
   "execution_count": 28,
   "id": "ab1ff7e0",
   "metadata": {},
   "outputs": [],
   "source": [
    "avk =[]\n",
    "for x in Data.game_type.unique():\n",
    "    avk.append(x)"
   ]
  },
  {
   "cell_type": "code",
   "execution_count": 29,
   "id": "acb5d631",
   "metadata": {},
   "outputs": [
    {
     "data": {
      "text/plain": [
       "29"
      ]
     },
     "execution_count": 29,
     "metadata": {},
     "output_type": "execute_result"
    }
   ],
   "source": [
    "len(avk)"
   ]
  },
  {
   "cell_type": "code",
   "execution_count": 30,
   "id": "44ddaef7",
   "metadata": {},
   "outputs": [
    {
     "data": {
      "text/plain": [
       "array(['«FORTUNE»', 'LUCKY', 'SIKA»', 'EMERGENCE', 'MATINALE', '«AKWABA»',\n",
       "       '«PREMIERE', '«SIKA»', '«ETOILE»', '«REVEIL»', '«KADO»', 'MID',\n",
       "       '«BARAKA»', 'SOLUTION', '«CASH»', '«MONNI»', '«PRIVILEGE»',\n",
       "       '«PRESTIGE»', '«BENEDICTION»', 'SOUTRA»', 'BONANZA»', 'WARI',\n",
       "       '«MONDAY', '«ESPOIR»', '«AWALE»', 'MOAYE', 'DIAMANT»', 'FORTUNE',\n",
       "       '«SATURDAY'], dtype=object)"
      ]
     },
     "execution_count": 30,
     "metadata": {},
     "output_type": "execute_result"
    }
   ],
   "source": [
    "Data.game_type.unique()"
   ]
  },
  {
   "cell_type": "code",
   "execution_count": 31,
   "id": "adcf7d56",
   "metadata": {},
   "outputs": [],
   "source": [
    "Data['game_type'] = Data['game_type'].replace({'«SIKA»':'SIKA','SIKA»':'SIKA','«CASH»':'CASH','«FORTUNE»':'FORTUNE',\n",
    "                                              '«AKWABA»':'AKWABA','«PREMIERE':'PREMIERE','«ETOILE»':'ETOILE','«REVEIL»':'REVEIL',\n",
    "                                              '«KADO»':'KADO','«BARAKA»':'BARAKA','«MONNI»':'MONNI','«PRIVILEGE»':'PRIVILEGE',\n",
    "                                             '«PRESTIGE»':'PRESTIGE','«BENEDICTION»':'BENEDICTION','SOUTRA»':'SOUTRA',\n",
    "                                              'BONANZA»':'BONANZA','«MONDAY':'MONDAY','«ESPOIR»':'ESPOIR',\n",
    "                                              '«AWALE»':'AWALE','DIAMANT»':'DIAMANT','«SATURDAY':'SATURDAY'})\n"
   ]
  },
  {
   "cell_type": "code",
   "execution_count": 32,
   "id": "9df17e84",
   "metadata": {},
   "outputs": [
    {
     "data": {
      "text/plain": [
       "0      FORTUNE\n",
       "1      FORTUNE\n",
       "2        LUCKY\n",
       "3        LUCKY\n",
       "4        LUCKY\n",
       "        ...   \n",
       "815     REVEIL\n",
       "816     REVEIL\n",
       "817     ESPOIR\n",
       "818     ESPOIR\n",
       "819      AWALE\n",
       "Name: game_type, Length: 820, dtype: object"
      ]
     },
     "execution_count": 32,
     "metadata": {},
     "output_type": "execute_result"
    }
   ],
   "source": [
    "Data['game_type'] "
   ]
  },
  {
   "cell_type": "code",
   "execution_count": 33,
   "id": "331cfa2e",
   "metadata": {},
   "outputs": [
    {
     "data": {
      "text/plain": [
       "array(['FORTUNE', 'LUCKY', 'SIKA', 'EMERGENCE', 'MATINALE', 'AKWABA',\n",
       "       'PREMIERE', 'ETOILE', 'REVEIL', 'KADO', 'MID', 'BARAKA',\n",
       "       'SOLUTION', 'CASH', 'MONNI', 'PRIVILEGE', 'PRESTIGE',\n",
       "       'BENEDICTION', 'SOUTRA', 'BONANZA', 'WARI', 'MONDAY', 'ESPOIR',\n",
       "       'AWALE', 'MOAYE', 'DIAMANT', 'SATURDAY'], dtype=object)"
      ]
     },
     "execution_count": 33,
     "metadata": {},
     "output_type": "execute_result"
    }
   ],
   "source": [
    "Data.game_type.unique()"
   ]
  },
  {
   "cell_type": "code",
   "execution_count": 34,
   "id": "42030f17",
   "metadata": {},
   "outputs": [
    {
     "data": {
      "text/plain": [
       "0    N°709\n",
       "1    N°709\n",
       "2    N°751\n",
       "3    N°751\n",
       "4    N°751\n",
       "Name: Machine_no, dtype: object"
      ]
     },
     "execution_count": 34,
     "metadata": {},
     "output_type": "execute_result"
    }
   ],
   "source": [
    "Data['Machine_no'][:5]"
   ]
  },
  {
   "cell_type": "code",
   "execution_count": 62,
   "id": "e6d064c7",
   "metadata": {},
   "outputs": [],
   "source": [
    "mach_no = []\n",
    "for x in Data['Machine_no']:\n",
    "    arr = x.split('N°')\n",
    "    mach_no.append(arr[-1])\n",
    "Data['Machine_no'] = mach_no"
   ]
  },
  {
   "cell_type": "code",
   "execution_count": 63,
   "id": "259a6077",
   "metadata": {},
   "outputs": [
    {
     "data": {
      "text/html": [
       "<div>\n",
       "<style scoped>\n",
       "    .dataframe tbody tr th:only-of-type {\n",
       "        vertical-align: middle;\n",
       "    }\n",
       "\n",
       "    .dataframe tbody tr th {\n",
       "        vertical-align: top;\n",
       "    }\n",
       "\n",
       "    .dataframe thead th {\n",
       "        text-align: right;\n",
       "    }\n",
       "</style>\n",
       "<table border=\"1\" class=\"dataframe\">\n",
       "  <thead>\n",
       "    <tr style=\"text-align: right;\">\n",
       "      <th></th>\n",
       "      <th>day</th>\n",
       "      <th>day_no</th>\n",
       "      <th>month</th>\n",
       "      <th>Machine_no</th>\n",
       "      <th>game_type</th>\n",
       "      <th>First_number</th>\n",
       "      <th>No2</th>\n",
       "      <th>No3</th>\n",
       "      <th>No4</th>\n",
       "      <th>No5</th>\n",
       "    </tr>\n",
       "  </thead>\n",
       "  <tbody>\n",
       "    <tr>\n",
       "      <th>0</th>\n",
       "      <td>MERCREDI</td>\n",
       "      <td>2</td>\n",
       "      <td>FÉVRIER</td>\n",
       "      <td>709</td>\n",
       "      <td>FORTUNE</td>\n",
       "      <td>22</td>\n",
       "      <td>7</td>\n",
       "      <td>36</td>\n",
       "      <td>52</td>\n",
       "      <td>14</td>\n",
       "    </tr>\n",
       "    <tr>\n",
       "      <th>1</th>\n",
       "      <td>MERCREDI</td>\n",
       "      <td>2</td>\n",
       "      <td>FÉVRIER</td>\n",
       "      <td>709</td>\n",
       "      <td>FORTUNE</td>\n",
       "      <td>3</td>\n",
       "      <td>73</td>\n",
       "      <td>85</td>\n",
       "      <td>63</td>\n",
       "      <td>54</td>\n",
       "    </tr>\n",
       "    <tr>\n",
       "      <th>2</th>\n",
       "      <td>MERCREDI</td>\n",
       "      <td>2</td>\n",
       "      <td>FÉVRIER</td>\n",
       "      <td>751</td>\n",
       "      <td>LUCKY</td>\n",
       "      <td>58</td>\n",
       "      <td>24</td>\n",
       "      <td>87</td>\n",
       "      <td>60</td>\n",
       "      <td>39</td>\n",
       "    </tr>\n",
       "  </tbody>\n",
       "</table>\n",
       "</div>"
      ],
      "text/plain": [
       "        day day_no    month Machine_no game_type  First_number  No2  No3  No4  \\\n",
       "0  MERCREDI      2  FÉVRIER        709   FORTUNE            22    7   36   52   \n",
       "1  MERCREDI      2  FÉVRIER        709   FORTUNE             3   73   85   63   \n",
       "2  MERCREDI      2  FÉVRIER        751     LUCKY            58   24   87   60   \n",
       "\n",
       "   No5  \n",
       "0   14  \n",
       "1   54  \n",
       "2   39  "
      ]
     },
     "execution_count": 63,
     "metadata": {},
     "output_type": "execute_result"
    }
   ],
   "source": [
    "Data.head(3)"
   ]
  },
  {
   "cell_type": "markdown",
   "id": "5132613d",
   "metadata": {},
   "source": [
    "## Let's used Label Encoder to convert the text data into numerical data for some columns those are not musearable or unscable."
   ]
  },
  {
   "cell_type": "code",
   "execution_count": 59,
   "id": "3dd62f2a",
   "metadata": {},
   "outputs": [],
   "source": [
    "#!pip3 install scipy==1.7.1 numpy==1.18.5 scikit-learn==0.24.2 --no-cache-dir --no-binary :all:"
   ]
  },
  {
   "cell_type": "code",
   "execution_count": 64,
   "id": "b88d3d86",
   "metadata": {},
   "outputs": [],
   "source": [
    "#importing the libaries\n",
    "import pandas as pd\n",
    "import numpy as np\n",
    "#import seaborn as sns\n",
    "import matplotlib.pyplot as plt\n",
    "%matplotlib inline\n",
    "import warnings\n",
    "warnings.filterwarnings('ignore')"
   ]
  },
  {
   "cell_type": "code",
   "execution_count": 65,
   "id": "c4130e67",
   "metadata": {},
   "outputs": [],
   "source": [
    "Data.to_csv('project_sample.csv',index=False)"
   ]
  },
  {
   "cell_type": "code",
   "execution_count": 66,
   "id": "3592ae32",
   "metadata": {},
   "outputs": [
    {
     "data": {
      "text/html": [
       "<div>\n",
       "<style scoped>\n",
       "    .dataframe tbody tr th:only-of-type {\n",
       "        vertical-align: middle;\n",
       "    }\n",
       "\n",
       "    .dataframe tbody tr th {\n",
       "        vertical-align: top;\n",
       "    }\n",
       "\n",
       "    .dataframe thead th {\n",
       "        text-align: right;\n",
       "    }\n",
       "</style>\n",
       "<table border=\"1\" class=\"dataframe\">\n",
       "  <thead>\n",
       "    <tr style=\"text-align: right;\">\n",
       "      <th></th>\n",
       "      <th>day</th>\n",
       "      <th>day_no</th>\n",
       "      <th>month</th>\n",
       "      <th>Machine_no</th>\n",
       "      <th>game_type</th>\n",
       "      <th>First_number</th>\n",
       "      <th>No2</th>\n",
       "      <th>No3</th>\n",
       "      <th>No4</th>\n",
       "      <th>No5</th>\n",
       "    </tr>\n",
       "  </thead>\n",
       "  <tbody>\n",
       "    <tr>\n",
       "      <th>0</th>\n",
       "      <td>MERCREDI</td>\n",
       "      <td>2</td>\n",
       "      <td>FÉVRIER</td>\n",
       "      <td>709</td>\n",
       "      <td>FORTUNE</td>\n",
       "      <td>22</td>\n",
       "      <td>7</td>\n",
       "      <td>36</td>\n",
       "      <td>52</td>\n",
       "      <td>14</td>\n",
       "    </tr>\n",
       "    <tr>\n",
       "      <th>1</th>\n",
       "      <td>MERCREDI</td>\n",
       "      <td>2</td>\n",
       "      <td>FÉVRIER</td>\n",
       "      <td>709</td>\n",
       "      <td>FORTUNE</td>\n",
       "      <td>3</td>\n",
       "      <td>73</td>\n",
       "      <td>85</td>\n",
       "      <td>63</td>\n",
       "      <td>54</td>\n",
       "    </tr>\n",
       "    <tr>\n",
       "      <th>2</th>\n",
       "      <td>MERCREDI</td>\n",
       "      <td>2</td>\n",
       "      <td>FÉVRIER</td>\n",
       "      <td>751</td>\n",
       "      <td>LUCKY</td>\n",
       "      <td>58</td>\n",
       "      <td>24</td>\n",
       "      <td>87</td>\n",
       "      <td>60</td>\n",
       "      <td>39</td>\n",
       "    </tr>\n",
       "  </tbody>\n",
       "</table>\n",
       "</div>"
      ],
      "text/plain": [
       "        day day_no    month Machine_no game_type  First_number  No2  No3  No4  \\\n",
       "0  MERCREDI      2  FÉVRIER        709   FORTUNE            22    7   36   52   \n",
       "1  MERCREDI      2  FÉVRIER        709   FORTUNE             3   73   85   63   \n",
       "2  MERCREDI      2  FÉVRIER        751     LUCKY            58   24   87   60   \n",
       "\n",
       "   No5  \n",
       "0   14  \n",
       "1   54  \n",
       "2   39  "
      ]
     },
     "execution_count": 66,
     "metadata": {},
     "output_type": "execute_result"
    }
   ],
   "source": [
    "Data.head(3)"
   ]
  },
  {
   "cell_type": "code",
   "execution_count": null,
   "id": "c1ab1d08",
   "metadata": {},
   "outputs": [],
   "source": [
    "unscalable = non_num_data.drop(scalable,axis=1)"
   ]
  },
  {
   "cell_type": "code",
   "execution_count": null,
   "id": "507257f5",
   "metadata": {},
   "outputs": [],
   "source": [
    "unscalable = unscalable.apply(LabelEncoder().fit_transform)\n",
    "\n"
   ]
  },
  {
   "cell_type": "code",
   "execution_count": 66,
   "id": "dc61d792",
   "metadata": {},
   "outputs": [],
   "source": [
    "import numpy as np"
   ]
  },
  {
   "cell_type": "code",
   "execution_count": 3,
   "id": "b05a47b5",
   "metadata": {},
   "outputs": [],
   "source": [
    "#!pip install sklearn"
   ]
  },
  {
   "cell_type": "code",
   "execution_count": 4,
   "id": "fb32e5c4",
   "metadata": {},
   "outputs": [],
   "source": [
    "#from sklearn.preprocessing import label_binarize"
   ]
  },
  {
   "cell_type": "code",
   "execution_count": null,
   "id": "4f688994",
   "metadata": {
    "collapsed": true
   },
   "outputs": [],
   "source": [
    "\n",
    "\n"
   ]
  },
  {
   "cell_type": "code",
   "execution_count": 15,
   "id": "5769f753",
   "metadata": {},
   "outputs": [],
   "source": [
    "import random\n",
    "import pyautogui as pg\n",
    "import time\n",
    "animal = ('Dog','Monkey','Cow')\n",
    "time.sleep(3)\n",
    "for i in range(10):\n",
    "    a = random.choice(animal)\n",
    "    pg.write('You are a '+ a + '!!!')\n",
    "    pg.press('enter')"
   ]
  },
  {
   "cell_type": "code",
   "execution_count": null,
   "id": "23ad1065",
   "metadata": {
    "collapsed": true
   },
   "outputs": [],
   "source": []
  },
  {
   "cell_type": "raw",
   "id": "2630637d",
   "metadata": {},
   "source": []
  },
  {
   "cell_type": "code",
   "execution_count": 97,
   "id": "5ddfcb19",
   "metadata": {},
   "outputs": [
    {
     "name": "stdout",
     "output_type": "stream",
     "text": [
      "Enter the string : bonjour abcd yes can\n"
     ]
    },
    {
     "data": {
      "text/plain": [
       "'nac sey dcba ruojnob'"
      ]
     },
     "execution_count": 97,
     "metadata": {},
     "output_type": "execute_result"
    }
   ],
   "source": []
  },
  {
   "cell_type": "code",
   "execution_count": 19,
   "id": "d3ac894d",
   "metadata": {},
   "outputs": [],
   "source": [
    "def rev_me(*args):\n",
    "    x = args\n",
    "    print(x)\n",
    "    "
   ]
  },
  {
   "cell_type": "code",
   "execution_count": 10,
   "id": "3433f101",
   "metadata": {},
   "outputs": [],
   "source": [
    "ass = []\n",
    "for y in x :\n",
    "    ass.append(y)\n",
    "    \n",
    "bonjour\n"
   ]
  },
  {
   "cell_type": "code",
   "execution_count": 11,
   "id": "591b1381",
   "metadata": {},
   "outputs": [
    {
     "data": {
      "text/plain": [
       "['h', 'e', 'l', 'l', 'o']"
      ]
     },
     "execution_count": 11,
     "metadata": {},
     "output_type": "execute_result"
    }
   ],
   "source": [
    "letters[::-1]"
   ]
  },
  {
   "cell_type": "code",
   "execution_count": 92,
   "id": "e5bf8b7d",
   "metadata": {},
   "outputs": [],
   "source": [
    " letters=\"bonjour\""
   ]
  },
  {
   "cell_type": "code",
   "execution_count": 93,
   "id": "ee6b5049",
   "metadata": {},
   "outputs": [
    {
     "data": {
      "text/plain": [
       "'ruojnob'"
      ]
     },
     "execution_count": 93,
     "metadata": {},
     "output_type": "execute_result"
    }
   ],
   "source": [
    "letters[::-1]"
   ]
  },
  {
   "cell_type": "code",
   "execution_count": 26,
   "id": "d4f82769",
   "metadata": {},
   "outputs": [],
   "source": [
    "arr_ = ['b', 'o', 'n', 'j', 'o', 'u', 'r']"
   ]
  },
  {
   "cell_type": "code",
   "execution_count": 58,
   "id": "837801c4",
   "metadata": {},
   "outputs": [],
   "source": [
    "rev_arr_ =[]\n",
    "for j in arr_:\n",
    "    rev_arr_.append(arr_.index(j))\n",
    "index_ =[]\n",
    "k =1\n",
    "while k < len(rev_arr_):\n",
    "    if k == 0:\n",
    "        index_.append(rev_arr_[-1])\n",
    "    index_.append(rev_arr_[-k])    \n",
    "    k+=1\n",
    "    \n",
    "    "
   ]
  },
  {
   "cell_type": "code",
   "execution_count": 80,
   "id": "08c1829e",
   "metadata": {},
   "outputs": [
    {
     "data": {
      "text/plain": [
       "[0, 1, 2, 3, 1, 5, 6]"
      ]
     },
     "execution_count": 80,
     "metadata": {},
     "output_type": "execute_result"
    }
   ],
   "source": [
    "rev_arr_"
   ]
  },
  {
   "cell_type": "code",
   "execution_count": 40,
   "id": "3ce0fb40",
   "metadata": {},
   "outputs": [
    {
     "data": {
      "text/plain": [
       "[0, 6, 5, 1, 6, 2, 1]"
      ]
     },
     "execution_count": 40,
     "metadata": {},
     "output_type": "execute_result"
    }
   ],
   "source": [
    "index_ "
   ]
  },
  {
   "cell_type": "code",
   "execution_count": 59,
   "id": "25021b8f",
   "metadata": {},
   "outputs": [
    {
     "data": {
      "text/plain": [
       "[6, 5, 1, 3, 2, 1]"
      ]
     },
     "execution_count": 59,
     "metadata": {},
     "output_type": "execute_result"
    }
   ],
   "source": [
    "index_"
   ]
  },
  {
   "cell_type": "code",
   "execution_count": 60,
   "id": "cb939265",
   "metadata": {},
   "outputs": [
    {
     "name": "stdout",
     "output_type": "stream",
     "text": [
      "0\n",
      "1\n",
      "2\n",
      "3\n",
      "4\n",
      "5\n",
      "6\n"
     ]
    }
   ],
   "source": [
    "for x in range(len(rev_arr_)):\n",
    "    print(x)"
   ]
  },
  {
   "cell_type": "code",
   "execution_count": 81,
   "id": "d07abd76",
   "metadata": {},
   "outputs": [
    {
     "data": {
      "text/plain": [
       "-7"
      ]
     },
     "execution_count": 81,
     "metadata": {},
     "output_type": "execute_result"
    }
   ],
   "source": [
    "-len(rev_arr_)"
   ]
  },
  {
   "cell_type": "code",
   "execution_count": 126,
   "id": "8d5310c0",
   "metadata": {},
   "outputs": [],
   "source": [
    "members = [{\"first_name\":\"Olivier\",\"last_name\":'Assie'},\\\n",
    "          {\"first_name\":\"Olivier\",\"last_name\":'Assie'},\n",
    "          {\"first_name\":\"Adams\",\"last_name\":'Sacko'}]"
   ]
  },
  {
   "cell_type": "code",
   "execution_count": 127,
   "id": "464d16a1",
   "metadata": {},
   "outputs": [
    {
     "data": {
      "text/plain": [
       "list"
      ]
     },
     "execution_count": 127,
     "metadata": {},
     "output_type": "execute_result"
    }
   ],
   "source": [
    "type(members)"
   ]
  },
  {
   "cell_type": "code",
   "execution_count": 128,
   "id": "eaa32671",
   "metadata": {},
   "outputs": [
    {
     "name": "stdout",
     "output_type": "stream",
     "text": [
      "Olivier Assie\n",
      "Olivier Assie\n",
      "Adams Sacko\n"
     ]
    }
   ],
   "source": [
    "for x in members:\n",
    "    print(x['first_name']+' '+ x['last_name'])"
   ]
  },
  {
   "cell_type": "code",
   "execution_count": 121,
   "id": "2281647b",
   "metadata": {},
   "outputs": [],
   "source": [
    "c = {'members':members}"
   ]
  },
  {
   "cell_type": "code",
   "execution_count": 129,
   "id": "67483ace",
   "metadata": {},
   "outputs": [
    {
     "name": "stdout",
     "output_type": "stream",
     "text": [
      "{'first_name': 'Olivier', 'last_name': 'Assie'}\n",
      "{'first_name': 'Olivier', 'last_name': 'Assie'}\n",
      "{'first_name': 'Adams', 'last_name': 'Sacko'}\n"
     ]
    }
   ],
   "source": [
    "for x in members:\n",
    "    print(x)"
   ]
  },
  {
   "cell_type": "code",
   "execution_count": 122,
   "id": "4934fe1b",
   "metadata": {},
   "outputs": [
    {
     "data": {
      "text/plain": [
       "{'members': [{'first_name': 'Olivier', 'last_name': 'Assie'},\n",
       "  {'first_name': 'Olivier', 'last_name': 'Assie'},\n",
       "  {'first_name': 'Adams', 'last_name': 'Sacko'}]}"
      ]
     },
     "execution_count": 122,
     "metadata": {},
     "output_type": "execute_result"
    }
   ],
   "source": []
  },
  {
   "cell_type": "code",
   "execution_count": 130,
   "id": "a2d83de0",
   "metadata": {},
   "outputs": [
    {
     "name": "stdout",
     "output_type": "stream",
     "text": [
      "dict_keys(['brand', 'model', 'year'])\n"
     ]
    }
   ],
   "source": [
    "car = {\n",
    "  \"brand\": \"Ford\",\n",
    "  \"model\": \"Mustang\",\n",
    "  \"year\": 1964\n",
    "}\n",
    "\n",
    "x = car.keys()\n",
    "\n",
    "print(x)\n"
   ]
  },
  {
   "cell_type": "code",
   "execution_count": 132,
   "id": "8643e655",
   "metadata": {},
   "outputs": [
    {
     "data": {
      "text/plain": [
       "'Ford'"
      ]
     },
     "execution_count": 132,
     "metadata": {},
     "output_type": "execute_result"
    }
   ],
   "source": [
    "car['brand']"
   ]
  },
  {
   "cell_type": "code",
   "execution_count": 135,
   "id": "5b551ea8",
   "metadata": {},
   "outputs": [
    {
     "name": "stdout",
     "output_type": "stream",
     "text": [
      "dict_values(['Ford', 'Mustang', 1964])\n"
     ]
    }
   ],
   "source": [
    "y = car.values()\n",
    "print(y)"
   ]
  },
  {
   "cell_type": "code",
   "execution_count": 136,
   "id": "67fbcfaa",
   "metadata": {},
   "outputs": [],
   "source": [
    "car['brand'] = \"Musubissi\""
   ]
  },
  {
   "cell_type": "code",
   "execution_count": 137,
   "id": "bfa8d562",
   "metadata": {},
   "outputs": [
    {
     "name": "stdout",
     "output_type": "stream",
     "text": [
      "dict_values(['Musubissi', 'Mustang', 1964])\n"
     ]
    }
   ],
   "source": [
    "y = car.values()\n",
    "print(y)"
   ]
  },
  {
   "cell_type": "code",
   "execution_count": 138,
   "id": "1d238dd7",
   "metadata": {},
   "outputs": [
    {
     "data": {
      "text/plain": [
       "'Musubissi'"
      ]
     },
     "execution_count": 138,
     "metadata": {},
     "output_type": "execute_result"
    }
   ],
   "source": [
    "car.get('brand')"
   ]
  },
  {
   "cell_type": "raw",
   "id": "f3362d80",
   "metadata": {},
   "source": []
  },
  {
   "cell_type": "code",
   "execution_count": 149,
   "id": "f40e75f2",
   "metadata": {},
   "outputs": [
    {
     "name": "stdout",
     "output_type": "stream",
     "text": [
      "Musubissi\n",
      "Mustang\n",
      "1964\n"
     ]
    }
   ],
   "source": [
    "for x in car:\n",
    "    y = car.get(x)\n",
    "    print(y)\n",
    "    y=''"
   ]
  },
  {
   "cell_type": "code",
   "execution_count": 150,
   "id": "717a8da0",
   "metadata": {},
   "outputs": [],
   "source": [
    "myfamily = {\n",
    "  \"child1\" : {\n",
    "    \"name\" : \"Emil\",\n",
    "    \"year\" : 2004\n",
    "  },\n",
    "  \"child2\" : {\n",
    "    \"name\" : \"Tobias\",\n",
    "    \"year\" : 2007\n",
    "  },\n",
    "  \"child3\" : {\n",
    "    \"name\" : \"Linus\",\n",
    "    \"year\" : 2011\n",
    "  }\n",
    "}\n"
   ]
  },
  {
   "cell_type": "code",
   "execution_count": 156,
   "id": "59ad87df",
   "metadata": {},
   "outputs": [
    {
     "name": "stdout",
     "output_type": "stream",
     "text": [
      "Emil\n",
      "------\n",
      "2004\n",
      "------\n",
      "Tobias\n",
      "------\n",
      "2007\n",
      "------\n",
      "Linus\n",
      "------\n",
      "2011\n",
      "------\n"
     ]
    }
   ],
   "source": [
    "for x in myfamily:\n",
    "    z = myfamily.get(x)\n",
    "    for i in z:\n",
    "        y = z.get(i)\n",
    "        print(y)\n",
    "        print('---'*2)"
   ]
  },
  {
   "cell_type": "code",
   "execution_count": 157,
   "id": "8dae93a3",
   "metadata": {},
   "outputs": [],
   "source": [
    "context = {\n",
    "    'cars': ['Ford', 'Volvo', 'BMW'],\n",
    "    'colors': ['Red', 'Green', 'Blue']\n",
    "    }"
   ]
  },
  {
   "cell_type": "code",
   "execution_count": 159,
   "id": "3bb0af72",
   "metadata": {},
   "outputs": [],
   "source": [
    "arr =  ['Ford', 'Volvo', 'BMW']"
   ]
  },
  {
   "cell_type": "code",
   "execution_count": 1,
   "id": "9ff157cf",
   "metadata": {},
   "outputs": [],
   "source": [
    "words = [\"PoGo\",\"Spange\",\"Lie-Fi\"]\n",
    "definitions = [\"Slang for Pokemon Go\",\"To collect spare change, either from couches, passerbys on the street or any numerous other ways and means\",\"When your phone or tablet indicates that you are connected to a wireless network, however you are still unable to load webpages or use any internet services with your device\"] \n"
   ]
  },
  {
   "cell_type": "code",
   "execution_count": 5,
   "id": "5e41cb59",
   "metadata": {},
   "outputs": [
    {
     "data": {
      "text/plain": [
       "{'PoGo': 'Slang for Pokemon Go',\n",
       " 'Spange': 'To collect spare change, either from couches, passerbys on the street or any numerous other ways and means',\n",
       " 'Lie-Fi': 'When your phone or tablet indicates that you are connected to a wireless network, however you are still unable to load webpages or use any internet services with your device'}"
      ]
     },
     "execution_count": 5,
     "metadata": {},
     "output_type": "execute_result"
    }
   ],
   "source": [
    "my_dict = {}\n",
    "for i in range(0,len(words)):\n",
    "    my_dict[words[i]] = definitions[i]\n",
    "my_dict"
   ]
  },
  {
   "cell_type": "code",
   "execution_count": null,
   "id": "a0ebb474",
   "metadata": {},
   "outputs": [],
   "source": []
  },
  {
   "cell_type": "code",
   "execution_count": null,
   "id": "e2b82fef",
   "metadata": {},
   "outputs": [],
   "source": []
  }
 ],
 "metadata": {
  "kernelspec": {
   "display_name": "Python 3 (ipykernel)",
   "language": "python",
   "name": "python3"
  },
  "language_info": {
   "codemirror_mode": {
    "name": "ipython",
    "version": 3
   },
   "file_extension": ".py",
   "mimetype": "text/x-python",
   "name": "python",
   "nbconvert_exporter": "python",
   "pygments_lexer": "ipython3",
   "version": "3.9.7"
  }
 },
 "nbformat": 4,
 "nbformat_minor": 5
}
