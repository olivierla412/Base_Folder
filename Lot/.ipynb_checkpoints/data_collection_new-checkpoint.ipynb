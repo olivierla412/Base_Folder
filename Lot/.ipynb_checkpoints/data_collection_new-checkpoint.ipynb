{
 "cells": [
  {
   "cell_type": "code",
   "execution_count": 1,
   "id": "2f0c2973",
   "metadata": {},
   "outputs": [],
   "source": [
    "## Importing the libraries\n",
    "import pandas as pd\n",
    "import selenium\n",
    "from selenium import webdriver\n",
    "import time\n",
    "from selenium.common.exceptions import StaleElementReferenceException,NoSuchElementException\n",
    "from tqdm import tqdm\n",
    "import time\n",
    "time.sleep(2)\n",
    "## open a new driver\n",
    "driver = webdriver.Chrome('/Users/oliverla412/Desktop/chromedriver')\n",
    "time.sleep(3)\n",
    "url = 'https://lonaci.net/produits/loto_bonheur/resultats'\n",
    "driver.get(url)\n",
    "time.sleep(2)\n",
    "driver.maximize_window()\n",
    "time.sleep(3)\n",
    "date = driver.find_elements_by_xpath('//small[@class=\\\"loto-date\\\"]')\n",
    "Date_list =[]\n",
    "for x in date:\n",
    "    Date_list.append(x.text)\n",
    "first_no = driver.find_elements_by_xpath('//span[@class=\\\"loto-first-number\\\"]')\n",
    "First_no = []\n",
    "for x in first_no:\n",
    "    First_no.append(x.text)\n",
    "type_of_game = driver.find_elements_by_xpath('//h3[@class=\\\"loto-second-title\\\"]')\n",
    "Type_of_game = []\n",
    "for x in type_of_game:\n",
    "    Type_of_game.append(x.text)\n",
    "lotto_no = driver.find_elements_by_xpath('//span[@class=\\\"loto-number\\\"]')\n",
    "Lotto_no= []\n",
    "for x in lotto_no:\n",
    "    Lotto_no.append(x.text)\n",
    "    Lotto_nos = Lotto_no[:48]\n",
    "lott_no2 = []\n",
    "lott_no3 = []\n",
    "lott_no4 = []\n",
    "lott_no5 = []  \n",
    "\n",
    "for x in range(0,len(Lotto_nos),4):\n",
    "    lott_no2.append(Lotto_nos[x])\n",
    "    lott_no3.append(Lotto_nos[x + 1])\n",
    "    lott_no4.append(Lotto_nos[x + 2])\n",
    "    lott_no5.append(Lotto_nos[x + 3])\n",
    "    \n",
    "data = pd.DataFrame({})\n",
    "data['play_days'] = Date_list\n",
    "data['First_number'] = First_no[:12]\n",
    "data['Type_of_game'] = Type_of_game\n",
    "data['lott_no2'] = lott_no2\n",
    "data['lott_no3'] = lott_no3\n",
    "data['lott_no4'] = lott_no4\n",
    "data['lott_no5'] = lott_no5\n",
    "data.to_csv('Data_103.csv')\n",
    "time.sleep(3)\n",
    "driver.close()"
   ]
  },
  {
   "cell_type": "code",
   "execution_count": 2,
   "id": "dfc20b85",
   "metadata": {},
   "outputs": [
    {
     "data": {
      "text/html": [
       "<div>\n",
       "<style scoped>\n",
       "    .dataframe tbody tr th:only-of-type {\n",
       "        vertical-align: middle;\n",
       "    }\n",
       "\n",
       "    .dataframe tbody tr th {\n",
       "        vertical-align: top;\n",
       "    }\n",
       "\n",
       "    .dataframe thead th {\n",
       "        text-align: right;\n",
       "    }\n",
       "</style>\n",
       "<table border=\"1\" class=\"dataframe\">\n",
       "  <thead>\n",
       "    <tr style=\"text-align: right;\">\n",
       "      <th></th>\n",
       "      <th>play_days</th>\n",
       "      <th>First_number</th>\n",
       "      <th>Type_of_game</th>\n",
       "      <th>lott_no2</th>\n",
       "      <th>lott_no3</th>\n",
       "      <th>lott_no4</th>\n",
       "      <th>lott_no5</th>\n",
       "    </tr>\n",
       "  </thead>\n",
       "  <tbody>\n",
       "    <tr>\n",
       "      <th>0</th>\n",
       "      <td>MERCREDI 27 JUILLET 2022</td>\n",
       "      <td>32</td>\n",
       "      <td>TIRAGE «BARAKA» N°186</td>\n",
       "      <td>30</td>\n",
       "      <td>77</td>\n",
       "      <td>20</td>\n",
       "      <td>25</td>\n",
       "    </tr>\n",
       "    <tr>\n",
       "      <th>1</th>\n",
       "      <td>MERCREDI 27 JUILLET 2022</td>\n",
       "      <td>76</td>\n",
       "      <td>TIRAGE «BARAKA» NUMEROS MACHINE N°186</td>\n",
       "      <td>12</td>\n",
       "      <td>23</td>\n",
       "      <td>57</td>\n",
       "      <td>19</td>\n",
       "    </tr>\n",
       "    <tr>\n",
       "      <th>2</th>\n",
       "      <td>MERCREDI 27 JUILLET 2022</td>\n",
       "      <td>59</td>\n",
       "      <td>TIRAGE «FORTUNE» N°734</td>\n",
       "      <td>68</td>\n",
       "      <td>80</td>\n",
       "      <td>46</td>\n",
       "      <td>64</td>\n",
       "    </tr>\n",
       "    <tr>\n",
       "      <th>3</th>\n",
       "      <td>MERCREDI 27 JUILLET 2022</td>\n",
       "      <td>72</td>\n",
       "      <td>TIRAGE «FORTUNE» NUMEROS MACHINE N°734</td>\n",
       "      <td>78</td>\n",
       "      <td>33</td>\n",
       "      <td>73</td>\n",
       "      <td>08</td>\n",
       "    </tr>\n",
       "    <tr>\n",
       "      <th>4</th>\n",
       "      <td>MERCREDI 27 JUILLET 2022</td>\n",
       "      <td>32</td>\n",
       "      <td>TIRAGE «PREMIERE HEURE» N°205</td>\n",
       "      <td>79</td>\n",
       "      <td>24</td>\n",
       "      <td>29</td>\n",
       "      <td>05</td>\n",
       "    </tr>\n",
       "    <tr>\n",
       "      <th>5</th>\n",
       "      <td>MERCREDI 27 JUILLET 2022</td>\n",
       "      <td>50</td>\n",
       "      <td>TIRAGE «PREMIERE HEURE» NUMEROS MACHINE N°205</td>\n",
       "      <td>45</td>\n",
       "      <td>86</td>\n",
       "      <td>83</td>\n",
       "      <td>60</td>\n",
       "    </tr>\n",
       "    <tr>\n",
       "      <th>6</th>\n",
       "      <td>MARDI 26 JUILLET 2022</td>\n",
       "      <td>17</td>\n",
       "      <td>TIRAGE « LA MATINALE » N°205</td>\n",
       "      <td>75</td>\n",
       "      <td>47</td>\n",
       "      <td>53</td>\n",
       "      <td>24</td>\n",
       "    </tr>\n",
       "    <tr>\n",
       "      <th>7</th>\n",
       "      <td>MARDI 26 JUILLET 2022</td>\n",
       "      <td>79</td>\n",
       "      <td>TIRAGE « LA MATINALE » NUMEROS MACHINE N°205</td>\n",
       "      <td>52</td>\n",
       "      <td>05</td>\n",
       "      <td>58</td>\n",
       "      <td>27</td>\n",
       "    </tr>\n",
       "    <tr>\n",
       "      <th>8</th>\n",
       "      <td>LUNDI 25 JUILLET 2022</td>\n",
       "      <td>62</td>\n",
       "      <td>TIRAGE «ETOILE» N°325</td>\n",
       "      <td>64</td>\n",
       "      <td>75</td>\n",
       "      <td>26</td>\n",
       "      <td>39</td>\n",
       "    </tr>\n",
       "    <tr>\n",
       "      <th>9</th>\n",
       "      <td>LUNDI 25 JUILLET 2022</td>\n",
       "      <td>32</td>\n",
       "      <td>TIRAGE «ETOILE» NUMEROS MACHINE N°325</td>\n",
       "      <td>71</td>\n",
       "      <td>44</td>\n",
       "      <td>59</td>\n",
       "      <td>48</td>\n",
       "    </tr>\n",
       "    <tr>\n",
       "      <th>10</th>\n",
       "      <td>LUNDI 25 JUILLET 2022</td>\n",
       "      <td>50</td>\n",
       "      <td>TIRAGE «REVEIL» N°205</td>\n",
       "      <td>33</td>\n",
       "      <td>32</td>\n",
       "      <td>42</td>\n",
       "      <td>71</td>\n",
       "    </tr>\n",
       "    <tr>\n",
       "      <th>11</th>\n",
       "      <td>LUNDI 25 JUILLET 2022</td>\n",
       "      <td>80</td>\n",
       "      <td>TIRAGE «REVEIL» NUMEROS MACHINE N°205</td>\n",
       "      <td>25</td>\n",
       "      <td>24</td>\n",
       "      <td>02</td>\n",
       "      <td>90</td>\n",
       "    </tr>\n",
       "  </tbody>\n",
       "</table>\n",
       "</div>"
      ],
      "text/plain": [
       "                   play_days First_number  \\\n",
       "0   MERCREDI 27 JUILLET 2022           32   \n",
       "1   MERCREDI 27 JUILLET 2022           76   \n",
       "2   MERCREDI 27 JUILLET 2022           59   \n",
       "3   MERCREDI 27 JUILLET 2022           72   \n",
       "4   MERCREDI 27 JUILLET 2022           32   \n",
       "5   MERCREDI 27 JUILLET 2022           50   \n",
       "6      MARDI 26 JUILLET 2022           17   \n",
       "7      MARDI 26 JUILLET 2022           79   \n",
       "8      LUNDI 25 JUILLET 2022           62   \n",
       "9      LUNDI 25 JUILLET 2022           32   \n",
       "10     LUNDI 25 JUILLET 2022           50   \n",
       "11     LUNDI 25 JUILLET 2022           80   \n",
       "\n",
       "                                     Type_of_game lott_no2 lott_no3 lott_no4  \\\n",
       "0                           TIRAGE «BARAKA» N°186       30       77       20   \n",
       "1           TIRAGE «BARAKA» NUMEROS MACHINE N°186       12       23       57   \n",
       "2                          TIRAGE «FORTUNE» N°734       68       80       46   \n",
       "3          TIRAGE «FORTUNE» NUMEROS MACHINE N°734       78       33       73   \n",
       "4                   TIRAGE «PREMIERE HEURE» N°205       79       24       29   \n",
       "5   TIRAGE «PREMIERE HEURE» NUMEROS MACHINE N°205       45       86       83   \n",
       "6                    TIRAGE « LA MATINALE » N°205       75       47       53   \n",
       "7    TIRAGE « LA MATINALE » NUMEROS MACHINE N°205       52       05       58   \n",
       "8                           TIRAGE «ETOILE» N°325       64       75       26   \n",
       "9           TIRAGE «ETOILE» NUMEROS MACHINE N°325       71       44       59   \n",
       "10                          TIRAGE «REVEIL» N°205       33       32       42   \n",
       "11          TIRAGE «REVEIL» NUMEROS MACHINE N°205       25       24       02   \n",
       "\n",
       "   lott_no5  \n",
       "0        25  \n",
       "1        19  \n",
       "2        64  \n",
       "3        08  \n",
       "4        05  \n",
       "5        60  \n",
       "6        24  \n",
       "7        27  \n",
       "8        39  \n",
       "9        48  \n",
       "10       71  \n",
       "11       90  "
      ]
     },
     "execution_count": 2,
     "metadata": {},
     "output_type": "execute_result"
    }
   ],
   "source": [
    "data"
   ]
  },
  {
   "cell_type": "code",
   "execution_count": 6,
   "id": "65ae5414",
   "metadata": {},
   "outputs": [
    {
     "name": "stdout",
     "output_type": "stream",
     "text": [
      "Big_data.csv              Data_4.csv                Data_71.csv\r\n",
      "Big_data.xlsx             Data_40.csv               Data_72.csv\r\n",
      "Data_1.csv                Data_41.csv               Data_73.csv\r\n",
      "Data_10.csv               Data_42.csv               Data_74.csv\r\n",
      "Data_100.csv              Data_43.csv               Data_75.csv\r\n",
      "Data_101.csv              Data_44.csv               Data_76.csv\r\n",
      "Data_102.csv              Data_45.csv               Data_77.csv\r\n",
      "Data_103.csv              Data_46.csv               Data_78.csv\r\n",
      "Data_11.csv               Data_47.csv               Data_79.csv\r\n",
      "Data_12.csv               Data_48.csv               Data_8.csv\r\n",
      "Data_13.csv               Data_49.csv               Data_80.csv\r\n",
      "Data_14.csv               Data_5.csv                Data_81.csv\r\n",
      "Data_15.csv               Data_50.csv               Data_82.csv\r\n",
      "Data_16.csv               Data_51.csv               Data_83.csv\r\n",
      "Data_20.csv               Data_52.csv               Data_84.csv\r\n",
      "Data_21.csv               Data_53.csv               Data_85.csv\r\n",
      "Data_22.csv               Data_54.csv               Data_86.csv\r\n",
      "Data_23.csv               Data_55.csv               Data_87.csv\r\n",
      "Data_24.csv               Data_56.csv               Data_88.csv\r\n",
      "Data_25.csv               Data_57.csv               Data_89.csv\r\n",
      "Data_26.csv               Data_58.csv               Data_9.csv\r\n",
      "Data_27.csv               Data_59.csv               Data_90.csv\r\n",
      "Data_28.csv               Data_6.csv                Data_91.csv\r\n",
      "Data_29.csv               Data_60.csv               Data_92.csv\r\n",
      "Data_3.csv                Data_61.csv               Data_93.csv\r\n",
      "Data_30.csv               Data_62.csv               Data_94.csv\r\n",
      "Data_31.csv               Data_63.csv               Data_95.csv\r\n",
      "Data_32.csv               Data_64.csv               Data_96.csv\r\n",
      "Data_33.csv               Data_65.csv               Data_97.csv\r\n",
      "Data_34.csv               Data_66.csv               Data_98.csv\r\n",
      "Data_35.csv               Data_67.csv               Data_99.csv\r\n",
      "Data_36.csv               Data_68.csv               MySQL_db.ipynb\r\n",
      "Data_37.csv               Data_69.csv               Recall.ipynb\r\n",
      "Data_38.csv               Data_7.csv                data_collection_new.ipynb\r\n",
      "Data_39.csv               Data_70.csv\r\n"
     ]
    }
   ],
   "source": [
    "!ls"
   ]
  },
  {
   "cell_type": "code",
   "execution_count": null,
   "id": "53279325",
   "metadata": {},
   "outputs": [],
   "source": []
  },
  {
   "cell_type": "code",
   "execution_count": null,
   "id": "8431ae99",
   "metadata": {},
   "outputs": [],
   "source": []
  },
  {
   "cell_type": "code",
   "execution_count": 8,
   "id": "1c28dc82",
   "metadata": {},
   "outputs": [],
   "source": []
  },
  {
   "cell_type": "code",
   "execution_count": null,
   "id": "ea601bce",
   "metadata": {},
   "outputs": [],
   "source": []
  },
  {
   "cell_type": "code",
   "execution_count": null,
   "id": "5213e646",
   "metadata": {},
   "outputs": [],
   "source": []
  },
  {
   "cell_type": "code",
   "execution_count": null,
   "id": "d24e3f62",
   "metadata": {},
   "outputs": [],
   "source": []
  },
  {
   "cell_type": "code",
   "execution_count": null,
   "id": "6bd4b267",
   "metadata": {},
   "outputs": [],
   "source": []
  },
  {
   "cell_type": "code",
   "execution_count": null,
   "id": "0d5925e0",
   "metadata": {},
   "outputs": [],
   "source": []
  },
  {
   "cell_type": "code",
   "execution_count": null,
   "id": "7fb5a5c1",
   "metadata": {},
   "outputs": [],
   "source": []
  },
  {
   "cell_type": "code",
   "execution_count": 24,
   "id": "189ae978",
   "metadata": {},
   "outputs": [],
   "source": [
    "MyBox = [x for x in range(0,20) if x%2!=0]"
   ]
  },
  {
   "cell_type": "code",
   "execution_count": 25,
   "id": "b0c6289c",
   "metadata": {},
   "outputs": [
    {
     "data": {
      "text/plain": [
       "[1, 3, 5, 7, 9, 11, 13, 15, 17, 19]"
      ]
     },
     "execution_count": 25,
     "metadata": {},
     "output_type": "execute_result"
    }
   ],
   "source": [
    "MyBox"
   ]
  },
  {
   "cell_type": "code",
   "execution_count": 27,
   "id": "7d5b92a4",
   "metadata": {},
   "outputs": [
    {
     "data": {
      "text/plain": [
       "8"
      ]
     },
     "execution_count": 27,
     "metadata": {},
     "output_type": "execute_result"
    }
   ],
   "source": [
    "2**3"
   ]
  },
  {
   "cell_type": "code",
   "execution_count": 29,
   "id": "65f3d7c1",
   "metadata": {},
   "outputs": [
    {
     "data": {
      "text/plain": [
       "2.0"
      ]
     },
     "execution_count": 29,
     "metadata": {},
     "output_type": "execute_result"
    }
   ],
   "source": [
    "4**1/2"
   ]
  },
  {
   "cell_type": "code",
   "execution_count": 39,
   "id": "a7eb8d0c",
   "metadata": {},
   "outputs": [],
   "source": [
    "def test(a,b):\n",
    "    x = int(a)\n",
    "    y = int(b)\n",
    "    var = (((x+12)**2)-(y**3))//9\n",
    "    return var\n",
    "    "
   ]
  },
  {
   "cell_type": "code",
   "execution_count": 42,
   "id": "e26728f1",
   "metadata": {},
   "outputs": [
    {
     "data": {
      "text/plain": [
       "-19400"
      ]
     },
     "execution_count": 42,
     "metadata": {},
     "output_type": "execute_result"
    }
   ],
   "source": [
    "test(20,56)"
   ]
  },
  {
   "cell_type": "code",
   "execution_count": 45,
   "id": "04b33e85",
   "metadata": {},
   "outputs": [
    {
     "name": "stdout",
     "output_type": "stream",
     "text": [
      "0\n",
      "1\n",
      "2\n",
      "3\n",
      "4\n",
      "5\n"
     ]
    }
   ],
   "source": [
    "for x in range(0,20):\n",
    "    print(x)\n",
    "    if x==5:\n",
    "        break"
   ]
  },
  {
   "cell_type": "code",
   "execution_count": 51,
   "id": "eccba6a5",
   "metadata": {},
   "outputs": [
    {
     "name": "stdout",
     "output_type": "stream",
     "text": [
      "0\n",
      "1\n",
      "2\n",
      "3\n",
      "4\n",
      "6\n",
      "7\n",
      "8\n",
      "9\n",
      "10\n",
      "11\n",
      "12\n",
      "13\n",
      "14\n",
      "15\n",
      "16\n",
      "17\n",
      "18\n",
      "19\n",
      "20\n"
     ]
    }
   ],
   "source": [
    "for x in range(0,20+1):\n",
    "    if x==5:\n",
    "        continue\n",
    "    print(x)   "
   ]
  },
  {
   "cell_type": "code",
   "execution_count": 59,
   "id": "589ca38d",
   "metadata": {},
   "outputs": [],
   "source": [
    "my_string = 'Welcome to Python'"
   ]
  },
  {
   "cell_type": "code",
   "execution_count": 62,
   "id": "581f13c4",
   "metadata": {},
   "outputs": [
    {
     "name": "stdout",
     "output_type": "stream",
     "text": [
      "my_string[0]:- e\n"
     ]
    }
   ],
   "source": [
    "print('my_string[0]:-',my_string[1])"
   ]
  },
  {
   "cell_type": "code",
   "execution_count": 64,
   "id": "ec4525ac",
   "metadata": {},
   "outputs": [
    {
     "name": "stdout",
     "output_type": "stream",
     "text": [
      "my_string[0]:-e\n"
     ]
    }
   ],
   "source": [
    "print(f'my_string[0]:-{my_string[1]}')"
   ]
  },
  {
   "cell_type": "code",
   "execution_count": null,
   "id": "3fd194fe",
   "metadata": {},
   "outputs": [],
   "source": []
  },
  {
   "cell_type": "code",
   "execution_count": 65,
   "id": "574448e6",
   "metadata": {},
   "outputs": [
    {
     "name": "stdout",
     "output_type": "stream",
     "text": [
      "my_string[0]:-e\n"
     ]
    }
   ],
   "source": [
    "print(f\"my_string[0]:-{my_string[1]}\")"
   ]
  },
  {
   "cell_type": "code",
   "execution_count": 66,
   "id": "3f4b6012",
   "metadata": {},
   "outputs": [
    {
     "name": "stdout",
     "output_type": "stream",
     "text": [
      "my_string[0]:-e\n"
     ]
    }
   ],
   "source": [
    "print('my_string[0]:-'+ my_string[1])"
   ]
  },
  {
   "cell_type": "code",
   "execution_count": 80,
   "id": "9662fc6f",
   "metadata": {},
   "outputs": [],
   "source": [
    "def test(str1, str2):\n",
    "    a = str1[0:3]\n",
    "    b = str2[0:3]\n",
    "    print(f'My Output is: {a + b}') "
   ]
  },
  {
   "cell_type": "code",
   "execution_count": 81,
   "id": "67e9cb7a",
   "metadata": {},
   "outputs": [
    {
     "name": "stdout",
     "output_type": "stream",
     "text": [
      "My Output is: CodWor\n"
     ]
    }
   ],
   "source": [
    "test(\"Coding\",\"World\")"
   ]
  }
 ],
 "metadata": {
  "kernelspec": {
   "display_name": "Python 3 (ipykernel)",
   "language": "python",
   "name": "python3"
  },
  "language_info": {
   "codemirror_mode": {
    "name": "ipython",
    "version": 3
   },
   "file_extension": ".py",
   "mimetype": "text/x-python",
   "name": "python",
   "nbconvert_exporter": "python",
   "pygments_lexer": "ipython3",
   "version": "3.9.7"
  }
 },
 "nbformat": 4,
 "nbformat_minor": 5
}
