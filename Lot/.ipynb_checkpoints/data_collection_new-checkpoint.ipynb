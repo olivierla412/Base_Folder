{
 "cells": [
  {
   "cell_type": "code",
   "execution_count": null,
   "id": "2f0c2973",
   "metadata": {},
   "outputs": [],
   "source": [
    "## Importing the libraries\n",
    "import pandas as pd\n",
    "import selenium\n",
    "from selenium import webdriver\n",
    "import time\n",
    "from selenium.common.exceptions import StaleElementReferenceException,NoSuchElementException\n",
    "from tqdm import tqdm\n",
    "import time\n",
    "time.sleep(2)\n",
    "## open a new driver\n",
    "driver = webdriver.Chrome('/Users/oliverla412/Desktop/chromedriver')\n",
    "time.sleep(3)\n",
    "url = 'https://lonaci.net/produits/loto_bonheur/resultats'\n",
    "driver.get(url)\n",
    "time.sleep(2)\n",
    "driver.maximize_window()\n",
    "time.sleep(3)\n",
    "date = driver.find_elements_by_xpath('//small[@class=\\\"loto-date\\\"]')\n",
    "Date_list =[]\n",
    "for x in date:\n",
    "    Date_list.append(x.text)\n",
    "first_no = driver.find_elements_by_xpath('//span[@class=\\\"loto-first-number\\\"]')\n",
    "First_no = []\n",
    "for x in first_no:\n",
    "    First_no.append(x.text)\n",
    "type_of_game = driver.find_elements_by_xpath('//h3[@class=\\\"loto-second-title\\\"]')\n",
    "Type_of_game = []\n",
    "for x in type_of_game:\n",
    "    Type_of_game.append(x.text)\n",
    "lotto_no = driver.find_elements_by_xpath('//span[@class=\\\"loto-number\\\"]')\n",
    "Lotto_no= []\n",
    "for x in lotto_no:\n",
    "    Lotto_no.append(x.text)\n",
    "    Lotto_nos = Lotto_no[:48]\n",
    "lott_no2 = []\n",
    "lott_no3 = []\n",
    "lott_no4 = []\n",
    "lott_no5 = []  \n",
    "\n",
    "for x in range(0,len(Lotto_nos),4):\n",
    "    lott_no2.append(Lotto_nos[x])\n",
    "    lott_no3.append(Lotto_nos[x + 1])\n",
    "    lott_no4.append(Lotto_nos[x + 2])\n",
    "    lott_no5.append(Lotto_nos[x + 3])\n",
    "    \n",
    "data = pd.DataFrame({})\n",
    "data['play_days'] = Date_list\n",
    "data['First_number'] = First_no[:12]\n",
    "data['Type_of_game'] = Type_of_game\n",
    "data['lott_no2'] = lott_no2\n",
    "data['lott_no3'] = lott_no3\n",
    "data['lott_no4'] = lott_no4\n",
    "data['lott_no5'] = lott_no5\n",
    "data.to_csv('Data_150.csv')\n",
    "time.sleep(3)\n",
    "driver.close()"
   ]
  },
  {
   "cell_type": "code",
   "execution_count": 2,
   "id": "dfc20b85",
   "metadata": {},
   "outputs": [
    {
     "data": {
      "text/html": [
       "<div>\n",
       "<style scoped>\n",
       "    .dataframe tbody tr th:only-of-type {\n",
       "        vertical-align: middle;\n",
       "    }\n",
       "\n",
       "    .dataframe tbody tr th {\n",
       "        vertical-align: top;\n",
       "    }\n",
       "\n",
       "    .dataframe thead th {\n",
       "        text-align: right;\n",
       "    }\n",
       "</style>\n",
       "<table border=\"1\" class=\"dataframe\">\n",
       "  <thead>\n",
       "    <tr style=\"text-align: right;\">\n",
       "      <th></th>\n",
       "      <th>play_days</th>\n",
       "      <th>First_number</th>\n",
       "      <th>Type_of_game</th>\n",
       "      <th>lott_no2</th>\n",
       "      <th>lott_no3</th>\n",
       "      <th>lott_no4</th>\n",
       "      <th>lott_no5</th>\n",
       "    </tr>\n",
       "  </thead>\n",
       "  <tbody>\n",
       "    <tr>\n",
       "      <th>0</th>\n",
       "      <td>LUNDI 14 NOVEMBRE 2022</td>\n",
       "      <td>89</td>\n",
       "      <td>TIRAGE «AKWABA» N°202</td>\n",
       "      <td>79</td>\n",
       "      <td>85</td>\n",
       "      <td>55</td>\n",
       "      <td>83</td>\n",
       "    </tr>\n",
       "    <tr>\n",
       "      <th>1</th>\n",
       "      <td>LUNDI 14 NOVEMBRE 2022</td>\n",
       "      <td>58</td>\n",
       "      <td>TIRAGE «AKWABA» NUMEROS MACHINE N°202</td>\n",
       "      <td>13</td>\n",
       "      <td>37</td>\n",
       "      <td>06</td>\n",
       "      <td>23</td>\n",
       "    </tr>\n",
       "    <tr>\n",
       "      <th>2</th>\n",
       "      <td>LUNDI 14 NOVEMBRE 2022</td>\n",
       "      <td>29</td>\n",
       "      <td>TIRAGE «ETOILE» N°341</td>\n",
       "      <td>44</td>\n",
       "      <td>15</td>\n",
       "      <td>10</td>\n",
       "      <td>82</td>\n",
       "    </tr>\n",
       "    <tr>\n",
       "      <th>3</th>\n",
       "      <td>LUNDI 14 NOVEMBRE 2022</td>\n",
       "      <td>57</td>\n",
       "      <td>TIRAGE «ETOILE» NUMEROS MACHINE N°341</td>\n",
       "      <td>58</td>\n",
       "      <td>48</td>\n",
       "      <td>20</td>\n",
       "      <td>63</td>\n",
       "    </tr>\n",
       "    <tr>\n",
       "      <th>4</th>\n",
       "      <td>LUNDI 14 NOVEMBRE 2022</td>\n",
       "      <td>83</td>\n",
       "      <td>TIRAGE «REVEIL» N°221</td>\n",
       "      <td>87</td>\n",
       "      <td>50</td>\n",
       "      <td>86</td>\n",
       "      <td>08</td>\n",
       "    </tr>\n",
       "    <tr>\n",
       "      <th>5</th>\n",
       "      <td>LUNDI 14 NOVEMBRE 2022</td>\n",
       "      <td>62</td>\n",
       "      <td>TIRAGE «REVEIL» NUMEROS MACHINE N°221</td>\n",
       "      <td>57</td>\n",
       "      <td>04</td>\n",
       "      <td>60</td>\n",
       "      <td>52</td>\n",
       "    </tr>\n",
       "    <tr>\n",
       "      <th>6</th>\n",
       "      <td>DIMANCHE 13 NOVEMBRE 2022</td>\n",
       "      <td>79</td>\n",
       "      <td>TIRAGE «AWALE» N°201</td>\n",
       "      <td>71</td>\n",
       "      <td>11</td>\n",
       "      <td>16</td>\n",
       "      <td>72</td>\n",
       "    </tr>\n",
       "    <tr>\n",
       "      <th>7</th>\n",
       "      <td>DIMANCHE 13 NOVEMBRE 2022</td>\n",
       "      <td>83</td>\n",
       "      <td>TIRAGE «AWALE» NUMEROS MACHINE N°201</td>\n",
       "      <td>68</td>\n",
       "      <td>49</td>\n",
       "      <td>52</td>\n",
       "      <td>56</td>\n",
       "    </tr>\n",
       "    <tr>\n",
       "      <th>8</th>\n",
       "      <td>DIMANCHE 13 NOVEMBRE 2022</td>\n",
       "      <td>46</td>\n",
       "      <td>TIRAGE «PRESTIGE» N°269</td>\n",
       "      <td>17</td>\n",
       "      <td>23</td>\n",
       "      <td>37</td>\n",
       "      <td>70</td>\n",
       "    </tr>\n",
       "    <tr>\n",
       "      <th>9</th>\n",
       "      <td>DIMANCHE 13 NOVEMBRE 2022</td>\n",
       "      <td>44</td>\n",
       "      <td>TIRAGE «PRESTIGE» NUMEROS MACHINE N°269</td>\n",
       "      <td>52</td>\n",
       "      <td>64</td>\n",
       "      <td>11</td>\n",
       "      <td>38</td>\n",
       "    </tr>\n",
       "    <tr>\n",
       "      <th>10</th>\n",
       "      <td>DIMANCHE 13 NOVEMBRE 2022</td>\n",
       "      <td>24</td>\n",
       "      <td>TIRAGE «BENEDICTION» N°221</td>\n",
       "      <td>30</td>\n",
       "      <td>34</td>\n",
       "      <td>88</td>\n",
       "      <td>46</td>\n",
       "    </tr>\n",
       "    <tr>\n",
       "      <th>11</th>\n",
       "      <td>DIMANCHE 13 NOVEMBRE 2022</td>\n",
       "      <td>50</td>\n",
       "      <td>TIRAGE «BENEDICTION» NUMEROS MACHINE N°221</td>\n",
       "      <td>13</td>\n",
       "      <td>83</td>\n",
       "      <td>59</td>\n",
       "      <td>52</td>\n",
       "    </tr>\n",
       "  </tbody>\n",
       "</table>\n",
       "</div>"
      ],
      "text/plain": [
       "                    play_days First_number  \\\n",
       "0      LUNDI 14 NOVEMBRE 2022           89   \n",
       "1      LUNDI 14 NOVEMBRE 2022           58   \n",
       "2      LUNDI 14 NOVEMBRE 2022           29   \n",
       "3      LUNDI 14 NOVEMBRE 2022           57   \n",
       "4      LUNDI 14 NOVEMBRE 2022           83   \n",
       "5      LUNDI 14 NOVEMBRE 2022           62   \n",
       "6   DIMANCHE 13 NOVEMBRE 2022           79   \n",
       "7   DIMANCHE 13 NOVEMBRE 2022           83   \n",
       "8   DIMANCHE 13 NOVEMBRE 2022           46   \n",
       "9   DIMANCHE 13 NOVEMBRE 2022           44   \n",
       "10  DIMANCHE 13 NOVEMBRE 2022           24   \n",
       "11  DIMANCHE 13 NOVEMBRE 2022           50   \n",
       "\n",
       "                                  Type_of_game lott_no2 lott_no3 lott_no4  \\\n",
       "0                        TIRAGE «AKWABA» N°202       79       85       55   \n",
       "1        TIRAGE «AKWABA» NUMEROS MACHINE N°202       13       37       06   \n",
       "2                        TIRAGE «ETOILE» N°341       44       15       10   \n",
       "3        TIRAGE «ETOILE» NUMEROS MACHINE N°341       58       48       20   \n",
       "4                        TIRAGE «REVEIL» N°221       87       50       86   \n",
       "5        TIRAGE «REVEIL» NUMEROS MACHINE N°221       57       04       60   \n",
       "6                         TIRAGE «AWALE» N°201       71       11       16   \n",
       "7         TIRAGE «AWALE» NUMEROS MACHINE N°201       68       49       52   \n",
       "8                      TIRAGE «PRESTIGE» N°269       17       23       37   \n",
       "9      TIRAGE «PRESTIGE» NUMEROS MACHINE N°269       52       64       11   \n",
       "10                  TIRAGE «BENEDICTION» N°221       30       34       88   \n",
       "11  TIRAGE «BENEDICTION» NUMEROS MACHINE N°221       13       83       59   \n",
       "\n",
       "   lott_no5  \n",
       "0        83  \n",
       "1        23  \n",
       "2        82  \n",
       "3        63  \n",
       "4        08  \n",
       "5        52  \n",
       "6        72  \n",
       "7        56  \n",
       "8        70  \n",
       "9        38  \n",
       "10       46  \n",
       "11       52  "
      ]
     },
     "execution_count": 2,
     "metadata": {},
     "output_type": "execute_result"
    }
   ],
   "source": [
    "data"
   ]
  },
  {
   "cell_type": "code",
   "execution_count": null,
   "id": "65ae5414",
   "metadata": {},
   "outputs": [],
   "source": []
  },
  {
   "cell_type": "code",
   "execution_count": null,
   "id": "53279325",
   "metadata": {},
   "outputs": [],
   "source": []
  },
  {
   "cell_type": "code",
   "execution_count": null,
   "id": "8431ae99",
   "metadata": {},
   "outputs": [],
   "source": []
  },
  {
   "cell_type": "code",
   "execution_count": 8,
   "id": "1c28dc82",
   "metadata": {},
   "outputs": [],
   "source": []
  },
  {
   "cell_type": "code",
   "execution_count": null,
   "id": "ea601bce",
   "metadata": {},
   "outputs": [],
   "source": []
  },
  {
   "cell_type": "code",
   "execution_count": null,
   "id": "5213e646",
   "metadata": {},
   "outputs": [],
   "source": []
  },
  {
   "cell_type": "code",
   "execution_count": null,
   "id": "d24e3f62",
   "metadata": {},
   "outputs": [],
   "source": []
  },
  {
   "cell_type": "code",
   "execution_count": null,
   "id": "6bd4b267",
   "metadata": {},
   "outputs": [],
   "source": []
  },
  {
   "cell_type": "code",
   "execution_count": null,
   "id": "0d5925e0",
   "metadata": {},
   "outputs": [],
   "source": []
  },
  {
   "cell_type": "code",
   "execution_count": null,
   "id": "7fb5a5c1",
   "metadata": {},
   "outputs": [],
   "source": []
  },
  {
   "cell_type": "code",
   "execution_count": 24,
   "id": "189ae978",
   "metadata": {},
   "outputs": [],
   "source": [
    "MyBox = [x for x in range(0,20) if x%2!=0]"
   ]
  },
  {
   "cell_type": "code",
   "execution_count": 25,
   "id": "b0c6289c",
   "metadata": {},
   "outputs": [
    {
     "data": {
      "text/plain": [
       "[1, 3, 5, 7, 9, 11, 13, 15, 17, 19]"
      ]
     },
     "execution_count": 25,
     "metadata": {},
     "output_type": "execute_result"
    }
   ],
   "source": [
    "MyBox"
   ]
  },
  {
   "cell_type": "code",
   "execution_count": 27,
   "id": "7d5b92a4",
   "metadata": {},
   "outputs": [
    {
     "data": {
      "text/plain": [
       "8"
      ]
     },
     "execution_count": 27,
     "metadata": {},
     "output_type": "execute_result"
    }
   ],
   "source": [
    "2**3"
   ]
  },
  {
   "cell_type": "code",
   "execution_count": 29,
   "id": "65f3d7c1",
   "metadata": {},
   "outputs": [
    {
     "data": {
      "text/plain": [
       "2.0"
      ]
     },
     "execution_count": 29,
     "metadata": {},
     "output_type": "execute_result"
    }
   ],
   "source": [
    "4**1/2"
   ]
  },
  {
   "cell_type": "code",
   "execution_count": 39,
   "id": "a7eb8d0c",
   "metadata": {},
   "outputs": [],
   "source": [
    "def test(a,b):\n",
    "    x = int(a)\n",
    "    y = int(b)\n",
    "    var = (((x+12)**2)-(y**3))//9\n",
    "    return var\n",
    "    "
   ]
  },
  {
   "cell_type": "code",
   "execution_count": 42,
   "id": "e26728f1",
   "metadata": {},
   "outputs": [
    {
     "data": {
      "text/plain": [
       "-19400"
      ]
     },
     "execution_count": 42,
     "metadata": {},
     "output_type": "execute_result"
    }
   ],
   "source": [
    "test(20,56)"
   ]
  },
  {
   "cell_type": "code",
   "execution_count": 45,
   "id": "04b33e85",
   "metadata": {},
   "outputs": [
    {
     "name": "stdout",
     "output_type": "stream",
     "text": [
      "0\n",
      "1\n",
      "2\n",
      "3\n",
      "4\n",
      "5\n"
     ]
    }
   ],
   "source": [
    "for x in range(0,20):\n",
    "    print(x)\n",
    "    if x==5:\n",
    "        break"
   ]
  },
  {
   "cell_type": "code",
   "execution_count": 51,
   "id": "eccba6a5",
   "metadata": {},
   "outputs": [
    {
     "name": "stdout",
     "output_type": "stream",
     "text": [
      "0\n",
      "1\n",
      "2\n",
      "3\n",
      "4\n",
      "6\n",
      "7\n",
      "8\n",
      "9\n",
      "10\n",
      "11\n",
      "12\n",
      "13\n",
      "14\n",
      "15\n",
      "16\n",
      "17\n",
      "18\n",
      "19\n",
      "20\n"
     ]
    }
   ],
   "source": [
    "for x in range(0,20+1):\n",
    "    if x==5:\n",
    "        continue\n",
    "    print(x)   "
   ]
  },
  {
   "cell_type": "code",
   "execution_count": 59,
   "id": "589ca38d",
   "metadata": {},
   "outputs": [],
   "source": [
    "my_string = 'Welcome to Python'"
   ]
  },
  {
   "cell_type": "code",
   "execution_count": 62,
   "id": "581f13c4",
   "metadata": {},
   "outputs": [
    {
     "name": "stdout",
     "output_type": "stream",
     "text": [
      "my_string[0]:- e\n"
     ]
    }
   ],
   "source": [
    "print('my_string[1]:-',my_string[1])"
   ]
  },
  {
   "cell_type": "code",
   "execution_count": 64,
   "id": "ec4525ac",
   "metadata": {},
   "outputs": [
    {
     "name": "stdout",
     "output_type": "stream",
     "text": [
      "my_string[0]:-e\n"
     ]
    }
   ],
   "source": [
    "print(f'my_string[0]:-{my_string[1]}')"
   ]
  },
  {
   "cell_type": "code",
   "execution_count": null,
   "id": "3fd194fe",
   "metadata": {},
   "outputs": [],
   "source": []
  },
  {
   "cell_type": "code",
   "execution_count": 65,
   "id": "574448e6",
   "metadata": {},
   "outputs": [
    {
     "name": "stdout",
     "output_type": "stream",
     "text": [
      "my_string[0]:-e\n"
     ]
    }
   ],
   "source": [
    "print(f\"my_string[0]:-{my_string[1]}\")"
   ]
  },
  {
   "cell_type": "code",
   "execution_count": 66,
   "id": "3f4b6012",
   "metadata": {},
   "outputs": [
    {
     "name": "stdout",
     "output_type": "stream",
     "text": [
      "my_string[0]:-e\n"
     ]
    }
   ],
   "source": [
    "print('my_string[0]:-'+ my_string[1])"
   ]
  },
  {
   "cell_type": "code",
   "execution_count": 80,
   "id": "9662fc6f",
   "metadata": {},
   "outputs": [],
   "source": [
    "def test(str1, str2):\n",
    "    a = str1[0:3]\n",
    "    b = str2[0:3]\n",
    "    print(f'My Output is: {a + b}') "
   ]
  },
  {
   "cell_type": "code",
   "execution_count": 81,
   "id": "67e9cb7a",
   "metadata": {},
   "outputs": [
    {
     "name": "stdout",
     "output_type": "stream",
     "text": [
      "My Output is: CodWor\n"
     ]
    }
   ],
   "source": [
    "test(\"Coding\",\"World\")"
   ]
  }
 ],
 "metadata": {
  "kernelspec": {
   "display_name": "Python 3 (ipykernel)",
   "language": "python",
   "name": "python3"
  },
  "language_info": {
   "codemirror_mode": {
    "name": "ipython",
    "version": 3
   },
   "file_extension": ".py",
   "mimetype": "text/x-python",
   "name": "python",
   "nbconvert_exporter": "python",
   "pygments_lexer": "ipython3",
   "version": "3.9.7"
  }
 },
 "nbformat": 4,
 "nbformat_minor": 5
}
