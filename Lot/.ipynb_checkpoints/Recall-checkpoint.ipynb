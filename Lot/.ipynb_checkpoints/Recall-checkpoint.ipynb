{
 "cells": [
  {
   "cell_type": "code",
   "execution_count": null,
   "id": "8c28b784",
   "metadata": {},
   "outputs": [],
   "source": [
    "\n",
    "import pandas as pd\n",
    "import numpy as np \n",
    "import mysql.connector as conn\n",
    "\n",
    "db = conn.connect(\n",
    "user = 'root',\n",
    "password = 'Assie@225',\n",
    "host ='localhost',\n",
    "port=3306,\n",
    "database='shop_database',\n",
    "auth_plugin='mysql_native_password'    \n",
    ")\n",
    "\n",
    "my_cursor = db.cursor()\n",
    "my_cursor.execute('SHOW TABLES')\n",
    "\n",
    "for x in my_cursor:\n",
    "    print(x)\n"
   ]
  }
 ],
 "metadata": {
  "kernelspec": {
   "display_name": "Python 3 (ipykernel)",
   "language": "python",
   "name": "python3"
  },
  "language_info": {
   "codemirror_mode": {
    "name": "ipython",
    "version": 3
   },
   "file_extension": ".py",
   "mimetype": "text/x-python",
   "name": "python",
   "nbconvert_exporter": "python",
   "pygments_lexer": "ipython3",
   "version": "3.9.7"
  }
 },
 "nbformat": 4,
 "nbformat_minor": 5
}
