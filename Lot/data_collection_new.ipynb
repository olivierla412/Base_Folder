{
 "cells": [
  {
   "cell_type": "code",
   "execution_count": null,
   "id": "2f0c2973",
   "metadata": {},
   "outputs": [],
   "source": [
    "## Importing the libraries\n",
    "import pandas as pd\n",
    "import selenium\n",
    "from selenium import webdriver\n",
    "import time\n",
    "from selenium.common.exceptions import StaleElementReferenceException,NoSuchElementException\n",
    "from tqdm import tqdm\n",
    "import time\n",
    "time.sleep(2)\n",
    "## open a new driver\n",
    "driver = webdriver.Chrome('/Users/oliverla412/Desktop/chromedriver')\n",
    "time.sleep(3)\n",
    "url = 'https://lonaci.net/produits/loto_bonheur/resultats'\n",
    "driver.get(url)\n",
    "time.sleep(2)\n",
    "driver.maximize_window()\n",
    "time.sleep(3)\n",
    "date = driver.find_elements_by_xpath('//small[@class=\\\"loto-date\\\"]')\n",
    "Date_list =[]\n",
    "for x in date:\n",
    "    Date_list.append(x.text)\n",
    "first_no = driver.find_elements_by_xpath('//span[@class=\\\"loto-first-number\\\"]')\n",
    "First_no = []\n",
    "for x in first_no:\n",
    "    First_no.append(x.text)\n",
    "type_of_game = driver.find_elements_by_xpath('//h3[@class=\\\"loto-second-title\\\"]')\n",
    "Type_of_game = []\n",
    "for x in type_of_game:\n",
    "    Type_of_game.append(x.text)\n",
    "lotto_no = driver.find_elements_by_xpath('//span[@class=\\\"loto-number\\\"]')\n",
    "Lotto_no= []\n",
    "for x in lotto_no:\n",
    "    Lotto_no.append(x.text)\n",
    "    Lotto_nos = Lotto_no[:48]\n",
    "lott_no2 = []\n",
    "lott_no3 = []\n",
    "lott_no4 = []\n",
    "lott_no5 = []  \n",
    "\n",
    "for x in range(0,len(Lotto_nos),4):\n",
    "    lott_no2.append(Lotto_nos[x])\n",
    "    lott_no3.append(Lotto_nos[x + 1])\n",
    "    lott_no4.append(Lotto_nos[x + 2])\n",
    "    lott_no5.append(Lotto_nos[x + 3])\n",
    "    \n",
    "data = pd.DataFrame({})\n",
    "data['play_days'] = Date_list\n",
    "data['First_number'] = First_no[:12]\n",
    "data['Type_of_game'] = Type_of_game\n",
    "data['lott_no2'] = lott_no2\n",
    "data['lott_no3'] = lott_no3\n",
    "data['lott_no4'] = lott_no4\n",
    "data['lott_no5'] = lott_no5\n",
    "data.to_csv('Data_85.csv')\n",
    "time.sleep(3)\n",
    "driver.close()"
   ]
  },
  {
   "cell_type": "code",
   "execution_count": 21,
   "id": "dfc20b85",
   "metadata": {},
   "outputs": [
    {
     "data": {
      "text/html": [
       "<div>\n",
       "<style scoped>\n",
       "    .dataframe tbody tr th:only-of-type {\n",
       "        vertical-align: middle;\n",
       "    }\n",
       "\n",
       "    .dataframe tbody tr th {\n",
       "        vertical-align: top;\n",
       "    }\n",
       "\n",
       "    .dataframe thead th {\n",
       "        text-align: right;\n",
       "    }\n",
       "</style>\n",
       "<table border=\"1\" class=\"dataframe\">\n",
       "  <thead>\n",
       "    <tr style=\"text-align: right;\">\n",
       "      <th></th>\n",
       "      <th>play_days</th>\n",
       "      <th>First_number</th>\n",
       "      <th>Type_of_game</th>\n",
       "      <th>lott_no2</th>\n",
       "      <th>lott_no3</th>\n",
       "      <th>lott_no4</th>\n",
       "      <th>lott_no5</th>\n",
       "    </tr>\n",
       "  </thead>\n",
       "  <tbody>\n",
       "    <tr>\n",
       "      <th>0</th>\n",
       "      <td>DIMANCHE 12 JUIN 2022</td>\n",
       "      <td>52</td>\n",
       "      <td>TIRAGE «BENEDICTION» N°199</td>\n",
       "      <td>40</td>\n",
       "      <td>03</td>\n",
       "      <td>83</td>\n",
       "      <td>78</td>\n",
       "    </tr>\n",
       "    <tr>\n",
       "      <th>1</th>\n",
       "      <td>DIMANCHE 12 JUIN 2022</td>\n",
       "      <td>51</td>\n",
       "      <td>TIRAGE «BENEDICTION» NUMEROS MACHINE N°199</td>\n",
       "      <td>79</td>\n",
       "      <td>84</td>\n",
       "      <td>17</td>\n",
       "      <td>05</td>\n",
       "    </tr>\n",
       "    <tr>\n",
       "      <th>2</th>\n",
       "      <td>SAMEDI 11 JUIN 2022</td>\n",
       "      <td>13</td>\n",
       "      <td>TIRAGE « MOAYE » N°179</td>\n",
       "      <td>81</td>\n",
       "      <td>58</td>\n",
       "      <td>38</td>\n",
       "      <td>15</td>\n",
       "    </tr>\n",
       "    <tr>\n",
       "      <th>3</th>\n",
       "      <td>SAMEDI 11 JUIN 2022</td>\n",
       "      <td>02</td>\n",
       "      <td>TIRAGE « MOAYE » NUMEROS MACHINE N°179</td>\n",
       "      <td>73</td>\n",
       "      <td>42</td>\n",
       "      <td>64</td>\n",
       "      <td>50</td>\n",
       "    </tr>\n",
       "    <tr>\n",
       "      <th>4</th>\n",
       "      <td>SAMEDI 11 JUIN 2022</td>\n",
       "      <td>65</td>\n",
       "      <td>TIRAGE « DIAMANT» N°728</td>\n",
       "      <td>70</td>\n",
       "      <td>50</td>\n",
       "      <td>41</td>\n",
       "      <td>77</td>\n",
       "    </tr>\n",
       "    <tr>\n",
       "      <th>5</th>\n",
       "      <td>SAMEDI 11 JUIN 2022</td>\n",
       "      <td>80</td>\n",
       "      <td>TIRAGE « DIAMANT» NUMEROS MACHINE N°728</td>\n",
       "      <td>54</td>\n",
       "      <td>73</td>\n",
       "      <td>09</td>\n",
       "      <td>71</td>\n",
       "    </tr>\n",
       "    <tr>\n",
       "      <th>6</th>\n",
       "      <td>SAMEDI 11 JUIN 2022</td>\n",
       "      <td>61</td>\n",
       "      <td>TIRAGE « SOUTRA» N°199</td>\n",
       "      <td>66</td>\n",
       "      <td>47</td>\n",
       "      <td>38</td>\n",
       "      <td>30</td>\n",
       "    </tr>\n",
       "    <tr>\n",
       "      <th>7</th>\n",
       "      <td>SAMEDI 11 JUIN 2022</td>\n",
       "      <td>90</td>\n",
       "      <td>TIRAGE « SOUTRA» NUMEROS MACHINE N°199</td>\n",
       "      <td>86</td>\n",
       "      <td>34</td>\n",
       "      <td>37</td>\n",
       "      <td>64</td>\n",
       "    </tr>\n",
       "    <tr>\n",
       "      <th>8</th>\n",
       "      <td>SAMEDI 11 JUIN 2022</td>\n",
       "      <td>56</td>\n",
       "      <td>TIRAGE «SATURDAY NATIONAL » N°3112</td>\n",
       "      <td>75</td>\n",
       "      <td>50</td>\n",
       "      <td>64</td>\n",
       "      <td>18</td>\n",
       "    </tr>\n",
       "    <tr>\n",
       "      <th>9</th>\n",
       "      <td>VENDREDI 10 JUIN 2022</td>\n",
       "      <td>85</td>\n",
       "      <td>TIRAGE « WARI » NUMEROS MACHINE N°179</td>\n",
       "      <td>34</td>\n",
       "      <td>28</td>\n",
       "      <td>82</td>\n",
       "      <td>80</td>\n",
       "    </tr>\n",
       "    <tr>\n",
       "      <th>10</th>\n",
       "      <td>VENDREDI 10 JUIN 2022</td>\n",
       "      <td>37</td>\n",
       "      <td>TIRAGE « FRIDAY BONANZA» N° 740</td>\n",
       "      <td>74</td>\n",
       "      <td>66</td>\n",
       "      <td>85</td>\n",
       "      <td>05</td>\n",
       "    </tr>\n",
       "    <tr>\n",
       "      <th>11</th>\n",
       "      <td>VENDREDI 10 JUIN 2022</td>\n",
       "      <td>66</td>\n",
       "      <td>TIRAGE « SOLUTION » NUMEROS MACHINE N°319</td>\n",
       "      <td>03</td>\n",
       "      <td>90</td>\n",
       "      <td>44</td>\n",
       "      <td>61</td>\n",
       "    </tr>\n",
       "  </tbody>\n",
       "</table>\n",
       "</div>"
      ],
      "text/plain": [
       "                play_days First_number  \\\n",
       "0   DIMANCHE 12 JUIN 2022           52   \n",
       "1   DIMANCHE 12 JUIN 2022           51   \n",
       "2     SAMEDI 11 JUIN 2022           13   \n",
       "3     SAMEDI 11 JUIN 2022           02   \n",
       "4     SAMEDI 11 JUIN 2022           65   \n",
       "5     SAMEDI 11 JUIN 2022           80   \n",
       "6     SAMEDI 11 JUIN 2022           61   \n",
       "7     SAMEDI 11 JUIN 2022           90   \n",
       "8     SAMEDI 11 JUIN 2022           56   \n",
       "9   VENDREDI 10 JUIN 2022           85   \n",
       "10  VENDREDI 10 JUIN 2022           37   \n",
       "11  VENDREDI 10 JUIN 2022           66   \n",
       "\n",
       "                                  Type_of_game lott_no2 lott_no3 lott_no4  \\\n",
       "0                   TIRAGE «BENEDICTION» N°199       40       03       83   \n",
       "1   TIRAGE «BENEDICTION» NUMEROS MACHINE N°199       79       84       17   \n",
       "2                       TIRAGE « MOAYE » N°179       81       58       38   \n",
       "3       TIRAGE « MOAYE » NUMEROS MACHINE N°179       73       42       64   \n",
       "4                      TIRAGE « DIAMANT» N°728       70       50       41   \n",
       "5      TIRAGE « DIAMANT» NUMEROS MACHINE N°728       54       73       09   \n",
       "6                       TIRAGE « SOUTRA» N°199       66       47       38   \n",
       "7       TIRAGE « SOUTRA» NUMEROS MACHINE N°199       86       34       37   \n",
       "8           TIRAGE «SATURDAY NATIONAL » N°3112       75       50       64   \n",
       "9        TIRAGE « WARI » NUMEROS MACHINE N°179       34       28       82   \n",
       "10             TIRAGE « FRIDAY BONANZA» N° 740       74       66       85   \n",
       "11   TIRAGE « SOLUTION » NUMEROS MACHINE N°319       03       90       44   \n",
       "\n",
       "   lott_no5  \n",
       "0        78  \n",
       "1        05  \n",
       "2        15  \n",
       "3        50  \n",
       "4        77  \n",
       "5        71  \n",
       "6        30  \n",
       "7        64  \n",
       "8        18  \n",
       "9        80  \n",
       "10       05  \n",
       "11       61  "
      ]
     },
     "execution_count": 21,
     "metadata": {},
     "output_type": "execute_result"
    }
   ],
   "source": [
    "data"
   ]
  },
  {
   "cell_type": "code",
   "execution_count": 5,
   "id": "65ae5414",
   "metadata": {},
   "outputs": [
    {
     "name": "stdout",
     "output_type": "stream",
     "text": [
      "Big_data.csv               Data_50.csv\r\n",
      "Big_data.xlsx              Data_51.csv\r\n",
      "Data_1.csv                 Data_52.csv\r\n",
      "Data_10.csv                Data_53.csv\r\n",
      "Data_11.csv                Data_54.csv\r\n",
      "Data_12.csv                Data_55.csv\r\n",
      "Data_13.csv                Data_56.csv\r\n",
      "Data_14.csv                Data_57.csv\r\n",
      "Data_15.csv                Data_58.csv\r\n",
      "Data_16.csv                Data_59.csv\r\n",
      "Data_20.csv                Data_6.csv\r\n",
      "Data_21.csv                Data_60.csv\r\n",
      "Data_22.csv                Data_61.csv\r\n",
      "Data_23.csv                Data_62.csv\r\n",
      "Data_24.csv                Data_63.csv\r\n",
      "Data_25.csv                Data_64.csv\r\n",
      "Data_26.csv                Data_65.csv\r\n",
      "Data_27.csv                Data_66.csv\r\n",
      "Data_28.csv                Data_67.csv\r\n",
      "Data_29.csv                Data_68.csv\r\n",
      "Data_3.csv                 Data_69.csv\r\n",
      "Data_30.csv                Data_7.csv\r\n",
      "Data_31.csv                Data_70.csv\r\n",
      "Data_32.csv                Data_71.csv\r\n",
      "Data_33.csv                Data_72.csv\r\n",
      "Data_34.csv                Data_73.csv\r\n",
      "Data_35.csv                Data_74.csv\r\n",
      "Data_36.csv                Data_75.csv\r\n",
      "Data_37.csv                Data_76.csv\r\n",
      "Data_38.csv                Data_77.csv\r\n",
      "Data_39.csv                Data_78.csv\r\n",
      "Data_4.csv                 Data_79.csv\r\n",
      "Data_40.csv                Data_8.csv\r\n",
      "Data_41.csv                Data_80.csv\r\n",
      "Data_42.csv                Data_81.csv\r\n",
      "Data_43.csv                Data_82.csv\r\n",
      "Data_44.csv                Data_83.csv\r\n",
      "Data_45.csv                Data_84.csv\r\n",
      "Data_46.csv                Data_9.csv\r\n",
      "Data_47.csv                MySQL_db.ipynb\r\n",
      "Data_48.csv                Recall.ipynb\r\n",
      "Data_49.csv                data_collection_new.ipynb\r\n",
      "Data_5.csv\r\n"
     ]
    }
   ],
   "source": [
    "ls"
   ]
  },
  {
   "cell_type": "code",
   "execution_count": 7,
   "id": "53279325",
   "metadata": {},
   "outputs": [
    {
     "ename": "IndentationError",
     "evalue": "expected an indented block (2554284751.py, line 4)",
     "output_type": "error",
     "traceback": [
      "\u001b[0;36m  File \u001b[0;32m\"/var/folders/_1/66lm052n7y529trsmgljqf1h0000gn/T/ipykernel_14985/2554284751.py\"\u001b[0;36m, line \u001b[0;32m4\u001b[0m\n\u001b[0;31m    print('yes')\u001b[0m\n\u001b[0m    ^\u001b[0m\n\u001b[0;31mIndentationError\u001b[0m\u001b[0;31m:\u001b[0m expected an indented block\n"
     ]
    }
   ],
   "source": [
    "x = 20\n",
    "y = 20\n",
    "if x ==y:\n",
    "print('yes')"
   ]
  },
  {
   "cell_type": "code",
   "execution_count": null,
   "id": "8431ae99",
   "metadata": {},
   "outputs": [],
   "source": [
    "\"\"\"\n",
    "wkjwjkdjwhnnfw\n",
    "fwhvhfwvhjvfw\n",
    "wjhhjvhhjvfw\n",
    "fwvhjvhhvfw\n",
    "\"\"\""
   ]
  },
  {
   "cell_type": "code",
   "execution_count": 8,
   "id": "1c28dc82",
   "metadata": {},
   "outputs": [],
   "source": [
    "import math"
   ]
  },
  {
   "cell_type": "code",
   "execution_count": 28,
   "id": "ea601bce",
   "metadata": {},
   "outputs": [
    {
     "name": "stdout",
     "output_type": "stream",
     "text": [
      "2.0\n"
     ]
    }
   ],
   "source": [
    "print(math.sqrt(4))"
   ]
  },
  {
   "cell_type": "code",
   "execution_count": 11,
   "id": "5213e646",
   "metadata": {},
   "outputs": [
    {
     "name": "stdout",
     "output_type": "stream",
     "text": [
      "90\n"
     ]
    }
   ],
   "source": [
    "x = input()"
   ]
  },
  {
   "cell_type": "code",
   "execution_count": 12,
   "id": "d24e3f62",
   "metadata": {},
   "outputs": [
    {
     "name": "stdout",
     "output_type": "stream",
     "text": [
      "fdwdwhjgjdwjh\n"
     ]
    }
   ],
   "source": [
    "print('fdwdwhjgjdwjh')"
   ]
  },
  {
   "cell_type": "code",
   "execution_count": 19,
   "id": "6bd4b267",
   "metadata": {},
   "outputs": [
    {
     "name": "stdout",
     "output_type": "stream",
     "text": [
      "Hello World: 0\n",
      "Hello World: 1\n",
      "Hello World: 2\n",
      "Hello World: 3\n",
      "Hello World: 4\n",
      "Hello World: 5\n",
      "Hello World: 6\n",
      "Hello World: 7\n",
      "Hello World: 8\n",
      "Hello World: 9\n"
     ]
    },
    {
     "data": {
      "text/plain": [
       "100"
      ]
     },
     "execution_count": 19,
     "metadata": {},
     "output_type": "execute_result"
    }
   ],
   "source": [
    "X=100\n",
    "Y = 10\n",
    "for x in range(0,10):\n",
    "    print('Hello World:',x)\n",
    "X"
   ]
  },
  {
   "cell_type": "code",
   "execution_count": null,
   "id": "0d5925e0",
   "metadata": {},
   "outputs": [],
   "source": [
    "a = 10  j\n",
    "b = 90\n",
    "c = 20"
   ]
  },
  {
   "cell_type": "code",
   "execution_count": null,
   "id": "7fb5a5c1",
   "metadata": {},
   "outputs": [],
   "source": []
  },
  {
   "cell_type": "code",
   "execution_count": 24,
   "id": "189ae978",
   "metadata": {},
   "outputs": [],
   "source": [
    "MyBox = [x for x in range(0,20) if x%2!=0]"
   ]
  },
  {
   "cell_type": "code",
   "execution_count": 25,
   "id": "b0c6289c",
   "metadata": {},
   "outputs": [
    {
     "data": {
      "text/plain": [
       "[1, 3, 5, 7, 9, 11, 13, 15, 17, 19]"
      ]
     },
     "execution_count": 25,
     "metadata": {},
     "output_type": "execute_result"
    }
   ],
   "source": [
    "MyBox"
   ]
  },
  {
   "cell_type": "code",
   "execution_count": 27,
   "id": "7d5b92a4",
   "metadata": {},
   "outputs": [
    {
     "data": {
      "text/plain": [
       "8"
      ]
     },
     "execution_count": 27,
     "metadata": {},
     "output_type": "execute_result"
    }
   ],
   "source": [
    "2**3"
   ]
  },
  {
   "cell_type": "code",
   "execution_count": 29,
   "id": "65f3d7c1",
   "metadata": {},
   "outputs": [
    {
     "data": {
      "text/plain": [
       "2.0"
      ]
     },
     "execution_count": 29,
     "metadata": {},
     "output_type": "execute_result"
    }
   ],
   "source": [
    "4**1/2"
   ]
  },
  {
   "cell_type": "code",
   "execution_count": 39,
   "id": "a7eb8d0c",
   "metadata": {},
   "outputs": [],
   "source": [
    "def test(a,b):\n",
    "    x = int(a)\n",
    "    y = int(b)\n",
    "    var = (((x+12)**2)-(y**3))//9\n",
    "    return var\n",
    "    "
   ]
  },
  {
   "cell_type": "code",
   "execution_count": 42,
   "id": "e26728f1",
   "metadata": {},
   "outputs": [
    {
     "data": {
      "text/plain": [
       "-19400"
      ]
     },
     "execution_count": 42,
     "metadata": {},
     "output_type": "execute_result"
    }
   ],
   "source": [
    "test(20,56)"
   ]
  },
  {
   "cell_type": "code",
   "execution_count": 45,
   "id": "04b33e85",
   "metadata": {},
   "outputs": [
    {
     "name": "stdout",
     "output_type": "stream",
     "text": [
      "0\n",
      "1\n",
      "2\n",
      "3\n",
      "4\n",
      "5\n"
     ]
    }
   ],
   "source": [
    "for x in range(0,20):\n",
    "    print(x)\n",
    "    if x==5:\n",
    "        break"
   ]
  },
  {
   "cell_type": "code",
   "execution_count": 51,
   "id": "eccba6a5",
   "metadata": {},
   "outputs": [
    {
     "name": "stdout",
     "output_type": "stream",
     "text": [
      "0\n",
      "1\n",
      "2\n",
      "3\n",
      "4\n",
      "6\n",
      "7\n",
      "8\n",
      "9\n",
      "10\n",
      "11\n",
      "12\n",
      "13\n",
      "14\n",
      "15\n",
      "16\n",
      "17\n",
      "18\n",
      "19\n",
      "20\n"
     ]
    }
   ],
   "source": [
    "for x in range(0,20+1):\n",
    "    if x==5:\n",
    "        continue\n",
    "    print(x)   "
   ]
  },
  {
   "cell_type": "code",
   "execution_count": 59,
   "id": "589ca38d",
   "metadata": {},
   "outputs": [],
   "source": [
    "my_string = 'Welcome to Python'"
   ]
  },
  {
   "cell_type": "code",
   "execution_count": 62,
   "id": "581f13c4",
   "metadata": {},
   "outputs": [
    {
     "name": "stdout",
     "output_type": "stream",
     "text": [
      "my_string[0]:- e\n"
     ]
    }
   ],
   "source": [
    "print('my_string[0]:-',my_string[1])"
   ]
  },
  {
   "cell_type": "code",
   "execution_count": 64,
   "id": "ec4525ac",
   "metadata": {},
   "outputs": [
    {
     "name": "stdout",
     "output_type": "stream",
     "text": [
      "my_string[0]:-e\n"
     ]
    }
   ],
   "source": [
    "print(f'my_string[0]:-{my_string[1]}')"
   ]
  },
  {
   "cell_type": "code",
   "execution_count": null,
   "id": "3fd194fe",
   "metadata": {},
   "outputs": [],
   "source": []
  },
  {
   "cell_type": "code",
   "execution_count": 65,
   "id": "574448e6",
   "metadata": {},
   "outputs": [
    {
     "name": "stdout",
     "output_type": "stream",
     "text": [
      "my_string[0]:-e\n"
     ]
    }
   ],
   "source": [
    "print(f\"my_string[0]:-{my_string[1]}\")"
   ]
  },
  {
   "cell_type": "code",
   "execution_count": 66,
   "id": "3f4b6012",
   "metadata": {},
   "outputs": [
    {
     "name": "stdout",
     "output_type": "stream",
     "text": [
      "my_string[0]:-e\n"
     ]
    }
   ],
   "source": [
    "print('my_string[0]:-'+ my_string[1])"
   ]
  },
  {
   "cell_type": "code",
   "execution_count": 80,
   "id": "9662fc6f",
   "metadata": {},
   "outputs": [],
   "source": [
    "def test(str1, str2):\n",
    "    a = str1[0:3]\n",
    "    b = str2[0:3]\n",
    "    print(f'My Output is: {a + b}') "
   ]
  },
  {
   "cell_type": "code",
   "execution_count": 81,
   "id": "67e9cb7a",
   "metadata": {},
   "outputs": [
    {
     "name": "stdout",
     "output_type": "stream",
     "text": [
      "My Output is: CodWor\n"
     ]
    }
   ],
   "source": [
    "test(\"Coding\",\"World\")"
   ]
  }
 ],
 "metadata": {
  "kernelspec": {
   "display_name": "Python 3 (ipykernel)",
   "language": "python",
   "name": "python3"
  },
  "language_info": {
   "codemirror_mode": {
    "name": "ipython",
    "version": 3
   },
   "file_extension": ".py",
   "mimetype": "text/x-python",
   "name": "python",
   "nbconvert_exporter": "python",
   "pygments_lexer": "ipython3",
   "version": "3.9.7"
  }
 },
 "nbformat": 4,
 "nbformat_minor": 5
}
