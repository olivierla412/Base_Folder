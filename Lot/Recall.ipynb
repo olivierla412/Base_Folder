{
 "cells": [
  {
   "cell_type": "code",
   "execution_count": 2,
   "id": "938bcbbf",
   "metadata": {},
   "outputs": [
    {
     "name": "stdout",
     "output_type": "stream",
     "text": [
      "(bytearray(b'phone'),)\n"
     ]
    }
   ],
   "source": [
    "\n",
    "import pandas as pd\n",
    "import numpy as np \n",
    "import mysql.connector as conn\n",
    "\n",
    "db = conn.connect(\n",
    "user = 'root',\n",
    "password = 'Assie@225',\n",
    "host ='localhost',\n",
    "port=3306,\n",
    "database='shop_database',\n",
    "auth_plugin='mysql_native_password'    \n",
    ")\n",
    "\n",
    "my_cursor = db.cursor()\n",
    "my_cursor.execute('SHOW TABLES')\n",
    "\n",
    "for x in my_cursor:\n",
    "    print(x)\n"
   ]
  },
  {
   "cell_type": "code",
   "execution_count": 23,
   "id": "4fe39514",
   "metadata": {},
   "outputs": [],
   "source": [
    "my_cursor.execute('SELECT *FROM phone')"
   ]
  },
  {
   "cell_type": "code",
   "execution_count": 17,
   "id": "12c03b0b",
   "metadata": {},
   "outputs": [],
   "source": [
    "import pandas as pd\n",
    "import numpy as np"
   ]
  },
  {
   "cell_type": "code",
   "execution_count": 24,
   "id": "6761cd0f",
   "metadata": {},
   "outputs": [],
   "source": [
    "data = pd.DataFrame({})"
   ]
  },
  {
   "cell_type": "code",
   "execution_count": 25,
   "id": "e2cfa2cf",
   "metadata": {},
   "outputs": [
    {
     "name": "stdout",
     "output_type": "stream",
     "text": [
      "(100, 'Iphone12', 'Iphone', 25000)\n",
      "(101, 'Iphone 12 Pro', 'Iphone', 25000)\n",
      "(102, 'vivo v20', 'Vivo', 27000)\n",
      "(103, 'Samsung S17', 'Samsung', 56000)\n",
      "(104, 'Oppo A12', 'Oppo', 29000)\n",
      "(105, 'Airtel F1', 'Airtel', 28000)\n",
      "(106, 'Nokia Q2', 'Nokia', 27000)\n",
      "(107, 'Alcatel G4', 'Alcatel', 28000)\n",
      "(108, 'Teckno P1', 'Teckno', 66000)\n",
      "(109, 'Iphone 13', 'Iphone', 77000)\n",
      "(110, 'Samsung S20', 'Samsung', 67000)\n",
      "(1011, 'vivo v20', 'Vivo', 27000)\n",
      "(1012, 'Samsung S17', 'Samsung', 56000)\n",
      "(1013, 'Oppo A12', 'Oppo', 29000)\n",
      "(1014, 'Airtel F1', 'Airtel', 28000)\n",
      "(1015, 'Nokia Q2', 'Nokia', 27000)\n",
      "(1016, 'Alcatel G4', 'Alcatel', 28000)\n",
      "(1017, 'Teckno P1', 'Teckno', 66000)\n",
      "(1018, 'Iphone 13', 'Iphone', 77000)\n",
      "(119, 'Samsung S20', 'Samsung', 67000)\n"
     ]
    }
   ],
   "source": [
    "for x in my_cursor:\n",
    "    print(x)\n"
   ]
  },
  {
   "cell_type": "code",
   "execution_count": 22,
   "id": "5793eaf5",
   "metadata": {},
   "outputs": [],
   "source": [
    "for x in my_cursor:\n",
    "    data[\"id\"] = x[0]\n",
    "    data[\"Phone_name\"] = x[1]\n",
    "    data[\"brand\"] = x[2]\n",
    "    data[\"Price\"] = x[3]\n",
    "    data.to_csv('sql.csv')"
   ]
  },
  {
   "cell_type": "code",
   "execution_count": null,
   "id": "0f257511",
   "metadata": {},
   "outputs": [],
   "source": []
  }
 ],
 "metadata": {
  "kernelspec": {
   "display_name": "Python 3 (ipykernel)",
   "language": "python",
   "name": "python3"
  },
  "language_info": {
   "codemirror_mode": {
    "name": "ipython",
    "version": 3
   },
   "file_extension": ".py",
   "mimetype": "text/x-python",
   "name": "python",
   "nbconvert_exporter": "python",
   "pygments_lexer": "ipython3",
   "version": "3.9.7"
  }
 },
 "nbformat": 4,
 "nbformat_minor": 5
}
