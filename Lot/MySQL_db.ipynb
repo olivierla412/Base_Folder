{
 "cells": [
  {
   "cell_type": "code",
   "execution_count": 77,
   "id": "526e5597",
   "metadata": {},
   "outputs": [],
   "source": [
    "import pandas as pd\n",
    "import numpy as np \n",
    "import mysql.connector as conn\n",
    "\n",
    "db = conn.connect(\n",
    "user = 'root',\n",
    "password = 'Assie@225',\n",
    "host ='localhost',\n",
    "port=3306,\n",
    "database='employees',\n",
    "auth_plugin='mysql_native_password'    \n",
    ")"
   ]
  },
  {
   "cell_type": "code",
   "execution_count": 65,
   "id": "0c0abf75",
   "metadata": {},
   "outputs": [
    {
     "name": "stdout",
     "output_type": "stream",
     "text": [
      "(bytearray(b'T'),)\n",
      "(bytearray(b'TT'),)\n",
      "(bytearray(b'annum_select_salary'),)\n",
      "(bytearray(b'current_dept_emp'),)\n",
      "(bytearray(b'departments'),)\n",
      "(bytearray(b'dept_emp'),)\n",
      "(bytearray(b'dept_emp_latest_date'),)\n",
      "(bytearray(b'dept_manager'),)\n",
      "(bytearray(b'employees'),)\n",
      "(bytearray(b'salaries'),)\n",
      "(bytearray(b'titles'),)\n"
     ]
    }
   ],
   "source": [
    "my_cursor = db.cursor()\n",
    "my_cursor.execute('SHOW TABLES')\n",
    "\n",
    "for x in my_cursor:\n",
    "    print(x)"
   ]
  },
  {
   "cell_type": "code",
   "execution_count": 66,
   "id": "6bebbabf",
   "metadata": {},
   "outputs": [],
   "source": [
    "my_cursor = db.cursor()"
   ]
  },
  {
   "cell_type": "code",
   "execution_count": 10,
   "id": "47a0fbf8",
   "metadata": {},
   "outputs": [],
   "source": [
    "#my_cursor.execute('select *from employees')\n"
   ]
  },
  {
   "cell_type": "code",
   "execution_count": 12,
   "id": "1ce6abf4",
   "metadata": {},
   "outputs": [],
   "source": [
    "# for x in my_cursor:\n",
    "#     print(x)\n",
    "#     print('**'*5)"
   ]
  },
  {
   "cell_type": "code",
   "execution_count": 18,
   "id": "657a4189",
   "metadata": {},
   "outputs": [],
   "source": [
    "my_cursor.execute('SHOW DATABASES')"
   ]
  },
  {
   "cell_type": "code",
   "execution_count": 19,
   "id": "5e5a6e3c",
   "metadata": {},
   "outputs": [
    {
     "name": "stdout",
     "output_type": "stream",
     "text": [
      "(bytearray(b'Big_data'),)\n",
      "**********\n",
      "(bytearray(b'employees'),)\n",
      "**********\n",
      "(bytearray(b'information_schema'),)\n",
      "**********\n",
      "(bytearray(b'mysql'),)\n",
      "**********\n",
      "(bytearray(b'performance_schema'),)\n",
      "**********\n",
      "(bytearray(b'shop_database'),)\n",
      "**********\n",
      "(bytearray(b'sys'),)\n",
      "**********\n"
     ]
    }
   ],
   "source": [
    "for x in my_cursor:\n",
    "    print(x)\n",
    "    print('**'*5)"
   ]
  },
  {
   "cell_type": "code",
   "execution_count": 78,
   "id": "c7682e04",
   "metadata": {},
   "outputs": [],
   "source": [
    "## How to create a database\n",
    "\n",
    "my_cursor = db.cursor()"
   ]
  },
  {
   "cell_type": "code",
   "execution_count": 70,
   "id": "fd2bdff1",
   "metadata": {},
   "outputs": [],
   "source": [
    "my_cursor.execute('USE employees;')"
   ]
  },
  {
   "cell_type": "code",
   "execution_count": 72,
   "id": "7ab2a47b",
   "metadata": {},
   "outputs": [],
   "source": [
    "my_cursor.execute('DROP DATABASE database2;')"
   ]
  },
  {
   "cell_type": "code",
   "execution_count": 73,
   "id": "002afebe",
   "metadata": {},
   "outputs": [],
   "source": [
    "db.commit()"
   ]
  },
  {
   "cell_type": "code",
   "execution_count": 79,
   "id": "c0c849d1",
   "metadata": {},
   "outputs": [],
   "source": [
    "my_cursor.execute('SHOW DATABASES')"
   ]
  },
  {
   "cell_type": "code",
   "execution_count": 80,
   "id": "686bf7cd",
   "metadata": {},
   "outputs": [
    {
     "name": "stdout",
     "output_type": "stream",
     "text": [
      "(bytearray(b'Big_data'),)\n",
      "---------------\n",
      "(bytearray(b'database1'),)\n",
      "---------------\n",
      "(bytearray(b'employees'),)\n",
      "---------------\n",
      "(bytearray(b'information_schema'),)\n",
      "---------------\n",
      "(bytearray(b'mysql'),)\n",
      "---------------\n",
      "(bytearray(b'performance_schema'),)\n",
      "---------------\n",
      "(bytearray(b'shop_database'),)\n",
      "---------------\n",
      "(bytearray(b'sys'),)\n",
      "---------------\n"
     ]
    }
   ],
   "source": [
    "for x in my_cursor:\n",
    "    print(x)\n",
    "    print('---'*5)"
   ]
  },
  {
   "cell_type": "code",
   "execution_count": 81,
   "id": "85d3b73b",
   "metadata": {},
   "outputs": [],
   "source": [
    "my_cursor = db.cursor()"
   ]
  },
  {
   "cell_type": "code",
   "execution_count": 36,
   "id": "0ba11522",
   "metadata": {},
   "outputs": [],
   "source": [
    "my_cursor.execute('')"
   ]
  },
  {
   "cell_type": "code",
   "execution_count": 37,
   "id": "bf250c9d",
   "metadata": {},
   "outputs": [
    {
     "name": "stdout",
     "output_type": "stream",
     "text": [
      "('emp_no', b'int', 'NO', bytearray(b'PRI'), None, '')\n",
      "---------------\n",
      "('birth_date', b'date', 'NO', bytearray(b''), None, '')\n",
      "---------------\n",
      "('first_name', b'varchar(14)', 'NO', bytearray(b''), None, '')\n",
      "---------------\n",
      "('last_name', b'varchar(16)', 'NO', bytearray(b''), None, '')\n",
      "---------------\n",
      "('gender', b\"enum('M','F')\", 'NO', bytearray(b''), None, '')\n",
      "---------------\n",
      "('hire_date', b'date', 'NO', bytearray(b''), None, '')\n",
      "---------------\n"
     ]
    }
   ],
   "source": []
  },
  {
   "cell_type": "code",
   "execution_count": 41,
   "id": "a778fe05",
   "metadata": {},
   "outputs": [],
   "source": [
    "my_cursor = db.cursor()"
   ]
  },
  {
   "cell_type": "code",
   "execution_count": 42,
   "id": "8a2e8022",
   "metadata": {},
   "outputs": [],
   "source": [
    "my_cursor.execute('SELECT *FROM employees LIMIT 10')"
   ]
  },
  {
   "cell_type": "code",
   "execution_count": 43,
   "id": "f7edc2df",
   "metadata": {},
   "outputs": [
    {
     "name": "stdout",
     "output_type": "stream",
     "text": [
      "(10001, datetime.date(1953, 9, 2), 'Georgi', 'Facello', 'M', datetime.date(1986, 6, 26))\n",
      "---------------\n",
      "(10002, datetime.date(1964, 6, 2), 'Bezalel', 'Simmel', 'F', datetime.date(1985, 11, 21))\n",
      "---------------\n",
      "(10003, datetime.date(1959, 12, 3), 'Parto', 'Bamford', 'M', datetime.date(1986, 8, 28))\n",
      "---------------\n",
      "(10004, datetime.date(1954, 5, 1), 'Chirstian', 'Koblick', 'M', datetime.date(1986, 12, 1))\n",
      "---------------\n",
      "(10005, datetime.date(1955, 1, 21), 'Kyoichi', 'Maliniak', 'M', datetime.date(1989, 9, 12))\n",
      "---------------\n",
      "(10006, datetime.date(1953, 4, 20), 'Anneke', 'Preusig', 'F', datetime.date(1989, 6, 2))\n",
      "---------------\n",
      "(10007, datetime.date(1957, 5, 23), 'Tzvetan', 'Zielinski', 'F', datetime.date(1989, 2, 10))\n",
      "---------------\n",
      "(10008, datetime.date(1958, 2, 19), 'Saniya', 'Kalloufi', 'M', datetime.date(1994, 9, 15))\n",
      "---------------\n",
      "(10009, datetime.date(1952, 4, 19), 'Sumant', 'Peac', 'F', datetime.date(1985, 2, 18))\n",
      "---------------\n",
      "(10010, datetime.date(1963, 6, 1), 'Duangkaew', 'Piveteau', 'F', datetime.date(1989, 8, 24))\n",
      "---------------\n"
     ]
    }
   ],
   "source": [
    "for x in my_cursor:\n",
    "    print(x)\n",
    "    print('---'*5)"
   ]
  },
  {
   "cell_type": "code",
   "execution_count": 61,
   "id": "f12334e3",
   "metadata": {},
   "outputs": [],
   "source": [
    "my_cursor = db.cursor()"
   ]
  },
  {
   "cell_type": "code",
   "execution_count": 62,
   "id": "79bfb2d0",
   "metadata": {},
   "outputs": [],
   "source": [
    "my_cursor.execute('UPDATE employees SET first_name = \"Houphouet\",last_name=\"Assie\",birth_date =\"2022-05-26\",gender =\"M\" WHERE emp_no = 999901')\n",
    "\n",
    "\n",
    "\n",
    "\n"
   ]
  },
  {
   "cell_type": "code",
   "execution_count": 63,
   "id": "0b9ad25e",
   "metadata": {},
   "outputs": [],
   "source": [
    "db.commit()"
   ]
  },
  {
   "cell_type": "code",
   "execution_count": null,
   "id": "b68be816",
   "metadata": {},
   "outputs": [],
   "source": [
    "CREATE TABLE `employees` (\n",
    "  `emp_no` int NOT NULL,\n",
    "  `birth_date` date NOT NULL,\n",
    "  `first_name` varchar(14) NOT NULL,\n",
    "  `last_name` varchar(16) NOT NULL,\n",
    "  `gender` enum('M','F') NOT NULL,\n",
    "  `hire_date` date NOT NULL,\n",
    "  PRIMARY KEY (`emp_no`)\n",
    ") ENGINE=InnoDB DEFAULT CHARSET=utf8mb4 COLLATE=utf8mb4_0900_ai_ci"
   ]
  },
  {
   "cell_type": "code",
   "execution_count": null,
   "id": "7a309398",
   "metadata": {},
   "outputs": [],
   "source": [
    "UPDATE employees \n",
    "SET \n",
    "    first_name = 'Stella',\n",
    "    last_name = 'Parkinson',\n",
    "    birth_date = '1990-12-31',\n",
    "    gender = 'F'\n",
    "WHERE\n",
    "    emp_no = 999901;\n"
   ]
  },
  {
   "cell_type": "code",
   "execution_count": null,
   "id": "8b11bc77",
   "metadata": {},
   "outputs": [],
   "source": []
  },
  {
   "cell_type": "code",
   "execution_count": 59,
   "id": "cb605096",
   "metadata": {},
   "outputs": [],
   "source": []
  },
  {
   "cell_type": "code",
   "execution_count": null,
   "id": "0c3b2ab6",
   "metadata": {},
   "outputs": [],
   "source": []
  },
  {
   "cell_type": "code",
   "execution_count": null,
   "id": "1ed80b47",
   "metadata": {},
   "outputs": [],
   "source": [
    "\n"
   ]
  },
  {
   "cell_type": "code",
   "execution_count": null,
   "id": "c80b5d84",
   "metadata": {},
   "outputs": [],
   "source": []
  }
 ],
 "metadata": {
  "kernelspec": {
   "display_name": "Python 3 (ipykernel)",
   "language": "python",
   "name": "python3"
  },
  "language_info": {
   "codemirror_mode": {
    "name": "ipython",
    "version": 3
   },
   "file_extension": ".py",
   "mimetype": "text/x-python",
   "name": "python",
   "nbconvert_exporter": "python",
   "pygments_lexer": "ipython3",
   "version": "3.9.7"
  }
 },
 "nbformat": 4,
 "nbformat_minor": 5
}
