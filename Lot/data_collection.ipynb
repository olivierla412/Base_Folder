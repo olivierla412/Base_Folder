{
 "cells": [
  {
   "cell_type": "code",
   "execution_count": null,
   "id": "548b11ad",
   "metadata": {},
   "outputs": [],
   "source": []
  },
  {
   "cell_type": "code",
   "execution_count": null,
   "id": "df957017",
   "metadata": {},
   "outputs": [],
   "source": []
  },
  {
   "cell_type": "code",
   "execution_count": 239,
   "id": "00c42180",
   "metadata": {},
   "outputs": [],
   "source": []
  },
  {
   "cell_type": "code",
   "execution_count": 306,
   "id": "38bae32e",
   "metadata": {},
   "outputs": [
    {
     "data": {
      "text/plain": [
       "'/Users/oliverla412/Desktop/Place_project/Lot'"
      ]
     },
     "execution_count": 306,
     "metadata": {},
     "output_type": "execute_result"
    }
   ],
   "source": []
  },
  {
   "cell_type": "code",
   "execution_count": 307,
   "id": "2f59c6b1",
   "metadata": {},
   "outputs": [],
   "source": [
    "## Importing the libraries\n",
    "import pandas as pd\n",
    "import selenium\n",
    "from selenium import webdriver\n",
    "import time\n",
    "from selenium.common.exceptions import StaleElementReferenceException,NoSuchElementException\n",
    "from tqdm import tqdm\n",
    "import time\n",
    "\n",
    "time.sleep(2)\n",
    "## open a new driver\n",
    "\n",
    "driver = webdriver.Chrome('/Users/oliverla412/Desktop/chromedriver')\n",
    "time.sleep(3)\n",
    "\n",
    "url = 'https://lonaci.net/produits/loto_bonheur/resultats'\n",
    "\n",
    "driver.get(url)\n",
    "time.sleep(2)\n",
    "driver.maximize_window()\n",
    "time.sleep(3)\n",
    "date = driver.find_elements_by_xpath('//small[@class=\"loto-date\"]')\n",
    "\n",
    "Date_list =[]\n",
    "for x in date:\n",
    "    Date_list.append(x.text)\n",
    "\n",
    "    \n",
    "    \n",
    "first_no = driver.find_elements_by_xpath('//span[@class=\"loto-first-number\"]')\n",
    "First_no = []\n",
    "for x in first_no:\n",
    "    First_no.append(x.text)   \n",
    "\n",
    "type_of_game = driver.find_elements_by_xpath('//h3[@class=\"loto-second-title\"]')\n",
    "Type_of_game = []\n",
    "for x in type_of_game:\n",
    "    Type_of_game.append(x.text) \n",
    "    \n",
    "\n",
    "    \n",
    "lotto_no = driver.find_elements_by_xpath('//span[@class=\"loto-number\"]')\n",
    "Lotto_no= []\n",
    "for x in lotto_no:\n",
    "    Lotto_no.append(x.text)\n",
    "    \n",
    "Lotto_nos = Lotto_no[:48] \n",
    "\n",
    "lott_no2 = []\n",
    "lott_no3 = []\n",
    "lott_no4 = []\n",
    "lott_no5 = []\n",
    "\n",
    "for x in range(0,len(Lotto_nos),4):\n",
    "    lott_no2.append(Lotto_nos[x])\n",
    "    lott_no3.append(Lotto_nos[x + 1])\n",
    "    lott_no4.append(Lotto_nos[x + 2])\n",
    "    lott_no5.append(Lotto_nos[x + 3])\n",
    "    \n",
    "import pandas as pd\n",
    "data = pd.DataFrame({})\n",
    "\n",
    "data['play_days'] = Date_list\n",
    "data['First_number'] = First_no[:12]\n",
    "data['Type_of_game'] = Type_of_game \n",
    "data['lott_no2'] = lott_no2\n",
    "data['lott_no3'] = lott_no3\n",
    "data['lott_no4'] = lott_no4\n",
    "data['lott_no5'] = lott_no5\n",
    "data.to_csv('Data_16.csv')\n",
    "time.sleep(3)\n",
    "driver.close()    "
   ]
  },
  {
   "cell_type": "code",
   "execution_count": null,
   "id": "5d560c55",
   "metadata": {},
   "outputs": [],
   "source": []
  }
 ],
 "metadata": {
  "kernelspec": {
   "display_name": "Python 3 (ipykernel)",
   "language": "python",
   "name": "python3"
  },
  "language_info": {
   "codemirror_mode": {
    "name": "ipython",
    "version": 3
   },
   "file_extension": ".py",
   "mimetype": "text/x-python",
   "name": "python",
   "nbconvert_exporter": "python",
   "pygments_lexer": "ipython3",
   "version": "3.9.7"
  }
 },
 "nbformat": 4,
 "nbformat_minor": 5
}
