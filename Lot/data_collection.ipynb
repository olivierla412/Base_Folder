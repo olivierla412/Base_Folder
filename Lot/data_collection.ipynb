{
 "cells": [
  {
   "cell_type": "code",
   "execution_count": 1,
   "id": "a3babfa9",
   "metadata": {},
   "outputs": [],
   "source": [
    "## Importing the libraries\n",
    "import pandas as pd\n",
    "import selenium\n",
    "from selenium import webdriver\n",
    "import time\n",
    "from selenium.common.exceptions import StaleElementReferenceException,NoSuchElementException\n",
    "from tqdm import tqdm\n",
    "import time\n",
    "\n",
    "time.sleep(2)\n",
    "## open a new driver\n",
    "\n",
    "driver = webdriver.Chrome('/Users/oliverla412/Desktop/chromedriver')\n",
    "time.sleep(3)\n",
    "\n",
    "url = 'https://lonaci.net/produits/loto_bonheur/resultats'\n",
    " \n",
    "driver.get(url)\n",
    "time.sleep(2)\n",
    "driver.maximize_window()\n",
    "time.sleep(3)\n",
    "date = driver.find_elements_by_xpath('//small[@class=\"loto-date\"]')\n",
    "\n",
    "Date_list =[]\n",
    "for x in date:\n",
    "    Date_list.append(x.text)\n",
    "\n",
    "    \n",
    "    \n",
    "first_no = driver.find_elements_by_xpath('//span[@class=\"loto-first-number\"]')\n",
    "First_no = []\n",
    "for x in first_no:\n",
    "    First_no.append(x.text)   \n",
    "\n",
    "type_of_game = driver.find_elements_by_xpath('//h3[@class=\"loto-second-title\"]')\n",
    "Type_of_game = []\n",
    "for x in type_of_game:\n",
    "    Type_of_game.append(x.text) \n",
    "     \n",
    "lotto_no = driver.find_elements_by_xpath('//span[@class=\"loto-number\"]')\n",
    "Lotto_no= []\n",
    "for x in lotto_no:\n",
    "    Lotto_no.append(x.text)\n",
    "    \n",
    "Lotto_nos = Lotto_no[:48] \n",
    "\n",
    "lott_no2 = []\n",
    "lott_no3 = []\n",
    "lott_no4 = []\n",
    "lott_no5 = []\n",
    "\n",
    "for x in range(0,len(Lotto_nos),4):\n",
    "    lott_no2.append(Lotto_nos[x])\n",
    "    lott_no3.append(Lotto_nos[x + 1])\n",
    "    lott_no4.append(Lotto_nos[x + 2])\n",
    "    lott_no5.append(Lotto_nos[x + 3])\n",
    "    \n",
    "import pandas as pd\n",
    "data = pd.DataFrame({})\n",
    "\n",
    "data['play_days'] = Date_list\n",
    "data['First_number'] = First_no[:12]\n",
    "data['Type_of_game'] = Type_of_game \n",
    "data['lott_no2'] = lott_no2\n",
    "data['lott_no3'] = lott_no3\n",
    "data['lott_no4'] = lott_no4\n",
    "data['lott_no5'] = lott_no5\n",
    "data.to_csv('Data_41.csv')\n",
    "time.sleep(3)\n",
    "driver.close() "
   ]
  },
  {
   "cell_type": "code",
   "execution_count": 2,
   "id": "a05ae972",
   "metadata": {},
   "outputs": [
    {
     "data": {
      "text/html": [
       "<div>\n",
       "<style scoped>\n",
       "    .dataframe tbody tr th:only-of-type {\n",
       "        vertical-align: middle;\n",
       "    }\n",
       "\n",
       "    .dataframe tbody tr th {\n",
       "        vertical-align: top;\n",
       "    }\n",
       "\n",
       "    .dataframe thead th {\n",
       "        text-align: right;\n",
       "    }\n",
       "</style>\n",
       "<table border=\"1\" class=\"dataframe\">\n",
       "  <thead>\n",
       "    <tr style=\"text-align: right;\">\n",
       "      <th></th>\n",
       "      <th>play_days</th>\n",
       "      <th>First_number</th>\n",
       "      <th>Type_of_game</th>\n",
       "      <th>lott_no2</th>\n",
       "      <th>lott_no3</th>\n",
       "      <th>lott_no4</th>\n",
       "      <th>lott_no5</th>\n",
       "    </tr>\n",
       "  </thead>\n",
       "  <tbody>\n",
       "    <tr>\n",
       "      <th>0</th>\n",
       "      <td>VENDREDI 11 MARS 2022</td>\n",
       "      <td>33</td>\n",
       "      <td>TIRAGE «CASH» N°186</td>\n",
       "      <td>47</td>\n",
       "      <td>82</td>\n",
       "      <td>46</td>\n",
       "      <td>54</td>\n",
       "    </tr>\n",
       "    <tr>\n",
       "      <th>1</th>\n",
       "      <td>VENDREDI 11 MARS 2022</td>\n",
       "      <td>58</td>\n",
       "      <td>TIRAGE «CASH» NUMEROS MACHINE N°186</td>\n",
       "      <td>13</td>\n",
       "      <td>51</td>\n",
       "      <td>59</td>\n",
       "      <td>79</td>\n",
       "    </tr>\n",
       "    <tr>\n",
       "      <th>2</th>\n",
       "      <td>JEUDI 10 MARS 2022</td>\n",
       "      <td>46</td>\n",
       "      <td>TIRAGE «MONNI» N°166</td>\n",
       "      <td>41</td>\n",
       "      <td>11</td>\n",
       "      <td>07</td>\n",
       "      <td>02</td>\n",
       "    </tr>\n",
       "    <tr>\n",
       "      <th>3</th>\n",
       "      <td>JEUDI 10 MARS 2022</td>\n",
       "      <td>04</td>\n",
       "      <td>TIRAGE «MONNI» NUMEROS MACHINE N°166</td>\n",
       "      <td>80</td>\n",
       "      <td>65</td>\n",
       "      <td>13</td>\n",
       "      <td>68</td>\n",
       "    </tr>\n",
       "    <tr>\n",
       "      <th>4</th>\n",
       "      <td>JEUDI 10 MARS 2022</td>\n",
       "      <td>72</td>\n",
       "      <td>TIRAGE «PRIVILEGE» N°306</td>\n",
       "      <td>38</td>\n",
       "      <td>53</td>\n",
       "      <td>81</td>\n",
       "      <td>84</td>\n",
       "    </tr>\n",
       "    <tr>\n",
       "      <th>5</th>\n",
       "      <td>JEUDI 10 MARS 2022</td>\n",
       "      <td>79</td>\n",
       "      <td>TIRAGE «PRIVILEGE» NUMEROS MACHINE N°306</td>\n",
       "      <td>44</td>\n",
       "      <td>33</td>\n",
       "      <td>35</td>\n",
       "      <td>76</td>\n",
       "    </tr>\n",
       "    <tr>\n",
       "      <th>6</th>\n",
       "      <td>JEUDI 10 MARS 2022</td>\n",
       "      <td>19</td>\n",
       "      <td>TIRAGE «KADO» N°184</td>\n",
       "      <td>60</td>\n",
       "      <td>30</td>\n",
       "      <td>54</td>\n",
       "      <td>81</td>\n",
       "    </tr>\n",
       "    <tr>\n",
       "      <th>7</th>\n",
       "      <td>JEUDI 10 MARS 2022</td>\n",
       "      <td>67</td>\n",
       "      <td>TIRAGE «KADO» NUMEROS MACHINE N°184</td>\n",
       "      <td>03</td>\n",
       "      <td>23</td>\n",
       "      <td>29</td>\n",
       "      <td>78</td>\n",
       "    </tr>\n",
       "    <tr>\n",
       "      <th>8</th>\n",
       "      <td>MERCREDI 9 MARS 2022</td>\n",
       "      <td>34</td>\n",
       "      <td>TIRAGE « MID WEEK » N°953</td>\n",
       "      <td>49</td>\n",
       "      <td>08</td>\n",
       "      <td>77</td>\n",
       "      <td>69</td>\n",
       "    </tr>\n",
       "    <tr>\n",
       "      <th>9</th>\n",
       "      <td>MERCREDI 9 MARS 2022</td>\n",
       "      <td>26</td>\n",
       "      <td>TIRAGE «BARAKA» NUMEROS MACHINE N°166</td>\n",
       "      <td>07</td>\n",
       "      <td>04</td>\n",
       "      <td>09</td>\n",
       "      <td>33</td>\n",
       "    </tr>\n",
       "    <tr>\n",
       "      <th>10</th>\n",
       "      <td>MERCREDI 9 MARS 2022</td>\n",
       "      <td>02</td>\n",
       "      <td>TIRAGE «BARAKA» N°166</td>\n",
       "      <td>37</td>\n",
       "      <td>14</td>\n",
       "      <td>24</td>\n",
       "      <td>30</td>\n",
       "    </tr>\n",
       "    <tr>\n",
       "      <th>11</th>\n",
       "      <td>MERCREDI 9 MARS 2022</td>\n",
       "      <td>46</td>\n",
       "      <td>TIRAGE «FORTUNE» NUMEROS MACHINE N°714</td>\n",
       "      <td>63</td>\n",
       "      <td>86</td>\n",
       "      <td>69</td>\n",
       "      <td>12</td>\n",
       "    </tr>\n",
       "  </tbody>\n",
       "</table>\n",
       "</div>"
      ],
      "text/plain": [
       "                play_days First_number  \\\n",
       "0   VENDREDI 11 MARS 2022           33   \n",
       "1   VENDREDI 11 MARS 2022           58   \n",
       "2      JEUDI 10 MARS 2022           46   \n",
       "3      JEUDI 10 MARS 2022           04   \n",
       "4      JEUDI 10 MARS 2022           72   \n",
       "5      JEUDI 10 MARS 2022           79   \n",
       "6      JEUDI 10 MARS 2022           19   \n",
       "7      JEUDI 10 MARS 2022           67   \n",
       "8    MERCREDI 9 MARS 2022           34   \n",
       "9    MERCREDI 9 MARS 2022           26   \n",
       "10   MERCREDI 9 MARS 2022           02   \n",
       "11   MERCREDI 9 MARS 2022           46   \n",
       "\n",
       "                                Type_of_game lott_no2 lott_no3 lott_no4  \\\n",
       "0                        TIRAGE «CASH» N°186       47       82       46   \n",
       "1        TIRAGE «CASH» NUMEROS MACHINE N°186       13       51       59   \n",
       "2                       TIRAGE «MONNI» N°166       41       11       07   \n",
       "3       TIRAGE «MONNI» NUMEROS MACHINE N°166       80       65       13   \n",
       "4                   TIRAGE «PRIVILEGE» N°306       38       53       81   \n",
       "5   TIRAGE «PRIVILEGE» NUMEROS MACHINE N°306       44       33       35   \n",
       "6                        TIRAGE «KADO» N°184       60       30       54   \n",
       "7        TIRAGE «KADO» NUMEROS MACHINE N°184       03       23       29   \n",
       "8                  TIRAGE « MID WEEK » N°953       49       08       77   \n",
       "9      TIRAGE «BARAKA» NUMEROS MACHINE N°166       07       04       09   \n",
       "10                     TIRAGE «BARAKA» N°166       37       14       24   \n",
       "11    TIRAGE «FORTUNE» NUMEROS MACHINE N°714       63       86       69   \n",
       "\n",
       "   lott_no5  \n",
       "0        54  \n",
       "1        79  \n",
       "2        02  \n",
       "3        68  \n",
       "4        84  \n",
       "5        76  \n",
       "6        81  \n",
       "7        78  \n",
       "8        69  \n",
       "9        33  \n",
       "10       30  \n",
       "11       12  "
      ]
     },
     "execution_count": 2,
     "metadata": {},
     "output_type": "execute_result"
    }
   ],
   "source": [
    "data"
   ]
  },
  {
   "cell_type": "code",
   "execution_count": 10,
   "id": "01c58e69",
   "metadata": {},
   "outputs": [
    {
     "data": {
      "text/plain": [
       "(12, 7)"
      ]
     },
     "execution_count": 10,
     "metadata": {},
     "output_type": "execute_result"
    }
   ],
   "source": [
    "data.shape"
   ]
  },
  {
   "cell_type": "markdown",
   "id": "9e6eb936",
   "metadata": {},
   "source": [
    "# Putting all the .csv files into  a single file. (Concatination)"
   ]
  },
  {
   "cell_type": "code",
   "execution_count": 11,
   "id": "099df154",
   "metadata": {},
   "outputs": [],
   "source": [
    "import os\n",
    "import glob\n",
    "import pandas as pd\n",
    "os.chdir('/Users/oliverla412/Desktop/Place_project/Lot')"
   ]
  },
  {
   "cell_type": "code",
   "execution_count": 12,
   "id": "10e7cd73",
   "metadata": {},
   "outputs": [],
   "source": [
    "extension = 'csv'\n",
    "all_filenames = [i for i in glob.glob('*.{}'.format(extension))]\n"
   ]
  },
  {
   "cell_type": "code",
   "execution_count": 13,
   "id": "f256624e",
   "metadata": {},
   "outputs": [
    {
     "data": {
      "text/plain": [
       "41"
      ]
     },
     "execution_count": 13,
     "metadata": {},
     "output_type": "execute_result"
    }
   ],
   "source": [
    "len(all_filenames)"
   ]
  },
  {
   "cell_type": "code",
   "execution_count": 14,
   "id": "923d279e",
   "metadata": {},
   "outputs": [],
   "source": [
    "#combine all files in the list\n",
    "combined_csv = pd.concat([pd.read_csv(f) for f in all_filenames ])\n",
    "\n",
    "#export to csv\n",
    "\n",
    "combined_csv.to_csv( \"Big_data.csv\", index=False, encoding='utf-8-sig')\n"
   ]
  },
  {
   "cell_type": "code",
   "execution_count": 15,
   "id": "ef1ccb77",
   "metadata": {},
   "outputs": [],
   "source": [
    "My_data= pd.read_csv('Big_data.csv')"
   ]
  },
  {
   "cell_type": "code",
   "execution_count": null,
   "id": "a4ab853b",
   "metadata": {},
   "outputs": [],
   "source": []
  },
  {
   "cell_type": "markdown",
   "id": "e239099c",
   "metadata": {},
   "source": [
    "## Data Clearning (EDA Exploratory Data Analysis)."
   ]
  },
  {
   "cell_type": "code",
   "execution_count": 16,
   "id": "1e7bc528",
   "metadata": {},
   "outputs": [
    {
     "data": {
      "text/html": [
       "<div>\n",
       "<style scoped>\n",
       "    .dataframe tbody tr th:only-of-type {\n",
       "        vertical-align: middle;\n",
       "    }\n",
       "\n",
       "    .dataframe tbody tr th {\n",
       "        vertical-align: top;\n",
       "    }\n",
       "\n",
       "    .dataframe thead th {\n",
       "        text-align: right;\n",
       "    }\n",
       "</style>\n",
       "<table border=\"1\" class=\"dataframe\">\n",
       "  <thead>\n",
       "    <tr style=\"text-align: right;\">\n",
       "      <th></th>\n",
       "      <th>Unnamed: 0</th>\n",
       "      <th>play_days</th>\n",
       "      <th>First_number</th>\n",
       "      <th>Type_of_game</th>\n",
       "      <th>lott_no2</th>\n",
       "      <th>lott_no3</th>\n",
       "      <th>lott_no4</th>\n",
       "      <th>lott_no5</th>\n",
       "    </tr>\n",
       "  </thead>\n",
       "  <tbody>\n",
       "    <tr>\n",
       "      <th>0</th>\n",
       "      <td>0</td>\n",
       "      <td>MERCREDI 2 FÉVRIER 2022</td>\n",
       "      <td>22</td>\n",
       "      <td>TIRAGE «FORTUNE» N°709</td>\n",
       "      <td>7</td>\n",
       "      <td>36</td>\n",
       "      <td>52</td>\n",
       "      <td>14</td>\n",
       "    </tr>\n",
       "    <tr>\n",
       "      <th>1</th>\n",
       "      <td>1</td>\n",
       "      <td>MERCREDI 2 FÉVRIER 2022</td>\n",
       "      <td>3</td>\n",
       "      <td>TIRAGE «FORTUNE» N°709</td>\n",
       "      <td>73</td>\n",
       "      <td>85</td>\n",
       "      <td>63</td>\n",
       "      <td>54</td>\n",
       "    </tr>\n",
       "    <tr>\n",
       "      <th>2</th>\n",
       "      <td>2</td>\n",
       "      <td>MERCREDI 2 FÉVRIER 2022</td>\n",
       "      <td>58</td>\n",
       "      <td>« LUCKY TUESDAY » N°751</td>\n",
       "      <td>24</td>\n",
       "      <td>87</td>\n",
       "      <td>60</td>\n",
       "      <td>39</td>\n",
       "    </tr>\n",
       "    <tr>\n",
       "      <th>3</th>\n",
       "      <td>3</td>\n",
       "      <td>MERCREDI 2 FÉVRIER 2022</td>\n",
       "      <td>19</td>\n",
       "      <td>« LUCKY TUESDAY » N°751</td>\n",
       "      <td>43</td>\n",
       "      <td>85</td>\n",
       "      <td>36</td>\n",
       "      <td>30</td>\n",
       "    </tr>\n",
       "    <tr>\n",
       "      <th>4</th>\n",
       "      <td>4</td>\n",
       "      <td>MARDI 1 FÉVRIER 2022</td>\n",
       "      <td>82</td>\n",
       "      <td>« LUCKY TUESDAY » N°751</td>\n",
       "      <td>16</td>\n",
       "      <td>47</td>\n",
       "      <td>52</td>\n",
       "      <td>68</td>\n",
       "    </tr>\n",
       "    <tr>\n",
       "      <th>...</th>\n",
       "      <td>...</td>\n",
       "      <td>...</td>\n",
       "      <td>...</td>\n",
       "      <td>...</td>\n",
       "      <td>...</td>\n",
       "      <td>...</td>\n",
       "      <td>...</td>\n",
       "      <td>...</td>\n",
       "    </tr>\n",
       "    <tr>\n",
       "      <th>475</th>\n",
       "      <td>7</td>\n",
       "      <td>LUNDI 14 FÉVRIER 2022</td>\n",
       "      <td>26</td>\n",
       "      <td>TIRAGE «REVEIL» NUMEROS MACHINE N°182</td>\n",
       "      <td>39</td>\n",
       "      <td>45</td>\n",
       "      <td>54</td>\n",
       "      <td>87</td>\n",
       "    </tr>\n",
       "    <tr>\n",
       "      <th>476</th>\n",
       "      <td>8</td>\n",
       "      <td>LUNDI 14 FÉVRIER 2022</td>\n",
       "      <td>14</td>\n",
       "      <td>TIRAGE «REVEIL» N°182</td>\n",
       "      <td>1</td>\n",
       "      <td>33</td>\n",
       "      <td>74</td>\n",
       "      <td>89</td>\n",
       "    </tr>\n",
       "    <tr>\n",
       "      <th>477</th>\n",
       "      <td>9</td>\n",
       "      <td>DIMANCHE 13 FÉVRIER 2022</td>\n",
       "      <td>21</td>\n",
       "      <td>TIRAGE «ESPOIR» NUMEROS MACHINE N°199</td>\n",
       "      <td>85</td>\n",
       "      <td>35</td>\n",
       "      <td>34</td>\n",
       "      <td>18</td>\n",
       "    </tr>\n",
       "    <tr>\n",
       "      <th>478</th>\n",
       "      <td>10</td>\n",
       "      <td>DIMANCHE 13 FÉVRIER 2022</td>\n",
       "      <td>23</td>\n",
       "      <td>TIRAGE «ESPOIR» N°199</td>\n",
       "      <td>58</td>\n",
       "      <td>2</td>\n",
       "      <td>68</td>\n",
       "      <td>65</td>\n",
       "    </tr>\n",
       "    <tr>\n",
       "      <th>479</th>\n",
       "      <td>11</td>\n",
       "      <td>DIMANCHE 13 FÉVRIER 2022</td>\n",
       "      <td>16</td>\n",
       "      <td>TIRAGE «AWALE» NUMEROS MACHINE N°162</td>\n",
       "      <td>73</td>\n",
       "      <td>59</td>\n",
       "      <td>71</td>\n",
       "      <td>62</td>\n",
       "    </tr>\n",
       "  </tbody>\n",
       "</table>\n",
       "<p>480 rows × 8 columns</p>\n",
       "</div>"
      ],
      "text/plain": [
       "     Unnamed: 0                 play_days  First_number  \\\n",
       "0             0   MERCREDI 2 FÉVRIER 2022            22   \n",
       "1             1   MERCREDI 2 FÉVRIER 2022             3   \n",
       "2             2   MERCREDI 2 FÉVRIER 2022            58   \n",
       "3             3   MERCREDI 2 FÉVRIER 2022            19   \n",
       "4             4      MARDI 1 FÉVRIER 2022            82   \n",
       "..          ...                       ...           ...   \n",
       "475           7     LUNDI 14 FÉVRIER 2022            26   \n",
       "476           8     LUNDI 14 FÉVRIER 2022            14   \n",
       "477           9  DIMANCHE 13 FÉVRIER 2022            21   \n",
       "478          10  DIMANCHE 13 FÉVRIER 2022            23   \n",
       "479          11  DIMANCHE 13 FÉVRIER 2022            16   \n",
       "\n",
       "                              Type_of_game  lott_no2  lott_no3  lott_no4  \\\n",
       "0                   TIRAGE «FORTUNE» N°709         7        36        52   \n",
       "1                   TIRAGE «FORTUNE» N°709        73        85        63   \n",
       "2                  « LUCKY TUESDAY » N°751        24        87        60   \n",
       "3                  « LUCKY TUESDAY » N°751        43        85        36   \n",
       "4                  « LUCKY TUESDAY » N°751        16        47        52   \n",
       "..                                     ...       ...       ...       ...   \n",
       "475  TIRAGE «REVEIL» NUMEROS MACHINE N°182        39        45        54   \n",
       "476                  TIRAGE «REVEIL» N°182         1        33        74   \n",
       "477  TIRAGE «ESPOIR» NUMEROS MACHINE N°199        85        35        34   \n",
       "478                  TIRAGE «ESPOIR» N°199        58         2        68   \n",
       "479   TIRAGE «AWALE» NUMEROS MACHINE N°162        73        59        71   \n",
       "\n",
       "     lott_no5  \n",
       "0          14  \n",
       "1          54  \n",
       "2          39  \n",
       "3          30  \n",
       "4          68  \n",
       "..        ...  \n",
       "475        87  \n",
       "476        89  \n",
       "477        18  \n",
       "478        65  \n",
       "479        62  \n",
       "\n",
       "[480 rows x 8 columns]"
      ]
     },
     "execution_count": 16,
     "metadata": {},
     "output_type": "execute_result"
    }
   ],
   "source": [
    "My_data"
   ]
  },
  {
   "cell_type": "code",
   "execution_count": 17,
   "id": "aa213f98",
   "metadata": {},
   "outputs": [
    {
     "data": {
      "text/plain": [
       "(480, 8)"
      ]
     },
     "execution_count": 17,
     "metadata": {},
     "output_type": "execute_result"
    }
   ],
   "source": [
    "My_data.shape"
   ]
  },
  {
   "cell_type": "code",
   "execution_count": 18,
   "id": "a83281dc",
   "metadata": {},
   "outputs": [
    {
     "data": {
      "text/plain": [
       "6"
      ]
     },
     "execution_count": 18,
     "metadata": {},
     "output_type": "execute_result"
    }
   ],
   "source": [
    "My_data.duplicated().sum()"
   ]
  },
  {
   "cell_type": "code",
   "execution_count": 19,
   "id": "639d1dc8",
   "metadata": {},
   "outputs": [],
   "source": [
    "import pandas as pd"
   ]
  },
  {
   "cell_type": "code",
   "execution_count": 20,
   "id": "46105d72",
   "metadata": {},
   "outputs": [],
   "source": [
    "Data = pd.DataFrame({})"
   ]
  },
  {
   "cell_type": "code",
   "execution_count": 21,
   "id": "f7d98a8c",
   "metadata": {},
   "outputs": [],
   "source": [
    "import warnings\n",
    "warnings.filterwarnings('ignore')"
   ]
  },
  {
   "cell_type": "code",
   "execution_count": 23,
   "id": "6289a8b0",
   "metadata": {},
   "outputs": [],
   "source": [
    "#### edata = My_data[['play_days','Type_of_game','First_number']] # selection of attributes for the project\n",
    "\n",
    "date = My_data.play_days\n",
    "\n",
    "day =[]\n",
    "day_no =[]\n",
    "month = []\n",
    "for x in date:\n",
    "    x = x.split(' ')\n",
    "    day.append(x[0])\n",
    "    day_no.append(x[1])\n",
    "    month.append(x[2])\n",
    "    #print()\n",
    "Data['day'] = day[:472]\n",
    "Data['day_no'] = day_no[:472]\n",
    "Data['month'] = month[:472]\n",
    "\n",
    "## dropping play_days coulumns\n",
    "My_data.drop(columns=My_data[['play_days']],axis=1,inplace=True)\n",
    "\n",
    "# cleaning the type of games\n",
    "games = My_data.Type_of_game\n",
    "\n",
    "Machine_no =[] # getting the machine no\n",
    "for c in games:\n",
    "    c = c.split(' ')\n",
    "    Machine_no.append(c[-1])\n",
    "# getting all possible type of games\n",
    "\n",
    "array = []\n",
    "for c in games:\n",
    "    c = c.split(' ')\n",
    "    array.append(c)\n",
    "    #print(c)  \n",
    "# creating an array containing all categorical type of games\n",
    "f = ['LUCKY', '«FORTUNE»','SIKA»','EMERGENCE','MATINALE','«AKWABA»','EMERGENCE','«ETOILE»','«REVEIL»','«KADO»','MID',\\\n",
    "    '«BARAKA»','SOLUTION','«MONNI»','«PRIVILEGE»','«BENEDICTION»','BONANZA»','«MONDAY','«ESPOIR»','«AWALE»',\\\n",
    "    'MOAYE','DIAMANT»','SOUTRA»','«SATURDAY','«PREMIERE','«PRESTIGE»','«CASH»','WARI','FORTUNE','«SIKA»']\n",
    "\n",
    "vs = []\n",
    "for x in array:\n",
    "    #print(x) \n",
    "    vs.append(x)\n",
    "    \n",
    "target = []\n",
    "for x in vs:\n",
    "    #print(x)\n",
    "    for y in x:\n",
    "        if y in f:\n",
    "            target.append(y)    \n",
    "Data['Machine_no'] = Machine_no[:472]\n",
    "Data['game_type'] = target[:472] \n",
    "Data['First_number'] = My_data['First_number'][:472]\n",
    "My_data.drop(columns=My_data[['Type_of_game']],axis=1,inplace=True)"
   ]
  },
  {
   "cell_type": "code",
   "execution_count": 22,
   "id": "8b9f83d8",
   "metadata": {},
   "outputs": [
    {
     "data": {
      "text/plain": [
       "0      22\n",
       "1       3\n",
       "2      58\n",
       "3      19\n",
       "4      82\n",
       "       ..\n",
       "467    89\n",
       "468    63\n",
       "469    16\n",
       "470    65\n",
       "471    53\n",
       "Name: First_number, Length: 472, dtype: int64"
      ]
     },
     "execution_count": 22,
     "metadata": {},
     "output_type": "execute_result"
    }
   ],
   "source": [
    "My_data['First_number'][:472]"
   ]
  },
  {
   "cell_type": "code",
   "execution_count": 24,
   "id": "41985332",
   "metadata": {},
   "outputs": [
    {
     "data": {
      "text/html": [
       "<div>\n",
       "<style scoped>\n",
       "    .dataframe tbody tr th:only-of-type {\n",
       "        vertical-align: middle;\n",
       "    }\n",
       "\n",
       "    .dataframe tbody tr th {\n",
       "        vertical-align: top;\n",
       "    }\n",
       "\n",
       "    .dataframe thead th {\n",
       "        text-align: right;\n",
       "    }\n",
       "</style>\n",
       "<table border=\"1\" class=\"dataframe\">\n",
       "  <thead>\n",
       "    <tr style=\"text-align: right;\">\n",
       "      <th></th>\n",
       "      <th>day</th>\n",
       "      <th>day_no</th>\n",
       "      <th>month</th>\n",
       "      <th>Machine_no</th>\n",
       "      <th>game_type</th>\n",
       "      <th>First_number</th>\n",
       "    </tr>\n",
       "  </thead>\n",
       "  <tbody>\n",
       "    <tr>\n",
       "      <th>0</th>\n",
       "      <td>MERCREDI</td>\n",
       "      <td>2</td>\n",
       "      <td>FÉVRIER</td>\n",
       "      <td>N°709</td>\n",
       "      <td>«FORTUNE»</td>\n",
       "      <td>22</td>\n",
       "    </tr>\n",
       "    <tr>\n",
       "      <th>1</th>\n",
       "      <td>MERCREDI</td>\n",
       "      <td>2</td>\n",
       "      <td>FÉVRIER</td>\n",
       "      <td>N°709</td>\n",
       "      <td>«FORTUNE»</td>\n",
       "      <td>3</td>\n",
       "    </tr>\n",
       "    <tr>\n",
       "      <th>2</th>\n",
       "      <td>MERCREDI</td>\n",
       "      <td>2</td>\n",
       "      <td>FÉVRIER</td>\n",
       "      <td>N°751</td>\n",
       "      <td>LUCKY</td>\n",
       "      <td>58</td>\n",
       "    </tr>\n",
       "    <tr>\n",
       "      <th>3</th>\n",
       "      <td>MERCREDI</td>\n",
       "      <td>2</td>\n",
       "      <td>FÉVRIER</td>\n",
       "      <td>N°751</td>\n",
       "      <td>LUCKY</td>\n",
       "      <td>19</td>\n",
       "    </tr>\n",
       "    <tr>\n",
       "      <th>4</th>\n",
       "      <td>MARDI</td>\n",
       "      <td>1</td>\n",
       "      <td>FÉVRIER</td>\n",
       "      <td>N°751</td>\n",
       "      <td>LUCKY</td>\n",
       "      <td>82</td>\n",
       "    </tr>\n",
       "    <tr>\n",
       "      <th>...</th>\n",
       "      <td>...</td>\n",
       "      <td>...</td>\n",
       "      <td>...</td>\n",
       "      <td>...</td>\n",
       "      <td>...</td>\n",
       "      <td>...</td>\n",
       "    </tr>\n",
       "    <tr>\n",
       "      <th>467</th>\n",
       "      <td>MERCREDI</td>\n",
       "      <td>2</td>\n",
       "      <td>MARS</td>\n",
       "      <td>N°184</td>\n",
       "      <td>«ETOILE»</td>\n",
       "      <td>89</td>\n",
       "    </tr>\n",
       "    <tr>\n",
       "      <th>468</th>\n",
       "      <td>MARDI</td>\n",
       "      <td>15</td>\n",
       "      <td>FÉVRIER</td>\n",
       "      <td>N°182</td>\n",
       "      <td>«ETOILE»</td>\n",
       "      <td>63</td>\n",
       "    </tr>\n",
       "    <tr>\n",
       "      <th>469</th>\n",
       "      <td>MARDI</td>\n",
       "      <td>15</td>\n",
       "      <td>FÉVRIER</td>\n",
       "      <td>N°182</td>\n",
       "      <td>«REVEIL»</td>\n",
       "      <td>16</td>\n",
       "    </tr>\n",
       "    <tr>\n",
       "      <th>470</th>\n",
       "      <td>LUNDI</td>\n",
       "      <td>14</td>\n",
       "      <td>FÉVRIER</td>\n",
       "      <td>N°820</td>\n",
       "      <td>«REVEIL»</td>\n",
       "      <td>65</td>\n",
       "    </tr>\n",
       "    <tr>\n",
       "      <th>471</th>\n",
       "      <td>LUNDI</td>\n",
       "      <td>14</td>\n",
       "      <td>FÉVRIER</td>\n",
       "      <td>N°163</td>\n",
       "      <td>«ESPOIR»</td>\n",
       "      <td>53</td>\n",
       "    </tr>\n",
       "  </tbody>\n",
       "</table>\n",
       "<p>472 rows × 6 columns</p>\n",
       "</div>"
      ],
      "text/plain": [
       "          day day_no    month Machine_no  game_type  First_number\n",
       "0    MERCREDI      2  FÉVRIER      N°709  «FORTUNE»            22\n",
       "1    MERCREDI      2  FÉVRIER      N°709  «FORTUNE»             3\n",
       "2    MERCREDI      2  FÉVRIER      N°751      LUCKY            58\n",
       "3    MERCREDI      2  FÉVRIER      N°751      LUCKY            19\n",
       "4       MARDI      1  FÉVRIER      N°751      LUCKY            82\n",
       "..        ...    ...      ...        ...        ...           ...\n",
       "467  MERCREDI      2     MARS      N°184   «ETOILE»            89\n",
       "468     MARDI     15  FÉVRIER      N°182   «ETOILE»            63\n",
       "469     MARDI     15  FÉVRIER      N°182   «REVEIL»            16\n",
       "470     LUNDI     14  FÉVRIER      N°820   «REVEIL»            65\n",
       "471     LUNDI     14  FÉVRIER      N°163   «ESPOIR»            53\n",
       "\n",
       "[472 rows x 6 columns]"
      ]
     },
     "execution_count": 24,
     "metadata": {},
     "output_type": "execute_result"
    }
   ],
   "source": [
    "Data"
   ]
  },
  {
   "cell_type": "code",
   "execution_count": 19,
   "id": "1e78f1d3",
   "metadata": {},
   "outputs": [
    {
     "data": {
      "text/plain": [
       "array(['MERCREDI', 'MARDI', 'LUNDI', 'JEUDI', 'VENDREDI', 'DIMANCHE',\n",
       "       'SAMEDI'], dtype=object)"
      ]
     },
     "execution_count": 19,
     "metadata": {},
     "output_type": "execute_result"
    }
   ],
   "source": [
    "Data.day.unique()"
   ]
  },
  {
   "cell_type": "code",
   "execution_count": 20,
   "id": "ab1ff7e0",
   "metadata": {},
   "outputs": [],
   "source": [
    "avk =[]\n",
    "for x in Data.game_type.unique():\n",
    "    avk.append(x)"
   ]
  },
  {
   "cell_type": "code",
   "execution_count": 21,
   "id": "acb5d631",
   "metadata": {},
   "outputs": [
    {
     "data": {
      "text/plain": [
       "29"
      ]
     },
     "execution_count": 21,
     "metadata": {},
     "output_type": "execute_result"
    }
   ],
   "source": [
    "len(avk)"
   ]
  },
  {
   "cell_type": "code",
   "execution_count": 22,
   "id": "44ddaef7",
   "metadata": {},
   "outputs": [
    {
     "data": {
      "text/plain": [
       "array(['«FORTUNE»', 'LUCKY', 'SIKA»', 'EMERGENCE', 'MATINALE', '«AKWABA»',\n",
       "       '«PREMIERE', '«SIKA»', '«ETOILE»', '«REVEIL»', '«KADO»', 'MID',\n",
       "       '«BARAKA»', 'SOLUTION', '«CASH»', '«MONNI»', '«PRIVILEGE»',\n",
       "       '«PRESTIGE»', '«BENEDICTION»', 'SOUTRA»', 'BONANZA»', 'WARI',\n",
       "       '«MONDAY', '«ESPOIR»', '«AWALE»', 'MOAYE', 'DIAMANT»', '«SATURDAY',\n",
       "       'FORTUNE'], dtype=object)"
      ]
     },
     "execution_count": 22,
     "metadata": {},
     "output_type": "execute_result"
    }
   ],
   "source": [
    "Data.game_type.unique()"
   ]
  },
  {
   "cell_type": "code",
   "execution_count": 23,
   "id": "adcf7d56",
   "metadata": {},
   "outputs": [],
   "source": [
    "Data['game_type'] = Data['game_type'].replace({'«SIKA»':'SIKA','SIKA»':'SIKA','«CASH»':'CASH','«FORTUNE»':'FORTUNE',\n",
    "                                              '«AKWABA»':'AKWABA','«PREMIERE':'PREMIERE','«ETOILE»':'ETOILE','«REVEIL»':'REVEIL',\n",
    "                                              '«KADO»':'KADO','«BARAKA»':'BARAKA','«MONNI»':'MONNI','«PRIVILEGE»':'PRIVILEGE',\n",
    "                                             '«PRESTIGE»':'PRESTIGE','«BENEDICTION»':'BENEDICTION','SOUTRA»':'SOUTRA',\n",
    "                                              'BONANZA»':'BONANZA','«MONDAY':'MONDAY','«ESPOIR»':'ESPOIR',\n",
    "                                              '«AWALE»':'AWALE','DIAMANT»':'DIAMANT','«SATURDAY':'SATURDAY'})\n"
   ]
  },
  {
   "cell_type": "code",
   "execution_count": 24,
   "id": "9df17e84",
   "metadata": {},
   "outputs": [
    {
     "data": {
      "text/plain": [
       "0      FORTUNE\n",
       "1      FORTUNE\n",
       "2        LUCKY\n",
       "3        LUCKY\n",
       "4        LUCKY\n",
       "        ...   \n",
       "457     REVEIL\n",
       "458     REVEIL\n",
       "459     ESPOIR\n",
       "460     ESPOIR\n",
       "461      AWALE\n",
       "Name: game_type, Length: 462, dtype: object"
      ]
     },
     "execution_count": 24,
     "metadata": {},
     "output_type": "execute_result"
    }
   ],
   "source": [
    "Data['game_type'] "
   ]
  },
  {
   "cell_type": "code",
   "execution_count": 25,
   "id": "331cfa2e",
   "metadata": {},
   "outputs": [
    {
     "data": {
      "text/plain": [
       "array(['FORTUNE', 'LUCKY', 'SIKA', 'EMERGENCE', 'MATINALE', 'AKWABA',\n",
       "       'PREMIERE', 'ETOILE', 'REVEIL', 'KADO', 'MID', 'BARAKA',\n",
       "       'SOLUTION', 'CASH', 'MONNI', 'PRIVILEGE', 'PRESTIGE',\n",
       "       'BENEDICTION', 'SOUTRA', 'BONANZA', 'WARI', 'MONDAY', 'ESPOIR',\n",
       "       'AWALE', 'MOAYE', 'DIAMANT', 'SATURDAY'], dtype=object)"
      ]
     },
     "execution_count": 25,
     "metadata": {},
     "output_type": "execute_result"
    }
   ],
   "source": [
    "Data.game_type.unique()"
   ]
  },
  {
   "cell_type": "code",
   "execution_count": 26,
   "id": "42030f17",
   "metadata": {},
   "outputs": [
    {
     "data": {
      "text/plain": [
       "0    N°709\n",
       "1    N°709\n",
       "2    N°751\n",
       "3    N°751\n",
       "4    N°751\n",
       "Name: Machine_no, dtype: object"
      ]
     },
     "execution_count": 26,
     "metadata": {},
     "output_type": "execute_result"
    }
   ],
   "source": [
    "Data['Machine_no'][:5]"
   ]
  },
  {
   "cell_type": "code",
   "execution_count": 27,
   "id": "e6d064c7",
   "metadata": {},
   "outputs": [],
   "source": [
    "mach_no = []\n",
    "for x in Data['Machine_no']:\n",
    "    arr = x.split('N°')\n",
    "    mach_no.append(arr[-1])\n",
    "Data['Machine_no'] = mach_no"
   ]
  },
  {
   "cell_type": "code",
   "execution_count": 28,
   "id": "259a6077",
   "metadata": {},
   "outputs": [
    {
     "data": {
      "text/html": [
       "<div>\n",
       "<style scoped>\n",
       "    .dataframe tbody tr th:only-of-type {\n",
       "        vertical-align: middle;\n",
       "    }\n",
       "\n",
       "    .dataframe tbody tr th {\n",
       "        vertical-align: top;\n",
       "    }\n",
       "\n",
       "    .dataframe thead th {\n",
       "        text-align: right;\n",
       "    }\n",
       "</style>\n",
       "<table border=\"1\" class=\"dataframe\">\n",
       "  <thead>\n",
       "    <tr style=\"text-align: right;\">\n",
       "      <th></th>\n",
       "      <th>day</th>\n",
       "      <th>day_no</th>\n",
       "      <th>month</th>\n",
       "      <th>Machine_no</th>\n",
       "      <th>game_type</th>\n",
       "    </tr>\n",
       "  </thead>\n",
       "  <tbody>\n",
       "    <tr>\n",
       "      <th>0</th>\n",
       "      <td>MERCREDI</td>\n",
       "      <td>2</td>\n",
       "      <td>FÉVRIER</td>\n",
       "      <td>709</td>\n",
       "      <td>FORTUNE</td>\n",
       "    </tr>\n",
       "    <tr>\n",
       "      <th>1</th>\n",
       "      <td>MERCREDI</td>\n",
       "      <td>2</td>\n",
       "      <td>FÉVRIER</td>\n",
       "      <td>709</td>\n",
       "      <td>FORTUNE</td>\n",
       "    </tr>\n",
       "    <tr>\n",
       "      <th>2</th>\n",
       "      <td>MERCREDI</td>\n",
       "      <td>2</td>\n",
       "      <td>FÉVRIER</td>\n",
       "      <td>751</td>\n",
       "      <td>LUCKY</td>\n",
       "    </tr>\n",
       "  </tbody>\n",
       "</table>\n",
       "</div>"
      ],
      "text/plain": [
       "        day day_no    month Machine_no game_type\n",
       "0  MERCREDI      2  FÉVRIER        709   FORTUNE\n",
       "1  MERCREDI      2  FÉVRIER        709   FORTUNE\n",
       "2  MERCREDI      2  FÉVRIER        751     LUCKY"
      ]
     },
     "execution_count": 28,
     "metadata": {},
     "output_type": "execute_result"
    }
   ],
   "source": [
    "Data.head(3)"
   ]
  },
  {
   "cell_type": "markdown",
   "id": "5132613d",
   "metadata": {},
   "source": [
    "## Let's used Label Encoder to convert the text data into numerical data for some columns those are not musearable or unscable."
   ]
  },
  {
   "cell_type": "code",
   "execution_count": 59,
   "id": "3dd62f2a",
   "metadata": {},
   "outputs": [],
   "source": [
    "#!pip3 install scipy==1.7.1 numpy==1.18.5 scikit-learn==0.24.2 --no-cache-dir --no-binary :all:"
   ]
  },
  {
   "cell_type": "code",
   "execution_count": 29,
   "id": "b88d3d86",
   "metadata": {},
   "outputs": [],
   "source": [
    "#importing the libaries\n",
    "import pandas as pd\n",
    "import numpy as np\n",
    "#import seaborn as sns\n",
    "import matplotlib.pyplot as plt\n",
    "%matplotlib inline\n",
    "import warnings\n",
    "warnings.filterwarnings('ignore')"
   ]
  },
  {
   "cell_type": "code",
   "execution_count": 30,
   "id": "c4130e67",
   "metadata": {},
   "outputs": [],
   "source": [
    "Data.to_csv('project_sample.csv',index=False)"
   ]
  },
  {
   "cell_type": "code",
   "execution_count": 31,
   "id": "3592ae32",
   "metadata": {},
   "outputs": [
    {
     "data": {
      "text/html": [
       "<div>\n",
       "<style scoped>\n",
       "    .dataframe tbody tr th:only-of-type {\n",
       "        vertical-align: middle;\n",
       "    }\n",
       "\n",
       "    .dataframe tbody tr th {\n",
       "        vertical-align: top;\n",
       "    }\n",
       "\n",
       "    .dataframe thead th {\n",
       "        text-align: right;\n",
       "    }\n",
       "</style>\n",
       "<table border=\"1\" class=\"dataframe\">\n",
       "  <thead>\n",
       "    <tr style=\"text-align: right;\">\n",
       "      <th></th>\n",
       "      <th>day</th>\n",
       "      <th>day_no</th>\n",
       "      <th>month</th>\n",
       "      <th>Machine_no</th>\n",
       "      <th>game_type</th>\n",
       "    </tr>\n",
       "  </thead>\n",
       "  <tbody>\n",
       "    <tr>\n",
       "      <th>0</th>\n",
       "      <td>MERCREDI</td>\n",
       "      <td>2</td>\n",
       "      <td>FÉVRIER</td>\n",
       "      <td>709</td>\n",
       "      <td>FORTUNE</td>\n",
       "    </tr>\n",
       "    <tr>\n",
       "      <th>1</th>\n",
       "      <td>MERCREDI</td>\n",
       "      <td>2</td>\n",
       "      <td>FÉVRIER</td>\n",
       "      <td>709</td>\n",
       "      <td>FORTUNE</td>\n",
       "    </tr>\n",
       "    <tr>\n",
       "      <th>2</th>\n",
       "      <td>MERCREDI</td>\n",
       "      <td>2</td>\n",
       "      <td>FÉVRIER</td>\n",
       "      <td>751</td>\n",
       "      <td>LUCKY</td>\n",
       "    </tr>\n",
       "  </tbody>\n",
       "</table>\n",
       "</div>"
      ],
      "text/plain": [
       "        day day_no    month Machine_no game_type\n",
       "0  MERCREDI      2  FÉVRIER        709   FORTUNE\n",
       "1  MERCREDI      2  FÉVRIER        709   FORTUNE\n",
       "2  MERCREDI      2  FÉVRIER        751     LUCKY"
      ]
     },
     "execution_count": 31,
     "metadata": {},
     "output_type": "execute_result"
    }
   ],
   "source": [
    "Data.head(3)"
   ]
  },
  {
   "cell_type": "code",
   "execution_count": null,
   "id": "c1ab1d08",
   "metadata": {},
   "outputs": [],
   "source": [
    "unscalable = non_num_data.drop(scalable,axis=1)"
   ]
  },
  {
   "cell_type": "code",
   "execution_count": null,
   "id": "507257f5",
   "metadata": {},
   "outputs": [],
   "source": [
    "unscalable = unscalable.apply(LabelEncoder().fit_transform)\n",
    "\n"
   ]
  },
  {
   "cell_type": "code",
   "execution_count": 66,
   "id": "dc61d792",
   "metadata": {},
   "outputs": [],
   "source": [
    "import numpy as np"
   ]
  },
  {
   "cell_type": "code",
   "execution_count": 33,
   "id": "b05a47b5",
   "metadata": {},
   "outputs": [
    {
     "name": "stdout",
     "output_type": "stream",
     "text": [
      "Collecting sklearn\n",
      "  Downloading sklearn-0.0.tar.gz (1.1 kB)\n",
      "  Preparing metadata (setup.py) ... \u001b[?25ldone\n",
      "\u001b[?25hRequirement already satisfied: scikit-learn in /Library/Frameworks/Python.framework/Versions/3.9/lib/python3.9/site-packages (from sklearn) (1.0)\n",
      "Requirement already satisfied: scipy>=1.1.0 in /Library/Frameworks/Python.framework/Versions/3.9/lib/python3.9/site-packages (from scikit-learn->sklearn) (1.7.1)\n",
      "Requirement already satisfied: threadpoolctl>=2.0.0 in /Library/Frameworks/Python.framework/Versions/3.9/lib/python3.9/site-packages (from scikit-learn->sklearn) (3.0.0)\n",
      "Requirement already satisfied: numpy>=1.14.6 in /Library/Frameworks/Python.framework/Versions/3.9/lib/python3.9/site-packages (from scikit-learn->sklearn) (1.18.5)\n",
      "Requirement already satisfied: joblib>=0.11 in /Library/Frameworks/Python.framework/Versions/3.9/lib/python3.9/site-packages (from scikit-learn->sklearn) (1.1.0)\n",
      "Building wheels for collected packages: sklearn\n",
      "  Building wheel for sklearn (setup.py) ... \u001b[?25ldone\n",
      "\u001b[?25h  Created wheel for sklearn: filename=sklearn-0.0-py2.py3-none-any.whl size=1309 sha256=864a26d072d81c8ecfb20711741300e6054b32fe69b663706f2c339ddfe8616c\n",
      "  Stored in directory: /Users/oliverla412/Library/Caches/pip/wheels/e4/7b/98/b6466d71b8d738a0c547008b9eb39bf8676d1ff6ca4b22af1c\n",
      "Successfully built sklearn\n",
      "Installing collected packages: sklearn\n",
      "Successfully installed sklearn-0.0\n"
     ]
    }
   ],
   "source": [
    "!pip install sklearn"
   ]
  },
  {
   "cell_type": "code",
   "execution_count": 36,
   "id": "fb32e5c4",
   "metadata": {},
   "outputs": [
    {
     "ename": "ValueError",
     "evalue": "numpy.ndarray size changed, may indicate binary incompatibility. Expected 96 from C header, got 80 from PyObject",
     "output_type": "error",
     "traceback": [
      "\u001b[0;31m---------------------------------------------------------------------------\u001b[0m",
      "\u001b[0;31mValueError\u001b[0m                                Traceback (most recent call last)",
      "\u001b[0;32m/var/folders/_1/66lm052n7y529trsmgljqf1h0000gn/T/ipykernel_33696/2155035279.py\u001b[0m in \u001b[0;36m<module>\u001b[0;34m\u001b[0m\n\u001b[0;32m----> 1\u001b[0;31m \u001b[0;32mfrom\u001b[0m \u001b[0msklearn\u001b[0m\u001b[0;34m.\u001b[0m\u001b[0mpreprocessing\u001b[0m \u001b[0;32mimport\u001b[0m \u001b[0mOrdinalEncoder\u001b[0m\u001b[0;34m\u001b[0m\u001b[0;34m\u001b[0m\u001b[0m\n\u001b[0m",
      "\u001b[0;32m/Library/Frameworks/Python.framework/Versions/3.9/lib/python3.9/site-packages/sklearn/__init__.py\u001b[0m in \u001b[0;36m<module>\u001b[0;34m\u001b[0m\n\u001b[1;32m     80\u001b[0m     \u001b[0;32mfrom\u001b[0m \u001b[0;34m.\u001b[0m \u001b[0;32mimport\u001b[0m \u001b[0m_distributor_init\u001b[0m  \u001b[0;31m# noqa: F401\u001b[0m\u001b[0;34m\u001b[0m\u001b[0;34m\u001b[0m\u001b[0m\n\u001b[1;32m     81\u001b[0m     \u001b[0;32mfrom\u001b[0m \u001b[0;34m.\u001b[0m \u001b[0;32mimport\u001b[0m \u001b[0m__check_build\u001b[0m  \u001b[0;31m# noqa: F401\u001b[0m\u001b[0;34m\u001b[0m\u001b[0;34m\u001b[0m\u001b[0m\n\u001b[0;32m---> 82\u001b[0;31m     \u001b[0;32mfrom\u001b[0m \u001b[0;34m.\u001b[0m\u001b[0mbase\u001b[0m \u001b[0;32mimport\u001b[0m \u001b[0mclone\u001b[0m\u001b[0;34m\u001b[0m\u001b[0;34m\u001b[0m\u001b[0m\n\u001b[0m\u001b[1;32m     83\u001b[0m     \u001b[0;32mfrom\u001b[0m \u001b[0;34m.\u001b[0m\u001b[0mutils\u001b[0m\u001b[0;34m.\u001b[0m\u001b[0m_show_versions\u001b[0m \u001b[0;32mimport\u001b[0m \u001b[0mshow_versions\u001b[0m\u001b[0;34m\u001b[0m\u001b[0;34m\u001b[0m\u001b[0m\n\u001b[1;32m     84\u001b[0m \u001b[0;34m\u001b[0m\u001b[0m\n",
      "\u001b[0;32m/Library/Frameworks/Python.framework/Versions/3.9/lib/python3.9/site-packages/sklearn/base.py\u001b[0m in \u001b[0;36m<module>\u001b[0;34m\u001b[0m\n\u001b[1;32m     15\u001b[0m \u001b[0;32mfrom\u001b[0m \u001b[0;34m.\u001b[0m \u001b[0;32mimport\u001b[0m \u001b[0m__version__\u001b[0m\u001b[0;34m\u001b[0m\u001b[0;34m\u001b[0m\u001b[0m\n\u001b[1;32m     16\u001b[0m \u001b[0;32mfrom\u001b[0m \u001b[0;34m.\u001b[0m\u001b[0m_config\u001b[0m \u001b[0;32mimport\u001b[0m \u001b[0mget_config\u001b[0m\u001b[0;34m\u001b[0m\u001b[0;34m\u001b[0m\u001b[0m\n\u001b[0;32m---> 17\u001b[0;31m \u001b[0;32mfrom\u001b[0m \u001b[0;34m.\u001b[0m\u001b[0mutils\u001b[0m \u001b[0;32mimport\u001b[0m \u001b[0m_IS_32BIT\u001b[0m\u001b[0;34m\u001b[0m\u001b[0;34m\u001b[0m\u001b[0m\n\u001b[0m\u001b[1;32m     18\u001b[0m from .utils._tags import (\n\u001b[1;32m     19\u001b[0m     \u001b[0m_DEFAULT_TAGS\u001b[0m\u001b[0;34m,\u001b[0m\u001b[0;34m\u001b[0m\u001b[0;34m\u001b[0m\u001b[0m\n",
      "\u001b[0;32m/Library/Frameworks/Python.framework/Versions/3.9/lib/python3.9/site-packages/sklearn/utils/__init__.py\u001b[0m in \u001b[0;36m<module>\u001b[0;34m\u001b[0m\n\u001b[1;32m     26\u001b[0m \u001b[0;32mfrom\u001b[0m \u001b[0;34m.\u001b[0m\u001b[0;34m.\u001b[0m\u001b[0mexceptions\u001b[0m \u001b[0;32mimport\u001b[0m \u001b[0mDataConversionWarning\u001b[0m\u001b[0;34m\u001b[0m\u001b[0;34m\u001b[0m\u001b[0m\n\u001b[1;32m     27\u001b[0m \u001b[0;32mfrom\u001b[0m \u001b[0;34m.\u001b[0m\u001b[0mdeprecation\u001b[0m \u001b[0;32mimport\u001b[0m \u001b[0mdeprecated\u001b[0m\u001b[0;34m\u001b[0m\u001b[0;34m\u001b[0m\u001b[0m\n\u001b[0;32m---> 28\u001b[0;31m \u001b[0;32mfrom\u001b[0m \u001b[0;34m.\u001b[0m\u001b[0mfixes\u001b[0m \u001b[0;32mimport\u001b[0m \u001b[0mnp_version\u001b[0m\u001b[0;34m,\u001b[0m \u001b[0mparse_version\u001b[0m\u001b[0;34m\u001b[0m\u001b[0;34m\u001b[0m\u001b[0m\n\u001b[0m\u001b[1;32m     29\u001b[0m \u001b[0;32mfrom\u001b[0m \u001b[0;34m.\u001b[0m\u001b[0m_estimator_html_repr\u001b[0m \u001b[0;32mimport\u001b[0m \u001b[0mestimator_html_repr\u001b[0m\u001b[0;34m\u001b[0m\u001b[0;34m\u001b[0m\u001b[0m\n\u001b[1;32m     30\u001b[0m from .validation import (\n",
      "\u001b[0;32m/Library/Frameworks/Python.framework/Versions/3.9/lib/python3.9/site-packages/sklearn/utils/fixes.py\u001b[0m in \u001b[0;36m<module>\u001b[0;34m\u001b[0m\n\u001b[1;32m     17\u001b[0m \u001b[0;32mimport\u001b[0m \u001b[0mscipy\u001b[0m\u001b[0;34m.\u001b[0m\u001b[0msparse\u001b[0m \u001b[0;32mas\u001b[0m \u001b[0msp\u001b[0m\u001b[0;34m\u001b[0m\u001b[0;34m\u001b[0m\u001b[0m\n\u001b[1;32m     18\u001b[0m \u001b[0;32mimport\u001b[0m \u001b[0mscipy\u001b[0m\u001b[0;34m\u001b[0m\u001b[0;34m\u001b[0m\u001b[0m\n\u001b[0;32m---> 19\u001b[0;31m \u001b[0;32mimport\u001b[0m \u001b[0mscipy\u001b[0m\u001b[0;34m.\u001b[0m\u001b[0mstats\u001b[0m\u001b[0;34m\u001b[0m\u001b[0;34m\u001b[0m\u001b[0m\n\u001b[0m\u001b[1;32m     20\u001b[0m \u001b[0;32mfrom\u001b[0m \u001b[0mscipy\u001b[0m\u001b[0;34m.\u001b[0m\u001b[0msparse\u001b[0m\u001b[0;34m.\u001b[0m\u001b[0mlinalg\u001b[0m \u001b[0;32mimport\u001b[0m \u001b[0mlsqr\u001b[0m \u001b[0;32mas\u001b[0m \u001b[0msparse_lsqr\u001b[0m  \u001b[0;31m# noqa\u001b[0m\u001b[0;34m\u001b[0m\u001b[0;34m\u001b[0m\u001b[0m\n\u001b[1;32m     21\u001b[0m \u001b[0;32mfrom\u001b[0m \u001b[0;34m.\u001b[0m\u001b[0;34m.\u001b[0m\u001b[0m_config\u001b[0m \u001b[0;32mimport\u001b[0m \u001b[0mconfig_context\u001b[0m\u001b[0;34m,\u001b[0m \u001b[0mget_config\u001b[0m\u001b[0;34m\u001b[0m\u001b[0;34m\u001b[0m\u001b[0m\n",
      "\u001b[0;32m/Library/Frameworks/Python.framework/Versions/3.9/lib/python3.9/site-packages/scipy/stats/__init__.py\u001b[0m in \u001b[0;36m<module>\u001b[0;34m\u001b[0m\n\u001b[1;32m    439\u001b[0m \"\"\"\n\u001b[1;32m    440\u001b[0m \u001b[0;34m\u001b[0m\u001b[0m\n\u001b[0;32m--> 441\u001b[0;31m \u001b[0;32mfrom\u001b[0m \u001b[0;34m.\u001b[0m\u001b[0mstats\u001b[0m \u001b[0;32mimport\u001b[0m \u001b[0;34m*\u001b[0m\u001b[0;34m\u001b[0m\u001b[0;34m\u001b[0m\u001b[0m\n\u001b[0m\u001b[1;32m    442\u001b[0m \u001b[0;32mfrom\u001b[0m \u001b[0;34m.\u001b[0m\u001b[0mdistributions\u001b[0m \u001b[0;32mimport\u001b[0m \u001b[0;34m*\u001b[0m\u001b[0;34m\u001b[0m\u001b[0;34m\u001b[0m\u001b[0m\n\u001b[1;32m    443\u001b[0m \u001b[0;32mfrom\u001b[0m \u001b[0;34m.\u001b[0m\u001b[0mmorestats\u001b[0m \u001b[0;32mimport\u001b[0m \u001b[0;34m*\u001b[0m\u001b[0;34m\u001b[0m\u001b[0;34m\u001b[0m\u001b[0m\n",
      "\u001b[0;32m/Library/Frameworks/Python.framework/Versions/3.9/lib/python3.9/site-packages/scipy/stats/stats.py\u001b[0m in \u001b[0;36m<module>\u001b[0;34m\u001b[0m\n\u001b[1;32m     41\u001b[0m \u001b[0;32mimport\u001b[0m \u001b[0mscipy\u001b[0m\u001b[0;34m.\u001b[0m\u001b[0mspecial\u001b[0m \u001b[0;32mas\u001b[0m \u001b[0mspecial\u001b[0m\u001b[0;34m\u001b[0m\u001b[0;34m\u001b[0m\u001b[0m\n\u001b[1;32m     42\u001b[0m \u001b[0;32mfrom\u001b[0m \u001b[0mscipy\u001b[0m \u001b[0;32mimport\u001b[0m \u001b[0mlinalg\u001b[0m\u001b[0;34m\u001b[0m\u001b[0;34m\u001b[0m\u001b[0m\n\u001b[0;32m---> 43\u001b[0;31m \u001b[0;32mfrom\u001b[0m \u001b[0;34m.\u001b[0m \u001b[0;32mimport\u001b[0m \u001b[0mdistributions\u001b[0m\u001b[0;34m\u001b[0m\u001b[0;34m\u001b[0m\u001b[0m\n\u001b[0m\u001b[1;32m     44\u001b[0m \u001b[0;32mfrom\u001b[0m \u001b[0;34m.\u001b[0m \u001b[0;32mimport\u001b[0m \u001b[0mmstats_basic\u001b[0m\u001b[0;34m\u001b[0m\u001b[0;34m\u001b[0m\u001b[0m\n\u001b[1;32m     45\u001b[0m from ._stats_mstats_common import (_find_repeats, linregress, theilslopes,\n",
      "\u001b[0;32m/Library/Frameworks/Python.framework/Versions/3.9/lib/python3.9/site-packages/scipy/stats/distributions.py\u001b[0m in \u001b[0;36m<module>\u001b[0;34m\u001b[0m\n\u001b[1;32m      9\u001b[0m \u001b[0;34m\u001b[0m\u001b[0m\n\u001b[1;32m     10\u001b[0m \u001b[0;32mfrom\u001b[0m \u001b[0;34m.\u001b[0m \u001b[0;32mimport\u001b[0m \u001b[0m_continuous_distns\u001b[0m\u001b[0;34m\u001b[0m\u001b[0;34m\u001b[0m\u001b[0m\n\u001b[0;32m---> 11\u001b[0;31m \u001b[0;32mfrom\u001b[0m \u001b[0;34m.\u001b[0m \u001b[0;32mimport\u001b[0m \u001b[0m_discrete_distns\u001b[0m\u001b[0;34m\u001b[0m\u001b[0;34m\u001b[0m\u001b[0m\n\u001b[0m\u001b[1;32m     12\u001b[0m \u001b[0;34m\u001b[0m\u001b[0m\n\u001b[1;32m     13\u001b[0m \u001b[0;32mfrom\u001b[0m \u001b[0;34m.\u001b[0m\u001b[0m_continuous_distns\u001b[0m \u001b[0;32mimport\u001b[0m \u001b[0;34m*\u001b[0m\u001b[0;34m\u001b[0m\u001b[0;34m\u001b[0m\u001b[0m\n",
      "\u001b[0;32m/Library/Frameworks/Python.framework/Versions/3.9/lib/python3.9/site-packages/scipy/stats/_discrete_distns.py\u001b[0m in \u001b[0;36m<module>\u001b[0;34m\u001b[0m\n\u001b[1;32m     17\u001b[0m     _check_shape)\n\u001b[1;32m     18\u001b[0m \u001b[0;32mimport\u001b[0m \u001b[0mscipy\u001b[0m\u001b[0;34m.\u001b[0m\u001b[0mstats\u001b[0m\u001b[0;34m.\u001b[0m\u001b[0m_boost\u001b[0m \u001b[0;32mas\u001b[0m \u001b[0m_boost\u001b[0m\u001b[0;34m\u001b[0m\u001b[0;34m\u001b[0m\u001b[0m\n\u001b[0;32m---> 19\u001b[0;31m from .biasedurn import (_PyFishersNCHypergeometric,\n\u001b[0m\u001b[1;32m     20\u001b[0m                         \u001b[0m_PyWalleniusNCHypergeometric\u001b[0m\u001b[0;34m,\u001b[0m\u001b[0;34m\u001b[0m\u001b[0;34m\u001b[0m\u001b[0m\n\u001b[1;32m     21\u001b[0m                         _PyStochasticLib3)\n",
      "\u001b[0;32mbiasedurn.pyx\u001b[0m in \u001b[0;36minit scipy.stats.biasedurn\u001b[0;34m()\u001b[0m\n",
      "\u001b[0;32mbit_generator.pyx\u001b[0m in \u001b[0;36minit numpy.random.bit_generator\u001b[0;34m()\u001b[0m\n",
      "\u001b[0;31mValueError\u001b[0m: numpy.ndarray size changed, may indicate binary incompatibility. Expected 96 from C header, got 80 from PyObject"
     ]
    }
   ],
   "source": [
    "from sklearn.preprocessing import label_binarize"
   ]
  },
  {
   "cell_type": "code",
   "execution_count": null,
   "id": "5769f753",
   "metadata": {},
   "outputs": [],
   "source": []
  },
  {
   "cell_type": "code",
   "execution_count": null,
   "id": "1a5eb09e",
   "metadata": {},
   "outputs": [],
   "source": []
  }
 ],
 "metadata": {
  "kernelspec": {
   "display_name": "Python 3 (ipykernel)",
   "language": "python",
   "name": "python3"
  },
  "language_info": {
   "codemirror_mode": {
    "name": "ipython",
    "version": 3
   },
   "file_extension": ".py",
   "mimetype": "text/x-python",
   "name": "python",
   "nbconvert_exporter": "python",
   "pygments_lexer": "ipython3",
   "version": "3.9.7"
  }
 },
 "nbformat": 4,
 "nbformat_minor": 5
}
