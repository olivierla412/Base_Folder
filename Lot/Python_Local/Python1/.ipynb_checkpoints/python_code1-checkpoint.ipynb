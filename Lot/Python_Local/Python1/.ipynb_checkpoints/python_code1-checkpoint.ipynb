{
 "cells": [
  {
   "cell_type": "code",
   "execution_count": 9,
   "id": "33be2dd7",
   "metadata": {},
   "outputs": [
    {
     "name": "stdout",
     "output_type": "stream",
     "text": [
      "Hello World!\n"
     ]
    }
   ],
   "source": [
    "print(\"Hello World!\")"
   ]
  },
  {
   "cell_type": "code",
   "execution_count": null,
   "id": "52c176c8",
   "metadata": {},
   "outputs": [],
   "source": []
  },
  {
   "cell_type": "code",
   "execution_count": 10,
   "id": "e8334ca5",
   "metadata": {},
   "outputs": [
    {
     "name": "stdout",
     "output_type": "stream",
     "text": [
      "Hello World!\n"
     ]
    }
   ],
   "source": [
    "print('Hello World!')"
   ]
  },
  {
   "cell_type": "code",
   "execution_count": null,
   "id": "5cc08176",
   "metadata": {},
   "outputs": [],
   "source": [
    "# ()  ==> round bracket"
   ]
  },
  {
   "cell_type": "code",
   "execution_count": null,
   "id": "bb99b3b4",
   "metadata": {},
   "outputs": [],
   "source": [
    "# [] ==> square bracket"
   ]
  },
  {
   "cell_type": "code",
   "execution_count": null,
   "id": "2789c9d4",
   "metadata": {},
   "outputs": [],
   "source": [
    "# {}  ==> flower brocket"
   ]
  },
  {
   "cell_type": "code",
   "execution_count": null,
   "id": "3296a185",
   "metadata": {},
   "outputs": [],
   "source": [
    "# \"\"   ==> double quote"
   ]
  },
  {
   "cell_type": "code",
   "execution_count": null,
   "id": "ab61a98a",
   "metadata": {},
   "outputs": [],
   "source": [
    "# '' ==> single quote"
   ]
  },
  {
   "cell_type": "code",
   "execution_count": null,
   "id": "d1830bc8",
   "metadata": {},
   "outputs": [],
   "source": []
  },
  {
   "cell_type": "markdown",
   "id": "c76f82f0",
   "metadata": {},
   "source": [
    "22"
   ]
  },
  {
   "cell_type": "code",
   "execution_count": null,
   "id": "de16eda1",
   "metadata": {},
   "outputs": [],
   "source": []
  }
 ],
 "metadata": {
  "kernelspec": {
   "display_name": "Python 3 (ipykernel)",
   "language": "python",
   "name": "python3"
  },
  "language_info": {
   "codemirror_mode": {
    "name": "ipython",
    "version": 3
   },
   "file_extension": ".py",
   "mimetype": "text/x-python",
   "name": "python",
   "nbconvert_exporter": "python",
   "pygments_lexer": "ipython3",
   "version": "3.9.7"
  }
 },
 "nbformat": 4,
 "nbformat_minor": 5
}
