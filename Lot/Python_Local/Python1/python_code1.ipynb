{
 "cells": [
  {
   "cell_type": "code",
   "execution_count": 9,
   "id": "33be2dd7",
   "metadata": {},
   "outputs": [
    {
     "name": "stdout",
     "output_type": "stream",
     "text": [
      "Hello World!\n"
     ]
    }
   ],
   "source": [
    "print(\"Hello World!\")"
   ]
  },
  {
   "cell_type": "code",
   "execution_count": null,
   "id": "52c176c8",
   "metadata": {},
   "outputs": [],
   "source": []
  },
  {
   "cell_type": "code",
   "execution_count": 10,
   "id": "e8334ca5",
   "metadata": {},
   "outputs": [
    {
     "name": "stdout",
     "output_type": "stream",
     "text": [
      "Hello World!\n"
     ]
    }
   ],
   "source": [
    "print('Hello World!')"
   ]
  },
  {
   "cell_type": "code",
   "execution_count": null,
   "id": "5cc08176",
   "metadata": {},
   "outputs": [],
   "source": [
    "# ()  ==> round bracket"
   ]
  },
  {
   "cell_type": "code",
   "execution_count": null,
   "id": "bb99b3b4",
   "metadata": {},
   "outputs": [],
   "source": [
    "# [] ==> square bracket"
   ]
  },
  {
   "cell_type": "code",
   "execution_count": null,
   "id": "2789c9d4",
   "metadata": {},
   "outputs": [],
   "source": [
    "# {}  ==> flower brocket"
   ]
  },
  {
   "cell_type": "code",
   "execution_count": null,
   "id": "3296a185",
   "metadata": {},
   "outputs": [],
   "source": [
    "# \"\"   ==> double quote"
   ]
  },
  {
   "cell_type": "code",
   "execution_count": null,
   "id": "ab61a98a",
   "metadata": {},
   "outputs": [],
   "source": [
    "# '' ==> single quote"
   ]
  },
  {
   "cell_type": "code",
   "execution_count": null,
   "id": "d1830bc8",
   "metadata": {},
   "outputs": [],
   "source": []
  },
  {
   "cell_type": "markdown",
   "id": "c76f82f0",
   "metadata": {},
   "source": [
    "22"
   ]
  },
  {
   "cell_type": "code",
   "execution_count": 6,
   "id": "de16eda1",
   "metadata": {},
   "outputs": [],
   "source": [
    "import math"
   ]
  },
  {
   "cell_type": "code",
   "execution_count": 3,
   "id": "457ed235",
   "metadata": {},
   "outputs": [
    {
     "data": {
      "text/plain": [
       "3.141592653589793"
      ]
     },
     "execution_count": 3,
     "metadata": {},
     "output_type": "execute_result"
    }
   ],
   "source": [
    "math.pi"
   ]
  },
  {
   "cell_type": "code",
   "execution_count": 5,
   "id": "b4ba7340",
   "metadata": {},
   "outputs": [
    {
     "data": {
      "text/plain": [
       "5.0"
      ]
     },
     "execution_count": 5,
     "metadata": {},
     "output_type": "execute_result"
    }
   ],
   "source": [
    "math.sqrt(25)"
   ]
  },
  {
   "cell_type": "code",
   "execution_count": 7,
   "id": "c3b47a52",
   "metadata": {},
   "outputs": [
    {
     "ename": "NameError",
     "evalue": "name 'pandas' is not defined",
     "output_type": "error",
     "traceback": [
      "\u001b[0;31m---------------------------------------------------------------------------\u001b[0m",
      "\u001b[0;31mNameError\u001b[0m                                 Traceback (most recent call last)",
      "\u001b[0;32m/var/folders/_1/66lm052n7y529trsmgljqf1h0000gn/T/ipykernel_23711/703571930.py\u001b[0m in \u001b[0;36m<module>\u001b[0;34m\u001b[0m\n\u001b[0;32m----> 1\u001b[0;31m \u001b[0mpandas\u001b[0m\u001b[0;34m\u001b[0m\u001b[0;34m\u001b[0m\u001b[0m\n\u001b[0m",
      "\u001b[0;31mNameError\u001b[0m: name 'pandas' is not defined"
     ]
    }
   ],
   "source": [
    "pandas"
   ]
  },
  {
   "cell_type": "code",
   "execution_count": 8,
   "id": "51e5ee08",
   "metadata": {},
   "outputs": [],
   "source": [
    "import pandas"
   ]
  },
  {
   "cell_type": "code",
   "execution_count": 9,
   "id": "e0e5d0cd",
   "metadata": {},
   "outputs": [
    {
     "data": {
      "text/plain": [
       "<module 'pandas' from '/Library/Frameworks/Python.framework/Versions/3.9/lib/python3.9/site-packages/pandas/__init__.py'>"
      ]
     },
     "execution_count": 9,
     "metadata": {},
     "output_type": "execute_result"
    }
   ],
   "source": [
    "pandas"
   ]
  },
  {
   "cell_type": "code",
   "execution_count": 11,
   "id": "83b936c8",
   "metadata": {},
   "outputs": [],
   "source": [
    "from math import pi"
   ]
  },
  {
   "cell_type": "code",
   "execution_count": 12,
   "id": "8060b836",
   "metadata": {},
   "outputs": [
    {
     "data": {
      "text/plain": [
       "3.141592653589793"
      ]
     },
     "execution_count": 12,
     "metadata": {},
     "output_type": "execute_result"
    }
   ],
   "source": [
    "pi"
   ]
  },
  {
   "cell_type": "code",
   "execution_count": 19,
   "id": "f4486773",
   "metadata": {},
   "outputs": [
    {
     "name": "stdout",
     "output_type": "stream",
     "text": [
      "Count:  1\n",
      "Count:  2\n",
      "Count:  3\n",
      "Count:  4\n",
      "Count:  5\n",
      "Count:  6\n",
      "Count:  7\n",
      "Count:  8\n",
      "Count:  9\n",
      "Count:  10\n",
      "Count:  11\n",
      "Count:  12\n",
      "Count:  13\n",
      "Count:  14\n",
      "Count:  15\n",
      "Count:  16\n",
      "Count:  17\n",
      "Count:  18\n",
      "Count:  19\n",
      "Count:  20\n"
     ]
    }
   ],
   "source": [
    "i = 0\n",
    "count = 0\n",
    "while i <20:\n",
    "    i=i+1\n",
    "    count = count +1\n",
    "    print('Count: ',count)"
   ]
  },
  {
   "cell_type": "code",
   "execution_count": 17,
   "id": "aad94c53",
   "metadata": {},
   "outputs": [
    {
     "data": {
      "text/plain": [
       "10"
      ]
     },
     "execution_count": 17,
     "metadata": {},
     "output_type": "execute_result"
    }
   ],
   "source": [
    "count"
   ]
  },
  {
   "cell_type": "code",
   "execution_count": 20,
   "id": "961b9fac",
   "metadata": {},
   "outputs": [
    {
     "name": "stdout",
     "output_type": "stream",
     "text": [
      "Count:  1\n",
      "Count:  2\n",
      "Count:  3\n",
      "Count:  4\n",
      "Count:  5\n",
      "Count:  6\n",
      "Count:  7\n",
      "Count:  8\n",
      "Count:  9\n",
      "Count:  10\n",
      "Count:  11\n",
      "Count:  12\n",
      "Count:  13\n",
      "Count:  14\n",
      "Count:  15\n",
      "Count:  16\n",
      "Count:  17\n",
      "Count:  18\n",
      "Count:  19\n",
      "Count:  20\n"
     ]
    }
   ],
   "source": [
    "i = 0\n",
    "count = 0\n",
    "while i <20:\n",
    "    i+=1\n",
    "    count +=1\n",
    "    print('Count: ',count)"
   ]
  },
  {
   "cell_type": "code",
   "execution_count": 42,
   "id": "1b52db6a",
   "metadata": {},
   "outputs": [
    {
     "name": "stdout",
     "output_type": "stream",
     "text": [
      "0\n",
      "2\n",
      "4\n",
      "6\n",
      "10\n",
      "12\n",
      "16\n",
      "18\n"
     ]
    }
   ],
   "source": [
    "for x in range(0,20,2):\n",
    "    if x ==8 or x ==14:\n",
    "        continue\n",
    "    print(x)"
   ]
  },
  {
   "cell_type": "code",
   "execution_count": 26,
   "id": "e447f064",
   "metadata": {},
   "outputs": [],
   "source": [
    "a='Bonjour'\n",
    "b = a\n",
    "c = 'Hello'"
   ]
  },
  {
   "cell_type": "code",
   "execution_count": 27,
   "id": "ea3481f4",
   "metadata": {},
   "outputs": [
    {
     "data": {
      "text/plain": [
       "'Bonjour'"
      ]
     },
     "execution_count": 27,
     "metadata": {},
     "output_type": "execute_result"
    }
   ],
   "source": [
    "b"
   ]
  },
  {
   "cell_type": "code",
   "execution_count": 25,
   "id": "eb71a976",
   "metadata": {},
   "outputs": [
    {
     "data": {
      "text/plain": [
       "False"
      ]
     },
     "execution_count": 25,
     "metadata": {},
     "output_type": "execute_result"
    }
   ],
   "source": [
    "22 ==2"
   ]
  },
  {
   "cell_type": "code",
   "execution_count": 28,
   "id": "e574842f",
   "metadata": {},
   "outputs": [
    {
     "data": {
      "text/plain": [
       "'Hello'"
      ]
     },
     "execution_count": 28,
     "metadata": {},
     "output_type": "execute_result"
    }
   ],
   "source": [
    "c"
   ]
  },
  {
   "cell_type": "code",
   "execution_count": 29,
   "id": "237ff48c",
   "metadata": {},
   "outputs": [
    {
     "data": {
      "text/plain": [
       "True"
      ]
     },
     "execution_count": 29,
     "metadata": {},
     "output_type": "execute_result"
    }
   ],
   "source": [
    "b ==a"
   ]
  },
  {
   "cell_type": "code",
   "execution_count": 30,
   "id": "94f8cf30",
   "metadata": {},
   "outputs": [
    {
     "data": {
      "text/plain": [
       "False"
      ]
     },
     "execution_count": 30,
     "metadata": {},
     "output_type": "execute_result"
    }
   ],
   "source": [
    "b ==c"
   ]
  },
  {
   "cell_type": "code",
   "execution_count": null,
   "id": "5c5e6b0a",
   "metadata": {},
   "outputs": [],
   "source": [
    "range(start,number,steps)"
   ]
  },
  {
   "cell_type": "code",
   "execution_count": 37,
   "id": "5807fe0a",
   "metadata": {},
   "outputs": [
    {
     "name": "stdout",
     "output_type": "stream",
     "text": [
      "0\n",
      "5\n",
      "10\n",
      "15\n",
      "20\n",
      "25\n",
      "30\n",
      "35\n",
      "40\n",
      "45\n",
      "50\n",
      "55\n",
      "60\n",
      "65\n",
      "70\n",
      "75\n",
      "80\n",
      "85\n",
      "90\n",
      "95\n",
      "100\n",
      "105\n"
     ]
    }
   ],
   "source": [
    "for x in range(0,107,5):\n",
    "    print(x)"
   ]
  },
  {
   "cell_type": "code",
   "execution_count": 48,
   "id": "b6d914f3",
   "metadata": {},
   "outputs": [],
   "source": [
    "colors = ['red','blue','green','pink']"
   ]
  },
  {
   "cell_type": "code",
   "execution_count": 44,
   "id": "b141e2ed",
   "metadata": {},
   "outputs": [
    {
     "data": {
      "text/plain": [
       "['red', 'blue', 'green', 'pink']"
      ]
     },
     "execution_count": 44,
     "metadata": {},
     "output_type": "execute_result"
    }
   ],
   "source": [
    "x"
   ]
  },
  {
   "cell_type": "code",
   "execution_count": 49,
   "id": "b669d8a0",
   "metadata": {},
   "outputs": [
    {
     "name": "stdout",
     "output_type": "stream",
     "text": [
      "red\n",
      "blue\n",
      "green\n",
      "pink\n"
     ]
    }
   ],
   "source": [
    "for i in colors:\n",
    "    print(i)   \n",
    "    "
   ]
  },
  {
   "cell_type": "code",
   "execution_count": 51,
   "id": "2e78472b",
   "metadata": {},
   "outputs": [],
   "source": [
    "# Bonjour , today sunday"
   ]
  },
  {
   "cell_type": "code",
   "execution_count": 52,
   "id": "2a9f9830",
   "metadata": {},
   "outputs": [],
   "source": [
    "#Bonjour ,\n",
    "#today \n",
    "#sunday"
   ]
  },
  {
   "cell_type": "code",
   "execution_count": 54,
   "id": "ca6b1e15",
   "metadata": {},
   "outputs": [],
   "source": [
    "\"\"\"Bonjour ,\n",
    "today \n",
    "sunday\n",
    "I am ddoing great\n",
    "\"\"\"\n",
    "x =10"
   ]
  },
  {
   "cell_type": "code",
   "execution_count": 55,
   "id": "c2452204",
   "metadata": {},
   "outputs": [
    {
     "data": {
      "text/plain": [
       "10"
      ]
     },
     "execution_count": 55,
     "metadata": {},
     "output_type": "execute_result"
    }
   ],
   "source": [
    "x"
   ]
  },
  {
   "cell_type": "code",
   "execution_count": 56,
   "id": "c2c935f0",
   "metadata": {},
   "outputs": [
    {
     "name": "stdout",
     "output_type": "stream",
     "text": [
      "Enter your name:Olivier\n",
      "Enter your eamil:pvcoding@gmail.com\n",
      "Enter your password:12345\n"
     ]
    }
   ],
   "source": [
    "# How to use the \"input\" keyword?\n",
    "name = input('Enter your name:')\n",
    "eamil = input('Enter your eamil:')\n",
    "passowrd = input('Enter your password:')\n",
    "\n"
   ]
  },
  {
   "cell_type": "code",
   "execution_count": 57,
   "id": "8f63e023",
   "metadata": {},
   "outputs": [
    {
     "name": "stdout",
     "output_type": "stream",
     "text": [
      "Enter your age: 6\n"
     ]
    },
    {
     "ename": "TypeError",
     "evalue": "can only concatenate str (not \"int\") to str",
     "output_type": "error",
     "traceback": [
      "\u001b[0;31m---------------------------------------------------------------------------\u001b[0m",
      "\u001b[0;31mTypeError\u001b[0m                                 Traceback (most recent call last)",
      "\u001b[0;32m/var/folders/_1/66lm052n7y529trsmgljqf1h0000gn/T/ipykernel_23711/4013321647.py\u001b[0m in \u001b[0;36m<module>\u001b[0;34m\u001b[0m\n\u001b[1;32m      2\u001b[0m \u001b[0;34m\u001b[0m\u001b[0m\n\u001b[1;32m      3\u001b[0m \u001b[0mx\u001b[0m \u001b[0;34m=\u001b[0m \u001b[0minput\u001b[0m\u001b[0;34m(\u001b[0m\u001b[0;34m'Enter your age: '\u001b[0m\u001b[0;34m)\u001b[0m\u001b[0;34m\u001b[0m\u001b[0;34m\u001b[0m\u001b[0m\n\u001b[0;32m----> 4\u001b[0;31m \u001b[0my\u001b[0m \u001b[0;34m=\u001b[0m \u001b[0mx\u001b[0m \u001b[0;34m+\u001b[0m \u001b[0;36m2\u001b[0m\u001b[0;34m\u001b[0m\u001b[0;34m\u001b[0m\u001b[0m\n\u001b[0m\u001b[1;32m      5\u001b[0m \u001b[0mprint\u001b[0m\u001b[0;34m(\u001b[0m\u001b[0my\u001b[0m\u001b[0;34m)\u001b[0m\u001b[0;34m\u001b[0m\u001b[0;34m\u001b[0m\u001b[0m\n",
      "\u001b[0;31mTypeError\u001b[0m: can only concatenate str (not \"int\") to str"
     ]
    }
   ],
   "source": [
    "## by default the input value is in string type\n",
    "\n",
    "x = input('Enter your age: ')\n",
    "y = x + 2\n",
    "print(y)"
   ]
  },
  {
   "cell_type": "code",
   "execution_count": 58,
   "id": "6a17f54c",
   "metadata": {},
   "outputs": [
    {
     "data": {
      "text/plain": [
       "str"
      ]
     },
     "execution_count": 58,
     "metadata": {},
     "output_type": "execute_result"
    }
   ],
   "source": [
    "type(x)"
   ]
  },
  {
   "cell_type": "code",
   "execution_count": 59,
   "id": "16f03b93",
   "metadata": {},
   "outputs": [
    {
     "name": "stdout",
     "output_type": "stream",
     "text": [
      "Enter your age: 25\n",
      "27\n"
     ]
    }
   ],
   "source": [
    "## by default the input value is in string type\n",
    "\n",
    "x = int(input('Enter your age: '))\n",
    "y = x + 2\n",
    "print(y)"
   ]
  },
  {
   "cell_type": "code",
   "execution_count": 67,
   "id": "df0a1f80",
   "metadata": {},
   "outputs": [],
   "source": [
    "#Legal variable names\n",
    "prenom1= 'Olivier'\n",
    "prenom2 = 'Cisse'\n",
    "age = 24\n",
    "MyName =  'Houphouet'\n",
    "mYnAme ='Eric'"
   ]
  },
  {
   "cell_type": "code",
   "execution_count": 68,
   "id": "7a2f80d3",
   "metadata": {},
   "outputs": [],
   "source": [
    "# Illegal variable names\n",
    "#prenom 1= 'Olivier'\n",
    "#2prenom = 'Cisse'\n",
    "#age-1 = 24\n",
    "\n"
   ]
  },
  {
   "cell_type": "code",
   "execution_count": 70,
   "id": "d1f98049",
   "metadata": {},
   "outputs": [],
   "source": [
    "name = 'Patrick'\n",
    "age = 36\n",
    "amount = 5000.60"
   ]
  },
  {
   "cell_type": "code",
   "execution_count": 71,
   "id": "6cf227a6",
   "metadata": {},
   "outputs": [
    {
     "name": "stdout",
     "output_type": "stream",
     "text": [
      "<class 'str'>\n",
      "<class 'int'>\n",
      "<class 'float'>\n"
     ]
    }
   ],
   "source": [
    "print(type(name))\n",
    "print(type(age))\n",
    "print(type(amount))"
   ]
  },
  {
   "cell_type": "code",
   "execution_count": null,
   "id": "2ebf3481",
   "metadata": {},
   "outputs": [],
   "source": []
  },
  {
   "cell_type": "code",
   "execution_count": 72,
   "id": "4315da88",
   "metadata": {},
   "outputs": [],
   "source": [
    "#constante variable\n",
    "\n",
    "NAME = 'Olivier'"
   ]
  },
  {
   "cell_type": "code",
   "execution_count": null,
   "id": "b7bdec1f",
   "metadata": {},
   "outputs": [],
   "source": []
  },
  {
   "cell_type": "code",
   "execution_count": 74,
   "id": "1b272083",
   "metadata": {},
   "outputs": [
    {
     "name": "stdout",
     "output_type": "stream",
     "text": [
      "0\n"
     ]
    }
   ],
   "source": [
    "## Modulus operator\n",
    "\n",
    "num = 40%5\n",
    "\n",
    "print(num)"
   ]
  },
  {
   "cell_type": "code",
   "execution_count": 75,
   "id": "60724d8d",
   "metadata": {},
   "outputs": [
    {
     "name": "stdout",
     "output_type": "stream",
     "text": [
      "1\n"
     ]
    }
   ],
   "source": [
    "## Modulus operator\n",
    "\n",
    "num = 41%5 \n",
    "\n",
    "print(num)"
   ]
  },
  {
   "cell_type": "code",
   "execution_count": 76,
   "id": "90e92e6c",
   "metadata": {},
   "outputs": [
    {
     "name": "stdout",
     "output_type": "stream",
     "text": [
      "8.2\n"
     ]
    }
   ],
   "source": [
    "### division operator\n",
    "num = 41/5 \n",
    "\n",
    "print(num)"
   ]
  },
  {
   "cell_type": "code",
   "execution_count": 79,
   "id": "973a4fe6",
   "metadata": {},
   "outputs": [
    {
     "data": {
      "text/plain": [
       "1.5"
      ]
     },
     "execution_count": 79,
     "metadata": {},
     "output_type": "execute_result"
    }
   ],
   "source": [
    "3 2"
   ]
  },
  {
   "cell_type": "code",
   "execution_count": 85,
   "id": "58cab6e7",
   "metadata": {},
   "outputs": [
    {
     "data": {
      "text/plain": [
       "0"
      ]
     },
     "execution_count": 85,
     "metadata": {},
     "output_type": "execute_result"
    }
   ],
   "source": [
    "6%2"
   ]
  },
  {
   "cell_type": "code",
   "execution_count": 86,
   "id": "4f86b9ee",
   "metadata": {},
   "outputs": [
    {
     "data": {
      "text/plain": [
       "3.0"
      ]
     },
     "execution_count": 86,
     "metadata": {},
     "output_type": "execute_result"
    }
   ],
   "source": [
    "6/2"
   ]
  },
  {
   "cell_type": "code",
   "execution_count": 81,
   "id": "c8d503eb",
   "metadata": {},
   "outputs": [
    {
     "data": {
      "text/plain": [
       "33.333333333333336"
      ]
     },
     "execution_count": 81,
     "metadata": {},
     "output_type": "execute_result"
    }
   ],
   "source": [
    "100/3"
   ]
  },
  {
   "cell_type": "code",
   "execution_count": 84,
   "id": "97d92493",
   "metadata": {},
   "outputs": [
    {
     "data": {
      "text/plain": [
       "99"
      ]
     },
     "execution_count": 84,
     "metadata": {},
     "output_type": "execute_result"
    }
   ],
   "source": [
    "33*3"
   ]
  },
  {
   "cell_type": "code",
   "execution_count": 87,
   "id": "4b2d8970",
   "metadata": {},
   "outputs": [
    {
     "data": {
      "text/plain": [
       "3.6666666666666665"
      ]
     },
     "execution_count": 87,
     "metadata": {},
     "output_type": "execute_result"
    }
   ],
   "source": [
    "11/3"
   ]
  },
  {
   "cell_type": "code",
   "execution_count": 88,
   "id": "46be983f",
   "metadata": {},
   "outputs": [
    {
     "data": {
      "text/plain": [
       "2"
      ]
     },
     "execution_count": 88,
     "metadata": {},
     "output_type": "execute_result"
    }
   ],
   "source": [
    "11%3"
   ]
  },
  {
   "cell_type": "code",
   "execution_count": 93,
   "id": "a2ec030c",
   "metadata": {},
   "outputs": [
    {
     "data": {
      "text/plain": [
       "33"
      ]
     },
     "execution_count": 93,
     "metadata": {},
     "output_type": "execute_result"
    }
   ],
   "source": [
    "## Floor division Operator (//)\n",
    "\n",
    "100//3"
   ]
  },
  {
   "cell_type": "code",
   "execution_count": 95,
   "id": "74675025",
   "metadata": {},
   "outputs": [
    {
     "name": "stdout",
     "output_type": "stream",
     "text": [
      "1024\n"
     ]
    }
   ],
   "source": [
    "## Exponentiation Operation (**)\n",
    "#x^2\n",
    "x = 4\n",
    "y = x**5\n",
    "\n",
    "print(y)"
   ]
  },
  {
   "cell_type": "code",
   "execution_count": 97,
   "id": "21c7f565",
   "metadata": {},
   "outputs": [],
   "source": [
    "# change the function parameters if you need\n",
    "\n",
    "def test(a, b): # \"a\" and \"b\" are called function parameters\n",
    "    x = int(a)\n",
    "    y = int(b)\n",
    "    return x + y # write here the returned value of the function  \n",
    "  # Write your code above this line"
   ]
  },
  {
   "cell_type": "code",
   "execution_count": 98,
   "id": "598c6aaa",
   "metadata": {},
   "outputs": [],
   "source": [
    "value = test(2,4) ## 2 and 4 are called function arguments"
   ]
  },
  {
   "cell_type": "code",
   "execution_count": 99,
   "id": "702fe391",
   "metadata": {},
   "outputs": [
    {
     "name": "stdout",
     "output_type": "stream",
     "text": [
      "6\n"
     ]
    }
   ],
   "source": [
    "print(value)"
   ]
  },
  {
   "cell_type": "code",
   "execution_count": 101,
   "id": "4d143dff",
   "metadata": {},
   "outputs": [],
   "source": [
    "# change the function parameters if you need\n",
    "\n",
    "def calc(a, b): # \"a\" and \"b\" are called function parameters\n",
    "    x = int(a)\n",
    "    y = int(b)\n",
    "    result = x + y\n",
    "    return result  # write here the returned value of the function  \n",
    "  # Write your code above this line"
   ]
  },
  {
   "cell_type": "code",
   "execution_count": 102,
   "id": "9f275fbd",
   "metadata": {},
   "outputs": [
    {
     "data": {
      "text/plain": [
       "18"
      ]
     },
     "execution_count": 102,
     "metadata": {},
     "output_type": "execute_result"
    }
   ],
   "source": [
    "value1 = test(6,12)\n",
    "value1\n"
   ]
  },
  {
   "cell_type": "code",
   "execution_count": 103,
   "id": "f72ee866",
   "metadata": {},
   "outputs": [],
   "source": [
    "value1 = test(16,120)"
   ]
  },
  {
   "cell_type": "code",
   "execution_count": 104,
   "id": "b581616e",
   "metadata": {},
   "outputs": [
    {
     "data": {
      "text/plain": [
       "136"
      ]
     },
     "execution_count": 104,
     "metadata": {},
     "output_type": "execute_result"
    }
   ],
   "source": [
    "value1"
   ]
  },
  {
   "cell_type": "code",
   "execution_count": null,
   "id": "bd524685",
   "metadata": {},
   "outputs": [],
   "source": []
  }
 ],
 "metadata": {
  "kernelspec": {
   "display_name": "Python 3 (ipykernel)",
   "language": "python",
   "name": "python3"
  },
  "language_info": {
   "codemirror_mode": {
    "name": "ipython",
    "version": 3
   },
   "file_extension": ".py",
   "mimetype": "text/x-python",
   "name": "python",
   "nbconvert_exporter": "python",
   "pygments_lexer": "ipython3",
   "version": "3.9.7"
  }
 },
 "nbformat": 4,
 "nbformat_minor": 5
}
