{
 "cells": [
  {
   "cell_type": "markdown",
   "id": "b5440d49",
   "metadata": {},
   "source": [
    "![](1.png)"
   ]
  },
  {
   "cell_type": "markdown",
   "id": "979838d6",
   "metadata": {},
   "source": [
    "![](2.png)"
   ]
  },
  {
   "cell_type": "markdown",
   "id": "17ca921b",
   "metadata": {},
   "source": [
    "## From the the above problem statement we are asking to build a Machine Learning Model after data analysis and predict the flight fare which is continuous data, So we can assume that it is a Regression problem."
   ]
  },
  {
   "cell_type": "code",
   "execution_count": 109,
   "id": "18f56d2e",
   "metadata": {},
   "outputs": [],
   "source": [
    "#importing the libaries\n",
    "import pandas as pd\n",
    "import numpy as np\n",
    "import seaborn as sns\n",
    "import matplotlib.pyplot as plt\n",
    "%matplotlib inline\n",
    "import warnings\n",
    "warnings.filterwarnings('ignore')\n"
   ]
  },
  {
   "cell_type": "code",
   "execution_count": 110,
   "id": "eab43f24",
   "metadata": {},
   "outputs": [],
   "source": [
    "## loading the dataset\n",
    "data = pd.read_csv('DATASET.csv')"
   ]
  },
  {
   "cell_type": "markdown",
   "id": "e28f055b",
   "metadata": {},
   "source": [
    "## Explore dataset"
   ]
  },
  {
   "cell_type": "code",
   "execution_count": 111,
   "id": "03670e9a",
   "metadata": {},
   "outputs": [
    {
     "data": {
      "text/html": [
       "<div>\n",
       "<style scoped>\n",
       "    .dataframe tbody tr th:only-of-type {\n",
       "        vertical-align: middle;\n",
       "    }\n",
       "\n",
       "    .dataframe tbody tr th {\n",
       "        vertical-align: top;\n",
       "    }\n",
       "\n",
       "    .dataframe thead th {\n",
       "        text-align: right;\n",
       "    }\n",
       "</style>\n",
       "<table border=\"1\" class=\"dataframe\">\n",
       "  <thead>\n",
       "    <tr style=\"text-align: right;\">\n",
       "      <th></th>\n",
       "      <th>Airline</th>\n",
       "      <th>Departure_time</th>\n",
       "      <th>Duration</th>\n",
       "      <th>Stops</th>\n",
       "      <th>Price</th>\n",
       "      <th>Date</th>\n",
       "      <th>Unnamed: 0</th>\n",
       "    </tr>\n",
       "  </thead>\n",
       "  <tbody>\n",
       "    <tr>\n",
       "      <th>0</th>\n",
       "      <td>Go First</td>\n",
       "      <td>09:05</td>\n",
       "      <td>2h 00m</td>\n",
       "      <td>Non Stop</td>\n",
       "      <td>5,954</td>\n",
       "      <td>Wed, 27 Oct</td>\n",
       "      <td>NaN</td>\n",
       "    </tr>\n",
       "    <tr>\n",
       "      <th>1</th>\n",
       "      <td>Go First</td>\n",
       "      <td>06:15</td>\n",
       "      <td>2h 05m</td>\n",
       "      <td>Non Stop</td>\n",
       "      <td>5,954</td>\n",
       "      <td>Wed, 27 Oct</td>\n",
       "      <td>NaN</td>\n",
       "    </tr>\n",
       "    <tr>\n",
       "      <th>2</th>\n",
       "      <td>Go First</td>\n",
       "      <td>14:20</td>\n",
       "      <td>2h 05m</td>\n",
       "      <td>Non Stop</td>\n",
       "      <td>5,954</td>\n",
       "      <td>Wed, 27 Oct</td>\n",
       "      <td>NaN</td>\n",
       "    </tr>\n",
       "    <tr>\n",
       "      <th>3</th>\n",
       "      <td>Go First</td>\n",
       "      <td>20:30</td>\n",
       "      <td>2h 05m</td>\n",
       "      <td>Non Stop</td>\n",
       "      <td>5,954</td>\n",
       "      <td>Wed, 27 Oct</td>\n",
       "      <td>NaN</td>\n",
       "    </tr>\n",
       "    <tr>\n",
       "      <th>4</th>\n",
       "      <td>Go First</td>\n",
       "      <td>21:30</td>\n",
       "      <td>2h 05m</td>\n",
       "      <td>Non Stop</td>\n",
       "      <td>5,954</td>\n",
       "      <td>Wed, 27 Oct</td>\n",
       "      <td>NaN</td>\n",
       "    </tr>\n",
       "  </tbody>\n",
       "</table>\n",
       "</div>"
      ],
      "text/plain": [
       "    Airline Departure_time Duration     Stops  Price         Date  Unnamed: 0\n",
       "0  Go First          09:05   2h 00m  Non Stop  5,954  Wed, 27 Oct         NaN\n",
       "1  Go First          06:15   2h 05m  Non Stop  5,954  Wed, 27 Oct         NaN\n",
       "2  Go First          14:20   2h 05m  Non Stop  5,954  Wed, 27 Oct         NaN\n",
       "3  Go First          20:30   2h 05m  Non Stop  5,954  Wed, 27 Oct         NaN\n",
       "4  Go First          21:30   2h 05m  Non Stop  5,954  Wed, 27 Oct         NaN"
      ]
     },
     "execution_count": 111,
     "metadata": {},
     "output_type": "execute_result"
    }
   ],
   "source": [
    "data.head()"
   ]
  },
  {
   "cell_type": "markdown",
   "id": "35da015a",
   "metadata": {},
   "source": [
    "### Using the head() method we can see the first 5 records of our dataset."
   ]
  },
  {
   "cell_type": "code",
   "execution_count": 112,
   "id": "4afe7327",
   "metadata": {},
   "outputs": [
    {
     "name": "stdout",
     "output_type": "stream",
     "text": [
      "<class 'pandas.core.frame.DataFrame'>\n",
      "RangeIndex: 4477 entries, 0 to 4476\n",
      "Data columns (total 7 columns):\n",
      " #   Column          Non-Null Count  Dtype  \n",
      "---  ------          --------------  -----  \n",
      " 0   Airline         4477 non-null   object \n",
      " 1   Departure_time  4477 non-null   object \n",
      " 2   Duration        4477 non-null   object \n",
      " 3   Stops           4477 non-null   object \n",
      " 4   Price           4477 non-null   object \n",
      " 5   Date            4477 non-null   object \n",
      " 6   Unnamed: 0      309 non-null    float64\n",
      "dtypes: float64(1), object(6)\n",
      "memory usage: 245.0+ KB\n"
     ]
    }
   ],
   "source": [
    "data.info()"
   ]
  },
  {
   "cell_type": "markdown",
   "id": "f705eb76",
   "metadata": {},
   "source": [
    "### Using info() method we can see some import informations of our dataset like \"Dtype\", \"Non-Null Count \" and here we can see that our dataset has two differents dtype \"object\" and \"float\"."
   ]
  },
  {
   "cell_type": "code",
   "execution_count": 113,
   "id": "458a8251",
   "metadata": {},
   "outputs": [
    {
     "data": {
      "text/plain": [
       "Airline              0\n",
       "Departure_time       0\n",
       "Duration             0\n",
       "Stops                0\n",
       "Price                0\n",
       "Date                 0\n",
       "Unnamed: 0        4168\n",
       "dtype: int64"
      ]
     },
     "execution_count": 113,
     "metadata": {},
     "output_type": "execute_result"
    }
   ],
   "source": [
    "## checking for missing values\n",
    "data.isna().sum()"
   ]
  },
  {
   "cell_type": "markdown",
   "id": "8af48f3f",
   "metadata": {},
   "source": [
    "### From the above verification we can see that there missing values in only \"Unnamed: 0\" attribute"
   ]
  },
  {
   "cell_type": "markdown",
   "id": "5b76dbee",
   "metadata": {},
   "source": [
    "# Data Cleaning"
   ]
  },
  {
   "cell_type": "code",
   "execution_count": 114,
   "id": "140f63f2",
   "metadata": {},
   "outputs": [
    {
     "data": {
      "text/plain": [
       "57"
      ]
     },
     "execution_count": 114,
     "metadata": {},
     "output_type": "execute_result"
    }
   ],
   "source": [
    "## Checking for duplicated values\n",
    "\n",
    "data.duplicated().sum()"
   ]
  },
  {
   "cell_type": "code",
   "execution_count": 115,
   "id": "f9039295",
   "metadata": {},
   "outputs": [],
   "source": [
    "## dropping the duplicated values\n",
    "# Drop duplicates value\n",
    "data.drop_duplicates(keep='first',inplace=True)\n"
   ]
  },
  {
   "cell_type": "code",
   "execution_count": 116,
   "id": "9e7d75ad",
   "metadata": {},
   "outputs": [
    {
     "data": {
      "text/plain": [
       "0"
      ]
     },
     "execution_count": 116,
     "metadata": {},
     "output_type": "execute_result"
    }
   ],
   "source": [
    "## verification\n",
    "\n",
    "data.duplicated().sum()"
   ]
  },
  {
   "cell_type": "code",
   "execution_count": 117,
   "id": "dc240e8a",
   "metadata": {},
   "outputs": [],
   "source": [
    "## let's drop the Unnamed: 0 column.\n",
    "\n",
    "data.drop('Unnamed: 0',axis=1,inplace=True)"
   ]
  },
  {
   "cell_type": "code",
   "execution_count": 118,
   "id": "e94cc8e1",
   "metadata": {},
   "outputs": [
    {
     "data": {
      "text/plain": [
       "(4420, 6)"
      ]
     },
     "execution_count": 118,
     "metadata": {},
     "output_type": "execute_result"
    }
   ],
   "source": [
    "data.shape"
   ]
  },
  {
   "cell_type": "code",
   "execution_count": 119,
   "id": "4515ab6a",
   "metadata": {},
   "outputs": [
    {
     "data": {
      "text/html": [
       "<div>\n",
       "<style scoped>\n",
       "    .dataframe tbody tr th:only-of-type {\n",
       "        vertical-align: middle;\n",
       "    }\n",
       "\n",
       "    .dataframe tbody tr th {\n",
       "        vertical-align: top;\n",
       "    }\n",
       "\n",
       "    .dataframe thead th {\n",
       "        text-align: right;\n",
       "    }\n",
       "</style>\n",
       "<table border=\"1\" class=\"dataframe\">\n",
       "  <thead>\n",
       "    <tr style=\"text-align: right;\">\n",
       "      <th></th>\n",
       "      <th>Airline</th>\n",
       "      <th>Departure_time</th>\n",
       "      <th>Duration</th>\n",
       "      <th>Stops</th>\n",
       "      <th>Price</th>\n",
       "      <th>Date</th>\n",
       "    </tr>\n",
       "  </thead>\n",
       "  <tbody>\n",
       "    <tr>\n",
       "      <th>0</th>\n",
       "      <td>Go First</td>\n",
       "      <td>09:05</td>\n",
       "      <td>2h 00m</td>\n",
       "      <td>Non Stop</td>\n",
       "      <td>5,954</td>\n",
       "      <td>Wed, 27 Oct</td>\n",
       "    </tr>\n",
       "  </tbody>\n",
       "</table>\n",
       "</div>"
      ],
      "text/plain": [
       "    Airline Departure_time Duration     Stops  Price         Date\n",
       "0  Go First          09:05   2h 00m  Non Stop  5,954  Wed, 27 Oct"
      ]
     },
     "execution_count": 119,
     "metadata": {},
     "output_type": "execute_result"
    }
   ],
   "source": [
    "data.head(1)"
   ]
  },
  {
   "cell_type": "code",
   "execution_count": 120,
   "id": "e4161326",
   "metadata": {},
   "outputs": [],
   "source": [
    "#let's rename the columns and make them easy to understand\n",
    "\n",
    "data.rename(columns = {'Date': 'Date_of_Journey', 'Stops': 'Total_Stops'}, inplace = True)"
   ]
  },
  {
   "cell_type": "code",
   "execution_count": 121,
   "id": "825820b5",
   "metadata": {},
   "outputs": [
    {
     "data": {
      "text/html": [
       "<div>\n",
       "<style scoped>\n",
       "    .dataframe tbody tr th:only-of-type {\n",
       "        vertical-align: middle;\n",
       "    }\n",
       "\n",
       "    .dataframe tbody tr th {\n",
       "        vertical-align: top;\n",
       "    }\n",
       "\n",
       "    .dataframe thead th {\n",
       "        text-align: right;\n",
       "    }\n",
       "</style>\n",
       "<table border=\"1\" class=\"dataframe\">\n",
       "  <thead>\n",
       "    <tr style=\"text-align: right;\">\n",
       "      <th></th>\n",
       "      <th>Airline</th>\n",
       "      <th>Departure_time</th>\n",
       "      <th>Duration</th>\n",
       "      <th>Total_Stops</th>\n",
       "      <th>Price</th>\n",
       "      <th>Date_of_Journey</th>\n",
       "    </tr>\n",
       "  </thead>\n",
       "  <tbody>\n",
       "    <tr>\n",
       "      <th>0</th>\n",
       "      <td>Go First</td>\n",
       "      <td>09:05</td>\n",
       "      <td>2h 00m</td>\n",
       "      <td>Non Stop</td>\n",
       "      <td>5,954</td>\n",
       "      <td>Wed, 27 Oct</td>\n",
       "    </tr>\n",
       "    <tr>\n",
       "      <th>1</th>\n",
       "      <td>Go First</td>\n",
       "      <td>06:15</td>\n",
       "      <td>2h 05m</td>\n",
       "      <td>Non Stop</td>\n",
       "      <td>5,954</td>\n",
       "      <td>Wed, 27 Oct</td>\n",
       "    </tr>\n",
       "    <tr>\n",
       "      <th>2</th>\n",
       "      <td>Go First</td>\n",
       "      <td>14:20</td>\n",
       "      <td>2h 05m</td>\n",
       "      <td>Non Stop</td>\n",
       "      <td>5,954</td>\n",
       "      <td>Wed, 27 Oct</td>\n",
       "    </tr>\n",
       "  </tbody>\n",
       "</table>\n",
       "</div>"
      ],
      "text/plain": [
       "    Airline Departure_time Duration Total_Stops  Price Date_of_Journey\n",
       "0  Go First          09:05   2h 00m    Non Stop  5,954     Wed, 27 Oct\n",
       "1  Go First          06:15   2h 05m    Non Stop  5,954     Wed, 27 Oct\n",
       "2  Go First          14:20   2h 05m    Non Stop  5,954     Wed, 27 Oct"
      ]
     },
     "execution_count": 121,
     "metadata": {},
     "output_type": "execute_result"
    }
   ],
   "source": [
    "data.head(3)"
   ]
  },
  {
   "cell_type": "markdown",
   "id": "4387f4fd",
   "metadata": {},
   "source": [
    "# Feature Engineering ( Dividing data into features and labels)"
   ]
  },
  {
   "cell_type": "code",
   "execution_count": 122,
   "id": "7e3e7d6a",
   "metadata": {},
   "outputs": [],
   "source": [
    "# Duration convert hours in min.\n",
    "\n",
    "data['Duration']=  data['Duration'].str.replace(\"h\", '*60').str.replace(' ','+').str.replace('05','5').str.replace('m','*1').apply(eval)"
   ]
  },
  {
   "cell_type": "code",
   "execution_count": 123,
   "id": "fd4c8909",
   "metadata": {},
   "outputs": [
    {
     "data": {
      "text/plain": [
       "0       120\n",
       "1       125\n",
       "2       125\n",
       "3       125\n",
       "4       125\n",
       "       ... \n",
       "4471    960\n",
       "4472    995\n",
       "4473    680\n",
       "4474    620\n",
       "4476    520\n",
       "Name: Duration, Length: 4420, dtype: int64"
      ]
     },
     "execution_count": 123,
     "metadata": {},
     "output_type": "execute_result"
    }
   ],
   "source": [
    "data['Duration']"
   ]
  },
  {
   "cell_type": "code",
   "execution_count": 124,
   "id": "56d59801",
   "metadata": {},
   "outputs": [
    {
     "data": {
      "text/html": [
       "<div>\n",
       "<style scoped>\n",
       "    .dataframe tbody tr th:only-of-type {\n",
       "        vertical-align: middle;\n",
       "    }\n",
       "\n",
       "    .dataframe tbody tr th {\n",
       "        vertical-align: top;\n",
       "    }\n",
       "\n",
       "    .dataframe thead th {\n",
       "        text-align: right;\n",
       "    }\n",
       "</style>\n",
       "<table border=\"1\" class=\"dataframe\">\n",
       "  <thead>\n",
       "    <tr style=\"text-align: right;\">\n",
       "      <th></th>\n",
       "      <th>Airline</th>\n",
       "      <th>Departure_time</th>\n",
       "      <th>Duration</th>\n",
       "      <th>Total_Stops</th>\n",
       "      <th>Price</th>\n",
       "      <th>Date_of_Journey</th>\n",
       "    </tr>\n",
       "  </thead>\n",
       "  <tbody>\n",
       "    <tr>\n",
       "      <th>0</th>\n",
       "      <td>Go First</td>\n",
       "      <td>09:05</td>\n",
       "      <td>120</td>\n",
       "      <td>Non Stop</td>\n",
       "      <td>5,954</td>\n",
       "      <td>Wed, 27 Oct</td>\n",
       "    </tr>\n",
       "  </tbody>\n",
       "</table>\n",
       "</div>"
      ],
      "text/plain": [
       "    Airline Departure_time  Duration Total_Stops  Price Date_of_Journey\n",
       "0  Go First          09:05       120    Non Stop  5,954     Wed, 27 Oct"
      ]
     },
     "execution_count": 124,
     "metadata": {},
     "output_type": "execute_result"
    }
   ],
   "source": [
    "data.head(1)"
   ]
  },
  {
   "cell_type": "code",
   "execution_count": 125,
   "id": "2328220e",
   "metadata": {},
   "outputs": [],
   "source": [
    "# Date_of_Journey\n",
    "\n",
    "Journey_day = []\n",
    "Journey_month = []\n",
    "for x in data['Date_of_Journey']:\n",
    "    Journey_day.append(x.split(' ')[1])\n",
    "    Journey_month.append(x.split(' ')[2])\n",
    "data[\"Journey_day\"] = Journey_day\n",
    "data[\"Journey_month\"] = Journey_month\n",
    "data[\"Journey_day\"] = data[\"Journey_day\"].astype(str).astype(int)\n",
    "data.drop('Date_of_Journey',axis=1,inplace=True)"
   ]
  },
  {
   "cell_type": "code",
   "execution_count": 126,
   "id": "e4e7bb8b",
   "metadata": {},
   "outputs": [],
   "source": [
    "# Departure_time\n",
    "\n",
    "data[\"Dep_hour\"] = pd.to_datetime(data[\"Departure_time\"]).dt.hour\n",
    "data[\"Dep_min\"] = pd.to_datetime(data[\"Departure_time\"]).dt.minute\n",
    "data.drop([\"Departure_time\"], axis = 1, inplace = True)"
   ]
  },
  {
   "cell_type": "code",
   "execution_count": 127,
   "id": "91ac1b1b",
   "metadata": {},
   "outputs": [],
   "source": [
    "## Price\n",
    "data['Price'] = data['Price'].str.replace(',','')\n",
    "\n",
    "## converting into integer\n",
    "data['Price'] = data['Price'].astype(str).astype(int)    "
   ]
  },
  {
   "cell_type": "code",
   "execution_count": null,
   "id": "dca07674",
   "metadata": {},
   "outputs": [],
   "source": []
  },
  {
   "cell_type": "code",
   "execution_count": null,
   "id": "dfcdefc7",
   "metadata": {},
   "outputs": [],
   "source": []
  },
  {
   "cell_type": "code",
   "execution_count": 128,
   "id": "d547858d",
   "metadata": {},
   "outputs": [
    {
     "data": {
      "text/html": [
       "<div>\n",
       "<style scoped>\n",
       "    .dataframe tbody tr th:only-of-type {\n",
       "        vertical-align: middle;\n",
       "    }\n",
       "\n",
       "    .dataframe tbody tr th {\n",
       "        vertical-align: top;\n",
       "    }\n",
       "\n",
       "    .dataframe thead th {\n",
       "        text-align: right;\n",
       "    }\n",
       "</style>\n",
       "<table border=\"1\" class=\"dataframe\">\n",
       "  <thead>\n",
       "    <tr style=\"text-align: right;\">\n",
       "      <th></th>\n",
       "      <th>Airline</th>\n",
       "      <th>Duration</th>\n",
       "      <th>Total_Stops</th>\n",
       "      <th>Price</th>\n",
       "      <th>Journey_day</th>\n",
       "      <th>Journey_month</th>\n",
       "      <th>Dep_hour</th>\n",
       "      <th>Dep_min</th>\n",
       "    </tr>\n",
       "  </thead>\n",
       "  <tbody>\n",
       "    <tr>\n",
       "      <th>0</th>\n",
       "      <td>Go First</td>\n",
       "      <td>120</td>\n",
       "      <td>Non Stop</td>\n",
       "      <td>5954</td>\n",
       "      <td>27</td>\n",
       "      <td>Oct</td>\n",
       "      <td>9</td>\n",
       "      <td>5</td>\n",
       "    </tr>\n",
       "    <tr>\n",
       "      <th>1</th>\n",
       "      <td>Go First</td>\n",
       "      <td>125</td>\n",
       "      <td>Non Stop</td>\n",
       "      <td>5954</td>\n",
       "      <td>27</td>\n",
       "      <td>Oct</td>\n",
       "      <td>6</td>\n",
       "      <td>15</td>\n",
       "    </tr>\n",
       "  </tbody>\n",
       "</table>\n",
       "</div>"
      ],
      "text/plain": [
       "    Airline  Duration Total_Stops  Price  Journey_day Journey_month  Dep_hour  \\\n",
       "0  Go First       120    Non Stop   5954           27           Oct         9   \n",
       "1  Go First       125    Non Stop   5954           27           Oct         6   \n",
       "\n",
       "   Dep_min  \n",
       "0        5  \n",
       "1       15  "
      ]
     },
     "execution_count": 128,
     "metadata": {},
     "output_type": "execute_result"
    }
   ],
   "source": [
    "data.head(2)"
   ]
  },
  {
   "cell_type": "markdown",
   "id": "bd4b8cbc",
   "metadata": {},
   "source": [
    "###  Let's used label Encoder to encoder the text data."
   ]
  },
  {
   "cell_type": "code",
   "execution_count": 129,
   "id": "2f3aebd2",
   "metadata": {},
   "outputs": [
    {
     "data": {
      "text/plain": [
       "IndiGo       1523\n",
       "Air India     704\n",
       "Go First      691\n",
       "Vistara       625\n",
       "Air Asia      561\n",
       "SpiceJet      316\n",
       "Name: Airline, dtype: int64"
      ]
     },
     "execution_count": 129,
     "metadata": {},
     "output_type": "execute_result"
    }
   ],
   "source": [
    "data['Airline'].value_counts()"
   ]
  },
  {
   "cell_type": "code",
   "execution_count": 130,
   "id": "89d4d44c",
   "metadata": {},
   "outputs": [
    {
     "data": {
      "text/plain": [
       "1 Stop       1875\n",
       "Non Stop     1849\n",
       "2 Stop(s)     643\n",
       "3 Stop(s)      48\n",
       "4 Stop(s)       5\n",
       "Name: Total_Stops, dtype: int64"
      ]
     },
     "execution_count": 130,
     "metadata": {},
     "output_type": "execute_result"
    }
   ],
   "source": [
    "data['Total_Stops'].value_counts()"
   ]
  },
  {
   "cell_type": "code",
   "execution_count": 131,
   "id": "133d77b5",
   "metadata": {},
   "outputs": [
    {
     "data": {
      "text/plain": [
       "Nov    2521\n",
       "Dec    1258\n",
       "Oct     641\n",
       "Name: Journey_month, dtype: int64"
      ]
     },
     "execution_count": 131,
     "metadata": {},
     "output_type": "execute_result"
    }
   ],
   "source": [
    "\n",
    "data['Journey_month'].value_counts()"
   ]
  },
  {
   "cell_type": "code",
   "execution_count": 132,
   "id": "33dd2c13",
   "metadata": {},
   "outputs": [],
   "source": [
    "data['Journey_month'] = data['Journey_month'].replace({'Oct':0,'Nov':1,'Dec':2})"
   ]
  },
  {
   "cell_type": "code",
   "execution_count": 133,
   "id": "7126500a",
   "metadata": {},
   "outputs": [
    {
     "data": {
      "text/plain": [
       "0       0\n",
       "1       0\n",
       "2       0\n",
       "3       0\n",
       "4       0\n",
       "       ..\n",
       "4471    2\n",
       "4472    2\n",
       "4473    2\n",
       "4474    2\n",
       "4476    2\n",
       "Name: Journey_month, Length: 4420, dtype: int64"
      ]
     },
     "execution_count": 133,
     "metadata": {},
     "output_type": "execute_result"
    }
   ],
   "source": [
    "## verification \n",
    "\n",
    "data['Journey_month']"
   ]
  },
  {
   "cell_type": "code",
   "execution_count": 134,
   "id": "cec4f4f5",
   "metadata": {},
   "outputs": [],
   "source": [
    "## Total_Stop\n",
    "\n",
    "data['Total_Stops'] = data['Total_Stops'].replace({'Non Stop':0, '1 Stop':1, '2 Stop(s)':2, '3 Stop(s)':3, '4 Stop(s)':4})\n"
   ]
  },
  {
   "cell_type": "code",
   "execution_count": 135,
   "id": "6d77c94c",
   "metadata": {},
   "outputs": [
    {
     "data": {
      "text/plain": [
       "0       0\n",
       "1       0\n",
       "2       0\n",
       "3       0\n",
       "4       0\n",
       "       ..\n",
       "4471    2\n",
       "4472    2\n",
       "4473    2\n",
       "4474    2\n",
       "4476    2\n",
       "Name: Total_Stops, Length: 4420, dtype: int64"
      ]
     },
     "execution_count": 135,
     "metadata": {},
     "output_type": "execute_result"
    }
   ],
   "source": [
    "data['Total_Stops']"
   ]
  },
  {
   "cell_type": "code",
   "execution_count": null,
   "id": "ece0f9bb",
   "metadata": {},
   "outputs": [],
   "source": []
  },
  {
   "cell_type": "code",
   "execution_count": null,
   "id": "f010c7f0",
   "metadata": {},
   "outputs": [],
   "source": []
  },
  {
   "cell_type": "code",
   "execution_count": 136,
   "id": "f9ca204c",
   "metadata": {},
   "outputs": [
    {
     "name": "stdout",
     "output_type": "stream",
     "text": [
      "<class 'pandas.core.frame.DataFrame'>\n",
      "Int64Index: 4420 entries, 0 to 4476\n",
      "Data columns (total 8 columns):\n",
      " #   Column         Non-Null Count  Dtype \n",
      "---  ------         --------------  ----- \n",
      " 0   Airline        4420 non-null   object\n",
      " 1   Duration       4420 non-null   int64 \n",
      " 2   Total_Stops    4420 non-null   int64 \n",
      " 3   Price          4420 non-null   int64 \n",
      " 4   Journey_day    4420 non-null   int64 \n",
      " 5   Journey_month  4420 non-null   int64 \n",
      " 6   Dep_hour       4420 non-null   int64 \n",
      " 7   Dep_min        4420 non-null   int64 \n",
      "dtypes: int64(7), object(1)\n",
      "memory usage: 310.8+ KB\n"
     ]
    }
   ],
   "source": [
    "data.info()"
   ]
  },
  {
   "cell_type": "code",
   "execution_count": 137,
   "id": "98c5bc9c",
   "metadata": {},
   "outputs": [
    {
     "data": {
      "text/plain": [
       "(4420, 8)"
      ]
     },
     "execution_count": 137,
     "metadata": {},
     "output_type": "execute_result"
    }
   ],
   "source": [
    "data.shape"
   ]
  },
  {
   "cell_type": "code",
   "execution_count": 138,
   "id": "b4c5cb0c",
   "metadata": {},
   "outputs": [
    {
     "data": {
      "image/png": "[encoded data removed]",
      "text/plain": [
       "<Figure size 1080x720 with 1 Axes>"
      ]
     },
     "metadata": {
      "needs_background": "light"
     },
     "output_type": "display_data"
    }
   ],
   "source": [
    "plt.figure(figsize = (15, 10))\n",
    "plt.title('Count of flights month wise')\n",
    "ax=sns.countplot(x = 'Journey_month', data = data)\n",
    "plt.xlabel('Month')\n",
    "plt.ylabel('Count of flights')\n",
    "for p in ax.patches:\n",
    "    ax.annotate(int(p.get_height()), (p.get_x()+0.25, p.get_height()+1), va='bottom',\n",
    "                    color= 'black')"
   ]
  },
  {
   "cell_type": "markdown",
   "id": "62090f5c",
   "metadata": {},
   "source": [
    "### From the above countplot we can see  that there is more flight in the month of November"
   ]
  },
  {
   "cell_type": "code",
   "execution_count": 139,
   "id": "b11a059a",
   "metadata": {},
   "outputs": [
    {
     "data": {
      "image/png": "[encoded data removed]",
      "text/plain": [
       "<Figure size 1080x720 with 1 Axes>"
      ]
     },
     "metadata": {
      "needs_background": "light"
     },
     "output_type": "display_data"
    }
   ],
   "source": [
    "plt.figure(figsize = (15, 10))\n",
    "plt.title('Count of flights with different Airlines')\n",
    "ax=sns.countplot(x = 'Airline', data =data)\n",
    "plt.xlabel('Airline')\n",
    "plt.ylabel('Count of flights')\n",
    "plt.xticks(rotation = 90)\n",
    "for p in ax.patches:\n",
    "    ax.annotate(int(p.get_height()), (p.get_x()+0.25, p.get_height()+1), va='bottom',\n",
    "                    color= 'black')"
   ]
  },
  {
   "cell_type": "markdown",
   "id": "5aba4da1",
   "metadata": {},
   "source": [
    "There are more number of flights of IndiGo."
   ]
  },
  {
   "cell_type": "code",
   "execution_count": 142,
   "id": "ee613ad7",
   "metadata": {},
   "outputs": [
    {
     "data": {
      "text/plain": [
       "([0, 1, 2, 3, 4, 5],\n",
       " [Text(0, 0, ''),\n",
       "  Text(0, 0, ''),\n",
       "  Text(0, 0, ''),\n",
       "  Text(0, 0, ''),\n",
       "  Text(0, 0, ''),\n",
       "  Text(0, 0, '')])"
      ]
     },
     "execution_count": 142,
     "metadata": {},
     "output_type": "execute_result"
    },
    {
     "data": {
      "image/png": "[encoded data removed]",
      "text/plain": [
       "<Figure size 1080x720 with 1 Axes>"
      ]
     },
     "metadata": {
      "needs_background": "light"
     },
     "output_type": "display_data"
    }
   ],
   "source": [
    "## Let's check the Price vs Airlines\n",
    "\n",
    "plt.figure(figsize = (15, 10))\n",
    "plt.title('Price VS Airlines')\n",
    "plt.scatter(data['Airline'], data['Price'])\n",
    "plt.xticks(rotation = 90)\n",
    "plt.xlabel('Airline')\n",
    "plt.ylabel('Price of ticket')\n",
    "plt.xticks(rotation = 90)"
   ]
  },
  {
   "cell_type": "markdown",
   "id": "415d4d81",
   "metadata": {},
   "source": [
    "The ticket price rate for Vistara and Air India are  higher than other companies."
   ]
  },
  {
   "cell_type": "code",
   "execution_count": 144,
   "id": "81cee797",
   "metadata": {},
   "outputs": [],
   "source": [
    "# Instantiate the method.\n",
    "\n",
    "from sklearn.preprocessing import LabelEncoder\n",
    "Lb_End = LabelEncoder()"
   ]
  },
  {
   "cell_type": "code",
   "execution_count": 145,
   "id": "663343ab",
   "metadata": {},
   "outputs": [
    {
     "data": {
      "text/plain": [
       "0       2\n",
       "1       2\n",
       "2       2\n",
       "3       2\n",
       "4       2\n",
       "       ..\n",
       "4471    5\n",
       "4472    5\n",
       "4473    5\n",
       "4474    5\n",
       "4476    3\n",
       "Name: Airline, Length: 4420, dtype: int64"
      ]
     },
     "execution_count": 145,
     "metadata": {},
     "output_type": "execute_result"
    }
   ],
   "source": [
    "# Airline\n",
    "\n",
    "Airline = Lb_End.fit_transform(data['Airline'])\n",
    "\n",
    "## Updating  Car_transmission  with the numerical values\n",
    "data['Airline'] = Airline \n",
    "data['Airline']"
   ]
  },
  {
   "cell_type": "code",
   "execution_count": 146,
   "id": "28f6dd1a",
   "metadata": {},
   "outputs": [
    {
     "data": {
      "text/html": [
       "<div>\n",
       "<style scoped>\n",
       "    .dataframe tbody tr th:only-of-type {\n",
       "        vertical-align: middle;\n",
       "    }\n",
       "\n",
       "    .dataframe tbody tr th {\n",
       "        vertical-align: top;\n",
       "    }\n",
       "\n",
       "    .dataframe thead th {\n",
       "        text-align: right;\n",
       "    }\n",
       "</style>\n",
       "<table border=\"1\" class=\"dataframe\">\n",
       "  <thead>\n",
       "    <tr style=\"text-align: right;\">\n",
       "      <th></th>\n",
       "      <th>Airline</th>\n",
       "      <th>Duration</th>\n",
       "      <th>Total_Stops</th>\n",
       "      <th>Price</th>\n",
       "      <th>Journey_day</th>\n",
       "      <th>Journey_month</th>\n",
       "      <th>Dep_hour</th>\n",
       "      <th>Dep_min</th>\n",
       "    </tr>\n",
       "  </thead>\n",
       "  <tbody>\n",
       "    <tr>\n",
       "      <th>count</th>\n",
       "      <td>4420.000000</td>\n",
       "      <td>4420.000000</td>\n",
       "      <td>4420.000000</td>\n",
       "      <td>4420.000000</td>\n",
       "      <td>4420.000000</td>\n",
       "      <td>4420.000000</td>\n",
       "      <td>4420.000000</td>\n",
       "      <td>4420.000000</td>\n",
       "    </tr>\n",
       "    <tr>\n",
       "      <th>mean</th>\n",
       "      <td>2.498643</td>\n",
       "      <td>448.726244</td>\n",
       "      <td>0.752262</td>\n",
       "      <td>6258.507466</td>\n",
       "      <td>15.501810</td>\n",
       "      <td>1.139593</td>\n",
       "      <td>12.697964</td>\n",
       "      <td>26.363122</td>\n",
       "    </tr>\n",
       "    <tr>\n",
       "      <th>std</th>\n",
       "      <td>1.523816</td>\n",
       "      <td>396.570136</td>\n",
       "      <td>0.745770</td>\n",
       "      <td>3119.542744</td>\n",
       "      <td>9.825532</td>\n",
       "      <td>0.640503</td>\n",
       "      <td>6.046583</td>\n",
       "      <td>18.358541</td>\n",
       "    </tr>\n",
       "    <tr>\n",
       "      <th>min</th>\n",
       "      <td>0.000000</td>\n",
       "      <td>95.000000</td>\n",
       "      <td>0.000000</td>\n",
       "      <td>2202.000000</td>\n",
       "      <td>1.000000</td>\n",
       "      <td>0.000000</td>\n",
       "      <td>0.000000</td>\n",
       "      <td>0.000000</td>\n",
       "    </tr>\n",
       "    <tr>\n",
       "      <th>25%</th>\n",
       "      <td>1.000000</td>\n",
       "      <td>140.000000</td>\n",
       "      <td>0.000000</td>\n",
       "      <td>4200.000000</td>\n",
       "      <td>8.000000</td>\n",
       "      <td>1.000000</td>\n",
       "      <td>7.000000</td>\n",
       "      <td>10.000000</td>\n",
       "    </tr>\n",
       "    <tr>\n",
       "      <th>50%</th>\n",
       "      <td>3.000000</td>\n",
       "      <td>330.000000</td>\n",
       "      <td>1.000000</td>\n",
       "      <td>5953.000000</td>\n",
       "      <td>12.000000</td>\n",
       "      <td>1.000000</td>\n",
       "      <td>12.000000</td>\n",
       "      <td>30.000000</td>\n",
       "    </tr>\n",
       "    <tr>\n",
       "      <th>75%</th>\n",
       "      <td>3.000000</td>\n",
       "      <td>610.000000</td>\n",
       "      <td>1.000000</td>\n",
       "      <td>7488.000000</td>\n",
       "      <td>27.000000</td>\n",
       "      <td>2.000000</td>\n",
       "      <td>18.000000</td>\n",
       "      <td>45.000000</td>\n",
       "    </tr>\n",
       "    <tr>\n",
       "      <th>max</th>\n",
       "      <td>5.000000</td>\n",
       "      <td>2410.000000</td>\n",
       "      <td>4.000000</td>\n",
       "      <td>25759.000000</td>\n",
       "      <td>31.000000</td>\n",
       "      <td>2.000000</td>\n",
       "      <td>23.000000</td>\n",
       "      <td>55.000000</td>\n",
       "    </tr>\n",
       "  </tbody>\n",
       "</table>\n",
       "</div>"
      ],
      "text/plain": [
       "           Airline     Duration  Total_Stops         Price  Journey_day  \\\n",
       "count  4420.000000  4420.000000  4420.000000   4420.000000  4420.000000   \n",
       "mean      2.498643   448.726244     0.752262   6258.507466    15.501810   \n",
       "std       1.523816   396.570136     0.745770   3119.542744     9.825532   \n",
       "min       0.000000    95.000000     0.000000   2202.000000     1.000000   \n",
       "25%       1.000000   140.000000     0.000000   4200.000000     8.000000   \n",
       "50%       3.000000   330.000000     1.000000   5953.000000    12.000000   \n",
       "75%       3.000000   610.000000     1.000000   7488.000000    27.000000   \n",
       "max       5.000000  2410.000000     4.000000  25759.000000    31.000000   \n",
       "\n",
       "       Journey_month     Dep_hour      Dep_min  \n",
       "count    4420.000000  4420.000000  4420.000000  \n",
       "mean        1.139593    12.697964    26.363122  \n",
       "std         0.640503     6.046583    18.358541  \n",
       "min         0.000000     0.000000     0.000000  \n",
       "25%         1.000000     7.000000    10.000000  \n",
       "50%         1.000000    12.000000    30.000000  \n",
       "75%         2.000000    18.000000    45.000000  \n",
       "max         2.000000    23.000000    55.000000  "
      ]
     },
     "execution_count": 146,
     "metadata": {},
     "output_type": "execute_result"
    }
   ],
   "source": [
    "data.describe()"
   ]
  },
  {
   "cell_type": "markdown",
   "id": "1325fce0",
   "metadata": {},
   "source": [
    "### From the above code we can see some important statistics informations about data like  mean, standar deviation, minimum and maximum and the quantitles of each attributes."
   ]
  },
  {
   "cell_type": "code",
   "execution_count": 147,
   "id": "5c2676b4",
   "metadata": {},
   "outputs": [
    {
     "name": "stdout",
     "output_type": "stream",
     "text": [
      "<class 'pandas.core.frame.DataFrame'>\n",
      "Int64Index: 4420 entries, 0 to 4476\n",
      "Data columns (total 8 columns):\n",
      " #   Column         Non-Null Count  Dtype\n",
      "---  ------         --------------  -----\n",
      " 0   Airline        4420 non-null   int64\n",
      " 1   Duration       4420 non-null   int64\n",
      " 2   Total_Stops    4420 non-null   int64\n",
      " 3   Price          4420 non-null   int64\n",
      " 4   Journey_day    4420 non-null   int64\n",
      " 5   Journey_month  4420 non-null   int64\n",
      " 6   Dep_hour       4420 non-null   int64\n",
      " 7   Dep_min        4420 non-null   int64\n",
      "dtypes: int64(8)\n",
      "memory usage: 439.8 KB\n"
     ]
    }
   ],
   "source": [
    "data.info()"
   ]
  },
  {
   "cell_type": "markdown",
   "id": "4f603ad6",
   "metadata": {},
   "source": [
    "### From the above verification using info()  on our datatset ,we can see that our dataset has only Dtype = int64  and this mean our dataset contains only numerical data.\n"
   ]
  },
  {
   "cell_type": "markdown",
   "id": "de6c8122",
   "metadata": {},
   "source": [
    "let's save the above version of our data to avoid running again and again the above codes ."
   ]
  },
  {
   "cell_type": "code",
   "execution_count": 148,
   "id": "41aef92c",
   "metadata": {},
   "outputs": [],
   "source": [
    "data.to_csv('data_v0.csv',index=False)"
   ]
  },
  {
   "cell_type": "code",
   "execution_count": 149,
   "id": "f82d1f0f",
   "metadata": {},
   "outputs": [],
   "source": [
    "new_data = pd.read_csv('data_v0.csv')"
   ]
  },
  {
   "cell_type": "code",
   "execution_count": 150,
   "id": "f1e163f2",
   "metadata": {},
   "outputs": [
    {
     "data": {
      "text/plain": [
       "(4420, 8)"
      ]
     },
     "execution_count": 150,
     "metadata": {},
     "output_type": "execute_result"
    }
   ],
   "source": [
    "new_data.shape"
   ]
  },
  {
   "cell_type": "code",
   "execution_count": 152,
   "id": "5840d56b",
   "metadata": {},
   "outputs": [
    {
     "data": {
      "image/png": "[encoded data removed]",
      "text/plain": [
       "<Figure size 1152x1440 with 8 Axes>"
      ]
     },
     "metadata": {
      "needs_background": "light"
     },
     "output_type": "display_data"
    }
   ],
   "source": [
    "plt.figure(figsize=(16,20))\n",
    "plotnumber = 1\n",
    "\n",
    "for column in new_data:\n",
    "    if plotnumber <= 8:\n",
    "        ax = plt.subplot(4,2,plotnumber)\n",
    "        sns.boxplot(y= new_data[column],color='red',orient='h')\n",
    "        plt.xlabel(column,fontsize = 20,color='green')\n",
    "    plotnumber+=1\n",
    "plt.tight_layout()"
   ]
  },
  {
   "cell_type": "markdown",
   "id": "fb508293",
   "metadata": {},
   "source": [
    "### From the above boxplot graphs we can see outliers in some columns [ Total_Stops, Duration and Price], we will remove the Outliers the columns."
   ]
  },
  {
   "cell_type": "markdown",
   "id": "6bdea980",
   "metadata": {},
   "source": [
    "Let's use the Quantiles techniques and see if we can remove them.."
   ]
  },
  {
   "cell_type": "markdown",
   "id": "97f74940",
   "metadata": {},
   "source": [
    "##### Outlier Dectection Formula\n",
    "##### Higher side ===> Q3 + (1.5 * IQR)\n",
    "##### lower side ===> Q1 - (1.5 * IQR)\n",
    "##### IQR = Inter Quantile Rate = Q3 - Q1"
   ]
  },
  {
   "cell_type": "code",
   "execution_count": 154,
   "id": "bb06b4b3",
   "metadata": {},
   "outputs": [],
   "source": [
    "## Find the IQR ( Inter Quantile Range) to identify outlier\n",
    "\n",
    "# 1st quantile\n",
    "q1 = new_data.quantile(0.25)\n",
    "\n",
    "# 3rd quantile\n",
    "q3 = new_data.quantile(0.75)\n",
    "\n",
    "#IQR \n",
    "iqr = q3 - q1"
   ]
  },
  {
   "cell_type": "code",
   "execution_count": 155,
   "id": "b59062e0",
   "metadata": {},
   "outputs": [
    {
     "data": {
      "text/plain": [
       "12420.0"
      ]
     },
     "execution_count": 155,
     "metadata": {},
     "output_type": "execute_result"
    }
   ],
   "source": [
    "high_Price = (q3.Price + (1.5 * iqr.Price))\n",
    "high_Price"
   ]
  },
  {
   "cell_type": "markdown",
   "id": "c2e60d2c",
   "metadata": {},
   "source": [
    "This means from the column \"Price\" all the records values greater than 12420.0 (Price > 12420.0) are Outliers."
   ]
  },
  {
   "cell_type": "code",
   "execution_count": 156,
   "id": "c79e9180",
   "metadata": {},
   "outputs": [
    {
     "data": {
      "text/plain": [
       "(array([ 498,  499,  500,  501,  502, 1690, 1691, 1887, 1888, 1889, 1899,\n",
       "        1900, 1901, 1902, 1903, 1904, 1905, 1906, 1907, 1911, 1912, 1913,\n",
       "        1914, 1915, 1916, 1917, 1918, 1919, 1920, 1921, 1922, 1923, 1924,\n",
       "        1925, 1926, 1941, 1942, 1949, 1950, 1951, 1952, 1953, 1954, 1955,\n",
       "        1956, 1957, 1958, 1959, 1960, 2058, 2059, 2277, 2293, 2294, 2307,\n",
       "        2308, 2309, 2310, 2311, 2312, 2313, 2326, 2327, 2328, 2329, 2330,\n",
       "        2331, 2347, 2348, 2349, 2361, 2362, 2363, 2364, 2365, 2366, 2367,\n",
       "        2684, 2701, 2718, 2735, 2736, 2737, 2754, 2771, 2779, 2780, 2781,\n",
       "        2782, 2783, 2784, 2785, 2786, 2787, 2788, 2789, 2790, 2791, 2792,\n",
       "        2793, 2794, 2795, 2796, 2801, 2802, 2803, 2804, 2805, 2806, 2807,\n",
       "        2808, 2809, 2810, 2811, 2812, 2813, 2814, 2815, 2816, 2817, 2818,\n",
       "        2819, 2842, 2843, 2844, 3126, 3127, 3128, 3408, 3409, 3410, 3411,\n",
       "        3412, 3413, 3414, 3415, 3416, 3417, 3418, 3419, 3420, 3421, 3422,\n",
       "        3423, 3424, 3425, 3426, 3427, 3428, 3429, 3430, 3431, 3432, 3433,\n",
       "        3434, 3435, 3436, 3437, 3438, 3439, 3440, 3441, 3442, 3443, 3446,\n",
       "        3447, 3448, 3449, 3450, 3451, 3452, 3453, 3454, 3455, 3456, 3457,\n",
       "        3458, 3459, 3463, 3464, 3465, 3466, 3467, 3468, 3469, 3470, 3471,\n",
       "        3472, 3473, 3474, 3475, 3476, 3477, 3478, 3479, 3480, 3481, 3482,\n",
       "        3483, 3484, 3485, 3486, 3487, 3488, 3489, 3490, 3491, 3494, 3495,\n",
       "        3496, 3497, 3498, 3499, 3500, 3501, 3502, 3503, 3506, 3507, 3508,\n",
       "        3509, 3510, 3511, 3512, 3513, 3514, 3515, 3516, 3517, 3520, 3521,\n",
       "        3522, 3523, 3524, 3525, 3526, 3527, 3528, 3529, 3530, 3531, 3532,\n",
       "        3533, 3542, 3543, 3544, 3545, 3546, 3557, 3558, 3559, 3560, 3561,\n",
       "        3569, 3570, 3571, 3572, 3573, 3574, 3575, 3576, 3577, 3578, 3579,\n",
       "        3583, 3584, 3585, 3586, 3587, 3588, 4253, 4267, 4293]),)"
      ]
     },
     "execution_count": 156,
     "metadata": {},
     "output_type": "execute_result"
    }
   ],
   "source": [
    "## the get indexes of those records\n",
    "indexes = np.where(new_data['Price'] > high_Price)\n",
    "indexes"
   ]
  },
  {
   "cell_type": "code",
   "execution_count": 157,
   "id": "23cc2a4e",
   "metadata": {},
   "outputs": [
    {
     "data": {
      "text/html": [
       "<div>\n",
       "<style scoped>\n",
       "    .dataframe tbody tr th:only-of-type {\n",
       "        vertical-align: middle;\n",
       "    }\n",
       "\n",
       "    .dataframe tbody tr th {\n",
       "        vertical-align: top;\n",
       "    }\n",
       "\n",
       "    .dataframe thead th {\n",
       "        text-align: right;\n",
       "    }\n",
       "</style>\n",
       "<table border=\"1\" class=\"dataframe\">\n",
       "  <thead>\n",
       "    <tr style=\"text-align: right;\">\n",
       "      <th></th>\n",
       "      <th>Airline</th>\n",
       "      <th>Duration</th>\n",
       "      <th>Total_Stops</th>\n",
       "      <th>Price</th>\n",
       "      <th>Journey_day</th>\n",
       "      <th>Journey_month</th>\n",
       "      <th>Dep_hour</th>\n",
       "      <th>Dep_min</th>\n",
       "    </tr>\n",
       "  </thead>\n",
       "  <tbody>\n",
       "    <tr>\n",
       "      <th>0</th>\n",
       "      <td>2</td>\n",
       "      <td>120</td>\n",
       "      <td>0</td>\n",
       "      <td>5954</td>\n",
       "      <td>27</td>\n",
       "      <td>0</td>\n",
       "      <td>9</td>\n",
       "      <td>5</td>\n",
       "    </tr>\n",
       "    <tr>\n",
       "      <th>1</th>\n",
       "      <td>2</td>\n",
       "      <td>125</td>\n",
       "      <td>0</td>\n",
       "      <td>5954</td>\n",
       "      <td>27</td>\n",
       "      <td>0</td>\n",
       "      <td>6</td>\n",
       "      <td>15</td>\n",
       "    </tr>\n",
       "    <tr>\n",
       "      <th>2</th>\n",
       "      <td>2</td>\n",
       "      <td>125</td>\n",
       "      <td>0</td>\n",
       "      <td>5954</td>\n",
       "      <td>27</td>\n",
       "      <td>0</td>\n",
       "      <td>14</td>\n",
       "      <td>20</td>\n",
       "    </tr>\n",
       "    <tr>\n",
       "      <th>3</th>\n",
       "      <td>2</td>\n",
       "      <td>125</td>\n",
       "      <td>0</td>\n",
       "      <td>5954</td>\n",
       "      <td>27</td>\n",
       "      <td>0</td>\n",
       "      <td>20</td>\n",
       "      <td>30</td>\n",
       "    </tr>\n",
       "    <tr>\n",
       "      <th>4</th>\n",
       "      <td>2</td>\n",
       "      <td>125</td>\n",
       "      <td>0</td>\n",
       "      <td>5954</td>\n",
       "      <td>27</td>\n",
       "      <td>0</td>\n",
       "      <td>21</td>\n",
       "      <td>30</td>\n",
       "    </tr>\n",
       "    <tr>\n",
       "      <th>...</th>\n",
       "      <td>...</td>\n",
       "      <td>...</td>\n",
       "      <td>...</td>\n",
       "      <td>...</td>\n",
       "      <td>...</td>\n",
       "      <td>...</td>\n",
       "      <td>...</td>\n",
       "      <td>...</td>\n",
       "    </tr>\n",
       "    <tr>\n",
       "      <th>4142</th>\n",
       "      <td>5</td>\n",
       "      <td>960</td>\n",
       "      <td>2</td>\n",
       "      <td>7624</td>\n",
       "      <td>11</td>\n",
       "      <td>2</td>\n",
       "      <td>6</td>\n",
       "      <td>40</td>\n",
       "    </tr>\n",
       "    <tr>\n",
       "      <th>4143</th>\n",
       "      <td>5</td>\n",
       "      <td>995</td>\n",
       "      <td>2</td>\n",
       "      <td>7624</td>\n",
       "      <td>11</td>\n",
       "      <td>2</td>\n",
       "      <td>19</td>\n",
       "      <td>55</td>\n",
       "    </tr>\n",
       "    <tr>\n",
       "      <th>4144</th>\n",
       "      <td>5</td>\n",
       "      <td>680</td>\n",
       "      <td>2</td>\n",
       "      <td>7717</td>\n",
       "      <td>11</td>\n",
       "      <td>2</td>\n",
       "      <td>8</td>\n",
       "      <td>30</td>\n",
       "    </tr>\n",
       "    <tr>\n",
       "      <th>4145</th>\n",
       "      <td>5</td>\n",
       "      <td>620</td>\n",
       "      <td>2</td>\n",
       "      <td>8084</td>\n",
       "      <td>11</td>\n",
       "      <td>2</td>\n",
       "      <td>9</td>\n",
       "      <td>30</td>\n",
       "    </tr>\n",
       "    <tr>\n",
       "      <th>4146</th>\n",
       "      <td>3</td>\n",
       "      <td>520</td>\n",
       "      <td>2</td>\n",
       "      <td>10050</td>\n",
       "      <td>11</td>\n",
       "      <td>2</td>\n",
       "      <td>10</td>\n",
       "      <td>10</td>\n",
       "    </tr>\n",
       "  </tbody>\n",
       "</table>\n",
       "<p>4147 rows × 8 columns</p>\n",
       "</div>"
      ],
      "text/plain": [
       "      Airline  Duration  Total_Stops  Price  Journey_day  Journey_month  \\\n",
       "0           2       120            0   5954           27              0   \n",
       "1           2       125            0   5954           27              0   \n",
       "2           2       125            0   5954           27              0   \n",
       "3           2       125            0   5954           27              0   \n",
       "4           2       125            0   5954           27              0   \n",
       "...       ...       ...          ...    ...          ...            ...   \n",
       "4142        5       960            2   7624           11              2   \n",
       "4143        5       995            2   7624           11              2   \n",
       "4144        5       680            2   7717           11              2   \n",
       "4145        5       620            2   8084           11              2   \n",
       "4146        3       520            2  10050           11              2   \n",
       "\n",
       "      Dep_hour  Dep_min  \n",
       "0            9        5  \n",
       "1            6       15  \n",
       "2           14       20  \n",
       "3           20       30  \n",
       "4           21       30  \n",
       "...        ...      ...  \n",
       "4142         6       40  \n",
       "4143        19       55  \n",
       "4144         8       30  \n",
       "4145         9       30  \n",
       "4146        10       10  \n",
       "\n",
       "[4147 rows x 8 columns]"
      ]
     },
     "execution_count": 157,
     "metadata": {},
     "output_type": "execute_result"
    }
   ],
   "source": [
    "## Let's drop indexes from the dataset\n",
    "\n",
    "new_data= new_data.drop(new_data.index[indexes])\n",
    "\n",
    "## reset the index\n",
    "new_data.reset_index(drop=True)"
   ]
  },
  {
   "cell_type": "code",
   "execution_count": 159,
   "id": "cc489bfd",
   "metadata": {},
   "outputs": [
    {
     "data": {
      "text/html": [
       "<div>\n",
       "<style scoped>\n",
       "    .dataframe tbody tr th:only-of-type {\n",
       "        vertical-align: middle;\n",
       "    }\n",
       "\n",
       "    .dataframe tbody tr th {\n",
       "        vertical-align: top;\n",
       "    }\n",
       "\n",
       "    .dataframe thead th {\n",
       "        text-align: right;\n",
       "    }\n",
       "</style>\n",
       "<table border=\"1\" class=\"dataframe\">\n",
       "  <thead>\n",
       "    <tr style=\"text-align: right;\">\n",
       "      <th></th>\n",
       "      <th>Airline</th>\n",
       "      <th>Duration</th>\n",
       "      <th>Total_Stops</th>\n",
       "      <th>Price</th>\n",
       "      <th>Journey_day</th>\n",
       "      <th>Journey_month</th>\n",
       "      <th>Dep_hour</th>\n",
       "      <th>Dep_min</th>\n",
       "    </tr>\n",
       "  </thead>\n",
       "  <tbody>\n",
       "    <tr>\n",
       "      <th>0</th>\n",
       "      <td>2</td>\n",
       "      <td>120</td>\n",
       "      <td>0</td>\n",
       "      <td>5954</td>\n",
       "      <td>27</td>\n",
       "      <td>0</td>\n",
       "      <td>9</td>\n",
       "      <td>5</td>\n",
       "    </tr>\n",
       "    <tr>\n",
       "      <th>1</th>\n",
       "      <td>2</td>\n",
       "      <td>125</td>\n",
       "      <td>0</td>\n",
       "      <td>5954</td>\n",
       "      <td>27</td>\n",
       "      <td>0</td>\n",
       "      <td>6</td>\n",
       "      <td>15</td>\n",
       "    </tr>\n",
       "    <tr>\n",
       "      <th>2</th>\n",
       "      <td>2</td>\n",
       "      <td>125</td>\n",
       "      <td>0</td>\n",
       "      <td>5954</td>\n",
       "      <td>27</td>\n",
       "      <td>0</td>\n",
       "      <td>14</td>\n",
       "      <td>20</td>\n",
       "    </tr>\n",
       "    <tr>\n",
       "      <th>3</th>\n",
       "      <td>2</td>\n",
       "      <td>125</td>\n",
       "      <td>0</td>\n",
       "      <td>5954</td>\n",
       "      <td>27</td>\n",
       "      <td>0</td>\n",
       "      <td>20</td>\n",
       "      <td>30</td>\n",
       "    </tr>\n",
       "    <tr>\n",
       "      <th>4</th>\n",
       "      <td>2</td>\n",
       "      <td>125</td>\n",
       "      <td>0</td>\n",
       "      <td>5954</td>\n",
       "      <td>27</td>\n",
       "      <td>0</td>\n",
       "      <td>21</td>\n",
       "      <td>30</td>\n",
       "    </tr>\n",
       "    <tr>\n",
       "      <th>...</th>\n",
       "      <td>...</td>\n",
       "      <td>...</td>\n",
       "      <td>...</td>\n",
       "      <td>...</td>\n",
       "      <td>...</td>\n",
       "      <td>...</td>\n",
       "      <td>...</td>\n",
       "      <td>...</td>\n",
       "    </tr>\n",
       "    <tr>\n",
       "      <th>3959</th>\n",
       "      <td>5</td>\n",
       "      <td>960</td>\n",
       "      <td>2</td>\n",
       "      <td>7624</td>\n",
       "      <td>11</td>\n",
       "      <td>2</td>\n",
       "      <td>6</td>\n",
       "      <td>40</td>\n",
       "    </tr>\n",
       "    <tr>\n",
       "      <th>3960</th>\n",
       "      <td>5</td>\n",
       "      <td>995</td>\n",
       "      <td>2</td>\n",
       "      <td>7624</td>\n",
       "      <td>11</td>\n",
       "      <td>2</td>\n",
       "      <td>19</td>\n",
       "      <td>55</td>\n",
       "    </tr>\n",
       "    <tr>\n",
       "      <th>3961</th>\n",
       "      <td>5</td>\n",
       "      <td>680</td>\n",
       "      <td>2</td>\n",
       "      <td>7717</td>\n",
       "      <td>11</td>\n",
       "      <td>2</td>\n",
       "      <td>8</td>\n",
       "      <td>30</td>\n",
       "    </tr>\n",
       "    <tr>\n",
       "      <th>3962</th>\n",
       "      <td>5</td>\n",
       "      <td>620</td>\n",
       "      <td>2</td>\n",
       "      <td>8084</td>\n",
       "      <td>11</td>\n",
       "      <td>2</td>\n",
       "      <td>9</td>\n",
       "      <td>30</td>\n",
       "    </tr>\n",
       "    <tr>\n",
       "      <th>3963</th>\n",
       "      <td>3</td>\n",
       "      <td>520</td>\n",
       "      <td>2</td>\n",
       "      <td>10050</td>\n",
       "      <td>11</td>\n",
       "      <td>2</td>\n",
       "      <td>10</td>\n",
       "      <td>10</td>\n",
       "    </tr>\n",
       "  </tbody>\n",
       "</table>\n",
       "<p>3964 rows × 8 columns</p>\n",
       "</div>"
      ],
      "text/plain": [
       "      Airline  Duration  Total_Stops  Price  Journey_day  Journey_month  \\\n",
       "0           2       120            0   5954           27              0   \n",
       "1           2       125            0   5954           27              0   \n",
       "2           2       125            0   5954           27              0   \n",
       "3           2       125            0   5954           27              0   \n",
       "4           2       125            0   5954           27              0   \n",
       "...       ...       ...          ...    ...          ...            ...   \n",
       "3959        5       960            2   7624           11              2   \n",
       "3960        5       995            2   7624           11              2   \n",
       "3961        5       680            2   7717           11              2   \n",
       "3962        5       620            2   8084           11              2   \n",
       "3963        3       520            2  10050           11              2   \n",
       "\n",
       "      Dep_hour  Dep_min  \n",
       "0            9        5  \n",
       "1            6       15  \n",
       "2           14       20  \n",
       "3           20       30  \n",
       "4           21       30  \n",
       "...        ...      ...  \n",
       "3959         6       40  \n",
       "3960        19       55  \n",
       "3961         8       30  \n",
       "3962         9       30  \n",
       "3963        10       10  \n",
       "\n",
       "[3964 rows x 8 columns]"
      ]
     },
     "execution_count": 159,
     "metadata": {},
     "output_type": "execute_result"
    }
   ],
   "source": [
    "## \"Duration\",column\n",
    "\n",
    "indexes = np.where(new_data[\"Duration\"] > (q3.Duration + (1.5 * iqr.Duration)))\n",
    "new_data= new_data.drop(new_data.index[indexes])\n",
    "new_data.reset_index(drop=True)\n"
   ]
  },
  {
   "cell_type": "code",
   "execution_count": 160,
   "id": "79115245",
   "metadata": {},
   "outputs": [
    {
     "data": {
      "text/html": [
       "<div>\n",
       "<style scoped>\n",
       "    .dataframe tbody tr th:only-of-type {\n",
       "        vertical-align: middle;\n",
       "    }\n",
       "\n",
       "    .dataframe tbody tr th {\n",
       "        vertical-align: top;\n",
       "    }\n",
       "\n",
       "    .dataframe thead th {\n",
       "        text-align: right;\n",
       "    }\n",
       "</style>\n",
       "<table border=\"1\" class=\"dataframe\">\n",
       "  <thead>\n",
       "    <tr style=\"text-align: right;\">\n",
       "      <th></th>\n",
       "      <th>Airline</th>\n",
       "      <th>Duration</th>\n",
       "      <th>Total_Stops</th>\n",
       "      <th>Price</th>\n",
       "      <th>Journey_day</th>\n",
       "      <th>Journey_month</th>\n",
       "      <th>Dep_hour</th>\n",
       "      <th>Dep_min</th>\n",
       "    </tr>\n",
       "  </thead>\n",
       "  <tbody>\n",
       "    <tr>\n",
       "      <th>0</th>\n",
       "      <td>2</td>\n",
       "      <td>120</td>\n",
       "      <td>0</td>\n",
       "      <td>5954</td>\n",
       "      <td>27</td>\n",
       "      <td>0</td>\n",
       "      <td>9</td>\n",
       "      <td>5</td>\n",
       "    </tr>\n",
       "    <tr>\n",
       "      <th>1</th>\n",
       "      <td>2</td>\n",
       "      <td>125</td>\n",
       "      <td>0</td>\n",
       "      <td>5954</td>\n",
       "      <td>27</td>\n",
       "      <td>0</td>\n",
       "      <td>6</td>\n",
       "      <td>15</td>\n",
       "    </tr>\n",
       "    <tr>\n",
       "      <th>2</th>\n",
       "      <td>2</td>\n",
       "      <td>125</td>\n",
       "      <td>0</td>\n",
       "      <td>5954</td>\n",
       "      <td>27</td>\n",
       "      <td>0</td>\n",
       "      <td>14</td>\n",
       "      <td>20</td>\n",
       "    </tr>\n",
       "    <tr>\n",
       "      <th>3</th>\n",
       "      <td>2</td>\n",
       "      <td>125</td>\n",
       "      <td>0</td>\n",
       "      <td>5954</td>\n",
       "      <td>27</td>\n",
       "      <td>0</td>\n",
       "      <td>20</td>\n",
       "      <td>30</td>\n",
       "    </tr>\n",
       "    <tr>\n",
       "      <th>4</th>\n",
       "      <td>2</td>\n",
       "      <td>125</td>\n",
       "      <td>0</td>\n",
       "      <td>5954</td>\n",
       "      <td>27</td>\n",
       "      <td>0</td>\n",
       "      <td>21</td>\n",
       "      <td>30</td>\n",
       "    </tr>\n",
       "    <tr>\n",
       "      <th>...</th>\n",
       "      <td>...</td>\n",
       "      <td>...</td>\n",
       "      <td>...</td>\n",
       "      <td>...</td>\n",
       "      <td>...</td>\n",
       "      <td>...</td>\n",
       "      <td>...</td>\n",
       "      <td>...</td>\n",
       "    </tr>\n",
       "    <tr>\n",
       "      <th>3945</th>\n",
       "      <td>5</td>\n",
       "      <td>960</td>\n",
       "      <td>2</td>\n",
       "      <td>7624</td>\n",
       "      <td>11</td>\n",
       "      <td>2</td>\n",
       "      <td>6</td>\n",
       "      <td>40</td>\n",
       "    </tr>\n",
       "    <tr>\n",
       "      <th>3946</th>\n",
       "      <td>5</td>\n",
       "      <td>995</td>\n",
       "      <td>2</td>\n",
       "      <td>7624</td>\n",
       "      <td>11</td>\n",
       "      <td>2</td>\n",
       "      <td>19</td>\n",
       "      <td>55</td>\n",
       "    </tr>\n",
       "    <tr>\n",
       "      <th>3947</th>\n",
       "      <td>5</td>\n",
       "      <td>680</td>\n",
       "      <td>2</td>\n",
       "      <td>7717</td>\n",
       "      <td>11</td>\n",
       "      <td>2</td>\n",
       "      <td>8</td>\n",
       "      <td>30</td>\n",
       "    </tr>\n",
       "    <tr>\n",
       "      <th>3948</th>\n",
       "      <td>5</td>\n",
       "      <td>620</td>\n",
       "      <td>2</td>\n",
       "      <td>8084</td>\n",
       "      <td>11</td>\n",
       "      <td>2</td>\n",
       "      <td>9</td>\n",
       "      <td>30</td>\n",
       "    </tr>\n",
       "    <tr>\n",
       "      <th>3949</th>\n",
       "      <td>3</td>\n",
       "      <td>520</td>\n",
       "      <td>2</td>\n",
       "      <td>10050</td>\n",
       "      <td>11</td>\n",
       "      <td>2</td>\n",
       "      <td>10</td>\n",
       "      <td>10</td>\n",
       "    </tr>\n",
       "  </tbody>\n",
       "</table>\n",
       "<p>3950 rows × 8 columns</p>\n",
       "</div>"
      ],
      "text/plain": [
       "      Airline  Duration  Total_Stops  Price  Journey_day  Journey_month  \\\n",
       "0           2       120            0   5954           27              0   \n",
       "1           2       125            0   5954           27              0   \n",
       "2           2       125            0   5954           27              0   \n",
       "3           2       125            0   5954           27              0   \n",
       "4           2       125            0   5954           27              0   \n",
       "...       ...       ...          ...    ...          ...            ...   \n",
       "3945        5       960            2   7624           11              2   \n",
       "3946        5       995            2   7624           11              2   \n",
       "3947        5       680            2   7717           11              2   \n",
       "3948        5       620            2   8084           11              2   \n",
       "3949        3       520            2  10050           11              2   \n",
       "\n",
       "      Dep_hour  Dep_min  \n",
       "0            9        5  \n",
       "1            6       15  \n",
       "2           14       20  \n",
       "3           20       30  \n",
       "4           21       30  \n",
       "...        ...      ...  \n",
       "3945         6       40  \n",
       "3946        19       55  \n",
       "3947         8       30  \n",
       "3948         9       30  \n",
       "3949        10       10  \n",
       "\n",
       "[3950 rows x 8 columns]"
      ]
     },
     "execution_count": 160,
     "metadata": {},
     "output_type": "execute_result"
    }
   ],
   "source": [
    "## \"Duration\",column\n",
    "\n",
    "indexes = np.where(new_data[\"Total_Stops\"] > (q3.Total_Stops + (1.5 * iqr.Total_Stops)))\n",
    "new_data= new_data.drop(new_data.index[indexes])\n",
    "new_data.reset_index(drop=True)"
   ]
  },
  {
   "cell_type": "code",
   "execution_count": 161,
   "id": "1d87da16",
   "metadata": {
    "scrolled": true
   },
   "outputs": [
    {
     "data": {
      "image/png": "[encoded data removed]",
      "text/plain": [
       "<Figure size 720x1152 with 8 Axes>"
      ]
     },
     "metadata": {
      "needs_background": "light"
     },
     "output_type": "display_data"
    }
   ],
   "source": [
    "## verification\n",
    "plt.figure(figsize=(10,16))\n",
    "plotnumber = 1\n",
    "\n",
    "for column in new_data:\n",
    "    if plotnumber <= 8:\n",
    "        ax = plt.subplot(4,2,plotnumber)\n",
    "        sns.boxplot(y= new_data[column],color='blue',orient='h')\n",
    "        plt.xlabel(column,fontsize = 20,color='green')\n",
    "    plotnumber+=1\n",
    "plt.tight_layout()"
   ]
  },
  {
   "cell_type": "markdown",
   "id": "711f49d3",
   "metadata": {},
   "source": [
    "From the boxplots here we can say that our data look better than before after removing the previous outliers."
   ]
  },
  {
   "cell_type": "code",
   "execution_count": null,
   "id": "23020ce5",
   "metadata": {},
   "outputs": [],
   "source": []
  },
  {
   "cell_type": "code",
   "execution_count": 162,
   "id": "945d9b5f",
   "metadata": {},
   "outputs": [
    {
     "data": {
      "image/png": "[encoded data removed]",
      "text/plain": [
       "<Figure size 1152x1440 with 8 Axes>"
      ]
     },
     "metadata": {
      "needs_background": "light"
     },
     "output_type": "display_data"
    }
   ],
   "source": [
    "# plot a  distplot check the distribution and check for skewness\n",
    "\n",
    "plt.figure(figsize=(16,20))\n",
    "plotnumber = 1\n",
    "\n",
    "for column in new_data:\n",
    "    if plotnumber <= 8:\n",
    "        ax = plt.subplot(4,2,plotnumber)\n",
    "        sns.distplot(new_data[column],bins=30,color='purple')\n",
    "        plt.xlabel(column,fontsize = 15,color='red')\n",
    "    plotnumber+=1\n",
    "plt.tight_layout()"
   ]
  },
  {
   "cell_type": "markdown",
   "id": "70480b6f",
   "metadata": {},
   "source": [
    "we can see that we have still more skewness in our dataset so let's remove them."
   ]
  },
  {
   "cell_type": "markdown",
   "id": "afa21c1c",
   "metadata": {},
   "source": [
    "### Let's  remove the sknewness from features columns"
   ]
  },
  {
   "cell_type": "code",
   "execution_count": 163,
   "id": "666e25bf",
   "metadata": {},
   "outputs": [],
   "source": [
    "## importing the libraries\n",
    "from sklearn.preprocessing import PowerTransformer"
   ]
  },
  {
   "cell_type": "code",
   "execution_count": 164,
   "id": "c17c9993",
   "metadata": {},
   "outputs": [],
   "source": [
    "pt=PowerTransformer(method='yeo-johnson')\n",
    "features = new_data.drop('Price',axis=1)"
   ]
  },
  {
   "cell_type": "code",
   "execution_count": 165,
   "id": "204d4cf4",
   "metadata": {},
   "outputs": [],
   "source": [
    "X_power=pt.fit_transform(features)"
   ]
  },
  {
   "cell_type": "code",
   "execution_count": 166,
   "id": "19c16fbe",
   "metadata": {},
   "outputs": [
    {
     "data": {
      "text/plain": [
       "array([[-0.30347145, -1.21675165, -1.05552373, ..., -1.80268089,\n",
       "        -0.55307572, -1.0490636 ],\n",
       "       [-0.30347145, -1.14618435, -1.05552373, ..., -1.80268089,\n",
       "        -1.09874261, -0.36281905],\n",
       "       [-0.30347145, -1.14618435, -1.05552373, ..., -1.80268089,\n",
       "         0.26871614, -0.09255237],\n",
       "       ...,\n",
       "       [ 1.69831451,  1.21060763,  1.66427003, ...,  1.31840696,\n",
       "        -0.72941763,  0.37691124],\n",
       "       [ 1.69831451,  1.10725773,  1.66427003, ...,  1.31840696,\n",
       "        -0.55307572,  0.37691124],\n",
       "       [ 0.37285016,  0.9033666 ,  1.66427003, ...,  1.31840696,\n",
       "        -0.38133858, -0.67180598]])"
      ]
     },
     "execution_count": 166,
     "metadata": {},
     "output_type": "execute_result"
    }
   ],
   "source": [
    "X_power"
   ]
  },
  {
   "cell_type": "code",
   "execution_count": 167,
   "id": "96905483",
   "metadata": {},
   "outputs": [],
   "source": [
    "## create a dataframe with the feature data\n",
    "\n",
    "df=pd.DataFrame(X_power,columns=features.columns)"
   ]
  },
  {
   "cell_type": "code",
   "execution_count": 168,
   "id": "ff5c7874",
   "metadata": {},
   "outputs": [
    {
     "data": {
      "text/html": [
       "<div>\n",
       "<style scoped>\n",
       "    .dataframe tbody tr th:only-of-type {\n",
       "        vertical-align: middle;\n",
       "    }\n",
       "\n",
       "    .dataframe tbody tr th {\n",
       "        vertical-align: top;\n",
       "    }\n",
       "\n",
       "    .dataframe thead th {\n",
       "        text-align: right;\n",
       "    }\n",
       "</style>\n",
       "<table border=\"1\" class=\"dataframe\">\n",
       "  <thead>\n",
       "    <tr style=\"text-align: right;\">\n",
       "      <th></th>\n",
       "      <th>Airline</th>\n",
       "      <th>Duration</th>\n",
       "      <th>Total_Stops</th>\n",
       "      <th>Journey_day</th>\n",
       "      <th>Journey_month</th>\n",
       "      <th>Dep_hour</th>\n",
       "      <th>Dep_min</th>\n",
       "    </tr>\n",
       "  </thead>\n",
       "  <tbody>\n",
       "    <tr>\n",
       "      <th>0</th>\n",
       "      <td>-0.303471</td>\n",
       "      <td>-1.216752</td>\n",
       "      <td>-1.055524</td>\n",
       "      <td>1.138125</td>\n",
       "      <td>-1.802681</td>\n",
       "      <td>-0.553076</td>\n",
       "      <td>-1.049064</td>\n",
       "    </tr>\n",
       "    <tr>\n",
       "      <th>1</th>\n",
       "      <td>-0.303471</td>\n",
       "      <td>-1.146184</td>\n",
       "      <td>-1.055524</td>\n",
       "      <td>1.138125</td>\n",
       "      <td>-1.802681</td>\n",
       "      <td>-1.098743</td>\n",
       "      <td>-0.362819</td>\n",
       "    </tr>\n",
       "    <tr>\n",
       "      <th>2</th>\n",
       "      <td>-0.303471</td>\n",
       "      <td>-1.146184</td>\n",
       "      <td>-1.055524</td>\n",
       "      <td>1.138125</td>\n",
       "      <td>-1.802681</td>\n",
       "      <td>0.268716</td>\n",
       "      <td>-0.092552</td>\n",
       "    </tr>\n",
       "    <tr>\n",
       "      <th>3</th>\n",
       "      <td>-0.303471</td>\n",
       "      <td>-1.146184</td>\n",
       "      <td>-1.055524</td>\n",
       "      <td>1.138125</td>\n",
       "      <td>-1.802681</td>\n",
       "      <td>1.163705</td>\n",
       "      <td>0.376911</td>\n",
       "    </tr>\n",
       "  </tbody>\n",
       "</table>\n",
       "</div>"
      ],
      "text/plain": [
       "    Airline  Duration  Total_Stops  Journey_day  Journey_month  Dep_hour  \\\n",
       "0 -0.303471 -1.216752    -1.055524     1.138125      -1.802681 -0.553076   \n",
       "1 -0.303471 -1.146184    -1.055524     1.138125      -1.802681 -1.098743   \n",
       "2 -0.303471 -1.146184    -1.055524     1.138125      -1.802681  0.268716   \n",
       "3 -0.303471 -1.146184    -1.055524     1.138125      -1.802681  1.163705   \n",
       "\n",
       "    Dep_min  \n",
       "0 -1.049064  \n",
       "1 -0.362819  \n",
       "2 -0.092552  \n",
       "3  0.376911  "
      ]
     },
     "execution_count": 168,
     "metadata": {},
     "output_type": "execute_result"
    }
   ],
   "source": [
    "\n",
    "df.head(4)"
   ]
  },
  {
   "cell_type": "code",
   "execution_count": 170,
   "id": "1729a275",
   "metadata": {},
   "outputs": [
    {
     "data": {
      "image/png": "[encoded data removed]",
      "text/plain": [
       "<Figure size 1152x1440 with 7 Axes>"
      ]
     },
     "metadata": {
      "needs_background": "light"
     },
     "output_type": "display_data"
    }
   ],
   "source": [
    "# plot a  distplot check the distribution and check for skewness\n",
    "\n",
    "plt.figure(figsize=(16,20))\n",
    "plotnumber = 1\n",
    "\n",
    "for column in df:\n",
    "    if plotnumber <= 7:\n",
    "        ax = plt.subplot(4,2,plotnumber)\n",
    "        sns.distplot(df[column],bins=30,color='green')\n",
    "        plt.xlabel(column,fontsize = 15,color='red')\n",
    "    plotnumber+=1\n",
    "plt.tight_layout()"
   ]
  },
  {
   "cell_type": "markdown",
   "id": "ef852f05",
   "metadata": {},
   "source": [
    "From here we can see that our data look better and the skeness are removed"
   ]
  },
  {
   "cell_type": "code",
   "execution_count": 172,
   "id": "4771d807",
   "metadata": {},
   "outputs": [],
   "source": [
    "## saving again this version of our dataset\n",
    "\n",
    "df.to_csv('data_v1.csv',index=False)"
   ]
  },
  {
   "cell_type": "code",
   "execution_count": 175,
   "id": "d7461bfe",
   "metadata": {},
   "outputs": [],
   "source": [
    "label = new_data['Price']"
   ]
  },
  {
   "cell_type": "code",
   "execution_count": 176,
   "id": "de4109f5",
   "metadata": {},
   "outputs": [
    {
     "data": {
      "text/plain": [
       "0        5954\n",
       "1        5954\n",
       "2        5954\n",
       "3        5954\n",
       "4        5954\n",
       "        ...  \n",
       "4415     7624\n",
       "4416     7624\n",
       "4417     7717\n",
       "4418     8084\n",
       "4419    10050\n",
       "Name: Price, Length: 3950, dtype: int64"
      ]
     },
     "execution_count": 176,
     "metadata": {},
     "output_type": "execute_result"
    }
   ],
   "source": [
    "label"
   ]
  },
  {
   "cell_type": "markdown",
   "id": "2b218d7e",
   "metadata": {},
   "source": [
    "## Our dataset is ready now!"
   ]
  },
  {
   "cell_type": "markdown",
   "id": "47e3b9dd",
   "metadata": {},
   "source": [
    "### Building Machine Learning Models"
   ]
  },
  {
   "cell_type": "code",
   "execution_count": 195,
   "id": "2a151216",
   "metadata": {},
   "outputs": [],
   "source": [
    "## Importing the libraries\n",
    "from sklearn.model_selection import train_test_split\n",
    "from sklearn.preprocessing import StandardScaler\n",
    "from sklearn.model_selection import RandomizedSearchCV\n",
    "from sklearn.tree import DecisionTreeRegressor\n",
    "from sklearn.linear_model import LinearRegression\n",
    "from sklearn.ensemble import AdaBoostRegressor\n",
    "from sklearn.linear_model import Ridge,RidgeCV,Lasso,LassoCV\n",
    "from sklearn.ensemble import RandomForestRegressor\n",
    "from xgboost import XGBRegressor\n",
    "from sklearn.metrics import mean_absolute_error\n",
    "from sklearn.metrics import r2_score\n",
    "from sklearn.metrics import mean_squared_error as mse\n",
    "from math import sqrt\n",
    "from sklearn import metrics"
   ]
  },
  {
   "cell_type": "code",
   "execution_count": 178,
   "id": "cafc6992",
   "metadata": {},
   "outputs": [],
   "source": [
    "## Features standarization\n",
    "\n",
    "scale = StandardScaler()\n",
    "X_scaled = scale.fit_transform(df)"
   ]
  },
  {
   "cell_type": "code",
   "execution_count": 185,
   "id": "b73ff153",
   "metadata": {},
   "outputs": [],
   "source": [
    "##  let's build the model with this random state\n",
    "\n",
    "x_train, x_test, y_train,y_test = train_test_split(X_scaled,label,\n",
    "                                                    test_size=30,\n",
    "                                                   random_state=99)"
   ]
  },
  {
   "cell_type": "code",
   "execution_count": 186,
   "id": "f79d21b1",
   "metadata": {},
   "outputs": [
    {
     "name": "stdout",
     "output_type": "stream",
     "text": [
      "The size of training input is (3920, 7)\n",
      "The size of training output is (3920,)\n",
      "**************************************************\n",
      "The size of testing input is (30, 7)\n",
      "The size of testing output is (30,)\n"
     ]
    }
   ],
   "source": [
    "print(\"The size of training input is\", x_train.shape)\n",
    "print(\"The size of training output is\", y_train.shape)\n",
    "print(50 *'*')\n",
    "print(\"The size of testing input is\", x_test.shape)\n",
    "print(\"The size of testing output is\", y_test.shape)"
   ]
  },
  {
   "cell_type": "code",
   "execution_count": 199,
   "id": "1e7b0b76",
   "metadata": {},
   "outputs": [
    {
     "data": {
      "text/plain": [
       "LinearRegression()"
      ]
     },
     "execution_count": 199,
     "metadata": {},
     "output_type": "execute_result"
    }
   ],
   "source": [
    "#First model with LinearRegression\n",
    "\n",
    "Lr = LinearRegression()\n",
    "Lr.fit(x_train, y_train)"
   ]
  },
  {
   "cell_type": "code",
   "execution_count": 207,
   "id": "bacc25d1",
   "metadata": {},
   "outputs": [],
   "source": [
    "y_lr_pred = Lr.predict(x_test)"
   ]
  },
  {
   "cell_type": "code",
   "execution_count": 208,
   "id": "e49ad31d",
   "metadata": {},
   "outputs": [
    {
     "name": "stdout",
     "output_type": "stream",
     "text": [
      "*****The Accuracy of test data ****\n",
      "\n",
      "0.6501826274253995\n"
     ]
    }
   ],
   "source": [
    "\n",
    "print('*****The Accuracy of test data ****\\n')\n",
    "print(metrics.r2_score(y_test,y_lr_pred))"
   ]
  },
  {
   "cell_type": "code",
   "execution_count": 205,
   "id": "cb19bbd6",
   "metadata": {},
   "outputs": [
    {
     "name": "stdout",
     "output_type": "stream",
     "text": [
      "841.285502939119\n"
     ]
    }
   ],
   "source": [
    "### let's check the mean_absolute_error\n",
    "\n",
    "MAE = mean_absolute_error(y_test,y_lr_pred1)\n",
    "print(MAE)"
   ]
  },
  {
   "cell_type": "markdown",
   "id": "066929e2",
   "metadata": {},
   "source": [
    "#### The accuracy r2_score 65% is not too bad and also the errors size is too high so let's build more models see which one fit better for our dataset."
   ]
  },
  {
   "cell_type": "code",
   "execution_count": 209,
   "id": "06090285",
   "metadata": {},
   "outputs": [],
   "source": [
    "### instantiate the models\n",
    "\n",
    "dtr = DecisionTreeRegressor(random_state=99)\n",
    "ada = AdaBoostRegressor(random_state=99)\n",
    "rid = Ridge(random_state=99)\n",
    "las = Lasso(random_state=99)\n",
    "rfr = RandomForestRegressor(random_state=99)"
   ]
  },
  {
   "cell_type": "code",
   "execution_count": 210,
   "id": "5dee0eed",
   "metadata": {},
   "outputs": [
    {
     "name": "stdout",
     "output_type": "stream",
     "text": [
      "Models are accessfully fitted.!!!\n"
     ]
    }
   ],
   "source": [
    "## fitting the models\n",
    "\n",
    "dtr.fit(x_train,y_train)\n",
    "ada.fit(x_train,y_train)\n",
    "rid.fit(x_train,y_train)\n",
    "las.fit(x_train,y_train)\n",
    "rfr.fit(x_train,y_train)\n",
    "print('Models are accessfully fitted.!!!')"
   ]
  },
  {
   "cell_type": "code",
   "execution_count": 211,
   "id": "06ce6ce3",
   "metadata": {},
   "outputs": [
    {
     "name": "stdout",
     "output_type": "stream",
     "text": [
      "Models are accessfully predicted.!!!\n"
     ]
    }
   ],
   "source": [
    "## making the prediction\n",
    "\n",
    "dt_ypred = dtr.predict(x_test)\n",
    "ada_ypred = ada.predict(x_test)\n",
    "rid_ypred = rid.predict(x_test)\n",
    "las_ypred = las.predict(x_test)\n",
    "rfr_pred = rfr.predict(x_test)\n",
    "print('Models are accessfully predicted.!!!')"
   ]
  },
  {
   "cell_type": "markdown",
   "id": "72515a55",
   "metadata": {},
   "source": [
    "#### Models Evaluation"
   ]
  },
  {
   "cell_type": "code",
   "execution_count": 212,
   "id": "b1a855e5",
   "metadata": {},
   "outputs": [
    {
     "name": "stdout",
     "output_type": "stream",
     "text": [
      "\n",
      " --------------------------------------------------\n",
      "\n",
      "The Mean Absolute Erro of DecisionTreeRegressor model is: 445.4\n",
      "\n",
      " --------------------------------------------------\n",
      "\n",
      "The Mean Absolute Erro of AdaBoostRegressor model is: 958.6857355785328\n",
      "\n",
      " --------------------------------------------------\n",
      "\n",
      "The Mean Absolute Erro of Ridge model is: 841.2340664991698\n",
      "\n",
      " --------------------------------------------------\n",
      "\n",
      "The Mean Absolute Erro of Lasso model is: 841.3704187497317\n",
      "\n",
      " --------------------------------------------------\n",
      "\n",
      "The Mean Absolute Erro of RandomForestRegressor model is: 428.4593333333333\n"
     ]
    }
   ],
   "source": [
    "## Models evaluation using Mean Absolute Erro\n",
    "\n",
    "dt_mae  = mean_absolute_error(y_test,dt_ypred)\n",
    "ada_mae = mean_absolute_error(y_test,ada_ypred)\n",
    "rid_mae = mean_absolute_error(y_test,rid_ypred)\n",
    "las_mae = mean_absolute_error(y_test,las_ypred)\n",
    "rfr_mae = mean_absolute_error(y_test,rfr_pred)\n",
    "\n",
    "print('\\n','-'*50)\n",
    "print('\\nThe Mean Absolute Erro of DecisionTreeRegressor model is:',dt_mae )\n",
    "print('\\n','-'*50)\n",
    "print('\\nThe Mean Absolute Erro of AdaBoostRegressor model is:',ada_mae)\n",
    "print('\\n','-'*50)\n",
    "print('\\nThe Mean Absolute Erro of Ridge model is:',rid_mae)\n",
    "print('\\n','-'*50)\n",
    "print('\\nThe Mean Absolute Erro of Lasso model is:',las_mae)\n",
    "print('\\n','-'*50)\n",
    "print('\\nThe Mean Absolute Erro of RandomForestRegressor model is:',rfr_mae)"
   ]
  },
  {
   "cell_type": "markdown",
   "id": "7c02b749",
   "metadata": {},
   "source": [
    "#### From the above verification we can see that RandomForestRegressor model :MAE =445.4  fit better our data."
   ]
  },
  {
   "cell_type": "code",
   "execution_count": 213,
   "id": "b5b5542c",
   "metadata": {},
   "outputs": [
    {
     "name": "stdout",
     "output_type": "stream",
     "text": [
      "\n",
      "The Mean Square Erro of DecisionTreeRegressor model is: 1091366.7333333334\n",
      "\n",
      " --------------------------------------------------\n",
      "\n",
      "The Mean Square Erro of AdaBoostRegressor model is: 1665971.9713817644\n",
      "\n",
      " --------------------------------------------------\n",
      "\n",
      "The Mean Square Erro of Ridge model is: 1394620.9771514954\n",
      "\n",
      " --------------------------------------------------\n",
      "\n",
      "The Mean Square Erro of Lasso model is: 1395225.8619000998\n",
      "\n",
      " --------------------------------------------------\n",
      "\n",
      "The Mean Square Erro of RandomForestRegressor model is: 851686.3726199998\n"
     ]
    }
   ],
   "source": [
    "## Models evaluation using Mean Square Error (MSE)\n",
    "\n",
    "print('\\nThe Mean Square Erro of DecisionTreeRegressor model is:',mean_squared_error(y_test,dt_ypred))\n",
    "print('\\n','-'*50)\n",
    "print('\\nThe Mean Square Erro of AdaBoostRegressor model is:',mean_squared_error(y_test,ada_ypred))\n",
    "print('\\n','-'*50)\n",
    "print('\\nThe Mean Square Erro of Ridge model is:',mean_squared_error(y_test,rid_ypred))\n",
    "print('\\n','-'*50)\n",
    "print('\\nThe Mean Square Erro of Lasso model is:',mean_squared_error(y_test,las_ypred))\n",
    "print('\\n','-'*50)\n",
    "print('\\nThe Mean Square Erro of RandomForestRegressor model is:',mean_squared_error(y_test,rfr_pred))"
   ]
  },
  {
   "cell_type": "markdown",
   "id": "23481958",
   "metadata": {},
   "source": [
    "#### From the above verification we can see that RandomForestRegressor model :MSE =851686.37 fit better our data"
   ]
  },
  {
   "cell_type": "code",
   "execution_count": 214,
   "id": "29c40753",
   "metadata": {},
   "outputs": [
    {
     "name": "stdout",
     "output_type": "stream",
     "text": [
      "*****Accuracy of DecisionTreeRegressor model is: ****\n",
      "\n",
      "0.7262316962067343\n",
      "\n",
      " --------------------------------------------------\n",
      "*****Accuracy of AdaBoostRegressor model is: ****\n",
      "\n",
      "0.582092520468089\n",
      "\n",
      " --------------------------------------------------\n",
      "*****Accuracy of Ridge model is: ****\n",
      "\n",
      "0.6501606584771551\n",
      "\n",
      " --------------------------------------------------\n",
      "*****Accuracy of Lasso model is: ****\n",
      "\n",
      "0.6500089237150829\n",
      "\n",
      " --------------------------------------------------\n",
      "*****Accuracy of RandomForestRegressor model is: ****\n",
      "\n",
      "0.78635528601475\n",
      "\n",
      " --------------------------------------------------\n"
     ]
    }
   ],
   "source": [
    "### checking the accuray of each modeel.\n",
    "\n",
    "print('*****Accuracy of DecisionTreeRegressor model is: ****\\n')\n",
    "print(metrics.r2_score(y_test,dt_ypred))\n",
    "print('\\n','-'*50)\n",
    "print('*****Accuracy of AdaBoostRegressor model is: ****\\n')\n",
    "print(metrics.r2_score(y_test,ada_ypred))\n",
    "print('\\n','-'*50)\n",
    "print('*****Accuracy of Ridge model is: ****\\n')\n",
    "print(metrics.r2_score(y_test,rid_ypred))\n",
    "print('\\n','-'*50)\n",
    "print('*****Accuracy of Lasso model is: ****\\n')\n",
    "print(metrics.r2_score(y_test,las_ypred))\n",
    "print('\\n','-'*50)\n",
    "print('*****Accuracy of RandomForestRegressor model is: ****\\n')\n",
    "print(metrics.r2_score(y_test,rfr_pred))\n",
    "print('\\n','-'*50)"
   ]
  },
  {
   "cell_type": "code",
   "execution_count": 215,
   "id": "1d89731e",
   "metadata": {},
   "outputs": [
    {
     "data": {
      "text/plain": [
       "Text(0.5, 1.0, 'Actual VS Predicted')"
      ]
     },
     "execution_count": 215,
     "metadata": {},
     "output_type": "execute_result"
    },
    {
     "data": {
      "image/png": "[encoded data removed]",
      "text/plain": [
       "<Figure size 432x288 with 1 Axes>"
      ]
     },
     "metadata": {
      "needs_background": "light"
     },
     "output_type": "display_data"
    }
   ],
   "source": [
    "\n",
    "### let's plot the actual value and the predicted values and check how it look\n",
    "\n",
    "plt.scatter(y_test,rfr_pred,color ='purple')\n",
    "plt.xlabel('Price',color='blue')\n",
    "plt.ylabel('Predicted Price',color='green')\n",
    "plt.title('Actual VS Predicted',color='r')"
   ]
  },
  {
   "cell_type": "markdown",
   "id": "fbebb756",
   "metadata": {},
   "source": [
    "#### From above scatter plot we can say that our best model draw a great linear relationshipe with the dataset."
   ]
  },
  {
   "cell_type": "markdown",
   "id": "9849c5f1",
   "metadata": {},
   "source": [
    "## Hyper parameter Tuning (HPT)\n"
   ]
  },
  {
   "cell_type": "code",
   "execution_count": 216,
   "id": "b30c6814",
   "metadata": {},
   "outputs": [],
   "source": [
    "### importing the libraries\n",
    "from sklearn.model_selection import GridSearchCV"
   ]
  },
  {
   "cell_type": "code",
   "execution_count": 220,
   "id": "77a765d9",
   "metadata": {},
   "outputs": [],
   "source": [
    "grid_param1 = {\n",
    "    'criterion':['mse', 'mae'],\n",
    "    'max_depth':range(2,10,3),\n",
    "    'min_samples_leaf':range(1,10,2),\n",
    "    'min_samples_split':range(2,10,2),\n",
    "    'max_features':[\"auto\", \"sqrt\", \"log2\"]\n",
    "    }"
   ]
  },
  {
   "cell_type": "code",
   "execution_count": 221,
   "id": "3db2070b",
   "metadata": {},
   "outputs": [],
   "source": [
    "grid_search1 = GridSearchCV(estimator=rfr,\n",
    "                         param_grid=grid_param1,\n",
    "                         cv=5,n_jobs=-1)"
   ]
  },
  {
   "cell_type": "code",
   "execution_count": 222,
   "id": "79c73de2",
   "metadata": {},
   "outputs": [
    {
     "data": {
      "text/plain": [
       "GridSearchCV(cv=5, estimator=RandomForestRegressor(random_state=99), n_jobs=-1,\n",
       "             param_grid={'criterion': ['mse', 'mae'],\n",
       "                         'max_depth': range(2, 10, 3),\n",
       "                         'max_features': ['auto', 'sqrt', 'log2'],\n",
       "                         'min_samples_leaf': range(1, 10, 2),\n",
       "                         'min_samples_split': range(2, 10, 2)})"
      ]
     },
     "execution_count": 222,
     "metadata": {},
     "output_type": "execute_result"
    }
   ],
   "source": [
    "## again train the model\n",
    "\n",
    "grid_search1.fit(x_train,y_train)\n"
   ]
  },
  {
   "cell_type": "code",
   "execution_count": 223,
   "id": "12c81d14",
   "metadata": {},
   "outputs": [
    {
     "name": "stdout",
     "output_type": "stream",
     "text": [
      "{'criterion': 'mse', 'max_depth': 8, 'max_features': 'auto', 'min_samples_leaf': 1, 'min_samples_split': 4}\n"
     ]
    }
   ],
   "source": [
    "# best parameters\n",
    "\n",
    "best_parameters = grid_search1.best_params_\n",
    "print(best_parameters)"
   ]
  },
  {
   "cell_type": "code",
   "execution_count": 238,
   "id": "3e23e41d",
   "metadata": {},
   "outputs": [],
   "source": [
    "## so let's build again the decisionTreeRegressor model\n",
    "\n",
    "rfr_model = RandomForestRegressor(criterion='mse',\n",
    "                            max_depth=8,\n",
    "                            max_features= 'auto',\n",
    "                            min_samples_leaf=1,\n",
    "                            min_samples_split=4,\n",
    "                                 random_state=99)"
   ]
  },
  {
   "cell_type": "code",
   "execution_count": 239,
   "id": "1a333279",
   "metadata": {},
   "outputs": [
    {
     "name": "stdout",
     "output_type": "stream",
     "text": [
      "\n",
      "=============Test Result==============\n",
      "Accuracy :76.66%\n",
      "_____________________________________________\n"
     ]
    }
   ],
   "source": [
    "## let's fit gain the model with the data\n",
    "\n",
    "rfr_model.fit(x_train,y_train)\n",
    "pred_drfr = rfr_model.predict(x_test)\n",
    "\n",
    "print(\"\\n=============Test Result==============\")\n",
    "\n",
    "print(f\"Accuracy :{metrics.r2_score(y_test,pred_drfr)*100:.2f}%\")\n",
    "print(\"_____________________________________________\")"
   ]
  },
  {
   "cell_type": "markdown",
   "id": "d46cfa1e",
   "metadata": {},
   "source": [
    "#### We got 76% accuracy after parameter which is less than previous model, so let's save our model as it is."
   ]
  },
  {
   "cell_type": "markdown",
   "id": "d1aaa541",
   "metadata": {},
   "source": [
    "### Conclusion: our best model is RandomForestRegressor(rfr) withe accuracy = 78%."
   ]
  },
  {
   "cell_type": "markdown",
   "id": "3d41c45c",
   "metadata": {},
   "source": [
    "### saving the model"
   ]
  },
  {
   "cell_type": "code",
   "execution_count": 240,
   "id": "e5ba300f",
   "metadata": {},
   "outputs": [],
   "source": [
    "import joblib"
   ]
  },
  {
   "cell_type": "code",
   "execution_count": 241,
   "id": "e043250b",
   "metadata": {},
   "outputs": [
    {
     "data": {
      "text/plain": [
       "['flight_price_prediction_model.pkl']"
      ]
     },
     "execution_count": 241,
     "metadata": {},
     "output_type": "execute_result"
    }
   ],
   "source": [
    "joblib.dump(rfr,'flight_price_prediction_model.pkl')"
   ]
  },
  {
   "cell_type": "code",
   "execution_count": null,
   "id": "8c796daa",
   "metadata": {},
   "outputs": [],
   "source": []
  }
 ],
 "metadata": {
  "kernelspec": {
   "display_name": "Python 3 (ipykernel)",
   "language": "python",
   "name": "python3"
  },
  "language_info": {
   "codemirror_mode": {
    "name": "ipython",
    "version": 3
   },
   "file_extension": ".py",
   "mimetype": "text/x-python",
   "name": "python",
   "nbconvert_exporter": "python",
   "pygments_lexer": "ipython3",
   "version": "3.8.11"
  }
 },
 "nbformat": 4,
 "nbformat_minor": 5
}
