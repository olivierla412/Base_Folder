{
 "cells": [
  {
   "cell_type": "code",
   "execution_count": 36,
   "id": "27c5ccb2",
   "metadata": {},
   "outputs": [],
   "source": [
    "import mysql.connector as conn\n",
    "data = conn.connect(\n",
    "user = 'root',\n",
    "password ='Assie@225',\n",
    "host = 'localhost',\n",
    "port =3306,    \n",
    "database ='employees',\n",
    "auth_plugin='mysql_native_password'    \n",
    "    \n",
    ")"
   ]
  },
  {
   "cell_type": "code",
   "execution_count": 3,
   "id": "39c19b1f",
   "metadata": {},
   "outputs": [],
   "source": [
    "my_cursor = data.cursor()"
   ]
  },
  {
   "cell_type": "code",
   "execution_count": 15,
   "id": "3dc1e62c",
   "metadata": {},
   "outputs": [],
   "source": [
    "my_cursor.execute('SHOW TABLES')"
   ]
  },
  {
   "cell_type": "code",
   "execution_count": 16,
   "id": "ad6a35c7",
   "metadata": {},
   "outputs": [
    {
     "name": "stdout",
     "output_type": "stream",
     "text": [
      "(bytearray(b'current_dept_emp'),)\n",
      "(bytearray(b'departments'),)\n",
      "(bytearray(b'dept_emp'),)\n",
      "(bytearray(b'dept_emp_latest_date'),)\n",
      "(bytearray(b'dept_manager'),)\n",
      "(bytearray(b'employees'),)\n",
      "(bytearray(b'salaries'),)\n",
      "(bytearray(b'titles'),)\n"
     ]
    }
   ],
   "source": [
    "for x in my_cursor:\n",
    "    print(x)"
   ]
  },
  {
   "cell_type": "code",
   "execution_count": 21,
   "id": "c39cf327",
   "metadata": {},
   "outputs": [],
   "source": [
    "my_cursor.execute('SELECT *FROM departments')"
   ]
  },
  {
   "cell_type": "code",
   "execution_count": 18,
   "id": "8dec2162",
   "metadata": {},
   "outputs": [
    {
     "name": "stdout",
     "output_type": "stream",
     "text": [
      "('d009', 'Customer Service')\n",
      "------------\n",
      "('d005', 'Development')\n",
      "------------\n",
      "('d002', 'Finance')\n",
      "------------\n",
      "('d003', 'Human Resources')\n",
      "------------\n",
      "('d001', 'Marketing')\n",
      "------------\n",
      "('d004', 'Production')\n",
      "------------\n",
      "('d006', 'Quality Management')\n",
      "------------\n",
      "('d008', 'Research')\n",
      "------------\n",
      "('d007', 'Sales')\n",
      "------------\n"
     ]
    }
   ],
   "source": [
    "for x in my_cursor:\n",
    "    print(x)\n",
    "    print('----'*3)"
   ]
  },
  {
   "cell_type": "code",
   "execution_count": 22,
   "id": "24566358",
   "metadata": {},
   "outputs": [],
   "source": [
    "data = []\n",
    "for x in my_cursor:\n",
    "    data.append(x)"
   ]
  },
  {
   "cell_type": "code",
   "execution_count": 23,
   "id": "c7ff09e7",
   "metadata": {},
   "outputs": [
    {
     "data": {
      "text/plain": [
       "[('d009', 'Customer Service'),\n",
       " ('d005', 'Development'),\n",
       " ('d002', 'Finance'),\n",
       " ('d003', 'Human Resources'),\n",
       " ('d001', 'Marketing'),\n",
       " ('d004', 'Production'),\n",
       " ('d006', 'Quality Management'),\n",
       " ('d008', 'Research'),\n",
       " ('d007', 'Sales')]"
      ]
     },
     "execution_count": 23,
     "metadata": {},
     "output_type": "execute_result"
    }
   ],
   "source": [
    "data"
   ]
  },
  {
   "cell_type": "code",
   "execution_count": 24,
   "id": "198b7fed",
   "metadata": {},
   "outputs": [
    {
     "data": {
      "text/plain": [
       "('d005', 'Development')"
      ]
     },
     "execution_count": 24,
     "metadata": {},
     "output_type": "execute_result"
    }
   ],
   "source": [
    "data[1]"
   ]
  },
  {
   "cell_type": "code",
   "execution_count": 25,
   "id": "60e62ae8",
   "metadata": {},
   "outputs": [],
   "source": [
    "data1 = []\n",
    "for x in data:\n",
    "    data1.append(list(x))"
   ]
  },
  {
   "cell_type": "code",
   "execution_count": 26,
   "id": "cc70bcd7",
   "metadata": {},
   "outputs": [
    {
     "data": {
      "text/plain": [
       "[['d009', 'Customer Service'],\n",
       " ['d005', 'Development'],\n",
       " ['d002', 'Finance'],\n",
       " ['d003', 'Human Resources'],\n",
       " ['d001', 'Marketing'],\n",
       " ['d004', 'Production'],\n",
       " ['d006', 'Quality Management'],\n",
       " ['d008', 'Research'],\n",
       " ['d007', 'Sales']]"
      ]
     },
     "execution_count": 26,
     "metadata": {},
     "output_type": "execute_result"
    }
   ],
   "source": [
    "data1"
   ]
  },
  {
   "cell_type": "code",
   "execution_count": 29,
   "id": "ae7720d2",
   "metadata": {},
   "outputs": [],
   "source": [
    "data1[0][1] = 'vendor'"
   ]
  },
  {
   "cell_type": "code",
   "execution_count": 30,
   "id": "84e2db1f",
   "metadata": {},
   "outputs": [
    {
     "data": {
      "text/plain": [
       "[['d009', 'vendor'],\n",
       " ['d005', 'Development'],\n",
       " ['d002', 'Finance'],\n",
       " ['d003', 'Human Resources'],\n",
       " ['d001', 'Marketing'],\n",
       " ['d004', 'Production'],\n",
       " ['d006', 'Quality Management'],\n",
       " ['d008', 'Research'],\n",
       " ['d007', 'Sales']]"
      ]
     },
     "execution_count": 30,
     "metadata": {},
     "output_type": "execute_result"
    }
   ],
   "source": [
    "data1"
   ]
  },
  {
   "cell_type": "code",
   "execution_count": 31,
   "id": "36e51116",
   "metadata": {},
   "outputs": [],
   "source": [
    "data2 =[]\n",
    "for x in data1:\n",
    "    data2.append(tuple(x))"
   ]
  },
  {
   "cell_type": "code",
   "execution_count": 32,
   "id": "86eee71a",
   "metadata": {},
   "outputs": [
    {
     "data": {
      "text/plain": [
       "[('d009', 'vendor'),\n",
       " ('d005', 'Development'),\n",
       " ('d002', 'Finance'),\n",
       " ('d003', 'Human Resources'),\n",
       " ('d001', 'Marketing'),\n",
       " ('d004', 'Production'),\n",
       " ('d006', 'Quality Management'),\n",
       " ('d008', 'Research'),\n",
       " ('d007', 'Sales')]"
      ]
     },
     "execution_count": 32,
     "metadata": {},
     "output_type": "execute_result"
    }
   ],
   "source": [
    "data2"
   ]
  },
  {
   "cell_type": "code",
   "execution_count": 33,
   "id": "be0b60e1",
   "metadata": {},
   "outputs": [
    {
     "data": {
      "text/plain": [
       "[('d009', 'Customer Service'),\n",
       " ('d005', 'Development'),\n",
       " ('d002', 'Finance'),\n",
       " ('d003', 'Human Resources'),\n",
       " ('d001', 'Marketing'),\n",
       " ('d004', 'Production'),\n",
       " ('d006', 'Quality Management'),\n",
       " ('d008', 'Research'),\n",
       " ('d007', 'Sales')]"
      ]
     },
     "execution_count": 33,
     "metadata": {},
     "output_type": "execute_result"
    }
   ],
   "source": [
    "data"
   ]
  },
  {
   "cell_type": "code",
   "execution_count": 37,
   "id": "1a941489",
   "metadata": {},
   "outputs": [],
   "source": [
    "import pandas as pd\n",
    "import numpy as np"
   ]
  },
  {
   "cell_type": "code",
   "execution_count": 39,
   "id": "b940f049",
   "metadata": {},
   "outputs": [],
   "source": [
    "t_data = pd.read_sql_query('SELECT *FROM employees',data)"
   ]
  },
  {
   "cell_type": "code",
   "execution_count": 40,
   "id": "4abd5957",
   "metadata": {},
   "outputs": [
    {
     "data": {
      "text/html": [
       "<div>\n",
       "<style scoped>\n",
       "    .dataframe tbody tr th:only-of-type {\n",
       "        vertical-align: middle;\n",
       "    }\n",
       "\n",
       "    .dataframe tbody tr th {\n",
       "        vertical-align: top;\n",
       "    }\n",
       "\n",
       "    .dataframe thead th {\n",
       "        text-align: right;\n",
       "    }\n",
       "</style>\n",
       "<table border=\"1\" class=\"dataframe\">\n",
       "  <thead>\n",
       "    <tr style=\"text-align: right;\">\n",
       "      <th></th>\n",
       "      <th>emp_no</th>\n",
       "      <th>birth_date</th>\n",
       "      <th>first_name</th>\n",
       "      <th>last_name</th>\n",
       "      <th>gender</th>\n",
       "      <th>hire_date</th>\n",
       "    </tr>\n",
       "  </thead>\n",
       "  <tbody>\n",
       "    <tr>\n",
       "      <th>0</th>\n",
       "      <td>10001</td>\n",
       "      <td>1953-09-02</td>\n",
       "      <td>Georgi</td>\n",
       "      <td>Facello</td>\n",
       "      <td>M</td>\n",
       "      <td>1986-06-26</td>\n",
       "    </tr>\n",
       "    <tr>\n",
       "      <th>1</th>\n",
       "      <td>10002</td>\n",
       "      <td>1964-06-02</td>\n",
       "      <td>Bezalel</td>\n",
       "      <td>Simmel</td>\n",
       "      <td>F</td>\n",
       "      <td>1985-11-21</td>\n",
       "    </tr>\n",
       "    <tr>\n",
       "      <th>2</th>\n",
       "      <td>10003</td>\n",
       "      <td>1959-12-03</td>\n",
       "      <td>Parto</td>\n",
       "      <td>Bamford</td>\n",
       "      <td>M</td>\n",
       "      <td>1986-08-28</td>\n",
       "    </tr>\n",
       "    <tr>\n",
       "      <th>3</th>\n",
       "      <td>10004</td>\n",
       "      <td>1954-05-01</td>\n",
       "      <td>Chirstian</td>\n",
       "      <td>Koblick</td>\n",
       "      <td>M</td>\n",
       "      <td>1986-12-01</td>\n",
       "    </tr>\n",
       "    <tr>\n",
       "      <th>4</th>\n",
       "      <td>10005</td>\n",
       "      <td>1955-01-21</td>\n",
       "      <td>Kyoichi</td>\n",
       "      <td>Maliniak</td>\n",
       "      <td>M</td>\n",
       "      <td>1989-09-12</td>\n",
       "    </tr>\n",
       "    <tr>\n",
       "      <th>...</th>\n",
       "      <td>...</td>\n",
       "      <td>...</td>\n",
       "      <td>...</td>\n",
       "      <td>...</td>\n",
       "      <td>...</td>\n",
       "      <td>...</td>\n",
       "    </tr>\n",
       "    <tr>\n",
       "      <th>300019</th>\n",
       "      <td>499995</td>\n",
       "      <td>1958-09-24</td>\n",
       "      <td>Dekang</td>\n",
       "      <td>Lichtner</td>\n",
       "      <td>F</td>\n",
       "      <td>1993-01-12</td>\n",
       "    </tr>\n",
       "    <tr>\n",
       "      <th>300020</th>\n",
       "      <td>499996</td>\n",
       "      <td>1953-03-07</td>\n",
       "      <td>Zito</td>\n",
       "      <td>Baaz</td>\n",
       "      <td>M</td>\n",
       "      <td>1990-09-27</td>\n",
       "    </tr>\n",
       "    <tr>\n",
       "      <th>300021</th>\n",
       "      <td>499997</td>\n",
       "      <td>1961-08-03</td>\n",
       "      <td>Berhard</td>\n",
       "      <td>Lenart</td>\n",
       "      <td>M</td>\n",
       "      <td>1986-04-21</td>\n",
       "    </tr>\n",
       "    <tr>\n",
       "      <th>300022</th>\n",
       "      <td>499998</td>\n",
       "      <td>1956-09-05</td>\n",
       "      <td>Patricia</td>\n",
       "      <td>Breugel</td>\n",
       "      <td>M</td>\n",
       "      <td>1993-10-13</td>\n",
       "    </tr>\n",
       "    <tr>\n",
       "      <th>300023</th>\n",
       "      <td>499999</td>\n",
       "      <td>1958-05-01</td>\n",
       "      <td>Sachin</td>\n",
       "      <td>Tsukuda</td>\n",
       "      <td>M</td>\n",
       "      <td>1997-11-30</td>\n",
       "    </tr>\n",
       "  </tbody>\n",
       "</table>\n",
       "<p>300024 rows × 6 columns</p>\n",
       "</div>"
      ],
      "text/plain": [
       "        emp_no  birth_date first_name last_name gender   hire_date\n",
       "0        10001  1953-09-02     Georgi   Facello      M  1986-06-26\n",
       "1        10002  1964-06-02    Bezalel    Simmel      F  1985-11-21\n",
       "2        10003  1959-12-03      Parto   Bamford      M  1986-08-28\n",
       "3        10004  1954-05-01  Chirstian   Koblick      M  1986-12-01\n",
       "4        10005  1955-01-21    Kyoichi  Maliniak      M  1989-09-12\n",
       "...        ...         ...        ...       ...    ...         ...\n",
       "300019  499995  1958-09-24     Dekang  Lichtner      F  1993-01-12\n",
       "300020  499996  1953-03-07       Zito      Baaz      M  1990-09-27\n",
       "300021  499997  1961-08-03    Berhard    Lenart      M  1986-04-21\n",
       "300022  499998  1956-09-05   Patricia   Breugel      M  1993-10-13\n",
       "300023  499999  1958-05-01     Sachin   Tsukuda      M  1997-11-30\n",
       "\n",
       "[300024 rows x 6 columns]"
      ]
     },
     "execution_count": 40,
     "metadata": {},
     "output_type": "execute_result"
    }
   ],
   "source": [
    "t_data"
   ]
  },
  {
   "cell_type": "code",
   "execution_count": 41,
   "id": "920e8c96",
   "metadata": {},
   "outputs": [
    {
     "data": {
      "text/plain": [
       "0         1986-06-26\n",
       "1         1985-11-21\n",
       "2         1986-08-28\n",
       "3         1986-12-01\n",
       "4         1989-09-12\n",
       "             ...    \n",
       "300019    1993-01-12\n",
       "300020    1990-09-27\n",
       "300021    1986-04-21\n",
       "300022    1993-10-13\n",
       "300023    1997-11-30\n",
       "Name: hire_date, Length: 300024, dtype: object"
      ]
     },
     "execution_count": 41,
     "metadata": {},
     "output_type": "execute_result"
    }
   ],
   "source": [
    "t_data['hire_date']"
   ]
  },
  {
   "cell_type": "code",
   "execution_count": 47,
   "id": "191283e2",
   "metadata": {},
   "outputs": [
    {
     "data": {
      "text/plain": [
       "76002608740"
      ]
     },
     "execution_count": 47,
     "metadata": {},
     "output_type": "execute_result"
    }
   ],
   "source": [
    "t_data['emp_no'].sum()"
   ]
  },
  {
   "cell_type": "markdown",
   "id": "34b773c7",
   "metadata": {},
   "source": [
    "## The way to create a database"
   ]
  },
  {
   "cell_type": "code",
   "execution_count": 48,
   "id": "707c2d51",
   "metadata": {},
   "outputs": [],
   "source": [
    "import mysql.connector as conn\n",
    "db = conn.connect(\n",
    "user = 'root',\n",
    "password ='Assie@225',\n",
    "host = 'localhost',\n",
    "port =3306,    \n",
    "auth_plugin='mysql_native_password'    \n",
    "    \n",
    ")"
   ]
  },
  {
   "cell_type": "code",
   "execution_count": 51,
   "id": "e8f1f803",
   "metadata": {},
   "outputs": [],
   "source": [
    "my_cursor = db.cursor()"
   ]
  },
  {
   "cell_type": "code",
   "execution_count": 53,
   "id": "2e28b5bc",
   "metadata": {},
   "outputs": [],
   "source": [
    "my_cursor.execute('CREATE DATABASE shop_database')"
   ]
  },
  {
   "cell_type": "code",
   "execution_count": 57,
   "id": "05283c65",
   "metadata": {},
   "outputs": [],
   "source": [
    "my_cursor.execute(\"SHOW DATABASES\",db)"
   ]
  },
  {
   "cell_type": "code",
   "execution_count": 58,
   "id": "209ce419",
   "metadata": {},
   "outputs": [
    {
     "name": "stdout",
     "output_type": "stream",
     "text": [
      "(bytearray(b'employees'),)\n",
      "_______________\n",
      "(bytearray(b'information_schema'),)\n",
      "_______________\n",
      "(bytearray(b'mydata'),)\n",
      "_______________\n",
      "(bytearray(b'mysql'),)\n",
      "_______________\n",
      "(bytearray(b'performance_schema'),)\n",
      "_______________\n",
      "(bytearray(b'shop_database'),)\n",
      "_______________\n",
      "(bytearray(b'sys'),)\n",
      "_______________\n"
     ]
    }
   ],
   "source": [
    "for x in my_cursor:\n",
    "    print(x)\n",
    "    print(\"_____\"*3)"
   ]
  },
  {
   "cell_type": "markdown",
   "id": "ec92de56",
   "metadata": {},
   "source": [
    "## How to connect the database I just created."
   ]
  },
  {
   "cell_type": "code",
   "execution_count": 59,
   "id": "1866c85f",
   "metadata": {},
   "outputs": [],
   "source": [
    "import mysql.connector as conn\n",
    "db = conn.connect(\n",
    "user = 'root',\n",
    "password ='Assie@225',\n",
    "host = 'localhost',\n",
    "port =3306, \n",
    "database ='shop_database',    \n",
    "auth_plugin='mysql_native_password'    \n",
    "    \n",
    ")"
   ]
  },
  {
   "cell_type": "code",
   "execution_count": 60,
   "id": "aa874d6d",
   "metadata": {},
   "outputs": [],
   "source": [
    "my_cursor = db.cursor()\n"
   ]
  },
  {
   "cell_type": "markdown",
   "id": "8435cbe4",
   "metadata": {},
   "source": [
    "## How to create a table the new database"
   ]
  },
  {
   "cell_type": "code",
   "execution_count": 63,
   "id": "eec32c37",
   "metadata": {},
   "outputs": [],
   "source": [
    "my_cursor.execute(\"CREATE TABLE phone(phone_id INT(4), phone_name VARCHAR(45), phone_brand VARCHAR(45), phone_price INT(8))\")"
   ]
  },
  {
   "cell_type": "code",
   "execution_count": 77,
   "id": "fae5f815",
   "metadata": {},
   "outputs": [],
   "source": [
    "my_cursor.execute('DESCRIBE phone')"
   ]
  },
  {
   "cell_type": "markdown",
   "id": "02267463",
   "metadata": {},
   "source": [
    "## How to display the structure of our table`"
   ]
  },
  {
   "cell_type": "code",
   "execution_count": 78,
   "id": "bebee96b",
   "metadata": {},
   "outputs": [
    {
     "name": "stdout",
     "output_type": "stream",
     "text": [
      "('phone_id', b'int', 'YES', bytearray(b''), None, '')\n",
      "--------------------\n",
      "('phone_name', b'varchar(45)', 'YES', bytearray(b''), None, '')\n",
      "--------------------\n",
      "('phone_brand', b'varchar(45)', 'YES', bytearray(b''), None, '')\n",
      "--------------------\n",
      "('phone_price', b'int', 'YES', bytearray(b''), None, '')\n",
      "--------------------\n"
     ]
    }
   ],
   "source": [
    "for x in my_cursor:\n",
    "    print(x)\n",
    "    print('----'*5)\n",
    "    "
   ]
  },
  {
   "cell_type": "markdown",
   "id": "548590e0",
   "metadata": {},
   "source": [
    "## How insert a single row (record) into our table."
   ]
  },
  {
   "cell_type": "code",
   "execution_count": 81,
   "id": "49d9c0bc",
   "metadata": {},
   "outputs": [],
   "source": [
    "sql = \"INSERT INTO phone (phone_id,phone_name,phone_brand,phone_price) VALUES(100,'Iphone12','Iphone',25000)\""
   ]
  },
  {
   "cell_type": "code",
   "execution_count": 82,
   "id": "717aa8a9",
   "metadata": {},
   "outputs": [],
   "source": [
    "my_cursor.execute(sql)"
   ]
  },
  {
   "cell_type": "code",
   "execution_count": 83,
   "id": "e2393008",
   "metadata": {},
   "outputs": [],
   "source": [
    "db.commit()"
   ]
  },
  {
   "cell_type": "markdown",
   "id": "bf9b2d86",
   "metadata": {},
   "source": [
    "## How insert a multible  rows (records) into our table."
   ]
  },
  {
   "cell_type": "code",
   "execution_count": 86,
   "id": "8af8ef34",
   "metadata": {},
   "outputs": [],
   "source": [
    "sql2 = \"INSERT INTO phone (phone_id,phone_name,phone_brand,phone_price)\\\n",
    "VALUES (101,'Iphone 12 Pro','Iphone',25000),\\\n",
    "(102,'vivo v20','Vivo',27000),\\\n",
    "(103,'Samsung S17','Samsung',56000),\\\n",
    "(104,'Oppo A12','Oppo',29000),\\\n",
    "(105,'Airtel F1','Airtel',28000),\\\n",
    "(106,'Nokia Q2','Nokia',27000),\\\n",
    "(107,'Alcatel G4','Alcatel',28000),\\\n",
    "(108,'Teckno P1','Teckno',66000),\\\n",
    "(109,'Iphone 13','Iphone',77000),\\\n",
    "(110,'Samsung S20','Samsung',67000)\""
   ]
  },
  {
   "cell_type": "code",
   "execution_count": 87,
   "id": "8006a647",
   "metadata": {},
   "outputs": [],
   "source": [
    "my_cursor.execute(sql2)\n",
    "db.commit()"
   ]
  },
  {
   "cell_type": "code",
   "execution_count": 88,
   "id": "7fab0193",
   "metadata": {},
   "outputs": [],
   "source": [
    "sql = \"SELECT *FROM phone\""
   ]
  },
  {
   "cell_type": "code",
   "execution_count": 89,
   "id": "297222f7",
   "metadata": {},
   "outputs": [
    {
     "name": "stdout",
     "output_type": "stream",
     "text": [
      "(100, 'Iphone12', 'Iphone', 25000)\n",
      "--------\n",
      "(101, 'Iphone 12 Pro', 'Iphone', 25000)\n",
      "--------\n",
      "(102, 'vivo v20', 'Vivo', 27000)\n",
      "--------\n",
      "(103, 'Samsung S17', 'Samsung', 56000)\n",
      "--------\n",
      "(104, 'Oppo A12', 'Oppo', 29000)\n",
      "--------\n",
      "(105, 'Airtel F1', 'Airtel', 28000)\n",
      "--------\n",
      "(106, 'Nokia Q2', 'Nokia', 27000)\n",
      "--------\n",
      "(107, 'Alcatel G4', 'Alcatel', 28000)\n",
      "--------\n",
      "(108, 'Teckno P1', 'Teckno', 66000)\n",
      "--------\n",
      "(109, 'Iphone 13', 'Iphone', 77000)\n",
      "--------\n",
      "(110, 'Samsung S20', 'Samsung', 67000)\n",
      "--------\n"
     ]
    }
   ],
   "source": [
    "my_cursor.execute(sql)\n",
    "for x in my_cursor:\n",
    "    print(x)\n",
    "    print('--'*4)"
   ]
  },
  {
   "cell_type": "code",
   "execution_count": 90,
   "id": "217d52b1",
   "metadata": {},
   "outputs": [],
   "source": [
    "import pandas as pd \n",
    "import numpy as np\n"
   ]
  },
  {
   "cell_type": "code",
   "execution_count": 92,
   "id": "60ec6f86",
   "metadata": {},
   "outputs": [],
   "source": [
    "data = pd.read_sql_query(\"SELECT *FROM phone\",db)"
   ]
  },
  {
   "cell_type": "code",
   "execution_count": 93,
   "id": "83b60076",
   "metadata": {},
   "outputs": [
    {
     "data": {
      "text/html": [
       "<div>\n",
       "<style scoped>\n",
       "    .dataframe tbody tr th:only-of-type {\n",
       "        vertical-align: middle;\n",
       "    }\n",
       "\n",
       "    .dataframe tbody tr th {\n",
       "        vertical-align: top;\n",
       "    }\n",
       "\n",
       "    .dataframe thead th {\n",
       "        text-align: right;\n",
       "    }\n",
       "</style>\n",
       "<table border=\"1\" class=\"dataframe\">\n",
       "  <thead>\n",
       "    <tr style=\"text-align: right;\">\n",
       "      <th></th>\n",
       "      <th>phone_id</th>\n",
       "      <th>phone_name</th>\n",
       "      <th>phone_brand</th>\n",
       "      <th>phone_price</th>\n",
       "    </tr>\n",
       "  </thead>\n",
       "  <tbody>\n",
       "    <tr>\n",
       "      <th>0</th>\n",
       "      <td>100</td>\n",
       "      <td>Iphone12</td>\n",
       "      <td>Iphone</td>\n",
       "      <td>25000</td>\n",
       "    </tr>\n",
       "    <tr>\n",
       "      <th>1</th>\n",
       "      <td>101</td>\n",
       "      <td>Iphone 12 Pro</td>\n",
       "      <td>Iphone</td>\n",
       "      <td>25000</td>\n",
       "    </tr>\n",
       "    <tr>\n",
       "      <th>2</th>\n",
       "      <td>102</td>\n",
       "      <td>vivo v20</td>\n",
       "      <td>Vivo</td>\n",
       "      <td>27000</td>\n",
       "    </tr>\n",
       "    <tr>\n",
       "      <th>3</th>\n",
       "      <td>103</td>\n",
       "      <td>Samsung S17</td>\n",
       "      <td>Samsung</td>\n",
       "      <td>56000</td>\n",
       "    </tr>\n",
       "    <tr>\n",
       "      <th>4</th>\n",
       "      <td>104</td>\n",
       "      <td>Oppo A12</td>\n",
       "      <td>Oppo</td>\n",
       "      <td>29000</td>\n",
       "    </tr>\n",
       "    <tr>\n",
       "      <th>5</th>\n",
       "      <td>105</td>\n",
       "      <td>Airtel F1</td>\n",
       "      <td>Airtel</td>\n",
       "      <td>28000</td>\n",
       "    </tr>\n",
       "    <tr>\n",
       "      <th>6</th>\n",
       "      <td>106</td>\n",
       "      <td>Nokia Q2</td>\n",
       "      <td>Nokia</td>\n",
       "      <td>27000</td>\n",
       "    </tr>\n",
       "    <tr>\n",
       "      <th>7</th>\n",
       "      <td>107</td>\n",
       "      <td>Alcatel G4</td>\n",
       "      <td>Alcatel</td>\n",
       "      <td>28000</td>\n",
       "    </tr>\n",
       "    <tr>\n",
       "      <th>8</th>\n",
       "      <td>108</td>\n",
       "      <td>Teckno P1</td>\n",
       "      <td>Teckno</td>\n",
       "      <td>66000</td>\n",
       "    </tr>\n",
       "    <tr>\n",
       "      <th>9</th>\n",
       "      <td>109</td>\n",
       "      <td>Iphone 13</td>\n",
       "      <td>Iphone</td>\n",
       "      <td>77000</td>\n",
       "    </tr>\n",
       "    <tr>\n",
       "      <th>10</th>\n",
       "      <td>110</td>\n",
       "      <td>Samsung S20</td>\n",
       "      <td>Samsung</td>\n",
       "      <td>67000</td>\n",
       "    </tr>\n",
       "  </tbody>\n",
       "</table>\n",
       "</div>"
      ],
      "text/plain": [
       "    phone_id     phone_name phone_brand  phone_price\n",
       "0        100       Iphone12      Iphone        25000\n",
       "1        101  Iphone 12 Pro      Iphone        25000\n",
       "2        102       vivo v20        Vivo        27000\n",
       "3        103    Samsung S17     Samsung        56000\n",
       "4        104       Oppo A12        Oppo        29000\n",
       "5        105      Airtel F1      Airtel        28000\n",
       "6        106       Nokia Q2       Nokia        27000\n",
       "7        107     Alcatel G4     Alcatel        28000\n",
       "8        108      Teckno P1      Teckno        66000\n",
       "9        109      Iphone 13      Iphone        77000\n",
       "10       110    Samsung S20     Samsung        67000"
      ]
     },
     "execution_count": 93,
     "metadata": {},
     "output_type": "execute_result"
    }
   ],
   "source": [
    "data"
   ]
  },
  {
   "cell_type": "markdown",
   "id": "d408cdb3",
   "metadata": {},
   "source": [
    "## Another way to insert multiple records. __Using executemay()__ method. "
   ]
  },
  {
   "cell_type": "code",
   "execution_count": 95,
   "id": "746e064b",
   "metadata": {},
   "outputs": [],
   "source": [
    "sql = \"INSERT INTO phone (phone_id,phone_name,phone_brand,phone_price) VALUES(%s, %s, %s, %s)\"\n",
    "value = (\n",
    "(1011,'vivo v20','Vivo',27000),\n",
    "(1012,'Samsung S17','Samsung',56000),\n",
    "(1013,'Oppo A12','Oppo',29000),\n",
    "(1014,'Airtel F1','Airtel',28000),\n",
    "(1015,'Nokia Q2','Nokia',27000),\n",
    "(1016,'Alcatel G4','Alcatel',28000),\n",
    "(1017,'Teckno P1','Teckno',66000),\n",
    "(1018,'Iphone 13','Iphone',77000),\n",
    "(119,'Samsung S20','Samsung',67000))\n",
    "my_cursor.executemany(sql,value)\n",
    "db.commit()"
   ]
  },
  {
   "cell_type": "code",
   "execution_count": 96,
   "id": "ad575fb4",
   "metadata": {},
   "outputs": [],
   "source": [
    "data = pd.read_sql_query(\"SELECT *FROM phone\",db)"
   ]
  },
  {
   "cell_type": "code",
   "execution_count": 97,
   "id": "492bf9df",
   "metadata": {},
   "outputs": [
    {
     "data": {
      "text/html": [
       "<div>\n",
       "<style scoped>\n",
       "    .dataframe tbody tr th:only-of-type {\n",
       "        vertical-align: middle;\n",
       "    }\n",
       "\n",
       "    .dataframe tbody tr th {\n",
       "        vertical-align: top;\n",
       "    }\n",
       "\n",
       "    .dataframe thead th {\n",
       "        text-align: right;\n",
       "    }\n",
       "</style>\n",
       "<table border=\"1\" class=\"dataframe\">\n",
       "  <thead>\n",
       "    <tr style=\"text-align: right;\">\n",
       "      <th></th>\n",
       "      <th>phone_id</th>\n",
       "      <th>phone_name</th>\n",
       "      <th>phone_brand</th>\n",
       "      <th>phone_price</th>\n",
       "    </tr>\n",
       "  </thead>\n",
       "  <tbody>\n",
       "    <tr>\n",
       "      <th>0</th>\n",
       "      <td>100</td>\n",
       "      <td>Iphone12</td>\n",
       "      <td>Iphone</td>\n",
       "      <td>25000</td>\n",
       "    </tr>\n",
       "    <tr>\n",
       "      <th>1</th>\n",
       "      <td>101</td>\n",
       "      <td>Iphone 12 Pro</td>\n",
       "      <td>Iphone</td>\n",
       "      <td>25000</td>\n",
       "    </tr>\n",
       "    <tr>\n",
       "      <th>2</th>\n",
       "      <td>102</td>\n",
       "      <td>vivo v20</td>\n",
       "      <td>Vivo</td>\n",
       "      <td>27000</td>\n",
       "    </tr>\n",
       "    <tr>\n",
       "      <th>3</th>\n",
       "      <td>103</td>\n",
       "      <td>Samsung S17</td>\n",
       "      <td>Samsung</td>\n",
       "      <td>56000</td>\n",
       "    </tr>\n",
       "    <tr>\n",
       "      <th>4</th>\n",
       "      <td>104</td>\n",
       "      <td>Oppo A12</td>\n",
       "      <td>Oppo</td>\n",
       "      <td>29000</td>\n",
       "    </tr>\n",
       "    <tr>\n",
       "      <th>5</th>\n",
       "      <td>105</td>\n",
       "      <td>Airtel F1</td>\n",
       "      <td>Airtel</td>\n",
       "      <td>28000</td>\n",
       "    </tr>\n",
       "    <tr>\n",
       "      <th>6</th>\n",
       "      <td>106</td>\n",
       "      <td>Nokia Q2</td>\n",
       "      <td>Nokia</td>\n",
       "      <td>27000</td>\n",
       "    </tr>\n",
       "    <tr>\n",
       "      <th>7</th>\n",
       "      <td>107</td>\n",
       "      <td>Alcatel G4</td>\n",
       "      <td>Alcatel</td>\n",
       "      <td>28000</td>\n",
       "    </tr>\n",
       "    <tr>\n",
       "      <th>8</th>\n",
       "      <td>108</td>\n",
       "      <td>Teckno P1</td>\n",
       "      <td>Teckno</td>\n",
       "      <td>66000</td>\n",
       "    </tr>\n",
       "    <tr>\n",
       "      <th>9</th>\n",
       "      <td>109</td>\n",
       "      <td>Iphone 13</td>\n",
       "      <td>Iphone</td>\n",
       "      <td>77000</td>\n",
       "    </tr>\n",
       "    <tr>\n",
       "      <th>10</th>\n",
       "      <td>110</td>\n",
       "      <td>Samsung S20</td>\n",
       "      <td>Samsung</td>\n",
       "      <td>67000</td>\n",
       "    </tr>\n",
       "    <tr>\n",
       "      <th>11</th>\n",
       "      <td>1011</td>\n",
       "      <td>vivo v20</td>\n",
       "      <td>Vivo</td>\n",
       "      <td>27000</td>\n",
       "    </tr>\n",
       "    <tr>\n",
       "      <th>12</th>\n",
       "      <td>1012</td>\n",
       "      <td>Samsung S17</td>\n",
       "      <td>Samsung</td>\n",
       "      <td>56000</td>\n",
       "    </tr>\n",
       "    <tr>\n",
       "      <th>13</th>\n",
       "      <td>1013</td>\n",
       "      <td>Oppo A12</td>\n",
       "      <td>Oppo</td>\n",
       "      <td>29000</td>\n",
       "    </tr>\n",
       "    <tr>\n",
       "      <th>14</th>\n",
       "      <td>1014</td>\n",
       "      <td>Airtel F1</td>\n",
       "      <td>Airtel</td>\n",
       "      <td>28000</td>\n",
       "    </tr>\n",
       "    <tr>\n",
       "      <th>15</th>\n",
       "      <td>1015</td>\n",
       "      <td>Nokia Q2</td>\n",
       "      <td>Nokia</td>\n",
       "      <td>27000</td>\n",
       "    </tr>\n",
       "    <tr>\n",
       "      <th>16</th>\n",
       "      <td>1016</td>\n",
       "      <td>Alcatel G4</td>\n",
       "      <td>Alcatel</td>\n",
       "      <td>28000</td>\n",
       "    </tr>\n",
       "    <tr>\n",
       "      <th>17</th>\n",
       "      <td>1017</td>\n",
       "      <td>Teckno P1</td>\n",
       "      <td>Teckno</td>\n",
       "      <td>66000</td>\n",
       "    </tr>\n",
       "    <tr>\n",
       "      <th>18</th>\n",
       "      <td>1018</td>\n",
       "      <td>Iphone 13</td>\n",
       "      <td>Iphone</td>\n",
       "      <td>77000</td>\n",
       "    </tr>\n",
       "    <tr>\n",
       "      <th>19</th>\n",
       "      <td>119</td>\n",
       "      <td>Samsung S20</td>\n",
       "      <td>Samsung</td>\n",
       "      <td>67000</td>\n",
       "    </tr>\n",
       "  </tbody>\n",
       "</table>\n",
       "</div>"
      ],
      "text/plain": [
       "    phone_id     phone_name phone_brand  phone_price\n",
       "0        100       Iphone12      Iphone        25000\n",
       "1        101  Iphone 12 Pro      Iphone        25000\n",
       "2        102       vivo v20        Vivo        27000\n",
       "3        103    Samsung S17     Samsung        56000\n",
       "4        104       Oppo A12        Oppo        29000\n",
       "5        105      Airtel F1      Airtel        28000\n",
       "6        106       Nokia Q2       Nokia        27000\n",
       "7        107     Alcatel G4     Alcatel        28000\n",
       "8        108      Teckno P1      Teckno        66000\n",
       "9        109      Iphone 13      Iphone        77000\n",
       "10       110    Samsung S20     Samsung        67000\n",
       "11      1011       vivo v20        Vivo        27000\n",
       "12      1012    Samsung S17     Samsung        56000\n",
       "13      1013       Oppo A12        Oppo        29000\n",
       "14      1014      Airtel F1      Airtel        28000\n",
       "15      1015       Nokia Q2       Nokia        27000\n",
       "16      1016     Alcatel G4     Alcatel        28000\n",
       "17      1017      Teckno P1      Teckno        66000\n",
       "18      1018      Iphone 13      Iphone        77000\n",
       "19       119    Samsung S20     Samsung        67000"
      ]
     },
     "execution_count": 97,
     "metadata": {},
     "output_type": "execute_result"
    }
   ],
   "source": [
    "data"
   ]
  },
  {
   "cell_type": "code",
   "execution_count": null,
   "id": "e3ed7273",
   "metadata": {},
   "outputs": [],
   "source": []
  }
 ],
 "metadata": {
  "kernelspec": {
   "display_name": "Python 3 (ipykernel)",
   "language": "python",
   "name": "python3"
  },
  "language_info": {
   "codemirror_mode": {
    "name": "ipython",
    "version": 3
   },
   "file_extension": ".py",
   "mimetype": "text/x-python",
   "name": "python",
   "nbconvert_exporter": "python",
   "pygments_lexer": "ipython3",
   "version": "3.9.7"
  }
 },
 "nbformat": 4,
 "nbformat_minor": 5
}
