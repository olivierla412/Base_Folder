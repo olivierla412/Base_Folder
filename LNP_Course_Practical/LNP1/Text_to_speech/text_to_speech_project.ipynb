{
 "cells": [
  {
   "cell_type": "markdown",
   "id": "e9d83800",
   "metadata": {},
   "source": [
    "## Text to Speech Project"
   ]
  },
  {
   "cell_type": "markdown",
   "id": "eb1b794f",
   "metadata": {},
   "source": [
    "Installation of the libraries"
   ]
  },
  {
   "cell_type": "code",
   "execution_count": 4,
   "id": "19743c9d",
   "metadata": {},
   "outputs": [],
   "source": [
    "#!pip install gTTS"
   ]
  },
  {
   "cell_type": "code",
   "execution_count": 8,
   "id": "080840af",
   "metadata": {},
   "outputs": [],
   "source": [
    "# import all the required module for text to speech conversion\n",
    "from gtts import gTTS\n",
    "\n",
    "# This module is imported so that we can play the coverted audio\n",
    "import os\n",
    "\n",
    "# The that you to convert to audio\n",
    "my_text = 'welcome to the course of machine learning with Oliver!'\n",
    "\n",
    "# Language in which you want convert\n",
    "language = 'en'\n",
    "\n",
    "# Passing the text and language to the engine,\n",
    "# here  we have marked slow = False. Which tells the module that the converted audio\n",
    "# should have high speed\n",
    "myobj = gTTS(text = my_text, lang = language, slow = False)\n",
    "\n",
    "# saving the converted audio in mp3 file named \"welcome\"\n",
    "myobj.save(\"welcome.mp3\")\n"
   ]
  },
  {
   "cell_type": "markdown",
   "id": "287b3b7d",
   "metadata": {},
   "source": [
    "## Using Fench language"
   ]
  },
  {
   "cell_type": "code",
   "execution_count": 10,
   "id": "f4e15046",
   "metadata": {},
   "outputs": [],
   "source": [
    "# import all the required module for text to speech conversion\n",
    "from gtts import gTTS\n",
    "\n",
    "# This module is imported so that we can play the coverted audio\n",
    "import os\n",
    "\n",
    "# The that you to convert to audio\n",
    "my_text = f'Bonjour, je suis Assie Houphouet OLivier, je suis vraiment heureux d\\'etre ici avec vous!'\n",
    "\n",
    "# Language in which you want convert\n",
    "language = 'fr'\n",
    "\n",
    "# Passing the text and language to the engine,\n",
    "# here  we have marked slow = False. Which tells the module that the converted audio\n",
    "# should have high speed\n",
    "myobj = gTTS(text = my_text, lang = language, slow = False,lang_check='male')\n",
    "\n",
    "# saving the converted audio in mp3 file named \"welcome\"\n",
    "myobj.save(\"Assie.mp3\")"
   ]
  },
  {
   "cell_type": "code",
   "execution_count": 11,
   "id": "cc2321ec",
   "metadata": {},
   "outputs": [],
   "source": [
    "i = 0\n",
    "array = []\n",
    "while i < 10:\n",
    "    array.append('applle moi Olivier la412!, merci')\n",
    "    i+=1\n",
    "    "
   ]
  },
  {
   "cell_type": "code",
   "execution_count": 12,
   "id": "a11d315a",
   "metadata": {},
   "outputs": [
    {
     "data": {
      "text/plain": [
       "['applle moi Olivier la412!, merci',\n",
       " 'applle moi Olivier la412!, merci',\n",
       " 'applle moi Olivier la412!, merci',\n",
       " 'applle moi Olivier la412!, merci',\n",
       " 'applle moi Olivier la412!, merci',\n",
       " 'applle moi Olivier la412!, merci',\n",
       " 'applle moi Olivier la412!, merci',\n",
       " 'applle moi Olivier la412!, merci',\n",
       " 'applle moi Olivier la412!, merci',\n",
       " 'applle moi Olivier la412!, merci']"
      ]
     },
     "execution_count": 12,
     "metadata": {},
     "output_type": "execute_result"
    }
   ],
   "source": [
    "array "
   ]
  },
  {
   "cell_type": "code",
   "execution_count": 13,
   "id": "604fd8b4",
   "metadata": {},
   "outputs": [],
   "source": [
    "text_ = ''.join(x for x in array)"
   ]
  },
  {
   "cell_type": "code",
   "execution_count": 44,
   "id": "5ed0eb9a",
   "metadata": {},
   "outputs": [],
   "source": [
    "Tata = \"J M S VOYAGE, NOS PRESTATION.\\\n",
    "- vente de billet d\\'avion. \\\n",
    "- assurance voyage. \\\n",
    "- circuit touristique. \\\n",
    "- reservation d\\'hotel. \\\n",
    "- sortie decouverte. \\\n",
    "- colonie de vaccance. \\\n",
    "-location de vehicule.\\\n",
    "- vente de billet de train. \\\n",
    "- contactes: \\\n",
    "- 05 46 86 09 49. \\\n",
    "- 07 07 54 86 26. \\\n",
    "- 01 40 98 50 26 . \\\n",
    "- Notre address eamil: .\\\n",
    "- juniormultiservicevoyage@gmail.com .\\\n",
    "- Nous somme situés á Grand Basam Carrefour Dialogue. \\\n",
    "- N'\\esitez pas a nous contacter.\\\n",
    "- et apple\""
   ]
  },
  {
   "cell_type": "code",
   "execution_count": 46,
   "id": "b8f15c5a",
   "metadata": {},
   "outputs": [],
   "source": [
    "or_text = 'Salut,je suis eau de mer'"
   ]
  },
  {
   "cell_type": "code",
   "execution_count": 47,
   "id": "2f0484cd",
   "metadata": {},
   "outputs": [],
   "source": [
    "# import all the required module for text to speech conversion\n",
    "from gtts import gTTS\n",
    "\n",
    "# This module is imported so that we can play the coverted audio\n",
    "import os\n",
    "\n",
    "# The that you to convert to audio\n",
    "#my_text = f'Bonjour, je suis Assie Houphouet OLivier, je suis vraiment heureux d\\'etre ici avec vous!'\n",
    "\n",
    "# Language in which you want convert\n",
    "language = 'fr'\n",
    "\n",
    "# Passing the text and language to the engine,\n",
    "# here  we have marked slow = False. Which tells the module that the converted audio\n",
    "# should have high speed\n",
    "myobj = gTTS(text = or_text, lang = language, slow = False,lang_check='male')\n",
    "\n",
    "# saving the converted audio in mp3 file named \"welcome\"\n",
    "myobj.save(\"eau.mp3\")"
   ]
  },
  {
   "cell_type": "code",
   "execution_count": null,
   "id": "cbb28665",
   "metadata": {},
   "outputs": [],
   "source": []
  }
 ],
 "metadata": {
  "kernelspec": {
   "display_name": "Python 3 (ipykernel)",
   "language": "python",
   "name": "python3"
  },
  "language_info": {
   "codemirror_mode": {
    "name": "ipython",
    "version": 3
   },
   "file_extension": ".py",
   "mimetype": "text/x-python",
   "name": "python",
   "nbconvert_exporter": "python",
   "pygments_lexer": "ipython3",
   "version": "3.9.7"
  }
 },
 "nbformat": 4,
 "nbformat_minor": 5
}
