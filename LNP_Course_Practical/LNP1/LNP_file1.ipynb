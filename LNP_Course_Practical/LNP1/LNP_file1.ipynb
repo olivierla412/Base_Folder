{
 "cells": [
  {
   "cell_type": "markdown",
   "id": "ca29555e",
   "metadata": {},
   "source": [
    "## String are arrays"
   ]
  },
  {
   "cell_type": "code",
   "execution_count": 4,
   "id": "3583627a",
   "metadata": {},
   "outputs": [],
   "source": [
    "## Get the character at the position 4(Here indexing start from 0)\n",
    "a = 'DATASET'"
   ]
  },
  {
   "cell_type": "code",
   "execution_count": 9,
   "id": "a1454162",
   "metadata": {},
   "outputs": [
    {
     "name": "stdout",
     "output_type": "stream",
     "text": [
      "SET\n"
     ]
    }
   ],
   "source": [
    "print(a[4:])"
   ]
  },
  {
   "cell_type": "markdown",
   "id": "9183b092",
   "metadata": {},
   "source": [
    "### STring method()"
   ]
  },
  {
   "cell_type": "markdown",
   "id": "b4000b7c",
   "metadata": {},
   "source": [
    "split()"
   ]
  },
  {
   "cell_type": "code",
   "execution_count": 11,
   "id": "cb3c80df",
   "metadata": {},
   "outputs": [
    {
     "name": "stdout",
     "output_type": "stream",
     "text": [
      "['Welcome dear', ' good day']\n"
     ]
    }
   ],
   "source": [
    "a = 'Welcome dear, good day'\n",
    "print(a.split(','))\n"
   ]
  },
  {
   "cell_type": "code",
   "execution_count": 12,
   "id": "896da038",
   "metadata": {},
   "outputs": [
    {
     "name": "stdout",
     "output_type": "stream",
     "text": [
      "['Welcome', 'dear,', 'good', 'day']\n"
     ]
    }
   ],
   "source": [
    "a = 'Welcome dear, good day'\n",
    "print(a.split())"
   ]
  },
  {
   "cell_type": "code",
   "execution_count": 15,
   "id": "3029a41c",
   "metadata": {},
   "outputs": [
    {
     "name": "stdout",
     "output_type": "stream",
     "text": [
      "['da', 'a ', 'es', '']\n"
     ]
    }
   ],
   "source": [
    "b = 'data test'\n",
    "print(b.split('t'))"
   ]
  },
  {
   "cell_type": "code",
   "execution_count": 17,
   "id": "c3cf3b95",
   "metadata": {},
   "outputs": [
    {
     "data": {
      "text/plain": [
       "['da', 'a ', 'es']"
      ]
     },
     "execution_count": 17,
     "metadata": {},
     "output_type": "execute_result"
    }
   ],
   "source": [
    "b = 'data test'\n",
    "b_ = b.split('t')\n",
    "b__ = [x for x in b_ if x!=''] \"\"\" Here we wanna get all token different to empty('')\"\"\"\n",
    "b__"
   ]
  },
  {
   "cell_type": "markdown",
   "id": "d0a5517b",
   "metadata": {},
   "source": [
    " replace()"
   ]
  },
  {
   "cell_type": "code",
   "execution_count": 14,
   "id": "2607983b",
   "metadata": {},
   "outputs": [
    {
     "name": "stdout",
     "output_type": "stream",
     "text": [
      "Wla412lcomla412 dla412ar, good day\n"
     ]
    }
   ],
   "source": [
    "a = 'Welcome dear, good day'\n",
    "print(a.replace('e','la412'))"
   ]
  },
  {
   "cell_type": "markdown",
   "id": "6f28e471",
   "metadata": {},
   "source": [
    "### String concatination\n"
   ]
  },
  {
   "cell_type": "code",
   "execution_count": 20,
   "id": "d46ae906",
   "metadata": {},
   "outputs": [
    {
     "name": "stdout",
     "output_type": "stream",
     "text": [
      "data test train\n"
     ]
    }
   ],
   "source": [
    "a = 'data test'\n",
    "b = 'train'\n",
    "print(a + ' ' + b)"
   ]
  },
  {
   "cell_type": "code",
   "execution_count": 22,
   "id": "992b99dd",
   "metadata": {},
   "outputs": [
    {
     "name": "stdout",
     "output_type": "stream",
     "text": [
      "data test train\n"
     ]
    }
   ],
   "source": [
    "a = 'data test'\n",
    "b = 'train'\n",
    "print(f'{a} {b}')"
   ]
  },
  {
   "cell_type": "markdown",
   "id": "517085a6",
   "metadata": {},
   "source": [
    "## Importing text"
   ]
  },
  {
   "cell_type": "markdown",
   "id": "23c297e5",
   "metadata": {},
   "source": [
    "#### step1 creating"
   ]
  },
  {
   "cell_type": "code",
   "execution_count": 27,
   "id": "6095f7a5",
   "metadata": {},
   "outputs": [],
   "source": [
    "file = open('dataset.txt','w+')"
   ]
  },
  {
   "cell_type": "markdown",
   "id": "86381c74",
   "metadata": {},
   "source": [
    "#### step2"
   ]
  },
  {
   "cell_type": "code",
   "execution_count": 29,
   "id": "a095b0d9",
   "metadata": {},
   "outputs": [],
   "source": [
    "for i in range(5):\n",
    "    file.write(\"Line no is %d\\r\\n\"%(i+1))\n",
    "    "
   ]
  },
  {
   "cell_type": "code",
   "execution_count": 30,
   "id": "335b0651",
   "metadata": {},
   "outputs": [],
   "source": [
    "file.close()"
   ]
  },
  {
   "cell_type": "code",
   "execution_count": 31,
   "id": "8f061415",
   "metadata": {},
   "outputs": [],
   "source": [
    "file = open('dataset.txt','w+')"
   ]
  },
  {
   "cell_type": "code",
   "execution_count": 33,
   "id": "7af473fb",
   "metadata": {},
   "outputs": [],
   "source": [
    "for i in range(5):\n",
    "    file.write(\"Line no is %d\\r\\n\"%(i+10))"
   ]
  },
  {
   "cell_type": "code",
   "execution_count": 34,
   "id": "fa81f641",
   "metadata": {},
   "outputs": [],
   "source": [
    "file.close()"
   ]
  },
  {
   "cell_type": "code",
   "execution_count": 35,
   "id": "0102516a",
   "metadata": {},
   "outputs": [],
   "source": [
    "file = open('dataset.txt','a')"
   ]
  },
  {
   "cell_type": "code",
   "execution_count": 36,
   "id": "658675af",
   "metadata": {},
   "outputs": [],
   "source": [
    "for i in range(5):\n",
    "    file.write(\"Line no is %d\\r\\n\"%(i+1))"
   ]
  },
  {
   "cell_type": "code",
   "execution_count": 37,
   "id": "15b4d5b9",
   "metadata": {},
   "outputs": [],
   "source": [
    "file.close()"
   ]
  },
  {
   "cell_type": "code",
   "execution_count": 40,
   "id": "af931ccc",
   "metadata": {},
   "outputs": [],
   "source": [
    "olive = open('k.txt','a+')"
   ]
  },
  {
   "cell_type": "code",
   "execution_count": 41,
   "id": "a0390cac",
   "metadata": {},
   "outputs": [],
   "source": [
    "for x in range(6):\n",
    "    olive.write(f'the file number is:{x+10}\\n')\n",
    "olive.close()    "
   ]
  },
  {
   "cell_type": "code",
   "execution_count": 47,
   "id": "99494ffb",
   "metadata": {},
   "outputs": [
    {
     "name": "stdout",
     "output_type": "stream",
     "text": [
      "the file number is:1the file number is:2the file number is:3the file number is:4the file number is:5the file number is:6the file number is:10\n",
      "the file number is:11\n",
      "the file number is:12\n",
      "the file number is:13\n",
      "the file number is:14\n",
      "the file number is:15\n",
      "\n"
     ]
    }
   ],
   "source": [
    "olive=open('k.txt','r')\n",
    "if olive.mode =='r':\n",
    "    content = olive.read()\n",
    "    print(content)\n",
    "    \n",
    "    "
   ]
  },
  {
   "cell_type": "code",
   "execution_count": 48,
   "id": "4849c690",
   "metadata": {},
   "outputs": [
    {
     "ename": "FileExistsError",
     "evalue": "[Errno 17] File exists: 'k.txt'",
     "output_type": "error",
     "traceback": [
      "\u001b[0;31m---------------------------------------------------------------------------\u001b[0m",
      "\u001b[0;31mFileExistsError\u001b[0m                           Traceback (most recent call last)",
      "\u001b[0;32m/var/folders/_1/66lm052n7y529trsmgljqf1h0000gn/T/ipykernel_24947/3283068824.py\u001b[0m in \u001b[0;36m<module>\u001b[0;34m\u001b[0m\n\u001b[0;32m----> 1\u001b[0;31m \u001b[0molive\u001b[0m \u001b[0;34m=\u001b[0m \u001b[0mopen\u001b[0m\u001b[0;34m(\u001b[0m\u001b[0;34m'k.txt'\u001b[0m\u001b[0;34m,\u001b[0m\u001b[0;34m'x'\u001b[0m\u001b[0;34m)\u001b[0m\u001b[0;34m\u001b[0m\u001b[0;34m\u001b[0m\u001b[0m\n\u001b[0m",
      "\u001b[0;31mFileExistsError\u001b[0m: [Errno 17] File exists: 'k.txt'"
     ]
    }
   ],
   "source": [
    "## x mode is always used to create a new file and if file exist oparation fails\n",
    "olive = open('k.txt','x')"
   ]
  },
  {
   "cell_type": "markdown",
   "id": "69e2e51c",
   "metadata": {},
   "source": [
    " b mode "
   ]
  },
  {
   "cell_type": "code",
   "execution_count": null,
   "id": "67b63a6c",
   "metadata": {},
   "outputs": [],
   "source": []
  },
  {
   "cell_type": "code",
   "execution_count": null,
   "id": "441b33b6",
   "metadata": {},
   "outputs": [],
   "source": []
  },
  {
   "cell_type": "markdown",
   "id": "ba7c03c5",
   "metadata": {},
   "source": [
    "## Text Pre-processing"
   ]
  },
  {
   "cell_type": "code",
   "execution_count": 55,
   "id": "e02616cb",
   "metadata": {},
   "outputs": [],
   "source": [
    "#!pip install nltk  "
   ]
  },
  {
   "cell_type": "code",
   "execution_count": 56,
   "id": "ee995819",
   "metadata": {},
   "outputs": [],
   "source": [
    "import nltk\n",
    "import string\n",
    "import re"
   ]
  },
  {
   "cell_type": "markdown",
   "id": "b4021d3f",
   "metadata": {},
   "source": [
    "#### Text lowercase"
   ]
  },
  {
   "cell_type": "code",
   "execution_count": 57,
   "id": "428ace8f",
   "metadata": {},
   "outputs": [],
   "source": [
    "def lowercase_text(text):\n",
    "    \"\"\"This function will get an argument which should a string and at end it will wi\n",
    "    convert the txt to oercase \"\"\"\n",
    "    return text.lower()"
   ]
  },
  {
   "cell_type": "code",
   "execution_count": 60,
   "id": "69748b66",
   "metadata": {},
   "outputs": [],
   "source": [
    "input_str = \"Good Morning Sir , Today is my BIRTHDAY!\\\n",
    "yes yes YES\""
   ]
  },
  {
   "cell_type": "code",
   "execution_count": 61,
   "id": "d86473d3",
   "metadata": {},
   "outputs": [
    {
     "data": {
      "text/plain": [
       "'good morning sir , today is my birthday!yes yes yes'"
      ]
     },
     "execution_count": 61,
     "metadata": {},
     "output_type": "execute_result"
    }
   ],
   "source": [
    "lowercase_text(input_str)"
   ]
  },
  {
   "cell_type": "markdown",
   "id": "4555deae",
   "metadata": {},
   "source": [
    "### Remove the Numbers"
   ]
  },
  {
   "cell_type": "code",
   "execution_count": 77,
   "id": "1a50f3c7",
   "metadata": {},
   "outputs": [],
   "source": [
    " # for remove all the numbers\n",
    "def remove_num(text):\n",
    "    \"\"\"This function will get an argument text which is string\n",
    "    text and it will remove all the numbers (digits)\"\"\"\n",
    "    \n",
    "    result = re.sub(r'\\d+', '', text)\n",
    "    \n",
    "    ''' sub means substitute\n",
    "    \\d it means anythings which is number\n",
    "    \\d+ it means anythings which is number but more than one number\n",
    "    \\D+ it means anythings which is NOT a number but more than one\n",
    "    '''\n",
    "    return result.strip()"
   ]
  },
  {
   "cell_type": "code",
   "execution_count": 78,
   "id": "29a1b77b",
   "metadata": {},
   "outputs": [],
   "source": [
    "input_str = \"  Good Morning Sir 9 , Today is my 44 BIRTHDAY!\\\n",
    "yes 78 yes 77 YES  \""
   ]
  },
  {
   "cell_type": "code",
   "execution_count": 79,
   "id": "b42c0f46",
   "metadata": {},
   "outputs": [
    {
     "data": {
      "text/plain": [
       "'Good Morning Sir  , Today is my  BIRTHDAY!yes  yes  YES'"
      ]
     },
     "execution_count": 79,
     "metadata": {},
     "output_type": "execute_result"
    }
   ],
   "source": [
    "remove_num(input_str)"
   ]
  },
  {
   "cell_type": "code",
   "execution_count": 82,
   "id": "8129baa9",
   "metadata": {},
   "outputs": [],
   "source": [
    "# for remove all the words\n",
    "def remove_words(text):\n",
    "    \"\"\"This function will get an argument text which is string\n",
    "    text and it will remove all the numbers (digits)\"\"\"\n",
    "    \n",
    "    result = re.sub(f'\\D+', '', text)\n",
    "    \n",
    "    ''' sub means substitute\n",
    "    \\d it means anythings which is number\n",
    "    \\d+ it means anythings which is number but more than one number\n",
    "    \\D+ it means anythings which is NOT a number but more than one\n",
    "    '''\n",
    "    return result.strip()"
   ]
  },
  {
   "cell_type": "code",
   "execution_count": 83,
   "id": "48ab8963",
   "metadata": {},
   "outputs": [
    {
     "data": {
      "text/plain": [
       "'9447877'"
      ]
     },
     "execution_count": 83,
     "metadata": {},
     "output_type": "execute_result"
    }
   ],
   "source": [
    "remove_words(input_str)"
   ]
  },
  {
   "cell_type": "code",
   "execution_count": 2,
   "id": "8311ee66",
   "metadata": {},
   "outputs": [],
   "source": [
    "#!pip install inflect"
   ]
  },
  {
   "cell_type": "code",
   "execution_count": 3,
   "id": "809e9c72",
   "metadata": {},
   "outputs": [],
   "source": [
    "import inflect\n",
    "\n",
    "p = inflect.engine()\n"
   ]
  },
  {
   "cell_type": "code",
   "execution_count": 10,
   "id": "019b141c",
   "metadata": {},
   "outputs": [
    {
     "name": "stdout",
     "output_type": "stream",
     "text": [
      "The plural of  coffee  is  coffees\n"
     ]
    }
   ],
   "source": [
    "# UNCONDITIONALLY FORM THE PLURAL\n",
    "\n",
    "word = 'coffee'\n",
    "print(\"The plural of \", word, \" is \", p.plural(word))"
   ]
  },
  {
   "cell_type": "code",
   "execution_count": 12,
   "id": "9fb4bfb1",
   "metadata": {},
   "outputs": [
    {
     "name": "stdout",
     "output_type": "stream",
     "text": [
      "it\n"
     ]
    }
   ],
   "source": [
    "# SELECT THE GENDER OF SINGULAR PRONOUNS\n",
    "\n",
    "\n",
    "print(p.singular_noun(\"they\"))  # 'it'"
   ]
  },
  {
   "cell_type": "code",
   "execution_count": null,
   "id": "d439f08f",
   "metadata": {},
   "outputs": [],
   "source": []
  },
  {
   "cell_type": "code",
   "execution_count": null,
   "id": "64ccf16f",
   "metadata": {},
   "outputs": [],
   "source": []
  }
 ],
 "metadata": {
  "kernelspec": {
   "display_name": "Python 3 (ipykernel)",
   "language": "python",
   "name": "python3"
  },
  "language_info": {
   "codemirror_mode": {
    "name": "ipython",
    "version": 3
   },
   "file_extension": ".py",
   "mimetype": "text/x-python",
   "name": "python",
   "nbconvert_exporter": "python",
   "pygments_lexer": "ipython3",
   "version": "3.9.7"
  }
 },
 "nbformat": 4,
 "nbformat_minor": 5
}
