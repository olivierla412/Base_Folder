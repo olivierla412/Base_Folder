{
 "cells": [
  {
   "cell_type": "markdown",
   "id": "ca29555e",
   "metadata": {},
   "source": [
    "## String are arrays"
   ]
  },
  {
   "cell_type": "code",
   "execution_count": 4,
   "id": "3583627a",
   "metadata": {},
   "outputs": [],
   "source": [
    "## Get the character at the position 4(Here indexing start from 0)\n",
    "a = 'DATASET'"
   ]
  },
  {
   "cell_type": "code",
   "execution_count": 9,
   "id": "a1454162",
   "metadata": {},
   "outputs": [
    {
     "name": "stdout",
     "output_type": "stream",
     "text": [
      "SET\n"
     ]
    }
   ],
   "source": [
    "print(a[4:])"
   ]
  },
  {
   "cell_type": "markdown",
   "id": "9183b092",
   "metadata": {},
   "source": [
    "### STring method()"
   ]
  },
  {
   "cell_type": "markdown",
   "id": "b4000b7c",
   "metadata": {},
   "source": [
    "split()"
   ]
  },
  {
   "cell_type": "code",
   "execution_count": 11,
   "id": "cb3c80df",
   "metadata": {},
   "outputs": [
    {
     "name": "stdout",
     "output_type": "stream",
     "text": [
      "['Welcome dear', ' good day']\n"
     ]
    }
   ],
   "source": [
    "a = 'Welcome dear, good day'\n",
    "print(a.split(','))\n"
   ]
  },
  {
   "cell_type": "code",
   "execution_count": 12,
   "id": "896da038",
   "metadata": {},
   "outputs": [
    {
     "name": "stdout",
     "output_type": "stream",
     "text": [
      "['Welcome', 'dear,', 'good', 'day']\n"
     ]
    }
   ],
   "source": [
    "a = 'Welcome dear, good day'\n",
    "print(a.split())"
   ]
  },
  {
   "cell_type": "code",
   "execution_count": 15,
   "id": "3029a41c",
   "metadata": {},
   "outputs": [
    {
     "name": "stdout",
     "output_type": "stream",
     "text": [
      "['da', 'a ', 'es', '']\n"
     ]
    }
   ],
   "source": [
    "b = 'data test'\n",
    "print(b.split('t'))"
   ]
  },
  {
   "cell_type": "code",
   "execution_count": 17,
   "id": "c3cf3b95",
   "metadata": {},
   "outputs": [
    {
     "data": {
      "text/plain": [
       "['da', 'a ', 'es']"
      ]
     },
     "execution_count": 17,
     "metadata": {},
     "output_type": "execute_result"
    }
   ],
   "source": [
    "b = 'data test'\n",
    "b_ = b.split('t')\n",
    "b__ = [x for x in b_ if x!=''] \"\"\" Here we wanna get all token different to empty('')\"\"\"\n",
    "b__"
   ]
  },
  {
   "cell_type": "markdown",
   "id": "d0a5517b",
   "metadata": {},
   "source": [
    " replace()"
   ]
  },
  {
   "cell_type": "code",
   "execution_count": 14,
   "id": "2607983b",
   "metadata": {},
   "outputs": [
    {
     "name": "stdout",
     "output_type": "stream",
     "text": [
      "Wla412lcomla412 dla412ar, good day\n"
     ]
    }
   ],
   "source": [
    "a = 'Welcome dear, good day'\n",
    "print(a.replace('e','la412'))"
   ]
  },
  {
   "cell_type": "markdown",
   "id": "6f28e471",
   "metadata": {},
   "source": [
    "### String concatination\n"
   ]
  },
  {
   "cell_type": "code",
   "execution_count": 20,
   "id": "d46ae906",
   "metadata": {},
   "outputs": [
    {
     "name": "stdout",
     "output_type": "stream",
     "text": [
      "data test train\n"
     ]
    }
   ],
   "source": [
    "a = 'data test'\n",
    "b = 'train'\n",
    "print(a + ' ' + b)"
   ]
  },
  {
   "cell_type": "code",
   "execution_count": 22,
   "id": "992b99dd",
   "metadata": {},
   "outputs": [
    {
     "name": "stdout",
     "output_type": "stream",
     "text": [
      "data test train\n"
     ]
    }
   ],
   "source": [
    "a = 'data test'\n",
    "b = 'train'\n",
    "print(f'{a} {b}')"
   ]
  },
  {
   "cell_type": "markdown",
   "id": "517085a6",
   "metadata": {},
   "source": [
    "## Importing text"
   ]
  },
  {
   "cell_type": "markdown",
   "id": "23c297e5",
   "metadata": {},
   "source": [
    "#### step1 creating"
   ]
  },
  {
   "cell_type": "code",
   "execution_count": 27,
   "id": "6095f7a5",
   "metadata": {},
   "outputs": [],
   "source": [
    "file = open('dataset.txt','w+')"
   ]
  },
  {
   "cell_type": "markdown",
   "id": "86381c74",
   "metadata": {},
   "source": [
    "#### step2"
   ]
  },
  {
   "cell_type": "code",
   "execution_count": 29,
   "id": "a095b0d9",
   "metadata": {},
   "outputs": [],
   "source": [
    "for i in range(5):\n",
    "    file.write(\"Line no is %d\\r\\n\"%(i+1))\n",
    "    "
   ]
  },
  {
   "cell_type": "code",
   "execution_count": 30,
   "id": "335b0651",
   "metadata": {},
   "outputs": [],
   "source": [
    "file.close()"
   ]
  },
  {
   "cell_type": "code",
   "execution_count": 31,
   "id": "8f061415",
   "metadata": {},
   "outputs": [],
   "source": [
    "file = open('dataset.txt','w+')"
   ]
  },
  {
   "cell_type": "code",
   "execution_count": 33,
   "id": "7af473fb",
   "metadata": {},
   "outputs": [],
   "source": [
    "for i in range(5):\n",
    "    file.write(\"Line no is %d\\r\\n\"%(i+10))"
   ]
  },
  {
   "cell_type": "code",
   "execution_count": 34,
   "id": "fa81f641",
   "metadata": {},
   "outputs": [],
   "source": [
    "file.close()"
   ]
  },
  {
   "cell_type": "code",
   "execution_count": 35,
   "id": "0102516a",
   "metadata": {},
   "outputs": [],
   "source": [
    "file = open('dataset.txt','a')"
   ]
  },
  {
   "cell_type": "code",
   "execution_count": 36,
   "id": "658675af",
   "metadata": {},
   "outputs": [],
   "source": [
    "for i in range(5):\n",
    "    file.write(\"Line no is %d\\r\\n\"%(i+1))"
   ]
  },
  {
   "cell_type": "code",
   "execution_count": 37,
   "id": "15b4d5b9",
   "metadata": {},
   "outputs": [],
   "source": [
    "file.close()"
   ]
  },
  {
   "cell_type": "code",
   "execution_count": 40,
   "id": "af931ccc",
   "metadata": {},
   "outputs": [],
   "source": [
    "olive = open('k.txt','a+')"
   ]
  },
  {
   "cell_type": "code",
   "execution_count": 41,
   "id": "a0390cac",
   "metadata": {},
   "outputs": [],
   "source": [
    "for x in range(6):\n",
    "    olive.write(f'the file number is:{x+10}\\n')\n",
    "olive.close()    "
   ]
  },
  {
   "cell_type": "code",
   "execution_count": 47,
   "id": "99494ffb",
   "metadata": {},
   "outputs": [
    {
     "name": "stdout",
     "output_type": "stream",
     "text": [
      "the file number is:1the file number is:2the file number is:3the file number is:4the file number is:5the file number is:6the file number is:10\n",
      "the file number is:11\n",
      "the file number is:12\n",
      "the file number is:13\n",
      "the file number is:14\n",
      "the file number is:15\n",
      "\n"
     ]
    }
   ],
   "source": [
    "olive=open('k.txt','r')\n",
    "if olive.mode =='r':\n",
    "    content = olive.read()\n",
    "    print(content)\n",
    "    \n",
    "    "
   ]
  },
  {
   "cell_type": "code",
   "execution_count": 48,
   "id": "4849c690",
   "metadata": {},
   "outputs": [
    {
     "ename": "FileExistsError",
     "evalue": "[Errno 17] File exists: 'k.txt'",
     "output_type": "error",
     "traceback": [
      "\u001b[0;31m---------------------------------------------------------------------------\u001b[0m",
      "\u001b[0;31mFileExistsError\u001b[0m                           Traceback (most recent call last)",
      "\u001b[0;32m/var/folders/_1/66lm052n7y529trsmgljqf1h0000gn/T/ipykernel_24947/3283068824.py\u001b[0m in \u001b[0;36m<module>\u001b[0;34m\u001b[0m\n\u001b[0;32m----> 1\u001b[0;31m \u001b[0molive\u001b[0m \u001b[0;34m=\u001b[0m \u001b[0mopen\u001b[0m\u001b[0;34m(\u001b[0m\u001b[0;34m'k.txt'\u001b[0m\u001b[0;34m,\u001b[0m\u001b[0;34m'x'\u001b[0m\u001b[0;34m)\u001b[0m\u001b[0;34m\u001b[0m\u001b[0;34m\u001b[0m\u001b[0m\n\u001b[0m",
      "\u001b[0;31mFileExistsError\u001b[0m: [Errno 17] File exists: 'k.txt'"
     ]
    }
   ],
   "source": [
    "## x mode is always used to create a new file and if file exist oparation fails\n",
    "olive = open('k.txt','x')"
   ]
  },
  {
   "cell_type": "markdown",
   "id": "69e2e51c",
   "metadata": {},
   "source": [
    " b mode "
   ]
  },
  {
   "cell_type": "code",
   "execution_count": null,
   "id": "67b63a6c",
   "metadata": {},
   "outputs": [],
   "source": []
  },
  {
   "cell_type": "code",
   "execution_count": null,
   "id": "441b33b6",
   "metadata": {},
   "outputs": [],
   "source": []
  },
  {
   "cell_type": "markdown",
   "id": "ba7c03c5",
   "metadata": {},
   "source": [
    "## Text Pre-processing"
   ]
  },
  {
   "cell_type": "code",
   "execution_count": 55,
   "id": "e02616cb",
   "metadata": {},
   "outputs": [],
   "source": [
    "#!pip install nltk  "
   ]
  },
  {
   "cell_type": "code",
   "execution_count": 22,
   "id": "ee995819",
   "metadata": {},
   "outputs": [],
   "source": [
    "import nltk\n",
    "import string\n",
    "import re"
   ]
  },
  {
   "cell_type": "markdown",
   "id": "b4021d3f",
   "metadata": {},
   "source": [
    "#### Text lowercase"
   ]
  },
  {
   "cell_type": "code",
   "execution_count": 57,
   "id": "428ace8f",
   "metadata": {},
   "outputs": [],
   "source": [
    "def lowercase_text(text):\n",
    "    \"\"\"This function will get an argument which should a string and at end it will wi\n",
    "    convert the txt to oercase \"\"\"\n",
    "    return text.lower()"
   ]
  },
  {
   "cell_type": "code",
   "execution_count": 60,
   "id": "69748b66",
   "metadata": {},
   "outputs": [],
   "source": [
    "input_str = \"Good Morning Sir , Today is my BIRTHDAY!\\\n",
    "yes yes YES\""
   ]
  },
  {
   "cell_type": "code",
   "execution_count": 61,
   "id": "d86473d3",
   "metadata": {},
   "outputs": [
    {
     "data": {
      "text/plain": [
       "'good morning sir , today is my birthday!yes yes yes'"
      ]
     },
     "execution_count": 61,
     "metadata": {},
     "output_type": "execute_result"
    }
   ],
   "source": [
    "lowercase_text(input_str)"
   ]
  },
  {
   "cell_type": "markdown",
   "id": "4555deae",
   "metadata": {},
   "source": [
    "### Remove the Numbers"
   ]
  },
  {
   "cell_type": "code",
   "execution_count": 77,
   "id": "1a50f3c7",
   "metadata": {},
   "outputs": [],
   "source": [
    " # for remove all the numbers\n",
    "def remove_num(text):\n",
    "    \"\"\"This function will get an argument text which is string\n",
    "    text and it will remove all the numbers (digits)\"\"\"\n",
    "    \n",
    "    result = re.sub(r'\\d+', '', text)\n",
    "    \n",
    "    ''' sub means substitute\n",
    "    \\d it means anythings which is number\n",
    "    \\d+ it means anythings which is number but more than one number\n",
    "    \\D+ it means anythings which is NOT a number but more than one\n",
    "    '''\n",
    "    return result.strip()"
   ]
  },
  {
   "cell_type": "code",
   "execution_count": 78,
   "id": "29a1b77b",
   "metadata": {},
   "outputs": [],
   "source": [
    "input_str = \"  Good Morning Sir 9 , Today is my 44 BIRTHDAY!\\\n",
    "yes 78 yes 77 YES  \""
   ]
  },
  {
   "cell_type": "code",
   "execution_count": 79,
   "id": "b42c0f46",
   "metadata": {},
   "outputs": [
    {
     "data": {
      "text/plain": [
       "'Good Morning Sir  , Today is my  BIRTHDAY!yes  yes  YES'"
      ]
     },
     "execution_count": 79,
     "metadata": {},
     "output_type": "execute_result"
    }
   ],
   "source": [
    "remove_num(input_str)"
   ]
  },
  {
   "cell_type": "code",
   "execution_count": 82,
   "id": "8129baa9",
   "metadata": {},
   "outputs": [],
   "source": [
    "# for remove all the words\n",
    "def remove_words(text):\n",
    "    \"\"\"This function will get an argument text which is string\n",
    "    text and it will remove all the numbers (digits)\"\"\"\n",
    "    \n",
    "    result = re.sub(f'\\D+', '', text)\n",
    "    \n",
    "    ''' sub means substitute\n",
    "    \\d it means anythings which is number\n",
    "    \\d+ it means anythings which is number but more than one number\n",
    "    \\D+ it means anythings which is NOT a number but more than one\n",
    "    '''\n",
    "    return result.strip()"
   ]
  },
  {
   "cell_type": "code",
   "execution_count": 83,
   "id": "48ab8963",
   "metadata": {},
   "outputs": [
    {
     "data": {
      "text/plain": [
       "'9447877'"
      ]
     },
     "execution_count": 83,
     "metadata": {},
     "output_type": "execute_result"
    }
   ],
   "source": [
    "remove_words(input_str)"
   ]
  },
  {
   "cell_type": "code",
   "execution_count": 2,
   "id": "8311ee66",
   "metadata": {},
   "outputs": [],
   "source": [
    "#!pip install inflect"
   ]
  },
  {
   "cell_type": "code",
   "execution_count": 1,
   "id": "809e9c72",
   "metadata": {},
   "outputs": [],
   "source": [
    "import inflect\n",
    "\n",
    "p = inflect.engine()\n"
   ]
  },
  {
   "cell_type": "code",
   "execution_count": 3,
   "id": "019b141c",
   "metadata": {},
   "outputs": [
    {
     "name": "stdout",
     "output_type": "stream",
     "text": [
      "The plural of  money  is  monies\n"
     ]
    }
   ],
   "source": [
    "# UNCONDITIONALLY FORM THE PLURAL\n",
    "\n",
    "word = 'money'\n",
    "print(\"The plural of \", word, \" is \", p.plural(word))"
   ]
  },
  {
   "cell_type": "code",
   "execution_count": 12,
   "id": "9fb4bfb1",
   "metadata": {},
   "outputs": [
    {
     "name": "stdout",
     "output_type": "stream",
     "text": [
      "it\n"
     ]
    }
   ],
   "source": [
    "# SELECT THE GENDER OF SINGULAR PRONOUNS\n",
    "\n",
    "\n",
    "print(p.singular_noun(\"they\"))  # 'it'"
   ]
  },
  {
   "cell_type": "code",
   "execution_count": 6,
   "id": "d439f08f",
   "metadata": {},
   "outputs": [],
   "source": [
    "\n",
    "def convert_num(text):\n",
    "    \"\"\" This function will convert number into text\"\"\"\n",
    "    # split strings into a list of texts\n",
    "    temp_string = text.split()\n",
    "    # Initialise empty list\n",
    "    new_str = []\n",
    "    for word in temp_string:\n",
    "        # if text is a digit , convert the digit\n",
    "        # to number and append into the new_str list\n",
    "        if word.isdigit():\n",
    "            temp = p.number_to_words(word)\n",
    "            new_str.append(temp)\n",
    "            \n",
    "        # append the text as it\n",
    "        else:\n",
    "            new_str.append(word)\n",
    "     # join the texts of new_str to form a string\n",
    "    temp_str = ' '.join(new_str)\n",
    "    return temp_str\n",
    "            \n",
    "    "
   ]
  },
  {
   "cell_type": "code",
   "execution_count": 9,
   "id": "64ccf16f",
   "metadata": {},
   "outputs": [
    {
     "data": {
      "text/plain": [
       "'You bough six candies from shop, and four cabdies are in home one'"
      ]
     },
     "execution_count": 9,
     "metadata": {},
     "output_type": "execute_result"
    }
   ],
   "source": [
    "convert_num('You bough 6 candies from shop, and 4 cabdies are in home 1')"
   ]
  },
  {
   "cell_type": "markdown",
   "id": "62f9381d",
   "metadata": {},
   "source": [
    "### Remove Punctuation"
   ]
  },
  {
   "cell_type": "code",
   "execution_count": 13,
   "id": "f2717d51",
   "metadata": {},
   "outputs": [],
   "source": [
    "import string"
   ]
  },
  {
   "cell_type": "code",
   "execution_count": 14,
   "id": "10f760d3",
   "metadata": {},
   "outputs": [],
   "source": [
    "# let's remove punctuation\n",
    "def rem_punct(text):\n",
    "    translator = str.maketrans(\"\",\"\", string.punctuation)\n",
    "    return text.translate(translator)"
   ]
  },
  {
   "cell_type": "code",
   "execution_count": 15,
   "id": "03e307ec",
   "metadata": {},
   "outputs": [],
   "source": [
    "input_text = \"Hey, Are you excited?? () , After a week, we will be in Abidjan\""
   ]
  },
  {
   "cell_type": "code",
   "execution_count": 16,
   "id": "e6e74560",
   "metadata": {},
   "outputs": [
    {
     "data": {
      "text/plain": [
       "'Hey Are you excited   After a week we will be in Abidjan'"
      ]
     },
     "execution_count": 16,
     "metadata": {},
     "output_type": "execute_result"
    }
   ],
   "source": [
    "rem_punct(input_text)"
   ]
  },
  {
   "cell_type": "code",
   "execution_count": 17,
   "id": "4fde9cf7",
   "metadata": {},
   "outputs": [
    {
     "data": {
      "text/plain": [
       "'!\"#$%&\\'()*+,-./:;<=>?@[\\\\]^_`{|}~'"
      ]
     },
     "execution_count": 17,
     "metadata": {},
     "output_type": "execute_result"
    }
   ],
   "source": [
    "string.punctuation"
   ]
  },
  {
   "cell_type": "markdown",
   "id": "b51d9ddb",
   "metadata": {},
   "source": [
    "### importing stopword libraries\n"
   ]
  },
  {
   "cell_type": "code",
   "execution_count": 25,
   "id": "a6ef6554",
   "metadata": {},
   "outputs": [],
   "source": [
    "from nltk.corpus import stopwords\n",
    "from nltk.tokenize import word_tokenize\n",
    "import nltk\n",
    "import string\n",
    "import re"
   ]
  },
  {
   "cell_type": "code",
   "execution_count": 27,
   "id": "eee87b0c",
   "metadata": {},
   "outputs": [
    {
     "name": "stderr",
     "output_type": "stream",
     "text": [
      "[nltk_data] Downloading package stopwords to\n",
      "[nltk_data]     /Users/oliverla412/nltk_data...\n",
      "[nltk_data]   Package stopwords is already up-to-date!\n",
      "[nltk_data] Downloading package punkt to\n",
      "[nltk_data]     /Users/oliverla412/nltk_data...\n",
      "[nltk_data]   Package punkt is already up-to-date!\n"
     ]
    },
    {
     "data": {
      "text/plain": [
       "True"
      ]
     },
     "execution_count": 27,
     "metadata": {},
     "output_type": "execute_result"
    }
   ],
   "source": [
    "nltk.download('stopwords')\n",
    "nltk.download('punkt')"
   ]
  },
  {
   "cell_type": "markdown",
   "id": "5a2fb2a7",
   "metadata": {},
   "source": [
    "###  tokenization"
   ]
  },
  {
   "cell_type": "code",
   "execution_count": 55,
   "id": "d659d6c1",
   "metadata": {},
   "outputs": [
    {
     "name": "stderr",
     "output_type": "stream",
     "text": [
      "[nltk_data] Downloading package punkt to\n",
      "[nltk_data]     /Users/oliverla412/nltk_data...\n",
      "[nltk_data]   Package punkt is already up-to-date!\n",
      "[nltk_data] Downloading package wordnet to\n",
      "[nltk_data]     /Users/oliverla412/nltk_data...\n",
      "[nltk_data]   Package wordnet is already up-to-date!\n"
     ]
    },
    {
     "data": {
      "text/plain": [
       "True"
      ]
     },
     "execution_count": 55,
     "metadata": {},
     "output_type": "execute_result"
    }
   ],
   "source": [
    "nltk.download('punkt')\n",
    "nltk.download('wordnet')"
   ]
  },
  {
   "cell_type": "code",
   "execution_count": 56,
   "id": "5f7c2c5a",
   "metadata": {},
   "outputs": [
    {
     "data": {
      "text/plain": [
       "['Hi', 'how', 'are', 'you', 'doing']"
      ]
     },
     "execution_count": 56,
     "metadata": {},
     "output_type": "execute_result"
    }
   ],
   "source": [
    "nltk.word_tokenize(\"Hi how are you doing\")"
   ]
  },
  {
   "cell_type": "markdown",
   "id": "d39da80d",
   "metadata": {},
   "source": [
    "## Removing stopwords"
   ]
  },
  {
   "cell_type": "code",
   "execution_count": 59,
   "id": "101783f5",
   "metadata": {},
   "outputs": [
    {
     "name": "stdout",
     "output_type": "stream",
     "text": [
      "['i', 'me', 'my', 'myself', 'we', 'our', 'ours', 'ourselves', 'you', \"you're\", \"you've\", \"you'll\", \"you'd\", 'your', 'yours', 'yourself', 'yourselves', 'he', 'him', 'his', 'himself', 'she', \"she's\", 'her', 'hers', 'herself', 'it', \"it's\", 'its', 'itself', 'they', 'them', 'their', 'theirs', 'themselves', 'what', 'which', 'who', 'whom', 'this', 'that', \"that'll\", 'these', 'those', 'am', 'is', 'are', 'was', 'were', 'be', 'been', 'being', 'have', 'has', 'had', 'having', 'do', 'does', 'did', 'doing', 'a', 'an', 'the', 'and', 'but', 'if', 'or', 'because', 'as', 'until', 'while', 'of', 'at', 'by', 'for', 'with', 'about', 'against', 'between', 'into', 'through', 'during', 'before', 'after', 'above', 'below', 'to', 'from', 'up', 'down', 'in', 'out', 'on', 'off', 'over', 'under', 'again', 'further', 'then', 'once', 'here', 'there', 'when', 'where', 'why', 'how', 'all', 'any', 'both', 'each', 'few', 'more', 'most', 'other', 'some', 'such', 'no', 'nor', 'not', 'only', 'own', 'same', 'so', 'than', 'too', 'very', 's', 't', 'can', 'will', 'just', 'don', \"don't\", 'should', \"should've\", 'now', 'd', 'll', 'm', 'o', 're', 've', 'y', 'ain', 'aren', \"aren't\", 'couldn', \"couldn't\", 'didn', \"didn't\", 'doesn', \"doesn't\", 'hadn', \"hadn't\", 'hasn', \"hasn't\", 'haven', \"haven't\", 'isn', \"isn't\", 'ma', 'mightn', \"mightn't\", 'mustn', \"mustn't\", 'needn', \"needn't\", 'shan', \"shan't\", 'shouldn', \"shouldn't\", 'wasn', \"wasn't\", 'weren', \"weren't\", 'won', \"won't\", 'wouldn', \"wouldn't\"]\n"
     ]
    }
   ],
   "source": [
    "from nltk.corpus import stopwords\n",
    "\n",
    "stop_words = stopwords.words('english')\n",
    "print(stop_words)"
   ]
  },
  {
   "cell_type": "code",
   "execution_count": null,
   "id": "a3d692dd",
   "metadata": {},
   "outputs": [],
   "source": []
  },
  {
   "cell_type": "code",
   "execution_count": 36,
   "id": "c0b3bc57",
   "metadata": {},
   "outputs": [],
   "source": [
    "# remove stopword function\n",
    "\n",
    "def rem_stopwords(text):\n",
    "    stop_words = set(stopwords.words('english'))\n",
    "    word_tokens = word_tokenize(text)\n",
    "    filtered_text = [word for word in word_tokens if word not in string.punctuation]\n",
    "    filtered_text = [word for word in filtered_text if word not in stop_words]\n",
    "    return filtered_text\n",
    "    \n",
    "    "
   ]
  },
  {
   "cell_type": "code",
   "execution_count": 37,
   "id": "f78abfdd",
   "metadata": {},
   "outputs": [],
   "source": [
    "ex_text = \"data is the new oil. A.I is the last invention\""
   ]
  },
  {
   "cell_type": "code",
   "execution_count": 39,
   "id": "7d8852c7",
   "metadata": {},
   "outputs": [
    {
     "data": {
      "text/plain": [
       "['data', 'new', 'oil', 'A.I', 'last', 'invention']"
      ]
     },
     "execution_count": 39,
     "metadata": {},
     "output_type": "execute_result"
    }
   ],
   "source": [
    "rem_stopwords(ex_text)"
   ]
  },
  {
   "cell_type": "markdown",
   "id": "8d00bf71",
   "metadata": {},
   "source": [
    "### Stemming"
   ]
  },
  {
   "cell_type": "code",
   "execution_count": 40,
   "id": "7cc5faa4",
   "metadata": {},
   "outputs": [],
   "source": [
    "from nltk.stem.porter import PorterStemmer\n",
    "from nltk.tokenize import word_tokenize\n"
   ]
  },
  {
   "cell_type": "code",
   "execution_count": 83,
   "id": "b9114d66",
   "metadata": {},
   "outputs": [],
   "source": [
    "stemmer = PorterStemmer()\n",
    "def s_words(text):\n",
    "    word_tokens = nltk.word_tokenize(text)\n",
    "    stems = [stemmer.stem(word) for word in word_tokens if word not in stop_words]\n",
    "    stems = [word for word in stems if word not in string.punctuation]\n",
    "    \n",
    "    return stems\n",
    "    "
   ]
  },
  {
   "cell_type": "code",
   "execution_count": 96,
   "id": "a41fe2f8",
   "metadata": {},
   "outputs": [],
   "source": [
    "text = 'Data and dataset are the new revolution in the world, () !!! in a day work today and working fuck pussy ass negro ..... .....'\n"
   ]
  },
  {
   "cell_type": "code",
   "execution_count": 97,
   "id": "54379ade",
   "metadata": {},
   "outputs": [],
   "source": [
    "sss = s_words(text)"
   ]
  },
  {
   "cell_type": "code",
   "execution_count": null,
   "id": "87f2e52f",
   "metadata": {},
   "outputs": [],
   "source": [
    "## lemmentization"
   ]
  },
  {
   "cell_type": "code",
   "execution_count": 91,
   "id": "459197b1",
   "metadata": {},
   "outputs": [],
   "source": [
    "bad_word = []\n",
    "for x in sss:\n",
    "    if x =='fuck':\n",
    "        bad_word.append(x)\n",
    "    elif x =='pussi':\n",
    "        bad_word.append(x)\n",
    "    else:\n",
    "        pass"
   ]
  },
  {
   "cell_type": "code",
   "execution_count": 92,
   "id": "f8875916",
   "metadata": {},
   "outputs": [
    {
     "data": {
      "text/plain": [
       "['fuck', 'pussi']"
      ]
     },
     "execution_count": 92,
     "metadata": {},
     "output_type": "execute_result"
    }
   ],
   "source": [
    "bad_word "
   ]
  },
  {
   "cell_type": "code",
   "execution_count": 98,
   "id": "89f9a51a",
   "metadata": {},
   "outputs": [],
   "source": [
    "bad_w = ['fuck','pussi','ass','ass','negro']\n",
    "t = [word for word in sss if word in bad_w]"
   ]
  },
  {
   "cell_type": "code",
   "execution_count": 99,
   "id": "575678a5",
   "metadata": {},
   "outputs": [
    {
     "data": {
      "text/plain": [
       "['fuck', 'pussi', 'ass', 'negro']"
      ]
     },
     "execution_count": 99,
     "metadata": {},
     "output_type": "execute_result"
    }
   ],
   "source": [
    "t"
   ]
  },
  {
   "cell_type": "markdown",
   "id": "aae254a7",
   "metadata": {},
   "source": [
    "## Lemmatization"
   ]
  },
  {
   "cell_type": "markdown",
   "id": "118bac35",
   "metadata": {},
   "source": [
    "Very efficient it reduce the words in dictionary way."
   ]
  },
  {
   "cell_type": "code",
   "execution_count": 107,
   "id": "bbf57e08",
   "metadata": {},
   "outputs": [],
   "source": [
    "from nltk.stem import WordNetLemmatizer\n",
    "\n"
   ]
  },
  {
   "cell_type": "code",
   "execution_count": 108,
   "id": "f0db4ef8",
   "metadata": {},
   "outputs": [],
   "source": [
    "lemmatizer = WordNetLemmatizer()\n",
    "def lemma(text):\n",
    "    word_tokens = nltk.word_tokenize(text)\n",
    "    lemmat = [lemmatizer.lemmatize(word) for word in word_tokens]\n",
    "    return lemmat"
   ]
  },
  {
   "cell_type": "code",
   "execution_count": 109,
   "id": "6b19ef68",
   "metadata": {},
   "outputs": [],
   "source": [
    "input_text = 'Data and dataset are the new revolution in the world, () !!! in a day work today and working fuck pussy ass negro ..... .....'\n"
   ]
  },
  {
   "cell_type": "code",
   "execution_count": 110,
   "id": "65a99a16",
   "metadata": {},
   "outputs": [
    {
     "data": {
      "text/plain": [
       "['Data',\n",
       " 'and',\n",
       " 'dataset',\n",
       " 'are',\n",
       " 'the',\n",
       " 'new',\n",
       " 'revolution',\n",
       " 'in',\n",
       " 'the',\n",
       " 'world',\n",
       " ',',\n",
       " '(',\n",
       " ')',\n",
       " '!',\n",
       " '!',\n",
       " '!',\n",
       " 'in',\n",
       " 'a',\n",
       " 'day',\n",
       " 'work',\n",
       " 'today',\n",
       " 'and',\n",
       " 'working',\n",
       " 'fuck',\n",
       " 'pussy',\n",
       " 'as',\n",
       " 'negro',\n",
       " '.....',\n",
       " '.....']"
      ]
     },
     "execution_count": 110,
     "metadata": {},
     "output_type": "execute_result"
    }
   ],
   "source": [
    "lemma(input_text)"
   ]
  },
  {
   "cell_type": "code",
   "execution_count": 112,
   "id": "7dd317b0",
   "metadata": {},
   "outputs": [],
   "source": [
    "lemmatizer = WordNetLemmatizer()\n",
    "def lemma_1(text):\n",
    "    word_tokens = nltk.word_tokenize(text)\n",
    "    lemmat = [lemmatizer.lemmatize(word) for word in word_tokens]\n",
    "    lemmat = [lemmatizer.lemmatize(word) for word in lemmat if word not in string.punctuation]\n",
    "    return lemmat"
   ]
  },
  {
   "cell_type": "code",
   "execution_count": 113,
   "id": "54b51360",
   "metadata": {},
   "outputs": [
    {
     "data": {
      "text/plain": [
       "['Data',\n",
       " 'and',\n",
       " 'dataset',\n",
       " 'are',\n",
       " 'the',\n",
       " 'new',\n",
       " 'revolution',\n",
       " 'in',\n",
       " 'the',\n",
       " 'world',\n",
       " 'in',\n",
       " 'a',\n",
       " 'day',\n",
       " 'work',\n",
       " 'today',\n",
       " 'and',\n",
       " 'working',\n",
       " 'fuck',\n",
       " 'pussy',\n",
       " 'a',\n",
       " 'negro',\n",
       " '.....',\n",
       " '.....']"
      ]
     },
     "execution_count": 113,
     "metadata": {},
     "output_type": "execute_result"
    }
   ],
   "source": [
    "lemma_1(input_text)"
   ]
  },
  {
   "cell_type": "code",
   "execution_count": 114,
   "id": "2b99a8c2",
   "metadata": {},
   "outputs": [],
   "source": [
    "lemmatizer = WordNetLemmatizer()\n",
    "def lemma_2(text):\n",
    "    word_tokens = nltk.word_tokenize(text)\n",
    "    lemmat = [lemmatizer.lemmatize(word) for word in word_tokens]\n",
    "    lemmat = [lemmatizer.lemmatize(word) for word in lemmat if word not in string.punctuation]\n",
    "    lemmat = [lemmatizer.lemmatize(word) for word in lemmat if word not in stopwords.words('english')]\n",
    "    return lemmat"
   ]
  },
  {
   "cell_type": "code",
   "execution_count": 116,
   "id": "dbb39fd1",
   "metadata": {},
   "outputs": [],
   "source": [
    "input_text = 'Data and dataset , mice , languages are the new revolution in the world, () !!! in a day work today and working fuck pussy ass negro ..... .....'\n"
   ]
  },
  {
   "cell_type": "code",
   "execution_count": 117,
   "id": "c400ea89",
   "metadata": {},
   "outputs": [
    {
     "data": {
      "text/plain": [
       "['Data',\n",
       " 'dataset',\n",
       " 'mouse',\n",
       " 'language',\n",
       " 'new',\n",
       " 'revolution',\n",
       " 'world',\n",
       " 'day',\n",
       " 'work',\n",
       " 'today',\n",
       " 'working',\n",
       " 'fuck',\n",
       " 'pussy',\n",
       " 'negro',\n",
       " '.....',\n",
       " '.....']"
      ]
     },
     "execution_count": 117,
     "metadata": {},
     "output_type": "execute_result"
    }
   ],
   "source": [
    "lemma_2(input_text)"
   ]
  },
  {
   "cell_type": "markdown",
   "id": "a22e6fd5",
   "metadata": {},
   "source": [
    "### sent_tokenize"
   ]
  },
  {
   "cell_type": "code",
   "execution_count": 124,
   "id": "cafdba8e",
   "metadata": {},
   "outputs": [],
   "source": [
    "## importing the libraries sentense tokenize\n",
    "\n",
    "from nltk.tokenize import sent_tokenize"
   ]
  },
  {
   "cell_type": "code",
   "execution_count": 130,
   "id": "fe3df59e",
   "metadata": {},
   "outputs": [],
   "source": [
    "input_text =\"--- Founded in 2002,Spance mission is to enable humans to become a sparefaring\\\n",
    ". I love really my city but I can say that there is improvement in ciy since 2016. I love my country\""
   ]
  },
  {
   "cell_type": "code",
   "execution_count": 131,
   "id": "706ed2d1",
   "metadata": {},
   "outputs": [
    {
     "data": {
      "text/plain": [
       "['--- Founded in 2002,Spance mission is to enable humans to become a sparefaring.',\n",
       " 'I love really my city but I can say that there is improvement in ciy since 2016.',\n",
       " 'I love my country']"
      ]
     },
     "execution_count": 131,
     "metadata": {},
     "output_type": "execute_result"
    }
   ],
   "source": [
    "sent_tokenize(input_text)"
   ]
  },
  {
   "cell_type": "markdown",
   "id": "ba618c0e",
   "metadata": {},
   "source": [
    "### Frequency Distribution"
   ]
  },
  {
   "cell_type": "code",
   "execution_count": 134,
   "id": "d4ef7b7d",
   "metadata": {},
   "outputs": [
    {
     "name": "stdout",
     "output_type": "stream",
     "text": [
      "*** Introductory Examples for the NLTK Book ***\n",
      "Loading text1, ..., text9 and sent1, ..., sent9\n",
      "Type the name of the text or sentence to view it.\n",
      "Type: 'texts()' or 'sents()' to list the materials.\n",
      "text1: Moby Dick by Herman Melville 1851\n",
      "text2: Sense and Sensibility by Jane Austen 1811\n",
      "text3: The Book of Genesis\n",
      "text4: Inaugural Address Corpus\n",
      "text5: Chat Corpus\n",
      "text6: Monty Python and the Holy Grail\n",
      "text7: Wall Street Journal\n",
      "text8: Personals Corpus\n",
      "text9: The Man Who Was Thursday by G . K . Chesterton 1908\n"
     ]
    }
   ],
   "source": [
    "from nltk.book import*"
   ]
  },
  {
   "cell_type": "code",
   "execution_count": 144,
   "id": "4cffdb7b",
   "metadata": {},
   "outputs": [
    {
     "name": "stdout",
     "output_type": "stream",
     "text": [
      "\n",
      "\n",
      "\n",
      "\n",
      "<FreqDist with 31 samples and 39 outcomes>\n",
      "\n",
      "\n",
      "\n",
      "\n"
     ]
    }
   ],
   "source": [
    "import nltk\n",
    "print('\\n\\n\\n')\n",
    "freqDistribution = nltk.FreqDist(word_tokenize(input_text))\n",
    "print(freqDistribution)\n",
    "print('\\n\\n\\n')"
   ]
  },
  {
   "cell_type": "code",
   "execution_count": 149,
   "id": "9024c934",
   "metadata": {},
   "outputs": [
    {
     "data": {
      "text/plain": [
       "2"
      ]
     },
     "execution_count": 149,
     "metadata": {},
     "output_type": "execute_result"
    }
   ],
   "source": [
    "## let's check the frequency distribution of \"to\"\n",
    "freqDistribution['to'] # using square bracket.\n"
   ]
  },
  {
   "cell_type": "code",
   "execution_count": 151,
   "id": "bb3f9220",
   "metadata": {},
   "outputs": [
    {
     "data": {
      "text/plain": [
       "1"
      ]
     },
     "execution_count": 151,
     "metadata": {},
     "output_type": "execute_result"
    }
   ],
   "source": [
    "## let's print the frequency distribution of humans\n",
    "freqDistribution['humans']"
   ]
  },
  {
   "cell_type": "code",
   "execution_count": 152,
   "id": "7c83f4ca",
   "metadata": {},
   "outputs": [
    {
     "data": {
      "text/plain": [
       "1"
      ]
     },
     "execution_count": 152,
     "metadata": {},
     "output_type": "execute_result"
    }
   ],
   "source": [
    "## ciry\n",
    "freqDistribution['city']"
   ]
  },
  {
   "cell_type": "markdown",
   "id": "6343c4f6",
   "metadata": {},
   "source": [
    "One the the most important function in __FreqDict__ is the keys() function"
   ]
  },
  {
   "cell_type": "code",
   "execution_count": 153,
   "id": "7c2fbf0d",
   "metadata": {},
   "outputs": [
    {
     "name": "stdout",
     "output_type": "stream",
     "text": [
      "<class 'dict_keys'>\n"
     ]
    }
   ],
   "source": [
    "words = freqDistribution.keys()\n",
    "print(type(words))"
   ]
  },
  {
   "cell_type": "code",
   "execution_count": 154,
   "id": "107ab829",
   "metadata": {},
   "outputs": [
    {
     "name": "stdout",
     "output_type": "stream",
     "text": [
      "dict_keys(['--', '-', 'Founded', 'in', '2002', ',', 'Spance', 'mission', 'is', 'to', 'enable', 'humans', 'become', 'a', 'sparefaring', '.', 'I', 'love', 'really', 'my', 'city', 'but', 'can', 'say', 'that', 'there', 'improvement', 'ciy', 'since', '2016', 'country'])\n"
     ]
    }
   ],
   "source": [
    "print(words)"
   ]
  },
  {
   "cell_type": "code",
   "execution_count": 155,
   "id": "62efdf32",
   "metadata": {},
   "outputs": [
    {
     "data": {
      "image/png": "[encoded data removed]",
      "text/plain": [
       "<Figure size 432x288 with 1 Axes>"
      ]
     },
     "metadata": {
      "needs_background": "light"
     },
     "output_type": "display_data"
    },
    {
     "data": {
      "text/plain": [
       "<AxesSubplot:xlabel='Samples', ylabel='Counts'>"
      ]
     },
     "execution_count": 155,
     "metadata": {},
     "output_type": "execute_result"
    }
   ],
   "source": [
    "freqDistribution.plot(15)"
   ]
  },
  {
   "cell_type": "markdown",
   "id": "463bf864",
   "metadata": {},
   "source": [
    "## Create a TextBlob\n",
    "\n",
    "first import the libraries"
   ]
  },
  {
   "cell_type": "code",
   "execution_count": 157,
   "id": "04d04904",
   "metadata": {},
   "outputs": [
    {
     "name": "stdout",
     "output_type": "stream",
     "text": [
      "Requirement already satisfied: textblob in /Library/Frameworks/Python.framework/Versions/3.9/lib/python3.9/site-packages (0.17.1)\r\n",
      "Requirement already satisfied: nltk>=3.1 in /Library/Frameworks/Python.framework/Versions/3.9/lib/python3.9/site-packages (from textblob) (3.6.3)\r\n",
      "Requirement already satisfied: regex in /Library/Frameworks/Python.framework/Versions/3.9/lib/python3.9/site-packages (from nltk>=3.1->textblob) (2021.9.30)\r\n",
      "Requirement already satisfied: click in /Library/Frameworks/Python.framework/Versions/3.9/lib/python3.9/site-packages (from nltk>=3.1->textblob) (8.0.1)\r\n",
      "Requirement already satisfied: tqdm in /Library/Frameworks/Python.framework/Versions/3.9/lib/python3.9/site-packages (from nltk>=3.1->textblob) (4.62.3)\r\n",
      "Requirement already satisfied: joblib in /Library/Frameworks/Python.framework/Versions/3.9/lib/python3.9/site-packages (from nltk>=3.1->textblob) (1.1.0)\r\n"
     ]
    }
   ],
   "source": [
    "!pip install textblob"
   ]
  },
  {
   "cell_type": "code",
   "execution_count": 158,
   "id": "f201f5a7",
   "metadata": {},
   "outputs": [],
   "source": [
    "from textblob import TextBlob"
   ]
  },
  {
   "cell_type": "markdown",
   "id": "666b1113",
   "metadata": {},
   "source": [
    "Let's create our first TextBlob"
   ]
  },
  {
   "cell_type": "code",
   "execution_count": 159,
   "id": "dbed8003",
   "metadata": {},
   "outputs": [],
   "source": [
    "wiki = TextBlob('I love natural  language processing, not you*')"
   ]
  },
  {
   "cell_type": "markdown",
   "id": "d0648b0c",
   "metadata": {},
   "source": [
    "### Part-of-speech(Post) Tagging"
   ]
  },
  {
   "cell_type": "markdown",
   "id": "d2d1a4ef",
   "metadata": {},
   "source": [
    "parts of speech tags can be accessed through the __tags__ properly"
   ]
  },
  {
   "cell_type": "code",
   "execution_count": 160,
   "id": "d0095a35",
   "metadata": {},
   "outputs": [
    {
     "data": {
      "text/plain": [
       "[('I', 'PRP'),\n",
       " ('love', 'VBP'),\n",
       " ('natural', 'JJ'),\n",
       " ('language', 'NN'),\n",
       " ('processing', 'NN'),\n",
       " ('not', 'RB'),\n",
       " ('you', 'PRP'),\n",
       " ('*', 'VBP')]"
      ]
     },
     "execution_count": 160,
     "metadata": {},
     "output_type": "execute_result"
    }
   ],
   "source": [
    "wiki.tags"
   ]
  },
  {
   "cell_type": "code",
   "execution_count": 162,
   "id": "40f0f6a5",
   "metadata": {},
   "outputs": [
    {
     "data": {
      "text/plain": [
       "'I'"
      ]
     },
     "execution_count": 162,
     "metadata": {},
     "output_type": "execute_result"
    }
   ],
   "source": [
    "wiki.tags[0][0]"
   ]
  },
  {
   "cell_type": "markdown",
   "id": "37f4722c",
   "metadata": {},
   "source": [
    "## Noum Phrase Extraction"
   ]
  },
  {
   "cell_type": "code",
   "execution_count": 163,
   "id": "245e9f77",
   "metadata": {},
   "outputs": [
    {
     "data": {
      "text/plain": [
       "WordList(['natural language processing'])"
      ]
     },
     "execution_count": 163,
     "metadata": {},
     "output_type": "execute_result"
    }
   ],
   "source": [
    "wiki.noun_phrases"
   ]
  },
  {
   "cell_type": "markdown",
   "id": "06b7558c",
   "metadata": {},
   "source": [
    "## Word Inflection and Lemmatization"
   ]
  },
  {
   "cell_type": "markdown",
   "id": "833bc8ae",
   "metadata": {},
   "source": [
    "Each word in the __TextBlob.words__ or __sentence.words__ is a __word__ object(a sublcass of unicode) with usefull method, e.g for word inflection"
   ]
  },
  {
   "cell_type": "markdown",
   "id": "dbd6081c",
   "metadata": {},
   "source": [
    "#### In flection = convert to into numbers and words"
   ]
  },
  {
   "cell_type": "code",
   "execution_count": 166,
   "id": "e4bbaa56",
   "metadata": {},
   "outputs": [
    {
     "data": {
      "text/plain": [
       "WordList(['Use', '4', 'spaces', 'per', 'indentation', 'level', '56', 'fast', 'than', 'the', 'first'])"
      ]
     },
     "execution_count": 166,
     "metadata": {},
     "output_type": "execute_result"
    }
   ],
   "source": [
    "sentence = TextBlob('Use 4 spaces per indentation level, 56 fast than the first')\n",
    "sentence.words"
   ]
  },
  {
   "cell_type": "code",
   "execution_count": 167,
   "id": "a68990d8",
   "metadata": {},
   "outputs": [
    {
     "name": "stdout",
     "output_type": "stream",
     "text": [
      "Use\n",
      "4\n",
      "space\n",
      "per\n",
      "indentation\n",
      "level\n",
      "56\n",
      "fast\n",
      "than\n",
      "the\n",
      "first\n"
     ]
    }
   ],
   "source": [
    "for x in sentence.words:\n",
    "    print(x.singularize())"
   ]
  },
  {
   "cell_type": "code",
   "execution_count": 168,
   "id": "7b242804",
   "metadata": {},
   "outputs": [],
   "source": [
    "singular =[]\n",
    "for x in sentence.words:\n",
    "    singular.append(x.singularize())"
   ]
  },
  {
   "cell_type": "code",
   "execution_count": 169,
   "id": "674c4187",
   "metadata": {},
   "outputs": [
    {
     "data": {
      "text/plain": [
       "['Use',\n",
       " '4',\n",
       " 'space',\n",
       " 'per',\n",
       " 'indentation',\n",
       " 'level',\n",
       " '56',\n",
       " 'fast',\n",
       " 'than',\n",
       " 'the',\n",
       " 'first']"
      ]
     },
     "execution_count": 169,
     "metadata": {},
     "output_type": "execute_result"
    }
   ],
   "source": [
    "singular"
   ]
  },
  {
   "cell_type": "code",
   "execution_count": 170,
   "id": "1c4d28a4",
   "metadata": {},
   "outputs": [],
   "source": [
    "plural_of_words =[]\n",
    "for x in sentence.words:\n",
    "    plural_of_words.append(x.pluralize())"
   ]
  },
  {
   "cell_type": "code",
   "execution_count": 171,
   "id": "8dd7f9cc",
   "metadata": {},
   "outputs": [
    {
     "data": {
      "text/plain": [
       "['Uses',\n",
       " '4s',\n",
       " 'spacess',\n",
       " 'pers',\n",
       " 'indentations',\n",
       " 'levels',\n",
       " '56s',\n",
       " 'fasts',\n",
       " 'thans',\n",
       " 'thes',\n",
       " 'firsts']"
      ]
     },
     "execution_count": 171,
     "metadata": {},
     "output_type": "execute_result"
    }
   ],
   "source": [
    "plural_of_words"
   ]
  },
  {
   "cell_type": "markdown",
   "id": "83f3f7bb",
   "metadata": {},
   "source": [
    "Words can be lemmatized just by calling the __lemmatize__ method"
   ]
  },
  {
   "cell_type": "code",
   "execution_count": 174,
   "id": "39586afb",
   "metadata": {},
   "outputs": [
    {
     "data": {
      "text/plain": [
       "'lion'"
      ]
     },
     "execution_count": 174,
     "metadata": {},
     "output_type": "execute_result"
    }
   ],
   "source": [
    "from textblob import Word\n",
    "q = Word('lions')\n",
    "q.lemmatize()"
   ]
  },
  {
   "cell_type": "code",
   "execution_count": 175,
   "id": "4cb86820",
   "metadata": {},
   "outputs": [
    {
     "data": {
      "text/plain": [
       "'have'"
      ]
     },
     "execution_count": 175,
     "metadata": {},
     "output_type": "execute_result"
    }
   ],
   "source": [
    "q = Word('had')\n",
    "q.lemmatize('v') # Pass in wordNet part of speech (verb)"
   ]
  },
  {
   "cell_type": "code",
   "execution_count": 176,
   "id": "ba6ff8ab",
   "metadata": {},
   "outputs": [
    {
     "data": {
      "text/plain": [
       "'go'"
      ]
     },
     "execution_count": 176,
     "metadata": {},
     "output_type": "execute_result"
    }
   ],
   "source": [
    "q = Word('went')\n",
    "q.lemmatize('v') # Pass in wordNet part of speech (verb)"
   ]
  },
  {
   "cell_type": "markdown",
   "id": "32d0b951",
   "metadata": {},
   "source": [
    "\n",
    "## WordList\n",
    "A wordlist is just Pytho list with additional methods.\n",
    "WordList will find it out the __words__ which are in the sentence and ignore the __spaces__ between them."
   ]
  },
  {
   "cell_type": "code",
   "execution_count": 180,
   "id": "65098b72",
   "metadata": {},
   "outputs": [
    {
     "data": {
      "text/plain": [
       "WordList(['cow', 'sheep', 'octopus', 'tog', 'cat'])"
      ]
     },
     "execution_count": 180,
     "metadata": {},
     "output_type": "execute_result"
    }
   ],
   "source": [
    "animals = TextBlob('cow sheep octopus tog cat')\n",
    "animals.words"
   ]
  },
  {
   "cell_type": "code",
   "execution_count": 181,
   "id": "73722f1e",
   "metadata": {},
   "outputs": [
    {
     "data": {
      "text/plain": [
       "WordList(['kine', 'sheep', 'octopodes', 'togs', 'cats'])"
      ]
     },
     "execution_count": 181,
     "metadata": {},
     "output_type": "execute_result"
    }
   ],
   "source": [
    "animals.words.pluralize() # It'll pluarlize the words"
   ]
  },
  {
   "cell_type": "markdown",
   "id": "d6806281",
   "metadata": {},
   "source": [
    "## Spelling Correction\n",
    "For correcting the words you can use correct method to attempt Spelling correction"
   ]
  },
  {
   "cell_type": "code",
   "execution_count": 182,
   "id": "93fb742a",
   "metadata": {},
   "outputs": [
    {
     "name": "stdout",
     "output_type": "stream",
     "text": [
      "An you pronounce czechoslovakia ?\n"
     ]
    }
   ],
   "source": [
    "g = TextBlob('Can you pronounce czechuslovakia ?')\n",
    "print(g.correct())"
   ]
  },
  {
   "cell_type": "markdown",
   "id": "eb99a0a5",
   "metadata": {},
   "source": [
    "Word object a __spellcheck() word.spellcheck()__\n",
    "This meyhod that returns a list of (word, confidence) tuples with spelling suggestions."
   ]
  },
  {
   "cell_type": "code",
   "execution_count": 183,
   "id": "9090bcc9",
   "metadata": {},
   "outputs": [
    {
     "data": {
      "text/plain": [
       "[('longitude', 1.0)]"
      ]
     },
     "execution_count": 183,
     "metadata": {},
     "output_type": "execute_result"
    }
   ],
   "source": [
    "from textblob import Word\n",
    "\n",
    "k = Word('longituode')\n",
    "k.spellcheck()"
   ]
  },
  {
   "cell_type": "markdown",
   "id": "59e47977",
   "metadata": {},
   "source": [
    "### Get Word and Noun Phrase Frequencies using TextBlob() method."
   ]
  },
  {
   "cell_type": "code",
   "execution_count": 185,
   "id": "8fdf0b2a",
   "metadata": {},
   "outputs": [
    {
     "data": {
      "text/plain": [
       "2"
      ]
     },
     "execution_count": 185,
     "metadata": {},
     "output_type": "execute_result"
    }
   ],
   "source": [
    "sent = TextBlob('She sales sea shells at the sea shore. ')\n",
    "sent.word_counts['sea']"
   ]
  },
  {
   "cell_type": "code",
   "execution_count": 188,
   "id": "f1435731",
   "metadata": {},
   "outputs": [
    {
     "data": {
      "text/plain": [
       "1"
      ]
     },
     "execution_count": 188,
     "metadata": {},
     "output_type": "execute_result"
    }
   ],
   "source": [
    "## or you can used\n",
    "sent.words.count('the')"
   ]
  },
  {
   "cell_type": "markdown",
   "id": "9174a87d",
   "metadata": {},
   "source": [
    "You can specify whether or not search should be case-sensitive(default is False)"
   ]
  },
  {
   "cell_type": "code",
   "execution_count": 189,
   "id": "5c326c70",
   "metadata": {},
   "outputs": [
    {
     "data": {
      "text/plain": [
       "0"
      ]
     },
     "execution_count": 189,
     "metadata": {},
     "output_type": "execute_result"
    }
   ],
   "source": [
    "sent.words.count('Sea',case_sensitive=True)"
   ]
  },
  {
   "cell_type": "markdown",
   "id": "ac46587c",
   "metadata": {},
   "source": [
    "### translate() method"
   ]
  },
  {
   "cell_type": "code",
   "execution_count": 191,
   "id": "f9525f69",
   "metadata": {},
   "outputs": [
    {
     "data": {
      "text/plain": [
       "TextBlob(\"Quelque chose c'est mieux que rien.\")"
      ]
     },
     "execution_count": 191,
     "metadata": {},
     "output_type": "execute_result"
    }
   ],
   "source": [
    "blob  = TextBlob('Something is better than nothing.')\n",
    "blob.translate(to='fr')"
   ]
  },
  {
   "cell_type": "markdown",
   "id": "945f7a60",
   "metadata": {},
   "source": [
    "### detect_language() method."
   ]
  },
  {
   "cell_type": "code",
   "execution_count": 192,
   "id": "f26d2126",
   "metadata": {},
   "outputs": [
    {
     "data": {
      "text/plain": [
       "'fr'"
      ]
     },
     "execution_count": 192,
     "metadata": {},
     "output_type": "execute_result"
    }
   ],
   "source": [
    "d = TextBlob('Je suis vraiment un homme heureux.')\n",
    "d.detect_language()"
   ]
  },
  {
   "cell_type": "markdown",
   "id": "f263f388",
   "metadata": {},
   "source": [
    "### n-grams"
   ]
  },
  {
   "cell_type": "markdown",
   "id": "164982e5",
   "metadata": {},
   "source": [
    "The TextBlob.ngrams() method returns a list of tuple  "
   ]
  },
  {
   "cell_type": "code",
   "execution_count": 194,
   "id": "cf3ee099",
   "metadata": {},
   "outputs": [
    {
     "data": {
      "text/plain": [
       "[WordList(['Now', 'is']),\n",
       " WordList(['is', 'better']),\n",
       " WordList(['better', 'than']),\n",
       " WordList(['than', 'never'])]"
      ]
     },
     "execution_count": 194,
     "metadata": {},
     "output_type": "execute_result"
    }
   ],
   "source": [
    "blob = TextBlob(\"Now is better than never\")\n",
    "blob.ngrams(n = 2)"
   ]
  },
  {
   "cell_type": "code",
   "execution_count": null,
   "id": "e08a2ad2",
   "metadata": {},
   "outputs": [],
   "source": []
  }
 ],
 "metadata": {
  "kernelspec": {
   "display_name": "Python 3 (ipykernel)",
   "language": "python",
   "name": "python3"
  },
  "language_info": {
   "codemirror_mode": {
    "name": "ipython",
    "version": 3
   },
   "file_extension": ".py",
   "mimetype": "text/x-python",
   "name": "python",
   "nbconvert_exporter": "python",
   "pygments_lexer": "ipython3",
   "version": "3.9.7"
  }
 },
 "nbformat": 4,
 "nbformat_minor": 5
}
