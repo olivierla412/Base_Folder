{
 "cells": [
  {
   "cell_type": "markdown",
   "id": "31ec04e9",
   "metadata": {},
   "source": [
    "# Optical Character Recognition Project."
   ]
  },
  {
   "cell_type": "markdown",
   "id": "0021e891",
   "metadata": {},
   "source": [
    "### Installation of the libraries"
   ]
  },
  {
   "cell_type": "code",
   "execution_count": null,
   "id": "9ee0ace9",
   "metadata": {},
   "outputs": [],
   "source": [
    "!pip install pytesseract\n",
    "!pip install pillow"
   ]
  },
  {
   "cell_type": "code",
   "execution_count": null,
   "id": "ffa11b0c",
   "metadata": {},
   "outputs": [],
   "source": [
    "!pip install tesseract"
   ]
  },
  {
   "cell_type": "code",
   "execution_count": null,
   "id": "109e2ed3",
   "metadata": {},
   "outputs": [],
   "source": [
    "from PIL import Image\n",
    "import pytesseract"
   ]
  },
  {
   "cell_type": "code",
   "execution_count": null,
   "id": "3fceecba",
   "metadata": {},
   "outputs": [],
   "source": [
    "#!pip install --user google-assistant-sdk[samples]"
   ]
  },
  {
   "cell_type": "code",
   "execution_count": null,
   "id": "6859cd70",
   "metadata": {},
   "outputs": [],
   "source": []
  },
  {
   "cell_type": "code",
   "execution_count": null,
   "id": "bb988d57",
   "metadata": {},
   "outputs": [],
   "source": [
    "def process_image(iamge_name, lang_code):\n",
    "    return pytesseract.image_to_string(Image.open(iamge_name), lang=lang_code)\n",
    "def print_data(data):\n",
    "    print(data)\n",
    "def main():\n",
    "    data_eng = process_image(\"image.png\", \"eng\")\n",
    "    print_data(data_eng)\n",
    "if  __name__ == \"__main__\":\n",
    "    main()"
   ]
  },
  {
   "cell_type": "code",
   "execution_count": 78,
   "id": "1f9777e7",
   "metadata": {},
   "outputs": [
    {
     "name": "stdout",
     "output_type": "stream",
     "text": [
      "\u001b[34mFlight_Price_prediction\u001b[m\u001b[m/      \u001b[34mLot\u001b[m\u001b[m/\r\n",
      "\u001b[34mIBM_Learning\u001b[m\u001b[m/                 \u001b[34mMaskRCNN\u001b[m\u001b[m/\r\n",
      "\u001b[34mImage_Classification_Project\u001b[m\u001b[m/ README.md\r\n",
      "\u001b[34mLNP_Course_Practical\u001b[m\u001b[m/         \u001b[34mRatings_Prediction\u001b[m\u001b[m/\r\n"
     ]
    }
   ],
   "source": [
    "ls"
   ]
  },
  {
   "cell_type": "code",
   "execution_count": 79,
   "id": "33ac7d40",
   "metadata": {},
   "outputs": [
    {
     "name": "stdout",
     "output_type": "stream",
     "text": [
      "/Users/oliverla412/Desktop/Place_project/Lot\n"
     ]
    }
   ],
   "source": [
    "cd Lot/"
   ]
  },
  {
   "cell_type": "code",
   "execution_count": 84,
   "id": "1392ef1c",
   "metadata": {},
   "outputs": [
    {
     "name": "stdout",
     "output_type": "stream",
     "text": [
      "Already up to date.\r\n"
     ]
    }
   ],
   "source": [
    "!git pull"
   ]
  },
  {
   "cell_type": "code",
   "execution_count": null,
   "id": "b7de56d5",
   "metadata": {},
   "outputs": [],
   "source": []
  },
  {
   "cell_type": "code",
   "execution_count": null,
   "id": "cac400b7",
   "metadata": {},
   "outputs": [],
   "source": []
  }
 ],
 "metadata": {
  "kernelspec": {
   "display_name": "Python 3 (ipykernel)",
   "language": "python",
   "name": "python3"
  },
  "language_info": {
   "codemirror_mode": {
    "name": "ipython",
    "version": 3
   },
   "file_extension": ".py",
   "mimetype": "text/x-python",
   "name": "python",
   "nbconvert_exporter": "python",
   "pygments_lexer": "ipython3",
   "version": "3.9.7"
  }
 },
 "nbformat": 4,
 "nbformat_minor": 5
}
