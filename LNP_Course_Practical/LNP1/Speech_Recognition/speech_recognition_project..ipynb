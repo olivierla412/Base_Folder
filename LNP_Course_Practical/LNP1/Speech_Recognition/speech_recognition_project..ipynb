{
 "cells": [
  {
   "cell_type": "markdown",
   "id": "d6205458",
   "metadata": {},
   "source": [
    "## Speech Recognition Project."
   ]
  },
  {
   "cell_type": "code",
   "execution_count": 27,
   "id": "f2a87cb7",
   "metadata": {},
   "outputs": [],
   "source": [
    "#!pip install SpeechRecognition pydub"
   ]
  },
  {
   "cell_type": "code",
   "execution_count": 28,
   "id": "837b2af2",
   "metadata": {},
   "outputs": [],
   "source": [
    "import speech_recognition as sr\n",
    "filename = \"Charles-Chaplin-speech.wav\""
   ]
  },
  {
   "cell_type": "code",
   "execution_count": 29,
   "id": "b0845576",
   "metadata": {},
   "outputs": [],
   "source": [
    "# Initialize the recognizer\n",
    "r = sr.Recognizer()"
   ]
  },
  {
   "cell_type": "code",
   "execution_count": 30,
   "id": "30a436da",
   "metadata": {},
   "outputs": [
    {
     "name": "stdout",
     "output_type": "stream",
     "text": [
      "I'm sorry I don't want to be in a that's not my business I don't want to rule or conquer anyone I should like to help everyone if possible to Gentile black man white we all want to help one another human being like that we want to live by each other's happiness\n"
     ]
    }
   ],
   "source": [
    "# open the file\n",
    "#with open(newfile, 'w')\n",
    "\n",
    "with sr.AudioFile(filename) as source:\n",
    "    # listen for the data ( load audio memory )\n",
    "    audio_data = r.record(source)\n",
    "    # recognize (convert from speech to text)\n",
    "    text = r.recognize_google(audio_data)\n",
    "    print(text)"
   ]
  },
  {
   "cell_type": "markdown",
   "id": "8bb0709e",
   "metadata": {},
   "source": [
    "### When we have an audio file which is more than 1 minutes"
   ]
  },
  {
   "cell_type": "code",
   "execution_count": 41,
   "id": "df834f10",
   "metadata": {},
   "outputs": [],
   "source": [
    "# inporting the libraries\n",
    "import speech_recognition as sr\n",
    "import os \n",
    "from pydub import AudioSegment\n",
    "from pydub.silence import split_on_silence\n"
   ]
  },
  {
   "cell_type": "code",
   "execution_count": 46,
   "id": "2314a796",
   "metadata": {},
   "outputs": [],
   "source": [
    "# create a speech recognition of object\n",
    "r = sr.Recognizer()\n",
    "# function that split the audio file into chunks\n",
    "# and applies speech recognition\n",
    "def get_large_audio_trascription(path):\n",
    "    '''\n",
    "    Splitting the large audio file into chunk\n",
    "    and apply speech recognition on each of these chunks\n",
    "    '''\n",
    "    # open the audio file using pydub\n",
    "    sound = AudioSegment.from_wav(path)\n",
    "    # split audio sound where silence is 700 miliseconds or more and get chunks\n",
    "    chunks = split_on_silence(sound,\n",
    "                             # experiment with this value for your target audio sound file\n",
    "                             min_silence_len=400,\n",
    "                              #adjust this per required\n",
    "                             silence_thresh=sound.dBFS-14,\n",
    "                             #keep the silence for 1 second, adjustable as well\n",
    "                             keep_silence=400\n",
    "                             )\n",
    "    folder_name = \"audio_chunks\"\n",
    "    # create a directory to store the audio chunks\n",
    "    if not os.path.isdir(folder_name):\n",
    "        os.mkdir(folder_name)\n",
    "        whole_text = \"\"\n",
    "        # process each chunk\n",
    "        for i, audio_chunk in enumerate(chunks, start=1):\n",
    "            # export audio_chunk and save it in \n",
    "            # 'folder_name' directory\n",
    "            chunk_filename = os.path.join(folder_name, f\"chunk{i}.wav\")\n",
    "            audio_chunk.export(chunk_filename, format =\"wav\")\n",
    "            with sr.AudioFile(chunk_filename) as souce:\n",
    "                audio_listened = r.record(souce)\n",
    "                # try converting it to text\n",
    "                try:\n",
    "                    text = r.recognize_google(audio_listened)\n",
    "                except sr.UnknownValueError as e:\n",
    "                    print('error:',str(e))\n",
    "                else:\n",
    "                    text = f\"{text.capitalize()}.\"\n",
    "                    print(chunk_filename, \":\", text)\n",
    "                    whole_text+= text\n",
    "    # return the text for all chunks detected                \n",
    "    return whole_text     \n",
    "            "
   ]
  },
  {
   "cell_type": "code",
   "execution_count": 47,
   "id": "893d7691",
   "metadata": {},
   "outputs": [
    {
     "name": "stdout",
     "output_type": "stream",
     "text": [
      "audio_chunks2/chunk1.wav : I'm sorry.\n",
      "audio_chunks2/chunk2.wav : I don't want to be.\n",
      "error: \n",
      "audio_chunks2/chunk4.wav : I don't want to rule or conquer.\n",
      "audio_chunks2/chunk5.wav : I should like to help everyone.\n",
      "audio_chunks2/chunk6.wav : Jew gentile.\n",
      "audio_chunks2/chunk7.wav : Black man fight.\n",
      "audio_chunks2/chunk8.wav : We all want to help one another.\n",
      "audio_chunks2/chunk9.wav : Human beings are like that.\n",
      "audio_chunks2/chunk10.wav : You want to live by each other's happiness not by each other.\n",
      "audio_chunks2/chunk11.wav : We don't want to hate and despise one another.\n",
      "audio_chunks2/chunk12.wav : This world has room for everyone is rich and can provide for everyone.\n",
      "audio_chunks2/chunk13.wav : The way of life can be free and beautiful.\n",
      "audio_chunks2/chunk14.wav : We have lost the way greed has poisoned been sold.\n",
      "audio_chunks2/chunk15.wav : Has barricaded the world with hate.\n",
      "audio_chunks2/chunk16.wav : Is goosed a person to misery and bloodshed we have developed speed but we have set ourselves in.\n",
      "audio_chunks2/chunk17.wav : Machinery that gives abundance has left.\n",
      "audio_chunks2/chunk18.wav : Knowledge has made us cynical our cleverness hard and unkind.\n",
      "audio_chunks2/chunk19.wav : I think too much fuel to little more machinery we need humanity we need kindness and gentleness without these qualities life would be violent nor will be lost the airplane on the radio has brought us closer together the very nature of these inventions cries out for the goodness in men cry.\n",
      "error: \n",
      "\n",
      "Full text: I'm sorry.I don't want to be.I don't want to rule or conquer.I should like to help everyone.Jew gentile.Black man fight.We all want to help one another.Human beings are like that.You want to live by each other's happiness not by each other.We don't want to hate and despise one another.This world has room for everyone is rich and can provide for everyone.The way of life can be free and beautiful.We have lost the way greed has poisoned been sold.Has barricaded the world with hate.Is goosed a person to misery and bloodshed we have developed speed but we have set ourselves in.Machinery that gives abundance has left.Knowledge has made us cynical our cleverness hard and unkind.I think too much fuel to little more machinery we need humanity we need kindness and gentleness without these qualities life would be violent nor will be lost the airplane on the radio has brought us closer together the very nature of these inventions cries out for the goodness in men cry.\n"
     ]
    }
   ],
   "source": [
    "## Running the program\n",
    "path = \"Charles-Chaplin-speech.wav\"\n",
    "print(f\"\\nFull text: {get_large_audio_trascription(path)}\")"
   ]
  },
  {
   "cell_type": "code",
   "execution_count": null,
   "id": "f2fdd9de",
   "metadata": {},
   "outputs": [],
   "source": []
  }
 ],
 "metadata": {
  "kernelspec": {
   "display_name": "Python 3 (ipykernel)",
   "language": "python",
   "name": "python3"
  },
  "language_info": {
   "codemirror_mode": {
    "name": "ipython",
    "version": 3
   },
   "file_extension": ".py",
   "mimetype": "text/x-python",
   "name": "python",
   "nbconvert_exporter": "python",
   "pygments_lexer": "ipython3",
   "version": "3.9.7"
  }
 },
 "nbformat": 4,
 "nbformat_minor": 5
}
