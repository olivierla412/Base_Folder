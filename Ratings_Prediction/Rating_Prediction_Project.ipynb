{
 "cells": [
  {
   "cell_type": "code",
   "execution_count": 12,
   "id": "2cb78c85",
   "metadata": {},
   "outputs": [],
   "source": [
    "#importing the libaries\n",
    "import pandas as pd\n",
    "import numpy as np\n",
    "import seaborn as sns\n",
    "import matplotlib.pyplot as plt\n",
    "%matplotlib inline\n",
    "import io\n",
    "import warnings\n",
    "warnings.filterwarnings('ignore')"
   ]
  },
  {
   "cell_type": "code",
   "execution_count": 7,
   "id": "cb25c655",
   "metadata": {},
   "outputs": [],
   "source": [
    "data = pd.read_csv('DATA.csv')"
   ]
  },
  {
   "cell_type": "code",
   "execution_count": 8,
   "id": "d5907666",
   "metadata": {},
   "outputs": [
    {
     "data": {
      "text/plain": [
       "(36048, 2)"
      ]
     },
     "execution_count": 8,
     "metadata": {},
     "output_type": "execute_result"
    }
   ],
   "source": [
    "## check the shape of our data\n",
    "data.shape"
   ]
  },
  {
   "cell_type": "code",
   "execution_count": 9,
   "id": "3d04b1b6",
   "metadata": {},
   "outputs": [
    {
     "data": {
      "text/html": [
       "<div>\n",
       "<style scoped>\n",
       "    .dataframe tbody tr th:only-of-type {\n",
       "        vertical-align: middle;\n",
       "    }\n",
       "\n",
       "    .dataframe tbody tr th {\n",
       "        vertical-align: top;\n",
       "    }\n",
       "\n",
       "    .dataframe thead th {\n",
       "        text-align: right;\n",
       "    }\n",
       "</style>\n",
       "<table border=\"1\" class=\"dataframe\">\n",
       "  <thead>\n",
       "    <tr style=\"text-align: right;\">\n",
       "      <th></th>\n",
       "      <th>Rating</th>\n",
       "      <th>Reviews</th>\n",
       "    </tr>\n",
       "  </thead>\n",
       "  <tbody>\n",
       "    <tr>\n",
       "      <th>0</th>\n",
       "      <td>5</td>\n",
       "      <td>Great Phone at this Price point. Superb cool D...</td>\n",
       "    </tr>\n",
       "    <tr>\n",
       "      <th>1</th>\n",
       "      <td>4</td>\n",
       "      <td>Good mobile poco m3\\nPros:\\nFullhd display,\\ns...</td>\n",
       "    </tr>\n",
       "    <tr>\n",
       "      <th>2</th>\n",
       "      <td>5</td>\n",
       "      <td>Good phone battery🔋 And camera This price poin...</td>\n",
       "    </tr>\n",
       "    <tr>\n",
       "      <th>3</th>\n",
       "      <td>5</td>\n",
       "      <td>U will never get this specs for this price...d...</td>\n",
       "    </tr>\n",
       "    <tr>\n",
       "      <th>4</th>\n",
       "      <td>5</td>\n",
       "      <td>One word review \" Value for Money\"\\nIt has the...</td>\n",
       "    </tr>\n",
       "  </tbody>\n",
       "</table>\n",
       "</div>"
      ],
      "text/plain": [
       "   Rating                                            Reviews\n",
       "0       5  Great Phone at this Price point. Superb cool D...\n",
       "1       4  Good mobile poco m3\\nPros:\\nFullhd display,\\ns...\n",
       "2       5  Good phone battery🔋 And camera This price poin...\n",
       "3       5  U will never get this specs for this price...d...\n",
       "4       5  One word review \" Value for Money\"\\nIt has the..."
      ]
     },
     "execution_count": 9,
     "metadata": {},
     "output_type": "execute_result"
    }
   ],
   "source": [
    "data.head()"
   ]
  },
  {
   "cell_type": "code",
   "execution_count": 11,
   "id": "8722175e",
   "metadata": {},
   "outputs": [
    {
     "data": {
      "text/plain": [
       "Rating     0\n",
       "Reviews    0\n",
       "dtype: int64"
      ]
     },
     "execution_count": 11,
     "metadata": {},
     "output_type": "execute_result"
    }
   ],
   "source": [
    "data.isnull().sum()"
   ]
  },
  {
   "cell_type": "markdown",
   "id": "fff7da2c",
   "metadata": {},
   "source": [
    "from the above verificaion we can see that there no missing values in our dataset"
   ]
  },
  {
   "cell_type": "markdown",
   "id": "3faf002a",
   "metadata": {},
   "source": [
    "## Text Preprocessing"
   ]
  },
  {
   "cell_type": "markdown",
   "id": "0df98bca",
   "metadata": {},
   "source": [
    "#### The preprocessing involves following changes on our dataset."
   ]
  },
  {
   "cell_type": "markdown",
   "id": "d413b146",
   "metadata": {},
   "source": [
    "1) URLs, as the people tend to spam the section with irrelevant urls, we need to get rid of those for better modelling.\n",
    "\n",
    "2) Numbers and Punctuation: We don't need those as they hardly add up any info in the end.\n",
    "\n",
    "3) Converting the text into lowercase as it will bring the uniform nature to it.\n",
    "\n",
    "4) Tokenize the data to:"
   ]
  },
  {
   "cell_type": "markdown",
   "id": "9d875068",
   "metadata": {},
   "source": [
    "i) Remove stopwords (The words which don't add up anymore than the rest.)\n",
    "\n",
    "ii) Stemming and Lammatization (Methods to reduce the noise and extra info from the data)\n",
    "\n",
    "iii) Remove the words having length <= 2"
   ]
  },
  {
   "cell_type": "markdown",
   "id": "8b27e787",
   "metadata": {},
   "source": [
    "5) Convert the list of tokens into back to the string"
   ]
  },
  {
   "cell_type": "markdown",
   "id": "349c4af7",
   "metadata": {},
   "source": [
    "### 1) Removing URLs"
   ]
  },
  {
   "cell_type": "code",
   "execution_count": 13,
   "id": "02669243",
   "metadata": {},
   "outputs": [],
   "source": [
    "import re\n",
    "\n",
    "def clean_url(review_text):\n",
    "    return re.sub(r'http\\S+', '', review_text) #The format of the websites are cliche, those can be removed if we figure how they are structured in general.\n",
    "\n",
    "data['cleanreview'] = data['Reviews'].apply(clean_url)"
   ]
  },
  {
   "cell_type": "code",
   "execution_count": 14,
   "id": "33ddc3ab",
   "metadata": {},
   "outputs": [
    {
     "data": {
      "text/plain": [
       "0        Great Phone at this Price point. Superb cool D...\n",
       "1        Good mobile poco m3\\nPros:\\nFullhd display,\\ns...\n",
       "2        Good phone battery🔋 And camera This price poin...\n",
       "3        U will never get this specs for this price...d...\n",
       "4        One word review \" Value for Money\"\\nIt has the...\n",
       "                               ...                        \n",
       "36043                            Very nice.quality product\n",
       "36044    Bad product. Not working after one month. Swit...\n",
       "36045                        it's beautiful. as I expected\n",
       "36046                     good quality. but it's too long.\n",
       "36047             gives a natural look, very good purchase\n",
       "Name: cleanreview, Length: 36048, dtype: object"
      ]
     },
     "execution_count": 14,
     "metadata": {},
     "output_type": "execute_result"
    }
   ],
   "source": [
    "data['cleanreview']"
   ]
  },
  {
   "cell_type": "markdown",
   "id": "5a22ae0a",
   "metadata": {},
   "source": [
    "### 2) Numbers and Punctuations off the data"
   ]
  },
  {
   "cell_type": "code",
   "execution_count": 16,
   "id": "70ce3298",
   "metadata": {},
   "outputs": [],
   "source": [
    "def cleandata(review_text):\n",
    "    return re.sub('[^a-zA-Z]', ' ', review_text) #It removes [!”#$%...] such punctuations and [0-9] numbers\n",
    "\n",
    "data['cleanreview'] = data['cleanreview'].apply(cleandata)"
   ]
  },
  {
   "cell_type": "markdown",
   "id": "97422e7b",
   "metadata": {},
   "source": [
    "### 3) Convert to LowerCase"
   ]
  },
  {
   "cell_type": "code",
   "execution_count": 19,
   "id": "8d7c5525",
   "metadata": {},
   "outputs": [],
   "source": [
    "def lowercase(review_text):\n",
    "    return str(review_text).lower()\n",
    "\n",
    "data['cleanreview'] = data['cleanreview'].apply(lowercase)"
   ]
  },
  {
   "cell_type": "code",
   "execution_count": 20,
   "id": "4391b63a",
   "metadata": {},
   "outputs": [
    {
     "data": {
      "text/plain": [
       "0        great phone at this price point  superb cool d...\n",
       "1        good mobile poco m  pros  fullhd display  smoo...\n",
       "2        good phone battery  and camera this price poin...\n",
       "3        u will never get this specs for this price   d...\n",
       "4        one word review   value for money  it has the ...\n",
       "                               ...                        \n",
       "36043                            very nice quality product\n",
       "36044    bad product  not working after one month  swit...\n",
       "36045                        it s beautiful  as i expected\n",
       "36046                     good quality  but it s too long \n",
       "36047             gives a natural look  very good purchase\n",
       "Name: cleanreview, Length: 36048, dtype: object"
      ]
     },
     "execution_count": 20,
     "metadata": {},
     "output_type": "execute_result"
    }
   ],
   "source": [
    "data['cleanreview']"
   ]
  },
  {
   "cell_type": "markdown",
   "id": "16ec4b9e",
   "metadata": {},
   "source": [
    "#### All the capital letters have been converted to lower case. Great."
   ]
  },
  {
   "cell_type": "code",
   "execution_count": 21,
   "id": "75a79019",
   "metadata": {},
   "outputs": [
    {
     "name": "stderr",
     "output_type": "stream",
     "text": [
      "[nltk_data] Downloading package punkt to\n",
      "[nltk_data]     /Users/oliverla412/nltk_data...\n",
      "[nltk_data]   Package punkt is already up-to-date!\n"
     ]
    },
    {
     "data": {
      "text/plain": [
       "True"
      ]
     },
     "execution_count": 21,
     "metadata": {},
     "output_type": "execute_result"
    }
   ],
   "source": [
    "## import Ntuaral language Toolkit\n",
    "\n",
    "import nltk\n",
    "nltk.download('punkt')"
   ]
  },
  {
   "cell_type": "markdown",
   "id": "cd4b4fbf",
   "metadata": {},
   "source": [
    "### 4) Tokenization"
   ]
  },
  {
   "cell_type": "code",
   "execution_count": 22,
   "id": "a3d208cd",
   "metadata": {},
   "outputs": [],
   "source": [
    "from nltk.tokenize import word_tokenize\n",
    "\n",
    "def token(review_text):\n",
    "    return word_tokenize(review_text)"
   ]
  },
  {
   "cell_type": "code",
   "execution_count": 23,
   "id": "b16866d3",
   "metadata": {},
   "outputs": [],
   "source": [
    "data['cleanreview'] = data['cleanreview'].apply(token)"
   ]
  },
  {
   "cell_type": "code",
   "execution_count": 24,
   "id": "c0b6bf40",
   "metadata": {},
   "outputs": [
    {
     "data": {
      "text/html": [
       "<div>\n",
       "<style scoped>\n",
       "    .dataframe tbody tr th:only-of-type {\n",
       "        vertical-align: middle;\n",
       "    }\n",
       "\n",
       "    .dataframe tbody tr th {\n",
       "        vertical-align: top;\n",
       "    }\n",
       "\n",
       "    .dataframe thead th {\n",
       "        text-align: right;\n",
       "    }\n",
       "</style>\n",
       "<table border=\"1\" class=\"dataframe\">\n",
       "  <thead>\n",
       "    <tr style=\"text-align: right;\">\n",
       "      <th></th>\n",
       "      <th>Rating</th>\n",
       "      <th>Reviews</th>\n",
       "      <th>cleanreview</th>\n",
       "    </tr>\n",
       "  </thead>\n",
       "  <tbody>\n",
       "    <tr>\n",
       "      <th>0</th>\n",
       "      <td>5</td>\n",
       "      <td>Great Phone at this Price point. Superb cool D...</td>\n",
       "      <td>[great, phone, at, this, price, point, superb,...</td>\n",
       "    </tr>\n",
       "    <tr>\n",
       "      <th>1</th>\n",
       "      <td>4</td>\n",
       "      <td>Good mobile poco m3\\nPros:\\nFullhd display,\\ns...</td>\n",
       "      <td>[good, mobile, poco, m, pros, fullhd, display,...</td>\n",
       "    </tr>\n",
       "    <tr>\n",
       "      <th>2</th>\n",
       "      <td>5</td>\n",
       "      <td>Good phone battery🔋 And camera This price poin...</td>\n",
       "      <td>[good, phone, battery, and, camera, this, pric...</td>\n",
       "    </tr>\n",
       "    <tr>\n",
       "      <th>3</th>\n",
       "      <td>5</td>\n",
       "      <td>U will never get this specs for this price...d...</td>\n",
       "      <td>[u, will, never, get, this, specs, for, this, ...</td>\n",
       "    </tr>\n",
       "    <tr>\n",
       "      <th>4</th>\n",
       "      <td>5</td>\n",
       "      <td>One word review \" Value for Money\"\\nIt has the...</td>\n",
       "      <td>[one, word, review, value, for, money, it, has...</td>\n",
       "    </tr>\n",
       "    <tr>\n",
       "      <th>...</th>\n",
       "      <td>...</td>\n",
       "      <td>...</td>\n",
       "      <td>...</td>\n",
       "    </tr>\n",
       "    <tr>\n",
       "      <th>36043</th>\n",
       "      <td>5</td>\n",
       "      <td>Very nice.quality product</td>\n",
       "      <td>[very, nice, quality, product]</td>\n",
       "    </tr>\n",
       "    <tr>\n",
       "      <th>36044</th>\n",
       "      <td>5</td>\n",
       "      <td>Bad product. Not working after one month. Swit...</td>\n",
       "      <td>[bad, product, not, working, after, one, month...</td>\n",
       "    </tr>\n",
       "    <tr>\n",
       "      <th>36045</th>\n",
       "      <td>5</td>\n",
       "      <td>it's beautiful. as I expected</td>\n",
       "      <td>[it, s, beautiful, as, i, expected]</td>\n",
       "    </tr>\n",
       "    <tr>\n",
       "      <th>36046</th>\n",
       "      <td>5</td>\n",
       "      <td>good quality. but it's too long.</td>\n",
       "      <td>[good, quality, but, it, s, too, long]</td>\n",
       "    </tr>\n",
       "    <tr>\n",
       "      <th>36047</th>\n",
       "      <td>5</td>\n",
       "      <td>gives a natural look, very good purchase</td>\n",
       "      <td>[gives, a, natural, look, very, good, purchase]</td>\n",
       "    </tr>\n",
       "  </tbody>\n",
       "</table>\n",
       "<p>36048 rows × 3 columns</p>\n",
       "</div>"
      ],
      "text/plain": [
       "       Rating                                            Reviews  \\\n",
       "0           5  Great Phone at this Price point. Superb cool D...   \n",
       "1           4  Good mobile poco m3\\nPros:\\nFullhd display,\\ns...   \n",
       "2           5  Good phone battery🔋 And camera This price poin...   \n",
       "3           5  U will never get this specs for this price...d...   \n",
       "4           5  One word review \" Value for Money\"\\nIt has the...   \n",
       "...       ...                                                ...   \n",
       "36043       5                          Very nice.quality product   \n",
       "36044       5  Bad product. Not working after one month. Swit...   \n",
       "36045       5                      it's beautiful. as I expected   \n",
       "36046       5                   good quality. but it's too long.   \n",
       "36047       5           gives a natural look, very good purchase   \n",
       "\n",
       "                                             cleanreview  \n",
       "0      [great, phone, at, this, price, point, superb,...  \n",
       "1      [good, mobile, poco, m, pros, fullhd, display,...  \n",
       "2      [good, phone, battery, and, camera, this, pric...  \n",
       "3      [u, will, never, get, this, specs, for, this, ...  \n",
       "4      [one, word, review, value, for, money, it, has...  \n",
       "...                                                  ...  \n",
       "36043                     [very, nice, quality, product]  \n",
       "36044  [bad, product, not, working, after, one, month...  \n",
       "36045                [it, s, beautiful, as, i, expected]  \n",
       "36046             [good, quality, but, it, s, too, long]  \n",
       "36047    [gives, a, natural, look, very, good, purchase]  \n",
       "\n",
       "[36048 rows x 3 columns]"
      ]
     },
     "execution_count": 24,
     "metadata": {},
     "output_type": "execute_result"
    }
   ],
   "source": [
    "data"
   ]
  },
  {
   "cell_type": "markdown",
   "id": "4622837f",
   "metadata": {},
   "source": [
    "#### We've split the cleanreview text into seperate words called as tokens as we can see above, great."
   ]
  },
  {
   "cell_type": "markdown",
   "id": "de2a7cd4",
   "metadata": {},
   "source": [
    "##### i) Removing Stopwords"
   ]
  },
  {
   "cell_type": "code",
   "execution_count": 25,
   "id": "03770b5f",
   "metadata": {},
   "outputs": [
    {
     "name": "stderr",
     "output_type": "stream",
     "text": [
      "[nltk_data] Downloading package stopwords to\n",
      "[nltk_data]     /Users/oliverla412/nltk_data...\n",
      "[nltk_data]   Unzipping corpora/stopwords.zip.\n"
     ]
    },
    {
     "data": {
      "text/plain": [
       "True"
      ]
     },
     "execution_count": 25,
     "metadata": {},
     "output_type": "execute_result"
    }
   ],
   "source": [
    "import nltk\n",
    "nltk.download('stopwords')"
   ]
  },
  {
   "cell_type": "code",
   "execution_count": 26,
   "id": "09b5f447",
   "metadata": {},
   "outputs": [],
   "source": [
    "from nltk.corpus import stopwords\n",
    "\n",
    "stop_words = set(stopwords.words('english'))\n",
    "\n",
    "def cleantext(token):\n",
    "    return [word for word in token if word not in stop_words]\n",
    "\n",
    "data['cleanreview'] = data['cleanreview'].apply(cleantext)"
   ]
  },
  {
   "cell_type": "code",
   "execution_count": 27,
   "id": "de332dc4",
   "metadata": {},
   "outputs": [
    {
     "data": {
      "text/plain": [
       "0        [great, phone, price, point, superb, cool, des...\n",
       "1        [good, mobile, poco, pros, fullhd, display, sm...\n",
       "2        [good, phone, battery, camera, price, point, g...\n",
       "3        [u, never, get, specs, price, decent, buy, pos...\n",
       "4        [one, word, review, value, money, potential, n...\n",
       "                               ...                        \n",
       "36043                             [nice, quality, product]\n",
       "36044    [bad, product, working, one, month, switch, qu...\n",
       "36045                                [beautiful, expected]\n",
       "36046                                [good, quality, long]\n",
       "36047               [gives, natural, look, good, purchase]\n",
       "Name: cleanreview, Length: 36048, dtype: object"
      ]
     },
     "execution_count": 27,
     "metadata": {},
     "output_type": "execute_result"
    }
   ],
   "source": [
    "data['cleanreview']"
   ]
  },
  {
   "cell_type": "markdown",
   "id": "ef460211",
   "metadata": {},
   "source": [
    "#### Now we have removed the stop words which don't extra meaning to the sentence"
   ]
  },
  {
   "cell_type": "markdown",
   "id": "5af7322e",
   "metadata": {},
   "source": [
    "### ii) Stemming and Lemmatization\n"
   ]
  },
  {
   "cell_type": "markdown",
   "id": "8dcc5489",
   "metadata": {},
   "source": [
    "To put things straight and simple:\n",
    "\n",
    "Stemming: It is a direct and raw process which does not go by the dictionary while it perfroms its action on the tokens. The processed tokens do not really mean anything in the end but it makes sure to rip the long words into short.\n",
    "\n",
    "Lemmatization: It is a time taking process but it is well composed and goes by the dictionary. Post-processed tokens do mean something in the end.\n",
    "\n",
    "We'd use Lemmatization as it yield a sensible and reilable result in the end comparatively."
   ]
  },
  {
   "cell_type": "code",
   "execution_count": 29,
   "id": "29e95520",
   "metadata": {},
   "outputs": [
    {
     "name": "stderr",
     "output_type": "stream",
     "text": [
      "[nltk_data] Downloading package wordnet to\n",
      "[nltk_data]     /Users/oliverla412/nltk_data...\n",
      "[nltk_data]   Package wordnet is already up-to-date!\n"
     ]
    },
    {
     "data": {
      "text/plain": [
       "True"
      ]
     },
     "execution_count": 29,
     "metadata": {},
     "output_type": "execute_result"
    }
   ],
   "source": [
    "import nltk\n",
    "nltk.download('wordnet')"
   ]
  },
  {
   "cell_type": "code",
   "execution_count": 30,
   "id": "6bde8cb2",
   "metadata": {},
   "outputs": [],
   "source": [
    "from nltk.stem import WordNetLemmatizer\n",
    "\n",
    "lemma = WordNetLemmatizer()\n",
    "\n",
    "def cleantext(token):\n",
    "    return [lemma.lemmatize(word = w, pos = 'v') for w in token] #POS = Parts of speach, 'v' = verb.\n",
    "\n",
    "data['cleanreview'] = data['cleanreview'].apply(cleantext)"
   ]
  },
  {
   "cell_type": "code",
   "execution_count": 31,
   "id": "d1808c4f",
   "metadata": {},
   "outputs": [
    {
     "data": {
      "text/html": [
       "<div>\n",
       "<style scoped>\n",
       "    .dataframe tbody tr th:only-of-type {\n",
       "        vertical-align: middle;\n",
       "    }\n",
       "\n",
       "    .dataframe tbody tr th {\n",
       "        vertical-align: top;\n",
       "    }\n",
       "\n",
       "    .dataframe thead th {\n",
       "        text-align: right;\n",
       "    }\n",
       "</style>\n",
       "<table border=\"1\" class=\"dataframe\">\n",
       "  <thead>\n",
       "    <tr style=\"text-align: right;\">\n",
       "      <th></th>\n",
       "      <th>Rating</th>\n",
       "      <th>Reviews</th>\n",
       "      <th>cleanreview</th>\n",
       "    </tr>\n",
       "  </thead>\n",
       "  <tbody>\n",
       "    <tr>\n",
       "      <th>0</th>\n",
       "      <td>5</td>\n",
       "      <td>Great Phone at this Price point. Superb cool D...</td>\n",
       "      <td>[great, phone, price, point, superb, cool, des...</td>\n",
       "    </tr>\n",
       "    <tr>\n",
       "      <th>1</th>\n",
       "      <td>4</td>\n",
       "      <td>Good mobile poco m3\\nPros:\\nFullhd display,\\ns...</td>\n",
       "      <td>[good, mobile, poco, pros, fullhd, display, sm...</td>\n",
       "    </tr>\n",
       "    <tr>\n",
       "      <th>2</th>\n",
       "      <td>5</td>\n",
       "      <td>Good phone battery🔋 And camera This price poin...</td>\n",
       "      <td>[good, phone, battery, camera, price, point, g...</td>\n",
       "    </tr>\n",
       "    <tr>\n",
       "      <th>3</th>\n",
       "      <td>5</td>\n",
       "      <td>U will never get this specs for this price...d...</td>\n",
       "      <td>[u, never, get, specs, price, decent, buy, pos...</td>\n",
       "    </tr>\n",
       "    <tr>\n",
       "      <th>4</th>\n",
       "      <td>5</td>\n",
       "      <td>One word review \" Value for Money\"\\nIt has the...</td>\n",
       "      <td>[one, word, review, value, money, potential, n...</td>\n",
       "    </tr>\n",
       "    <tr>\n",
       "      <th>...</th>\n",
       "      <td>...</td>\n",
       "      <td>...</td>\n",
       "      <td>...</td>\n",
       "    </tr>\n",
       "    <tr>\n",
       "      <th>36043</th>\n",
       "      <td>5</td>\n",
       "      <td>Very nice.quality product</td>\n",
       "      <td>[nice, quality, product]</td>\n",
       "    </tr>\n",
       "    <tr>\n",
       "      <th>36044</th>\n",
       "      <td>5</td>\n",
       "      <td>Bad product. Not working after one month. Swit...</td>\n",
       "      <td>[bad, product, work, one, month, switch, quali...</td>\n",
       "    </tr>\n",
       "    <tr>\n",
       "      <th>36045</th>\n",
       "      <td>5</td>\n",
       "      <td>it's beautiful. as I expected</td>\n",
       "      <td>[beautiful, expect]</td>\n",
       "    </tr>\n",
       "    <tr>\n",
       "      <th>36046</th>\n",
       "      <td>5</td>\n",
       "      <td>good quality. but it's too long.</td>\n",
       "      <td>[good, quality, long]</td>\n",
       "    </tr>\n",
       "    <tr>\n",
       "      <th>36047</th>\n",
       "      <td>5</td>\n",
       "      <td>gives a natural look, very good purchase</td>\n",
       "      <td>[give, natural, look, good, purchase]</td>\n",
       "    </tr>\n",
       "  </tbody>\n",
       "</table>\n",
       "<p>36048 rows × 3 columns</p>\n",
       "</div>"
      ],
      "text/plain": [
       "       Rating                                            Reviews  \\\n",
       "0           5  Great Phone at this Price point. Superb cool D...   \n",
       "1           4  Good mobile poco m3\\nPros:\\nFullhd display,\\ns...   \n",
       "2           5  Good phone battery🔋 And camera This price poin...   \n",
       "3           5  U will never get this specs for this price...d...   \n",
       "4           5  One word review \" Value for Money\"\\nIt has the...   \n",
       "...       ...                                                ...   \n",
       "36043       5                          Very nice.quality product   \n",
       "36044       5  Bad product. Not working after one month. Swit...   \n",
       "36045       5                      it's beautiful. as I expected   \n",
       "36046       5                   good quality. but it's too long.   \n",
       "36047       5           gives a natural look, very good purchase   \n",
       "\n",
       "                                             cleanreview  \n",
       "0      [great, phone, price, point, superb, cool, des...  \n",
       "1      [good, mobile, poco, pros, fullhd, display, sm...  \n",
       "2      [good, phone, battery, camera, price, point, g...  \n",
       "3      [u, never, get, specs, price, decent, buy, pos...  \n",
       "4      [one, word, review, value, money, potential, n...  \n",
       "...                                                  ...  \n",
       "36043                           [nice, quality, product]  \n",
       "36044  [bad, product, work, one, month, switch, quali...  \n",
       "36045                                [beautiful, expect]  \n",
       "36046                              [good, quality, long]  \n",
       "36047              [give, natural, look, good, purchase]  \n",
       "\n",
       "[36048 rows x 3 columns]"
      ]
     },
     "execution_count": 31,
     "metadata": {},
     "output_type": "execute_result"
    }
   ],
   "source": [
    "data"
   ]
  },
  {
   "cell_type": "markdown",
   "id": "ec14ef29",
   "metadata": {},
   "source": [
    "The column 'cleanreview' clearly got rid of the words which are nothing but a burden. Now it only has which makes sense."
   ]
  },
  {
   "cell_type": "markdown",
   "id": "b52e35c0",
   "metadata": {},
   "source": [
    "### iii) Remove the words having length <= 2"
   ]
  },
  {
   "cell_type": "markdown",
   "id": "e89e8d41",
   "metadata": {},
   "source": [
    "There is a chance of having a single letter like 'a', 'I'.. which donot add up much in the end"
   ]
  },
  {
   "cell_type": "code",
   "execution_count": 32,
   "id": "9aceb642",
   "metadata": {},
   "outputs": [],
   "source": [
    "def clean_length(token):\n",
    "    return [word for word in token if len(word)>2]\n",
    "\n",
    "data['cleanreview'] = data['cleanreview'].apply(clean_length)"
   ]
  },
  {
   "cell_type": "code",
   "execution_count": 33,
   "id": "7ffc248e",
   "metadata": {},
   "outputs": [
    {
     "data": {
      "text/html": [
       "<div>\n",
       "<style scoped>\n",
       "    .dataframe tbody tr th:only-of-type {\n",
       "        vertical-align: middle;\n",
       "    }\n",
       "\n",
       "    .dataframe tbody tr th {\n",
       "        vertical-align: top;\n",
       "    }\n",
       "\n",
       "    .dataframe thead th {\n",
       "        text-align: right;\n",
       "    }\n",
       "</style>\n",
       "<table border=\"1\" class=\"dataframe\">\n",
       "  <thead>\n",
       "    <tr style=\"text-align: right;\">\n",
       "      <th></th>\n",
       "      <th>Rating</th>\n",
       "      <th>Reviews</th>\n",
       "      <th>cleanreview</th>\n",
       "    </tr>\n",
       "  </thead>\n",
       "  <tbody>\n",
       "    <tr>\n",
       "      <th>0</th>\n",
       "      <td>5</td>\n",
       "      <td>Great Phone at this Price point. Superb cool D...</td>\n",
       "      <td>[great, phone, price, point, superb, cool, des...</td>\n",
       "    </tr>\n",
       "    <tr>\n",
       "      <th>1</th>\n",
       "      <td>4</td>\n",
       "      <td>Good mobile poco m3\\nPros:\\nFullhd display,\\ns...</td>\n",
       "      <td>[good, mobile, poco, pros, fullhd, display, sm...</td>\n",
       "    </tr>\n",
       "    <tr>\n",
       "      <th>2</th>\n",
       "      <td>5</td>\n",
       "      <td>Good phone battery🔋 And camera This price poin...</td>\n",
       "      <td>[good, phone, battery, camera, price, point, g...</td>\n",
       "    </tr>\n",
       "    <tr>\n",
       "      <th>3</th>\n",
       "      <td>5</td>\n",
       "      <td>U will never get this specs for this price...d...</td>\n",
       "      <td>[never, get, specs, price, decent, buy, positi...</td>\n",
       "    </tr>\n",
       "    <tr>\n",
       "      <th>4</th>\n",
       "      <td>5</td>\n",
       "      <td>One word review \" Value for Money\"\\nIt has the...</td>\n",
       "      <td>[one, word, review, value, money, potential, n...</td>\n",
       "    </tr>\n",
       "    <tr>\n",
       "      <th>...</th>\n",
       "      <td>...</td>\n",
       "      <td>...</td>\n",
       "      <td>...</td>\n",
       "    </tr>\n",
       "    <tr>\n",
       "      <th>36043</th>\n",
       "      <td>5</td>\n",
       "      <td>Very nice.quality product</td>\n",
       "      <td>[nice, quality, product]</td>\n",
       "    </tr>\n",
       "    <tr>\n",
       "      <th>36044</th>\n",
       "      <td>5</td>\n",
       "      <td>Bad product. Not working after one month. Swit...</td>\n",
       "      <td>[bad, product, work, one, month, switch, quali...</td>\n",
       "    </tr>\n",
       "    <tr>\n",
       "      <th>36045</th>\n",
       "      <td>5</td>\n",
       "      <td>it's beautiful. as I expected</td>\n",
       "      <td>[beautiful, expect]</td>\n",
       "    </tr>\n",
       "    <tr>\n",
       "      <th>36046</th>\n",
       "      <td>5</td>\n",
       "      <td>good quality. but it's too long.</td>\n",
       "      <td>[good, quality, long]</td>\n",
       "    </tr>\n",
       "    <tr>\n",
       "      <th>36047</th>\n",
       "      <td>5</td>\n",
       "      <td>gives a natural look, very good purchase</td>\n",
       "      <td>[give, natural, look, good, purchase]</td>\n",
       "    </tr>\n",
       "  </tbody>\n",
       "</table>\n",
       "<p>36048 rows × 3 columns</p>\n",
       "</div>"
      ],
      "text/plain": [
       "       Rating                                            Reviews  \\\n",
       "0           5  Great Phone at this Price point. Superb cool D...   \n",
       "1           4  Good mobile poco m3\\nPros:\\nFullhd display,\\ns...   \n",
       "2           5  Good phone battery🔋 And camera This price poin...   \n",
       "3           5  U will never get this specs for this price...d...   \n",
       "4           5  One word review \" Value for Money\"\\nIt has the...   \n",
       "...       ...                                                ...   \n",
       "36043       5                          Very nice.quality product   \n",
       "36044       5  Bad product. Not working after one month. Swit...   \n",
       "36045       5                      it's beautiful. as I expected   \n",
       "36046       5                   good quality. but it's too long.   \n",
       "36047       5           gives a natural look, very good purchase   \n",
       "\n",
       "                                             cleanreview  \n",
       "0      [great, phone, price, point, superb, cool, des...  \n",
       "1      [good, mobile, poco, pros, fullhd, display, sm...  \n",
       "2      [good, phone, battery, camera, price, point, g...  \n",
       "3      [never, get, specs, price, decent, buy, positi...  \n",
       "4      [one, word, review, value, money, potential, n...  \n",
       "...                                                  ...  \n",
       "36043                           [nice, quality, product]  \n",
       "36044  [bad, product, work, one, month, switch, quali...  \n",
       "36045                                [beautiful, expect]  \n",
       "36046                              [good, quality, long]  \n",
       "36047              [give, natural, look, good, purchase]  \n",
       "\n",
       "[36048 rows x 3 columns]"
      ]
     },
     "execution_count": 33,
     "metadata": {},
     "output_type": "execute_result"
    }
   ],
   "source": [
    "data"
   ]
  },
  {
   "cell_type": "markdown",
   "id": "6d752994",
   "metadata": {},
   "source": [
    "### 5) Snitching the tokens back to the string"
   ]
  },
  {
   "cell_type": "code",
   "execution_count": 34,
   "id": "193081b5",
   "metadata": {},
   "outputs": [],
   "source": [
    "## let's drop Review column first\n",
    "\n",
    "\n",
    "data.drop(['Reviews'], axis = 1, inplace = True)"
   ]
  },
  {
   "cell_type": "markdown",
   "id": "ef43c4ab",
   "metadata": {},
   "source": [
    "We've removed the raw 'Review' column to model the rest of the data."
   ]
  },
  {
   "cell_type": "code",
   "execution_count": 36,
   "id": "63927be8",
   "metadata": {},
   "outputs": [],
   "source": [
    "def convert(review):\n",
    "    return ' '.join(review)\n",
    "\n",
    "data['cleanreview'] = data['cleanreview'].apply(convert)"
   ]
  },
  {
   "cell_type": "code",
   "execution_count": 37,
   "id": "4e649e63",
   "metadata": {},
   "outputs": [
    {
     "data": {
      "text/html": [
       "<div>\n",
       "<style scoped>\n",
       "    .dataframe tbody tr th:only-of-type {\n",
       "        vertical-align: middle;\n",
       "    }\n",
       "\n",
       "    .dataframe tbody tr th {\n",
       "        vertical-align: top;\n",
       "    }\n",
       "\n",
       "    .dataframe thead th {\n",
       "        text-align: right;\n",
       "    }\n",
       "</style>\n",
       "<table border=\"1\" class=\"dataframe\">\n",
       "  <thead>\n",
       "    <tr style=\"text-align: right;\">\n",
       "      <th></th>\n",
       "      <th>Rating</th>\n",
       "      <th>cleanreview</th>\n",
       "    </tr>\n",
       "  </thead>\n",
       "  <tbody>\n",
       "    <tr>\n",
       "      <th>0</th>\n",
       "      <td>5</td>\n",
       "      <td>great phone price point superb cool design goo...</td>\n",
       "    </tr>\n",
       "    <tr>\n",
       "      <th>1</th>\n",
       "      <td>4</td>\n",
       "      <td>good mobile poco pros fullhd display smooth to...</td>\n",
       "    </tr>\n",
       "    <tr>\n",
       "      <th>2</th>\n",
       "      <td>5</td>\n",
       "      <td>good phone battery camera price point good pho...</td>\n",
       "    </tr>\n",
       "    <tr>\n",
       "      <th>3</th>\n",
       "      <td>5</td>\n",
       "      <td>never get specs price decent buy positives per...</td>\n",
       "    </tr>\n",
       "    <tr>\n",
       "      <th>4</th>\n",
       "      <td>5</td>\n",
       "      <td>one word review value money potential nice cas...</td>\n",
       "    </tr>\n",
       "    <tr>\n",
       "      <th>...</th>\n",
       "      <td>...</td>\n",
       "      <td>...</td>\n",
       "    </tr>\n",
       "    <tr>\n",
       "      <th>36043</th>\n",
       "      <td>5</td>\n",
       "      <td>nice quality product</td>\n",
       "    </tr>\n",
       "    <tr>\n",
       "      <th>36044</th>\n",
       "      <td>5</td>\n",
       "      <td>bad product work one month switch quality also...</td>\n",
       "    </tr>\n",
       "    <tr>\n",
       "      <th>36045</th>\n",
       "      <td>5</td>\n",
       "      <td>beautiful expect</td>\n",
       "    </tr>\n",
       "    <tr>\n",
       "      <th>36046</th>\n",
       "      <td>5</td>\n",
       "      <td>good quality long</td>\n",
       "    </tr>\n",
       "    <tr>\n",
       "      <th>36047</th>\n",
       "      <td>5</td>\n",
       "      <td>give natural look good purchase</td>\n",
       "    </tr>\n",
       "  </tbody>\n",
       "</table>\n",
       "<p>36048 rows × 2 columns</p>\n",
       "</div>"
      ],
      "text/plain": [
       "       Rating                                        cleanreview\n",
       "0           5  great phone price point superb cool design goo...\n",
       "1           4  good mobile poco pros fullhd display smooth to...\n",
       "2           5  good phone battery camera price point good pho...\n",
       "3           5  never get specs price decent buy positives per...\n",
       "4           5  one word review value money potential nice cas...\n",
       "...       ...                                                ...\n",
       "36043       5                               nice quality product\n",
       "36044       5  bad product work one month switch quality also...\n",
       "36045       5                                   beautiful expect\n",
       "36046       5                                  good quality long\n",
       "36047       5                    give natural look good purchase\n",
       "\n",
       "[36048 rows x 2 columns]"
      ]
     },
     "execution_count": 37,
     "metadata": {},
     "output_type": "execute_result"
    }
   ],
   "source": [
    "data"
   ]
  },
  {
   "cell_type": "markdown",
   "id": "5f50facb",
   "metadata": {},
   "source": [
    "### Now the data is properly has undergone the preprocessing procedure, it is now ready for building a model."
   ]
  },
  {
   "cell_type": "markdown",
   "id": "905845a0",
   "metadata": {},
   "source": [
    "##  data Visualization using Ploting"
   ]
  },
  {
   "cell_type": "code",
   "execution_count": 38,
   "id": "380397df",
   "metadata": {},
   "outputs": [
    {
     "name": "stderr",
     "output_type": "stream",
     "text": [
      "No handles with labels found to put in legend.\n"
     ]
    },
    {
     "data": {
      "image/png": "[encoded data removed]",
      "text/plain": [
       "<Figure size 432x288 with 1 Axes>"
      ]
     },
     "metadata": {
      "needs_background": "light"
     },
     "output_type": "display_data"
    }
   ],
   "source": [
    "sns.countplot(data.Rating)\n",
    "plt.xlabel('Ratings')\n",
    "plt.show()"
   ]
  },
  {
   "cell_type": "markdown",
   "id": "d45bba6a",
   "metadata": {},
   "source": [
    "\n",
    "The plot shows that the distribution is imblalanced thus\n",
    "we shall assign negative,neutral to < 3, = 3\n",
    "and positive sentiments > 3 respectively."
   ]
  },
  {
   "cell_type": "code",
   "execution_count": 39,
   "id": "a255ff42",
   "metadata": {},
   "outputs": [],
   "source": [
    "# replacing numerical values with categorical values to reduce the classes to sentiments\n",
    "\n",
    "data['sentiment'] = data.Rating.replace({\n",
    "    1:'negative',\n",
    "    2:'negative',\n",
    "    3:'neutral',\n",
    "    4:'positive',\n",
    "    5:'positive'\n",
    "})"
   ]
  },
  {
   "cell_type": "markdown",
   "id": "52f3b144",
   "metadata": {},
   "source": [
    "## Now let's split our dataset "
   ]
  },
  {
   "cell_type": "code",
   "execution_count": 40,
   "id": "a6d55ecb",
   "metadata": {},
   "outputs": [],
   "source": [
    "# Creating Train and Test datasets\n",
    "\n",
    "X_data = data['cleanreview']\n",
    "y_data = data['sentiment']"
   ]
  },
  {
   "cell_type": "code",
   "execution_count": 41,
   "id": "0949a855",
   "metadata": {},
   "outputs": [
    {
     "data": {
      "text/plain": [
       "0        positive\n",
       "1        positive\n",
       "2        positive\n",
       "3        positive\n",
       "4        positive\n",
       "           ...   \n",
       "36043    positive\n",
       "36044    positive\n",
       "36045    positive\n",
       "36046    positive\n",
       "36047    positive\n",
       "Name: sentiment, Length: 36048, dtype: object"
      ]
     },
     "execution_count": 41,
     "metadata": {},
     "output_type": "execute_result"
    }
   ],
   "source": [
    "y_data "
   ]
  },
  {
   "cell_type": "code",
   "execution_count": 42,
   "id": "c5d4fa7d",
   "metadata": {},
   "outputs": [
    {
     "data": {
      "text/plain": [
       "0        great phone price point superb cool design goo...\n",
       "1        good mobile poco pros fullhd display smooth to...\n",
       "2        good phone battery camera price point good pho...\n",
       "3        never get specs price decent buy positives per...\n",
       "4        one word review value money potential nice cas...\n",
       "                               ...                        \n",
       "36043                                 nice quality product\n",
       "36044    bad product work one month switch quality also...\n",
       "36045                                     beautiful expect\n",
       "36046                                    good quality long\n",
       "36047                      give natural look good purchase\n",
       "Name: cleanreview, Length: 36048, dtype: object"
      ]
     },
     "execution_count": 42,
     "metadata": {},
     "output_type": "execute_result"
    }
   ],
   "source": [
    "X_data"
   ]
  },
  {
   "cell_type": "code",
   "execution_count": 43,
   "id": "79619552",
   "metadata": {},
   "outputs": [
    {
     "data": {
      "text/plain": [
       "0        great phone price point superb cool design goo...\n",
       "1        good mobile poco pros fullhd display smooth to...\n",
       "2        good phone battery camera price point good pho...\n",
       "3        never get specs price decent buy positives per...\n",
       "4        one word review value money potential nice cas...\n",
       "                               ...                        \n",
       "36043                                 nice quality product\n",
       "36044    bad product work one month switch quality also...\n",
       "36045                                     beautiful expect\n",
       "36046                                    good quality long\n",
       "36047                      give natural look good purchase\n",
       "Name: cleanreview, Length: 36048, dtype: object"
      ]
     },
     "execution_count": 43,
     "metadata": {},
     "output_type": "execute_result"
    }
   ],
   "source": [
    "# changing the datatype from object to string\n",
    "\n",
    "X_data = X_data.astype(str)\n",
    "X_data"
   ]
  },
  {
   "cell_type": "code",
   "execution_count": 44,
   "id": "0491fac5",
   "metadata": {},
   "outputs": [
    {
     "data": {
      "text/html": [
       "<div>\n",
       "<style scoped>\n",
       "    .dataframe tbody tr th:only-of-type {\n",
       "        vertical-align: middle;\n",
       "    }\n",
       "\n",
       "    .dataframe tbody tr th {\n",
       "        vertical-align: top;\n",
       "    }\n",
       "\n",
       "    .dataframe thead th {\n",
       "        text-align: right;\n",
       "    }\n",
       "</style>\n",
       "<table border=\"1\" class=\"dataframe\">\n",
       "  <thead>\n",
       "    <tr style=\"text-align: right;\">\n",
       "      <th></th>\n",
       "      <th>review</th>\n",
       "    </tr>\n",
       "  </thead>\n",
       "  <tbody>\n",
       "    <tr>\n",
       "      <th>0</th>\n",
       "      <td>great phone price point superb cool design goo...</td>\n",
       "    </tr>\n",
       "    <tr>\n",
       "      <th>1</th>\n",
       "      <td>good mobile poco pros fullhd display smooth to...</td>\n",
       "    </tr>\n",
       "    <tr>\n",
       "      <th>2</th>\n",
       "      <td>good phone battery camera price point good pho...</td>\n",
       "    </tr>\n",
       "    <tr>\n",
       "      <th>3</th>\n",
       "      <td>never get specs price decent buy positives per...</td>\n",
       "    </tr>\n",
       "    <tr>\n",
       "      <th>4</th>\n",
       "      <td>one word review value money potential nice cas...</td>\n",
       "    </tr>\n",
       "  </tbody>\n",
       "</table>\n",
       "</div>"
      ],
      "text/plain": [
       "                                              review\n",
       "0  great phone price point superb cool design goo...\n",
       "1  good mobile poco pros fullhd display smooth to...\n",
       "2  good phone battery camera price point good pho...\n",
       "3  never get specs price decent buy positives per...\n",
       "4  one word review value money potential nice cas..."
      ]
     },
     "execution_count": 44,
     "metadata": {},
     "output_type": "execute_result"
    }
   ],
   "source": [
    "# creating new dataframe\n",
    "\n",
    "X_data_df = pd.DataFrame(data=X_data)\n",
    "X_data_df.columns = ['review']\n",
    "X_data_df.head()"
   ]
  },
  {
   "cell_type": "markdown",
   "id": "c3348b7f",
   "metadata": {},
   "source": [
    "Since the reviews are converted to string datatype, we'll then convert it into numerical so that the machine can model the data.\n",
    "\n",
    "We use CountVector and TfidfTransoformer to breakdown the texts and then coverting those numerical form."
   ]
  },
  {
   "cell_type": "code",
   "execution_count": 45,
   "id": "5077b6ba",
   "metadata": {},
   "outputs": [],
   "source": [
    "from sklearn.feature_extraction.text import CountVectorizer\n",
    "from sklearn.feature_extraction.text import TfidfTransformer\n",
    "\n",
    "cv=CountVectorizer()\n",
    "\n",
    "x_train_trans1=cv.fit_transform(X_data).toarray()\n",
    "\n",
    "tfidf = TfidfTransformer()\n",
    "\n",
    "x_final_trans = tfidf.fit_transform(x_train_trans1).toarray()"
   ]
  },
  {
   "cell_type": "code",
   "execution_count": 46,
   "id": "48e28182",
   "metadata": {},
   "outputs": [],
   "source": [
    "from sklearn.model_selection import train_test_split\n",
    "seed = 4353\n",
    "\n",
    "X_train,X_test,y_train,y_test=train_test_split(x_final_trans,y_data,random_state = seed,test_size=0.2)\n"
   ]
  },
  {
   "cell_type": "markdown",
   "id": "de2e8c86",
   "metadata": {},
   "source": [
    "## Model Building Selection\n"
   ]
  },
  {
   "cell_type": "markdown",
   "id": "7a743682",
   "metadata": {},
   "source": [
    "### Multinomial Naive Bayes"
   ]
  },
  {
   "cell_type": "code",
   "execution_count": 55,
   "id": "e499cea5",
   "metadata": {},
   "outputs": [
    {
     "name": "stdout",
     "output_type": "stream",
     "text": [
      "Using pip 21.3.1 from /Library/Frameworks/Python.framework/Versions/3.9/lib/python3.9/site-packages/pip (python 3.9)\n",
      "Requirement already satisfied: xgboost in /Library/Frameworks/Python.framework/Versions/3.9/lib/python3.9/site-packages (1.4.2)\n",
      "Requirement already satisfied: numpy in /Library/Frameworks/Python.framework/Versions/3.9/lib/python3.9/site-packages (from xgboost) (1.19.5)\n",
      "Requirement already satisfied: scipy in /Library/Frameworks/Python.framework/Versions/3.9/lib/python3.9/site-packages (from xgboost) (1.7.1)\n"
     ]
    }
   ],
   "source": [
    "## conda install py-xgboost\n",
    "## conda install -c conda-forge xgboost"
   ]
  },
  {
   "cell_type": "code",
   "execution_count": 66,
   "id": "b3d594ec",
   "metadata": {},
   "outputs": [],
   "source": [
    "from sklearn.model_selection import cross_val_score, GridSearchCV\n",
    "from sklearn.metrics import confusion_matrix, classification_report, accuracy_score, f1_score\n",
    "from sklearn.naive_bayes import MultinomialNB\n",
    "from sklearn.pipeline import Pipeline\n",
    "#import xgboost as xgb\n",
    "seed = 4353"
   ]
  },
  {
   "cell_type": "code",
   "execution_count": 67,
   "id": "ca33d1b2",
   "metadata": {},
   "outputs": [],
   "source": [
    "# Instatiation, fitting and prediction\n",
    "\n",
    "MNB = MultinomialNB()\n",
    "MNB.fit(X_train, y_train)\n",
    "predictions = MNB.predict(X_test)"
   ]
  },
  {
   "cell_type": "code",
   "execution_count": 70,
   "id": "4ac8c98d",
   "metadata": {},
   "outputs": [
    {
     "name": "stdout",
     "output_type": "stream",
     "text": [
      "              precision    recall  f1-score   support\n",
      "\n",
      "    negative       0.35      0.01      0.01      1124\n",
      "     neutral       1.00      0.00      0.00       483\n",
      "    positive       0.78      1.00      0.87      5603\n",
      "\n",
      "    accuracy                           0.78      7210\n",
      "   macro avg       0.71      0.34      0.30      7210\n",
      "weighted avg       0.73      0.78      0.68      7210\n",
      "\n",
      "[[   6    0 1118]\n",
      " [   1    1  481]\n",
      " [  10    0 5593]]\n",
      "Accuracy :  77.67  %\n",
      "f1_score :  0.681\n"
     ]
    }
   ],
   "source": [
    "# Model evaluation\n",
    "\n",
    "print(classification_report(y_test, predictions))\n",
    "print(confusion_matrix(y_test, predictions))\n",
    "\n",
    "MNB_f1 = round(f1_score(y_test, predictions, average='weighted'), 3)\n",
    "MNB_accuracy = round((accuracy_score(y_test, predictions)*100),2)\n",
    "\n",
    "print(\"Accuracy : \" , MNB_accuracy , \" %\")\n",
    "print(\"f1_score : \" , MNB_f1)"
   ]
  },
  {
   "cell_type": "markdown",
   "id": "91ee25fb",
   "metadata": {},
   "source": [
    "### RandomForestClassifer"
   ]
  },
  {
   "cell_type": "code",
   "execution_count": 71,
   "id": "ca7e7850",
   "metadata": {},
   "outputs": [],
   "source": [
    "# Instatiation, fitting and predictions\n",
    "\n",
    "from sklearn.ensemble import RandomForestClassifier\n",
    "\n",
    "rfc=RandomForestClassifier(n_estimators= 10, random_state= seed)\n",
    "rfc.fit(X_train, y_train)\n",
    "predictions = rfc.predict(X_test)"
   ]
  },
  {
   "cell_type": "code",
   "execution_count": 72,
   "id": "f9026cc1",
   "metadata": {},
   "outputs": [
    {
     "name": "stdout",
     "output_type": "stream",
     "text": [
      "              precision    recall  f1-score   support\n",
      "\n",
      "    negative       0.33      0.09      0.15      1124\n",
      "     neutral       0.34      0.07      0.11       483\n",
      "    positive       0.79      0.96      0.86      5603\n",
      "\n",
      "    accuracy                           0.76      7210\n",
      "   macro avg       0.49      0.37      0.37      7210\n",
      "weighted avg       0.69      0.76      0.70      7210\n",
      "\n",
      "[[ 106   10 1008]\n",
      " [  22   32  429]\n",
      " [ 196   51 5356]]\n",
      "Accuracy :  76.2  %\n",
      "f1_score :  0.702\n"
     ]
    }
   ],
   "source": [
    "# Model evaluation\n",
    "\n",
    "print(classification_report(y_test, predictions))\n",
    "print(confusion_matrix(y_test, predictions))\n",
    "\n",
    "rfc_f1 = round(f1_score(y_test, predictions, average= 'weighted'), 3)\n",
    "rfc_accuracy = round((accuracy_score(y_test, predictions) * 100), 2)\n",
    "\n",
    "print(\"Accuracy : \" , rfc_accuracy ,\"%\")\n",
    "print(\"f1_score : \" , rfc_f1)"
   ]
  },
  {
   "cell_type": "markdown",
   "id": "0c2bd243",
   "metadata": {},
   "source": [
    "### The RandomForestClassifer Accuracy is : 76%"
   ]
  },
  {
   "cell_type": "markdown",
   "id": "a8376a47",
   "metadata": {},
   "source": [
    "### LSTM - Neural Networks"
   ]
  },
  {
   "cell_type": "markdown",
   "id": "367978aa",
   "metadata": {},
   "source": [
    "We can apply Sequential API on the data and find out the accuracy for each iteration (EPOCH). This neural network concept comes in handy when we there's a huge data to process."
   ]
  },
  {
   "cell_type": "code",
   "execution_count": 75,
   "id": "0c82940e",
   "metadata": {},
   "outputs": [
    {
     "name": "stderr",
     "output_type": "stream",
     "text": [
      "2021-11-16 23:53:21.863788: I tensorflow/core/platform/cpu_feature_guard.cc:142] This TensorFlow binary is optimized with oneAPI Deep Neural Network Library (oneDNN) to use the following CPU instructions in performance-critical operations:  AVX2 FMA\n",
      "To enable them in other operations, rebuild TensorFlow with the appropriate compiler flags.\n"
     ]
    },
    {
     "name": "stdout",
     "output_type": "stream",
     "text": [
      "Model: \"sequential\"\n",
      "_________________________________________________________________\n",
      "Layer (type)                 Output Shape              Param #   \n",
      "=================================================================\n",
      "embedding (Embedding)        (None, 9984, 32)          160000    \n",
      "_________________________________________________________________\n",
      "lstm (LSTM)                  (None, 100)               53200     \n",
      "_________________________________________________________________\n",
      "dense (Dense)                (None, 3)                 303       \n",
      "=================================================================\n",
      "Total params: 213,503\n",
      "Trainable params: 213,503\n",
      "Non-trainable params: 0\n",
      "_________________________________________________________________\n",
      "None\n"
     ]
    }
   ],
   "source": [
    "from keras import Sequential\n",
    "from keras.layers import Embedding, LSTM, Dense, Dropout\n",
    "\n",
    "embedding_size=32\n",
    "max_words=5000\n",
    "\n",
    "model = Sequential()\n",
    "model.add(Embedding(max_words, embedding_size, input_length=X_train.shape[1]))\n",
    "model.add(LSTM(100))\n",
    "model.add(Dense(3,activation='softmax'))\n",
    "\n",
    "print(model.summary())\n"
   ]
  },
  {
   "cell_type": "code",
   "execution_count": 76,
   "id": "311a36c8",
   "metadata": {},
   "outputs": [],
   "source": [
    "model.compile(loss='categorical_crossentropy',\n",
    "              optimizer='adam',\n",
    "              metrics=['accuracy'])"
   ]
  },
  {
   "cell_type": "code",
   "execution_count": 77,
   "id": "ff09ffd4",
   "metadata": {},
   "outputs": [
    {
     "name": "stdout",
     "output_type": "stream",
     "text": [
      "Shape of Label tensor:  (28838, 3)\n"
     ]
    }
   ],
   "source": [
    "## converting categorical variables in y_train to numerical variables\n",
    "\n",
    "y_train_dummies = pd.get_dummies(y_train).values\n",
    "print('Shape of Label tensor: ', y_train_dummies.shape)"
   ]
  },
  {
   "cell_type": "code",
   "execution_count": 78,
   "id": "1debfca5",
   "metadata": {},
   "outputs": [
    {
     "name": "stderr",
     "output_type": "stream",
     "text": [
      "2021-11-16 23:55:48.720328: I tensorflow/compiler/mlir/mlir_graph_optimization_pass.cc:185] None of the MLIR Optimization Passes are enabled (registered 2)\n"
     ]
    },
    {
     "name": "stdout",
     "output_type": "stream",
     "text": [
      "Epoch 1/5\n",
      "902/902 [==============================] - 9302s 10s/step - loss: 0.6691 - accuracy: 0.7777\n",
      "Epoch 2/5\n",
      "902/902 [==============================] - 9280s 10s/step - loss: 0.6640 - accuracy: 0.7785\n",
      "Epoch 3/5\n",
      "902/902 [==============================] - 7995s 9s/step - loss: 0.6636 - accuracy: 0.7785\n",
      "Epoch 4/5\n",
      "902/902 [==============================] - 30687s 34s/step - loss: 0.6633 - accuracy: 0.7785\n",
      "Epoch 5/5\n",
      "902/902 [==============================] - 8160s 9s/step - loss: 0.6629 - accuracy: 0.7785\n"
     ]
    },
    {
     "data": {
      "text/plain": [
       "<keras.callbacks.History at 0x7ff7cde76340>"
      ]
     },
     "execution_count": 78,
     "metadata": {},
     "output_type": "execute_result"
    }
   ],
   "source": [
    "#train the model\n",
    "\n",
    "model.fit(X_train, y_train_dummies, epochs=5, batch_size=32)"
   ]
  },
  {
   "cell_type": "markdown",
   "id": "80804212",
   "metadata": {},
   "source": [
    "### The accuracy of LSTM using Sequentical API gives it around 0.77 which is equal to 77%."
   ]
  },
  {
   "cell_type": "code",
   "execution_count": 79,
   "id": "644e89ea",
   "metadata": {},
   "outputs": [],
   "source": [
    "## import the libraries\n",
    "\n",
    "from sklearn.tree import DecisionTreeClassifier"
   ]
  },
  {
   "cell_type": "code",
   "execution_count": 80,
   "id": "f8693635",
   "metadata": {},
   "outputs": [
    {
     "name": "stdout",
     "output_type": "stream",
     "text": [
      "The Accuracy is : 0.7325936199722608\n",
      "----------------------------------------\n",
      "[[ 160   19  945]\n",
      " [  43   42  398]\n",
      " [ 382  141 5080]]\n",
      "              precision    recall  f1-score   support\n",
      "\n",
      "    negative       0.27      0.14      0.19      1124\n",
      "     neutral       0.21      0.09      0.12       483\n",
      "    positive       0.79      0.91      0.84      5603\n",
      "\n",
      "    accuracy                           0.73      7210\n",
      "   macro avg       0.42      0.38      0.38      7210\n",
      "weighted avg       0.67      0.73      0.69      7210\n",
      "\n"
     ]
    }
   ],
   "source": [
    "### DecisionTreeClassifier model.\n",
    "\n",
    "dt = DecisionTreeClassifier(random_state=365)\n",
    "dt.fit(X_train, y_train)\n",
    "pred_dt = dt.predict(X_test)\n",
    "print(\"The Accuracy is :\",accuracy_score(y_test, pred_dt))\n",
    "print('--'*20)\n",
    "print(confusion_matrix(y_test, pred_dt))\n",
    "print(classification_report(y_test,pred_dt))"
   ]
  },
  {
   "cell_type": "markdown",
   "id": "a48e0598",
   "metadata": {},
   "source": [
    "### DecisionTreeClassifier Accuracy is : 73%"
   ]
  },
  {
   "cell_type": "markdown",
   "id": "b201ff0e",
   "metadata": {},
   "source": [
    "## In conclusion we can say our best model is LSTM which gives 77% accuracy"
   ]
  },
  {
   "cell_type": "markdown",
   "id": "21149d86",
   "metadata": {},
   "source": [
    "#### Saving the model."
   ]
  },
  {
   "cell_type": "code",
   "execution_count": 84,
   "id": "c8f57e3d",
   "metadata": {},
   "outputs": [],
   "source": [
    "model.save('Rating_Prediction_Model.h5')\n"
   ]
  },
  {
   "cell_type": "markdown",
   "id": "0651289e",
   "metadata": {},
   "source": [
    "## End of the project.."
   ]
  },
  {
   "cell_type": "code",
   "execution_count": null,
   "id": "a102b54f",
   "metadata": {},
   "outputs": [],
   "source": []
  }
 ],
 "metadata": {
  "kernelspec": {
   "display_name": "Python 3 (ipykernel)",
   "language": "python",
   "name": "python3"
  },
  "language_info": {
   "codemirror_mode": {
    "name": "ipython",
    "version": 3
   },
   "file_extension": ".py",
   "mimetype": "text/x-python",
   "name": "python",
   "nbconvert_exporter": "python",
   "pygments_lexer": "ipython3",
   "version": "3.9.7"
  }
 },
 "nbformat": 4,
 "nbformat_minor": 5
}
