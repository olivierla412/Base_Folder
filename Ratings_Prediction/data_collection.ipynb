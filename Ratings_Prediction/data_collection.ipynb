{
 "cells": [
  {
   "cell_type": "code",
   "execution_count": 87,
   "id": "5274bf71",
   "metadata": {},
   "outputs": [],
   "source": [
    "## Importing the libraries\n",
    "import pandas as pd\n",
    "import selenium\n",
    "from selenium import webdriver\n",
    "import time\n",
    "from selenium.common.exceptions import StaleElementReferenceException,NoSuchElementException\n",
    "from selenium.webdriver.common.keys import Keys\n",
    "from tqdm import tqdm\n",
    "import time"
   ]
  },
  {
   "cell_type": "code",
   "execution_count": 528,
   "id": "4f5ea2bf",
   "metadata": {},
   "outputs": [],
   "source": [
    "driver = webdriver.Chrome('/Users/oliverla412/Desktop/chromedriver')\n",
    "time.sleep(3)\n",
    "driver.maximize_window()"
   ]
  },
  {
   "cell_type": "markdown",
   "id": "86ac6401",
   "metadata": {},
   "source": [
    "## Scrap Phone details "
   ]
  },
  {
   "cell_type": "code",
   "execution_count": 341,
   "id": "13a4b7d4",
   "metadata": {},
   "outputs": [
    {
     "name": "stdout",
     "output_type": "stream",
     "text": [
      "Enter here for the products: phones\n"
     ]
    }
   ],
   "source": [
    "# Opening the home page of flipkart using the above url\n",
    "driver.get('https://www.flipkart.com/')\n",
    "time.sleep(2)\n",
    "\n",
    "#Asking the user to input the keywords to search.\n",
    "user_input = input('Enter here for the products: ')\n",
    "time.sleep(2)\n",
    "input_srch = driver.find_element_by_xpath('//input[@class=\"_3704LK\"]')\n",
    "input_srch.clear()\n",
    "time.sleep(2)\n",
    "input_srch.send_keys(user_input)\n",
    "time.sleep(2)\n",
    "driver.find_element_by_xpath('//button[@class=\"L0Z3Pu\"]').click()\n",
    "time.sleep(2)\n",
    "btn_urls = driver.find_elements_by_xpath('//nav[@class=\"yFHi8N\"]//a')\n",
    "time.sleep(2)\n",
    "btn_urls_list=  [x.get_attribute('href') for x in btn_urls]\n"
   ]
  },
  {
   "cell_type": "code",
   "execution_count": 343,
   "id": "d3abae87",
   "metadata": {},
   "outputs": [
    {
     "data": {
      "text/plain": [
       "'https://www.flipkart.com/search?q=phones&otracker=search&otracker1=search&marketplace=FLIPKART&as-show=on&as=off&page=1'"
      ]
     },
     "execution_count": 343,
     "metadata": {},
     "output_type": "execute_result"
    }
   ],
   "source": [
    "btn_urls_list[0]"
   ]
  },
  {
   "cell_type": "markdown",
   "id": "25c08bba",
   "metadata": {},
   "source": [
    "### let's create more urls of the button page using for loops"
   ]
  },
  {
   "cell_type": "code",
   "execution_count": 344,
   "id": "d3d92a12",
   "metadata": {},
   "outputs": [
    {
     "data": {
      "text/plain": [
       "['https://www.flipkart.com/search?q=phones&otracker=search&otracker1=search&marketplace=FLIPKART&as-show=on&as=off&page=1',\n",
       " 'https://www.flipkart.com/search?q=phones&otracker=search&otracker1=search&marketplace=FLIPKART&as-show=on&as=off&page=2',\n",
       " 'https://www.flipkart.com/search?q=phones&otracker=search&otracker1=search&marketplace=FLIPKART&as-show=on&as=off&page=3']"
      ]
     },
     "execution_count": 344,
     "metadata": {},
     "output_type": "execute_result"
    }
   ],
   "source": [
    "phones_pages=[]\n",
    "for x in range(1,26):\n",
    "    x =str(x)\n",
    "    phones_pages.append(f\"https://www.flipkart.com/search?q=phones&otracker=search&otracker1=search&marketplace=FLIPKART&as-show=on&as=off&page={x}\")\n",
    "phones_pages[:3]    "
   ]
  },
  {
   "cell_type": "markdown",
   "id": "925da0d3",
   "metadata": {},
   "source": [
    "### Now let's get the Urls of each phone on each page."
   ]
  },
  {
   "cell_type": "code",
   "execution_count": 348,
   "id": "9b294e77",
   "metadata": {},
   "outputs": [
    {
     "name": "stderr",
     "output_type": "stream",
     "text": [
      "100%|███████████████████████████████████████████████████████████████████████| 25/25 [02:16<00:00,  5.47s/it]\n"
     ]
    }
   ],
   "source": [
    "phone_urls = []\n",
    "for x in tqdm(phones_pages):\n",
    "    driver.get(x)\n",
    "    time.sleep(3)\n",
    "    urls = driver.find_elements_by_xpath('//a[@class=\"_1fQZEK\"]') ## getting the headphones urls\n",
    "    try:\n",
    "        for x in urls:\n",
    "            phone_urls.append(x.get_attribute('href'))\n",
    "    except:\n",
    "        phone_urls.append('-')\n",
    "       "
   ]
  },
  {
   "cell_type": "code",
   "execution_count": 349,
   "id": "00618c53",
   "metadata": {},
   "outputs": [
    {
     "data": {
      "text/plain": [
       "600"
      ]
     },
     "execution_count": 349,
     "metadata": {},
     "output_type": "execute_result"
    }
   ],
   "source": [
    "len(phone_urls)"
   ]
  },
  {
   "cell_type": "code",
   "execution_count": 352,
   "id": "a50d8554",
   "metadata": {},
   "outputs": [
    {
     "data": {
      "text/plain": [
       "'https://www.flipkart.com/poco-m3-cool-blue-64-gb/p/itmc8ec867cb0472?pid=MOBFZTCUDDCTDN3G&lid=LSTMOBFZTCUDDCTDN3GJBLKQ8&marketplace=FLIPKART&q=phones&store=tyy%2F4io&srno=s_1_1&otracker=search&otracker1=search&fm=organic&iid=eabfd08c-40f2-4925-bab7-aad94492dd9e.MOBFZTCUDDCTDN3G.SEARCH&ppt=None&ppn=None&ssid=9jppbth2ls0000001636725164099&qH=28388ea49f54c5b8'"
      ]
     },
     "execution_count": 352,
     "metadata": {},
     "output_type": "execute_result"
    }
   ],
   "source": [
    "phone_urls[0]"
   ]
  },
  {
   "cell_type": "code",
   "execution_count": 413,
   "id": "1959c41d",
   "metadata": {},
   "outputs": [
    {
     "name": "stderr",
     "output_type": "stream",
     "text": [
      "100%|███████████████████████████████████████████████████████████████████| 600/600 [1:11:36<00:00,  7.16s/it]\n"
     ]
    },
    {
     "data": {
      "text/plain": [
       "5303"
      ]
     },
     "execution_count": 413,
     "metadata": {},
     "output_type": "execute_result"
    }
   ],
   "source": [
    "Ratings =[]\n",
    "Review = []\n",
    "for i in tqdm(phone_urls):\n",
    "    driver.get(i)\n",
    "    try:\n",
    "        driver.find_element_by_xpath('//div[@class=\"_3UAT2v _16PBlm\"]').click() #click on more review\n",
    "    except:\n",
    "        pass\n",
    "    time.sleep(3)\n",
    "    try:\n",
    "        rating = driver.find_elements_by_xpath(\"//div[@class='col _2wzgFH K0kLPL']/div[1]/div[1]\") # get the ratings\n",
    "        for x in rating:\n",
    "            Ratings.append(x.text)\n",
    "    except:\n",
    "        Ratings.append(\"-\")\n",
    "    try:\n",
    "        review = driver.find_elements_by_xpath('//div[@class=\"t-ZTKy\"]//div/div')# get the reviews\n",
    "        for x in review:\n",
    "            Review.append(x.text)\n",
    "    except:\n",
    "        Review.append('-')  \n",
    "    time.sleep(2)    \n",
    "len(Ratings)"
   ]
  },
  {
   "cell_type": "code",
   "execution_count": 423,
   "id": "6808c006",
   "metadata": {},
   "outputs": [],
   "source": [
    "import pandas as pd\n",
    "import numpy as np"
   ]
  },
  {
   "cell_type": "code",
   "execution_count": 424,
   "id": "9cc49c44",
   "metadata": {},
   "outputs": [
    {
     "data": {
      "text/html": [
       "<div>\n",
       "<style scoped>\n",
       "    .dataframe tbody tr th:only-of-type {\n",
       "        vertical-align: middle;\n",
       "    }\n",
       "\n",
       "    .dataframe tbody tr th {\n",
       "        vertical-align: top;\n",
       "    }\n",
       "\n",
       "    .dataframe thead th {\n",
       "        text-align: right;\n",
       "    }\n",
       "</style>\n",
       "<table border=\"1\" class=\"dataframe\">\n",
       "  <thead>\n",
       "    <tr style=\"text-align: right;\">\n",
       "      <th></th>\n",
       "      <th>Rating</th>\n",
       "      <th>Reviews</th>\n",
       "    </tr>\n",
       "  </thead>\n",
       "  <tbody>\n",
       "    <tr>\n",
       "      <th>0</th>\n",
       "      <td>5</td>\n",
       "      <td>Great Phone at this Price point. Superb cool D...</td>\n",
       "    </tr>\n",
       "    <tr>\n",
       "      <th>1</th>\n",
       "      <td>4</td>\n",
       "      <td>Good mobile poco m3\\nPros:\\nFullhd display,\\ns...</td>\n",
       "    </tr>\n",
       "    <tr>\n",
       "      <th>2</th>\n",
       "      <td>5</td>\n",
       "      <td>Good phone battery🔋 And camera This price poin...</td>\n",
       "    </tr>\n",
       "  </tbody>\n",
       "</table>\n",
       "</div>"
      ],
      "text/plain": [
       "  Rating                                            Reviews\n",
       "0      5  Great Phone at this Price point. Superb cool D...\n",
       "1      4  Good mobile poco m3\\nPros:\\nFullhd display,\\ns...\n",
       "2      5  Good phone battery🔋 And camera This price poin..."
      ]
     },
     "execution_count": 424,
     "metadata": {},
     "output_type": "execute_result"
    }
   ],
   "source": [
    "data = pd.DataFrame({})\n",
    "data['Rating'] = Ratings\n",
    "data['Reviews'] = Review[:5303]\n",
    "data.head(3)"
   ]
  },
  {
   "cell_type": "code",
   "execution_count": 425,
   "id": "aa849f1f",
   "metadata": {},
   "outputs": [
    {
     "data": {
      "text/plain": [
       "(5303, 2)"
      ]
     },
     "execution_count": 425,
     "metadata": {},
     "output_type": "execute_result"
    }
   ],
   "source": [
    "data.shape"
   ]
  },
  {
   "cell_type": "code",
   "execution_count": 437,
   "id": "e77a4997",
   "metadata": {},
   "outputs": [],
   "source": [
    "data.to_csv('Data1.csv',index=False)"
   ]
  },
  {
   "cell_type": "markdown",
   "id": "015cca49",
   "metadata": {},
   "source": [
    "## Scrap laptops details"
   ]
  },
  {
   "cell_type": "code",
   "execution_count": 429,
   "id": "2b57555b",
   "metadata": {},
   "outputs": [
    {
     "name": "stdout",
     "output_type": "stream",
     "text": [
      "Enter here for the products: laptops\n"
     ]
    },
    {
     "data": {
      "text/plain": [
       "'https://www.flipkart.com/search?q=laptops&otracker=search&otracker1=search&marketplace=FLIPKART&as-show=on&as=off&page=1'"
      ]
     },
     "execution_count": 429,
     "metadata": {},
     "output_type": "execute_result"
    }
   ],
   "source": [
    "# Opening the home page of flipkart using the above url\n",
    "driver.get('https://www.flipkart.com/')\n",
    "time.sleep(2)\n",
    "\n",
    "#Asking the user to input the keywords to search.\n",
    "user_input = input('Enter here for the products: ')\n",
    "time.sleep(2)\n",
    "input_srch = driver.find_element_by_xpath('//input[@class=\"_3704LK\"]')\n",
    "input_srch.clear()\n",
    "time.sleep(2)\n",
    "input_srch.send_keys(user_input)\n",
    "time.sleep(2)\n",
    "driver.find_element_by_xpath('//button[@class=\"L0Z3Pu\"]').click()\n",
    "time.sleep(2)\n",
    "btn_urls = driver.find_elements_by_xpath('//nav[@class=\"yFHi8N\"]//a')\n",
    "time.sleep(2)\n",
    "btn_urls_list=  [x.get_attribute('href') for x in btn_urls]\n",
    "btn_urls_list[0]"
   ]
  },
  {
   "cell_type": "markdown",
   "id": "88b77801",
   "metadata": {},
   "source": [
    "### let's create more page link related to above link by using for loop"
   ]
  },
  {
   "cell_type": "code",
   "execution_count": 432,
   "id": "8b1c301e",
   "metadata": {},
   "outputs": [
    {
     "name": "stdout",
     "output_type": "stream",
     "text": [
      "['https://www.flipkart.com/search?q=laptops&otracker=search&otracker1=search&marketplace=FLIPKART&as-show=on&as=off&page=1', 'https://www.flipkart.com/search?q=laptops&otracker=search&otracker1=search&marketplace=FLIPKART&as-show=on&as=off&page=2']\n",
      "--\n",
      "30\n"
     ]
    }
   ],
   "source": [
    "laptop_pages=[]\n",
    "for x in range(1,31):\n",
    "    x =str(x)\n",
    "    laptop_pages.append(f\"https://www.flipkart.com/search?q=laptops&otracker=search&otracker1=search&marketplace=FLIPKART&as-show=on&as=off&page={x}\")\n",
    "    \n",
    "print(laptop_pages[:2])\n",
    "print('--')\n",
    "print(len(laptop_pages))\n"
   ]
  },
  {
   "cell_type": "code",
   "execution_count": 433,
   "id": "6212c278",
   "metadata": {},
   "outputs": [
    {
     "name": "stderr",
     "output_type": "stream",
     "text": [
      "100%|███████████████████████████████████████████████████████████████████████| 30/30 [04:14<00:00,  8.50s/it]\n"
     ]
    }
   ],
   "source": [
    "labtops_urls = []\n",
    "for x in tqdm(laptop_pages):\n",
    "    driver.get(x)\n",
    "    urls = driver.find_elements_by_xpath('//a[@class=\"_1fQZEK\"]') ## getting the phone urls\n",
    "    time.sleep(3)\n",
    "    try:\n",
    "        for x in urls:\n",
    "            labtops_urls.append(x.get_attribute('href'))\n",
    "    except:\n",
    "        labtops_urls.append('-') \n",
    "    time.sleep(3)  "
   ]
  },
  {
   "cell_type": "code",
   "execution_count": 436,
   "id": "c1565a60",
   "metadata": {},
   "outputs": [
    {
     "data": {
      "text/plain": [
       "672"
      ]
     },
     "execution_count": 436,
     "metadata": {},
     "output_type": "execute_result"
    }
   ],
   "source": [
    "len(labtops_urls)"
   ]
  },
  {
   "cell_type": "code",
   "execution_count": 438,
   "id": "e6bf19e3",
   "metadata": {},
   "outputs": [
    {
     "name": "stderr",
     "output_type": "stream",
     "text": [
      "100%|███████████████████████████████████████████████████████████████████| 672/672 [1:19:06<00:00,  7.06s/it]"
     ]
    },
    {
     "name": "stdout",
     "output_type": "stream",
     "text": [
      "len of ratings is:  3383\n",
      "len of Reviews is: 3556\n"
     ]
    },
    {
     "name": "stderr",
     "output_type": "stream",
     "text": [
      "\n"
     ]
    }
   ],
   "source": [
    "Ratings =[]\n",
    "Reviews = []\n",
    "for i in tqdm(labtops_urls):\n",
    "    driver.get(i)\n",
    "    try:\n",
    "        driver.find_element_by_xpath('//div[@class=\"_3UAT2v _16PBlm\"]').click() #click on more review\n",
    "    except:\n",
    "        pass\n",
    "    time.sleep(3)\n",
    "    try:\n",
    "        rating = driver.find_elements_by_xpath(\"//div[@class='col _2wzgFH K0kLPL']/div[1]/div[1]\") # get the ratings\n",
    "        for x in rating:\n",
    "            Ratings.append(x.text)\n",
    "    except:\n",
    "        Ratings.append(\"-\")\n",
    "    try:\n",
    "        review = driver.find_elements_by_xpath('//div[@class=\"t-ZTKy\"]//div/div')# get the reviews\n",
    "        for x in review:\n",
    "            Reviews.append(x.text)\n",
    "    except:\n",
    "        Reviews.append('-')  \n",
    "    time.sleep(2)    \n",
    "print('len of ratings is: ',len(Ratings))\n",
    "print('len of Reviews is:',len(Reviews))"
   ]
  },
  {
   "cell_type": "code",
   "execution_count": 457,
   "id": "40e59a21",
   "metadata": {},
   "outputs": [],
   "source": [
    "data = pd.DataFrame({})\n",
    "data['Rating'] = Ratings\n",
    "data['Reviews'] = Reviews[:3383]\n",
    "data.to_csv('Data2.csv',index=False)"
   ]
  },
  {
   "cell_type": "code",
   "execution_count": 460,
   "id": "859cbfd1",
   "metadata": {},
   "outputs": [
    {
     "data": {
      "text/html": [
       "<div>\n",
       "<style scoped>\n",
       "    .dataframe tbody tr th:only-of-type {\n",
       "        vertical-align: middle;\n",
       "    }\n",
       "\n",
       "    .dataframe tbody tr th {\n",
       "        vertical-align: top;\n",
       "    }\n",
       "\n",
       "    .dataframe thead th {\n",
       "        text-align: right;\n",
       "    }\n",
       "</style>\n",
       "<table border=\"1\" class=\"dataframe\">\n",
       "  <thead>\n",
       "    <tr style=\"text-align: right;\">\n",
       "      <th></th>\n",
       "      <th>Rating</th>\n",
       "      <th>Reviews</th>\n",
       "    </tr>\n",
       "  </thead>\n",
       "  <tbody>\n",
       "    <tr>\n",
       "      <th>0</th>\n",
       "      <td>5</td>\n",
       "      <td>It's the best I got in this segment. It has a ...</td>\n",
       "    </tr>\n",
       "    <tr>\n",
       "      <th>1</th>\n",
       "      <td>5</td>\n",
       "      <td>i will say only 5 things\\n1. cinebench r23 mul...</td>\n",
       "    </tr>\n",
       "    <tr>\n",
       "      <th>2</th>\n",
       "      <td>5</td>\n",
       "      <td>Definitely a good laptop at its price point.\\n...</td>\n",
       "    </tr>\n",
       "  </tbody>\n",
       "</table>\n",
       "</div>"
      ],
      "text/plain": [
       "  Rating                                            Reviews\n",
       "0      5  It's the best I got in this segment. It has a ...\n",
       "1      5  i will say only 5 things\\n1. cinebench r23 mul...\n",
       "2      5  Definitely a good laptop at its price point.\\n..."
      ]
     },
     "execution_count": 460,
     "metadata": {},
     "output_type": "execute_result"
    }
   ],
   "source": [
    "data.head(3)"
   ]
  },
  {
   "cell_type": "markdown",
   "id": "ecb8a23d",
   "metadata": {},
   "source": [
    "## Headphones data"
   ]
  },
  {
   "cell_type": "code",
   "execution_count": 479,
   "id": "7ecbae33",
   "metadata": {},
   "outputs": [
    {
     "name": "stdout",
     "output_type": "stream",
     "text": [
      "Enter here for the products: Headphones\n"
     ]
    },
    {
     "data": {
      "text/plain": [
       "'https://www.flipkart.com/search?q=Headphones&otracker=search&otracker1=search&marketplace=FLIPKART&as-show=on&as=off&page=1'"
      ]
     },
     "execution_count": 479,
     "metadata": {},
     "output_type": "execute_result"
    }
   ],
   "source": [
    "# Opening the home page of flipkart using the above url\n",
    "driver.get('https://www.flipkart.com/')\n",
    "time.sleep(2)\n",
    "\n",
    "#Asking the user to input the keywords to search.\n",
    "user_input = input('Enter here for the products: ')\n",
    "time.sleep(2)\n",
    "input_srch = driver.find_element_by_xpath('//input[@class=\"_3704LK\"]')\n",
    "input_srch.clear()\n",
    "time.sleep(2)\n",
    "input_srch.send_keys(user_input)\n",
    "time.sleep(2)\n",
    "driver.find_element_by_xpath('//button[@class=\"L0Z3Pu\"]').click()\n",
    "time.sleep(2)\n",
    "btn_urls = driver.find_elements_by_xpath('//nav[@class=\"yFHi8N\"]//a')\n",
    "time.sleep(2)\n",
    "btn_urls_list=  [x.get_attribute('href') for x in btn_urls]\n",
    "btn_urls_list[0]"
   ]
  },
  {
   "cell_type": "markdown",
   "id": "44f3858e",
   "metadata": {},
   "source": [
    "### let's create more urls of the button page using for loops"
   ]
  },
  {
   "cell_type": "code",
   "execution_count": 480,
   "id": "d36293de",
   "metadata": {},
   "outputs": [],
   "source": [
    "headphone_pages=[]\n",
    "for x in range(1,25):\n",
    "    x =str(x)\n",
    "    headphone_pages.append(f\"https://www.flipkart.com/search?q=Headphones&otracker=search&otracker1=search&marketplace=FLIPKART&as-show=on&as=off&page={x}\")\n",
    " \n",
    "                        "
   ]
  },
  {
   "cell_type": "code",
   "execution_count": 481,
   "id": "ac148089",
   "metadata": {},
   "outputs": [
    {
     "data": {
      "text/plain": [
       "24"
      ]
     },
     "execution_count": 481,
     "metadata": {},
     "output_type": "execute_result"
    }
   ],
   "source": [
    "len(headphone_pages) ## here we got 24 pages of headphone"
   ]
  },
  {
   "cell_type": "code",
   "execution_count": 482,
   "id": "8c941aee",
   "metadata": {},
   "outputs": [
    {
     "data": {
      "text/plain": [
       "['https://www.flipkart.com/search?q=Headphones&otracker=search&otracker1=search&marketplace=FLIPKART&as-show=on&as=off&page=1',\n",
       " 'https://www.flipkart.com/search?q=Headphones&otracker=search&otracker1=search&marketplace=FLIPKART&as-show=on&as=off&page=2',\n",
       " 'https://www.flipkart.com/search?q=Headphones&otracker=search&otracker1=search&marketplace=FLIPKART&as-show=on&as=off&page=3']"
      ]
     },
     "execution_count": 482,
     "metadata": {},
     "output_type": "execute_result"
    }
   ],
   "source": [
    "headphone_pages[:3]"
   ]
  },
  {
   "cell_type": "markdown",
   "id": "25c3bdbe",
   "metadata": {},
   "source": [
    "## Now let's get the Urls of each headphone on each page"
   ]
  },
  {
   "cell_type": "code",
   "execution_count": 483,
   "id": "68a8aad8",
   "metadata": {},
   "outputs": [
    {
     "name": "stderr",
     "output_type": "stream",
     "text": [
      "100%|███████████████████████████████████████████████████████████████████████| 24/24 [02:07<00:00,  5.30s/it]\n"
     ]
    }
   ],
   "source": [
    "headphone_urls = []\n",
    "for x in tqdm(headphone_pages):\n",
    "    driver.get(x)\n",
    "    time.sleep(3)\n",
    "    urls = driver.find_elements_by_xpath('//a[@class=\"_2rpwqI\"]') ## getting the headphones urls\n",
    "    try:\n",
    "        for x in urls:\n",
    "            headphone_urls.append(x.get_attribute('href'))\n",
    "    except:\n",
    "        headphone_urls.append('-')"
   ]
  },
  {
   "cell_type": "code",
   "execution_count": 484,
   "id": "923392ff",
   "metadata": {},
   "outputs": [
    {
     "data": {
      "text/plain": [
       "'https://www.flipkart.com/wecool-moonwalk-mini-ear-bluetooth-earbuds-16-hours-playtime-battery-indicator-charging-case-headsets-mic-headset/p/itma7e1b974ca71f?pid=ACCG227W7RRYXVXZ&lid=LSTACCG227W7RRYXVXZEKNQD5&marketplace=FLIPKART&q=Headphones&store=0pm%2Ffcn&srno=s_1_1&otracker=search&otracker1=search&fm=organic&iid=en_yl2EzDSdmH8GkfX%2BAdMfqcPt%2F%2FWHFH3xUGLFceD2x28%2B82zsBnCqLY3NMCisR7oSaezn4fGRcTikk4Zac%2Fpoow%3D%3D&ppt=None&ppn=None&ssid=1bnhwwp5yo0000001636776007693&qH=dcbedde0ce401a37'"
      ]
     },
     "execution_count": 484,
     "metadata": {},
     "output_type": "execute_result"
    }
   ],
   "source": [
    "headphone_urls[0]"
   ]
  },
  {
   "cell_type": "markdown",
   "id": "d0e12698",
   "metadata": {},
   "source": [
    "### Getting the data"
   ]
  },
  {
   "cell_type": "code",
   "execution_count": 488,
   "id": "31ff7dd1",
   "metadata": {},
   "outputs": [
    {
     "name": "stderr",
     "output_type": "stream",
     "text": [
      "100%|███████████████████████████████████████████████████████████████████| 960/960 [1:49:37<00:00,  6.85s/it]"
     ]
    },
    {
     "name": "stdout",
     "output_type": "stream",
     "text": [
      "len of ratings is:  7630\n",
      "len of Reviews is: 7785\n"
     ]
    },
    {
     "name": "stderr",
     "output_type": "stream",
     "text": [
      "\n"
     ]
    }
   ],
   "source": [
    "Ratings =[]\n",
    "Reviews = []\n",
    "for i in tqdm(headphone_urls):\n",
    "    driver.get(i)\n",
    "    try:\n",
    "        driver.find_element_by_xpath('//div[@class=\"_3UAT2v _16PBlm\"]').click() #click on more review\n",
    "    except:\n",
    "        pass\n",
    "    time.sleep(3)\n",
    "    try:\n",
    "        rating = driver.find_elements_by_xpath(\"//div[@class='col _2wzgFH K0kLPL']/div[1]/div[1]\") # get the ratings\n",
    "        for x in rating:\n",
    "            Ratings.append(x.text)\n",
    "    except:\n",
    "        Ratings.append(\"-\")\n",
    "    try:\n",
    "        review = driver.find_elements_by_xpath('//div[@class=\"t-ZTKy\"]//div/div')# get the reviews\n",
    "        for x in review:\n",
    "            Reviews.append(x.text)\n",
    "    except:\n",
    "        Reviews.append('-')  \n",
    "    time.sleep(2)    \n",
    "print('len of ratings is: ',len(Ratings))\n",
    "print('len of Reviews is:',len(Reviews))"
   ]
  },
  {
   "cell_type": "code",
   "execution_count": null,
   "id": "1d64dcee",
   "metadata": {},
   "outputs": [],
   "source": []
  },
  {
   "cell_type": "code",
   "execution_count": 489,
   "id": "5677ba05",
   "metadata": {},
   "outputs": [],
   "source": [
    "data = pd.DataFrame({})\n",
    "data['Rating'] = Ratings\n",
    "data['Reviews'] = Reviews[:7630]\n",
    "data.to_csv('Data3.csv',index=False)"
   ]
  },
  {
   "cell_type": "markdown",
   "id": "c6f02fc4",
   "metadata": {},
   "source": [
    "## smart watches"
   ]
  },
  {
   "cell_type": "code",
   "execution_count": 469,
   "id": "1a793967",
   "metadata": {},
   "outputs": [
    {
     "name": "stdout",
     "output_type": "stream",
     "text": [
      "Enter here for the products: smart watches\n"
     ]
    },
    {
     "data": {
      "text/plain": [
       "'https://www.flipkart.com/search?q=smart+watches&otracker=search&otracker1=search&marketplace=FLIPKART&as-show=on&as=off&page=1'"
      ]
     },
     "execution_count": 469,
     "metadata": {},
     "output_type": "execute_result"
    }
   ],
   "source": [
    "# Opening the home page of flipkart using the above url\n",
    "driver.get('https://www.flipkart.com/')\n",
    "time.sleep(2)\n",
    "\n",
    "#Asking the user to input the keywords to search.\n",
    "user_input = input('Enter here for the products: ')\n",
    "time.sleep(2)\n",
    "input_srch = driver.find_element_by_xpath('//input[@class=\"_3704LK\"]')\n",
    "input_srch.clear()\n",
    "time.sleep(2)\n",
    "input_srch.send_keys(user_input)\n",
    "time.sleep(2)\n",
    "driver.find_element_by_xpath('//button[@class=\"L0Z3Pu\"]').click()\n",
    "time.sleep(2)\n",
    "btn_urls = driver.find_elements_by_xpath('//nav[@class=\"yFHi8N\"]//a')\n",
    "time.sleep(2)\n",
    "btn_urls_list=  [x.get_attribute('href') for x in btn_urls]\n",
    "btn_urls_list[0]"
   ]
  },
  {
   "cell_type": "code",
   "execution_count": null,
   "id": "72da0e35",
   "metadata": {},
   "outputs": [],
   "source": []
  },
  {
   "cell_type": "markdown",
   "id": "e5e7f323",
   "metadata": {},
   "source": [
    "### let's create more urls of the button page using for loops"
   ]
  },
  {
   "cell_type": "code",
   "execution_count": 471,
   "id": "7bd461e7",
   "metadata": {},
   "outputs": [
    {
     "data": {
      "text/plain": [
       "40"
      ]
     },
     "execution_count": 471,
     "metadata": {},
     "output_type": "execute_result"
    }
   ],
   "source": [
    "smart_watches_pages=[]\n",
    "for x in range(1,41):\n",
    "    x =str(x)\n",
    "    smart_watches_pages.append(f\"https://www.flipkart.com/search?q=smart+watches&otracker=search&otracker1=search&marketplace=FLIPKART&as-show=on&as=off&page={x}\")\n",
    "len(smart_watches_pages)                        "
   ]
  },
  {
   "cell_type": "code",
   "execution_count": 473,
   "id": "6adfac87",
   "metadata": {},
   "outputs": [
    {
     "data": {
      "text/plain": [
       "'https://www.flipkart.com/search?q=smart+watches&otracker=search&otracker1=search&marketplace=FLIPKART&as-show=on&as=off&page=40'"
      ]
     },
     "execution_count": 473,
     "metadata": {},
     "output_type": "execute_result"
    }
   ],
   "source": [
    "smart_watches_pages[39]"
   ]
  },
  {
   "cell_type": "markdown",
   "id": "8e89a9e0",
   "metadata": {},
   "source": [
    "### Now let's get the Urls of each smart watches on each page"
   ]
  },
  {
   "cell_type": "code",
   "execution_count": 474,
   "id": "eac52631",
   "metadata": {},
   "outputs": [
    {
     "name": "stderr",
     "output_type": "stream",
     "text": [
      "100%|███████████████████████████████████████████████████████████████████████| 40/40 [03:22<00:00,  5.06s/it]\n"
     ]
    }
   ],
   "source": [
    "smart_watches_urls = []\n",
    "for x in tqdm(smart_watches_pages):\n",
    "    driver.get(x)\n",
    "    time.sleep(3)\n",
    "    urls = driver.find_elements_by_xpath('//a[@class=\"_1fQZEK\"]') ## getting the headphones urls\n",
    "    try:\n",
    "        for x in urls:\n",
    "            smart_watches_urls.append(x.get_attribute('href'))\n",
    "    except:\n",
    "        smart_watches_urls.append('-')"
   ]
  },
  {
   "cell_type": "code",
   "execution_count": 475,
   "id": "068d6f72",
   "metadata": {},
   "outputs": [
    {
     "data": {
      "text/plain": [
       "960"
      ]
     },
     "execution_count": 475,
     "metadata": {},
     "output_type": "execute_result"
    }
   ],
   "source": [
    "len(smart_watches_urls)"
   ]
  },
  {
   "cell_type": "markdown",
   "id": "da981d28",
   "metadata": {},
   "source": [
    "## Now let's get smart watches Data"
   ]
  },
  {
   "cell_type": "code",
   "execution_count": 476,
   "id": "65586218",
   "metadata": {},
   "outputs": [
    {
     "name": "stderr",
     "output_type": "stream",
     "text": [
      "100%|███████████████████████████████████████████████████████████████████| 960/960 [1:52:43<00:00,  7.05s/it]"
     ]
    },
    {
     "name": "stdout",
     "output_type": "stream",
     "text": [
      "len of ratings is:  5621\n",
      "len of Reviews is: 5889\n"
     ]
    },
    {
     "name": "stderr",
     "output_type": "stream",
     "text": [
      "\n"
     ]
    }
   ],
   "source": [
    "Ratings =[]\n",
    "Reviews = []\n",
    "for i in tqdm(smart_watches_urls):\n",
    "    driver.get(i)\n",
    "    try:\n",
    "        driver.find_element_by_xpath('//div[@class=\"_3UAT2v _16PBlm\"]').click() #click on more review\n",
    "    except:\n",
    "        pass\n",
    "    time.sleep(3)\n",
    "    try:\n",
    "        rating = driver.find_elements_by_xpath(\"//div[@class='col _2wzgFH K0kLPL']/div[1]/div[1]\") # get the ratings\n",
    "        for x in rating:\n",
    "            Ratings.append(x.text)\n",
    "    except:\n",
    "        Ratings.append(\"-\")\n",
    "    try:\n",
    "        review = driver.find_elements_by_xpath('//div[@class=\"t-ZTKy\"]//div/div')# get the reviews\n",
    "        for x in review:\n",
    "            Reviews.append(x.text)\n",
    "    except:\n",
    "        Reviews.append('-')  \n",
    "    time.sleep(2)    \n",
    "print('len of ratings is: ',len(Ratings))\n",
    "print('len of Reviews is:',len(Reviews))"
   ]
  },
  {
   "cell_type": "code",
   "execution_count": 478,
   "id": "05bf2e39",
   "metadata": {},
   "outputs": [],
   "source": [
    "data = pd.DataFrame({})\n",
    "data['Rating'] = Ratings\n",
    "data['Reviews'] = Reviews[:5621]\n",
    "data.to_csv('Data4.csv',index=False)"
   ]
  },
  {
   "cell_type": "markdown",
   "id": "0a6b185a",
   "metadata": {},
   "source": [
    "## Professional Cameras"
   ]
  },
  {
   "cell_type": "code",
   "execution_count": 490,
   "id": "89cf2700",
   "metadata": {},
   "outputs": [
    {
     "name": "stdout",
     "output_type": "stream",
     "text": [
      "Enter here for the products: Professional Cameras\n"
     ]
    }
   ],
   "source": [
    "# Opening the home page of flipkart using the above url\n",
    "driver.get('https://www.flipkart.com/')\n",
    "time.sleep(2)\n",
    "\n",
    "#Asking the user to input the keywords to search.\n",
    "user_input = input('Enter here for the products: ')\n",
    "time.sleep(2)\n",
    "input_srch = driver.find_element_by_xpath('//input[@class=\"_3704LK\"]')\n",
    "input_srch.clear()\n",
    "time.sleep(2)\n",
    "input_srch.send_keys(user_input)\n",
    "time.sleep(2)\n",
    "driver.find_element_by_xpath('//button[@class=\"L0Z3Pu\"]').click()\n",
    "time.sleep(2)\n",
    "btn_urls = driver.find_elements_by_xpath('//nav[@class=\"yFHi8N\"]//a')\n",
    "time.sleep(2)\n",
    "btn_urls_list=  [x.get_attribute('href') for x in btn_urls]\n"
   ]
  },
  {
   "cell_type": "code",
   "execution_count": 491,
   "id": "6841a04e",
   "metadata": {},
   "outputs": [
    {
     "data": {
      "text/plain": [
       "'https://www.flipkart.com/search?q=Professional+Cameras&otracker=search&otracker1=search&marketplace=FLIPKART&as-show=on&as=off&page=1'"
      ]
     },
     "execution_count": 491,
     "metadata": {},
     "output_type": "execute_result"
    }
   ],
   "source": [
    "btn_urls_list[0]"
   ]
  },
  {
   "cell_type": "markdown",
   "id": "b909d307",
   "metadata": {},
   "source": [
    "### let's create more urls of the button page using for loops"
   ]
  },
  {
   "cell_type": "code",
   "execution_count": 492,
   "id": "1592cdc4",
   "metadata": {},
   "outputs": [],
   "source": [
    "Professional_Cameras_pages=[]\n",
    "for x in range(1,25):\n",
    "    x =str(x)\n",
    "    Professional_Cameras_pages.append(f\"https://www.flipkart.com/search?q=Professional+Cameras&otracker=search&otracker1=search&marketplace=FLIPKART&as-show=on&as=off&page={x}\")\n",
    " \n",
    "                        "
   ]
  },
  {
   "cell_type": "code",
   "execution_count": 493,
   "id": "912c69f8",
   "metadata": {},
   "outputs": [
    {
     "data": {
      "text/plain": [
       "['https://www.flipkart.com/search?q=Professional+Cameras&otracker=search&otracker1=search&marketplace=FLIPKART&as-show=on&as=off&page=1',\n",
       " 'https://www.flipkart.com/search?q=Professional+Cameras&otracker=search&otracker1=search&marketplace=FLIPKART&as-show=on&as=off&page=2']"
      ]
     },
     "execution_count": 493,
     "metadata": {},
     "output_type": "execute_result"
    }
   ],
   "source": [
    "Professional_Cameras_pages[:2]"
   ]
  },
  {
   "cell_type": "code",
   "execution_count": 259,
   "id": "a3a7978f",
   "metadata": {},
   "outputs": [],
   "source": [
    "driver.get(Professional_Cameras_pages[0])"
   ]
  },
  {
   "cell_type": "markdown",
   "id": "f297d9d4",
   "metadata": {},
   "source": [
    "### Now let's get the Urls of each smart watches on each page"
   ]
  },
  {
   "cell_type": "code",
   "execution_count": 494,
   "id": "74c340f8",
   "metadata": {},
   "outputs": [
    {
     "name": "stderr",
     "output_type": "stream",
     "text": [
      "100%|███████████████████████████████████████████████████████████████████████| 24/24 [03:43<00:00,  9.32s/it]\n"
     ]
    }
   ],
   "source": [
    "Professional_Cameras_urls = []\n",
    "for x in tqdm(Professional_Cameras_pages):\n",
    "    driver.get(x)\n",
    "    time.sleep(3)\n",
    "    urls = driver.find_elements_by_xpath('//a[@class=\"_2rpwqI\"]') ## getting the headphones urls\n",
    "    try:\n",
    "        for x in urls:\n",
    "            Professional_Cameras_urls.append(x.get_attribute('href'))\n",
    "    except:\n",
    "        Professional_Cameras_urls.append('-')"
   ]
  },
  {
   "cell_type": "code",
   "execution_count": 495,
   "id": "4c780531",
   "metadata": {},
   "outputs": [
    {
     "data": {
      "text/plain": [
       "960"
      ]
     },
     "execution_count": 495,
     "metadata": {},
     "output_type": "execute_result"
    }
   ],
   "source": [
    "len(Professional_Cameras_urls)"
   ]
  },
  {
   "cell_type": "markdown",
   "id": "b22d2d9b",
   "metadata": {},
   "source": [
    "## Now let's get Professional Cameras Data"
   ]
  },
  {
   "cell_type": "code",
   "execution_count": 497,
   "id": "f3ae849a",
   "metadata": {},
   "outputs": [
    {
     "name": "stderr",
     "output_type": "stream",
     "text": [
      "100%|███████████████████████████████████████████████████████████████████| 960/960 [1:47:42<00:00,  6.73s/it]"
     ]
    },
    {
     "name": "stdout",
     "output_type": "stream",
     "text": [
      "len of ratings is:  967\n",
      "len of Reviews is: 1162\n"
     ]
    },
    {
     "name": "stderr",
     "output_type": "stream",
     "text": [
      "\n"
     ]
    }
   ],
   "source": [
    "Ratings =[]\n",
    "Reviews = []\n",
    "for i in tqdm(Professional_Cameras_urls):\n",
    "    driver.get(i)\n",
    "    try:\n",
    "        driver.find_element_by_xpath('//div[@class=\"_3UAT2v _16PBlm\"]').click() #click on more review\n",
    "    except:\n",
    "        pass\n",
    "    time.sleep(3)\n",
    "    try:\n",
    "        rating = driver.find_elements_by_xpath(\"//div[@class='col _2wzgFH K0kLPL']/div[1]/div[1]\") # get the ratings\n",
    "        for x in rating:\n",
    "            Ratings.append(x.text)\n",
    "    except:\n",
    "        Ratings.append(\"-\")\n",
    "    try:\n",
    "        review = driver.find_elements_by_xpath('//div[@class=\"t-ZTKy\"]//div/div')# get the reviews\n",
    "        for x in review:\n",
    "            Reviews.append(x.text)\n",
    "    except:\n",
    "        Reviews.append('-')  \n",
    "    time.sleep(2)    \n",
    "print('len of ratings is: ',len(Ratings))\n",
    "print('len of Reviews is:',len(Reviews))"
   ]
  },
  {
   "cell_type": "code",
   "execution_count": 498,
   "id": "0b69788e",
   "metadata": {},
   "outputs": [],
   "source": [
    "data = pd.DataFrame({})\n",
    "data['Rating'] = Ratings\n",
    "data['Reviews'] = Reviews[:967]\n",
    "data.to_csv('Data5.csv',index=False)"
   ]
  },
  {
   "cell_type": "code",
   "execution_count": null,
   "id": "fb4cc59c",
   "metadata": {},
   "outputs": [],
   "source": []
  },
  {
   "cell_type": "markdown",
   "id": "83b9157d",
   "metadata": {},
   "source": [
    "## __Printers__"
   ]
  },
  {
   "cell_type": "code",
   "execution_count": 499,
   "id": "1235bf83",
   "metadata": {},
   "outputs": [
    {
     "name": "stdout",
     "output_type": "stream",
     "text": [
      "Enter here for the products: Printers\n"
     ]
    },
    {
     "data": {
      "text/plain": [
       "'https://www.flipkart.com/search?q=Printers&otracker=search&otracker1=search&marketplace=FLIPKART&as-show=on&as=off&page=1'"
      ]
     },
     "execution_count": 499,
     "metadata": {},
     "output_type": "execute_result"
    }
   ],
   "source": [
    "#Opening the home page of flipkart using the above url\n",
    "\n",
    "driver.get('https://www.flipkart.com/')\n",
    "time.sleep(2)\n",
    "\n",
    "#Asking the user to input the keywords to search.\n",
    "user_input = input('Enter here for the products: ')\n",
    "time.sleep(2)\n",
    "input_srch = driver.find_element_by_xpath('//input[@class=\"_3704LK\"]')\n",
    "input_srch.clear()\n",
    "time.sleep(2)\n",
    "input_srch.send_keys(user_input)\n",
    "time.sleep(2)\n",
    "driver.find_element_by_xpath('//button[@class=\"L0Z3Pu\"]').click()\n",
    "time.sleep(2)\n",
    "btn_urls = driver.find_elements_by_xpath('//nav[@class=\"yFHi8N\"]//a')\n",
    "time.sleep(2)\n",
    "btn_urls_list=  [x.get_attribute('href') for x in btn_urls]\n",
    "btn_urls_list[0]"
   ]
  },
  {
   "cell_type": "markdown",
   "id": "be4612a4",
   "metadata": {},
   "source": [
    "### let's create more urls of the button page using for loops\n"
   ]
  },
  {
   "cell_type": "code",
   "execution_count": 500,
   "id": "94b9cceb",
   "metadata": {},
   "outputs": [
    {
     "data": {
      "text/plain": [
       "['https://www.flipkart.com/search?q=Printers&otracker=search&otracker1=search&marketplace=FLIPKART&as-show=on&as=off&page=1',\n",
       " 'https://www.flipkart.com/search?q=Printers&otracker=search&otracker1=search&marketplace=FLIPKART&as-show=on&as=off&page=2']"
      ]
     },
     "execution_count": 500,
     "metadata": {},
     "output_type": "execute_result"
    }
   ],
   "source": [
    "Printers_pages=[]\n",
    "for x in range(1,26):\n",
    "    x =str(x)\n",
    "    Printers_pages.append(f\"https://www.flipkart.com/search?q=Printers&otracker=search&otracker1=search&marketplace=FLIPKART&as-show=on&as=off&page={x}\")\n",
    "    \n",
    "Printers_pages[:2]                        "
   ]
  },
  {
   "cell_type": "markdown",
   "id": "58090afa",
   "metadata": {},
   "source": [
    "### Now let's get the Urls of each Printers on each page"
   ]
  },
  {
   "cell_type": "code",
   "execution_count": 501,
   "id": "e820b9db",
   "metadata": {},
   "outputs": [
    {
     "name": "stderr",
     "output_type": "stream",
     "text": [
      "100%|███████████████████████████████████████████████████████████████████████| 25/25 [02:34<00:00,  6.18s/it]\n"
     ]
    },
    {
     "data": {
      "text/plain": [
       "960"
      ]
     },
     "execution_count": 501,
     "metadata": {},
     "output_type": "execute_result"
    }
   ],
   "source": [
    "Printers_urls = []\n",
    "for x in tqdm(Printers_pages):\n",
    "    driver.get(x)\n",
    "    time.sleep(3)\n",
    "    urls = driver.find_elements_by_xpath('//a[@class=\"_2rpwqI\"]') ## getting the headphones urls\n",
    "    try:\n",
    "        for x in urls:\n",
    "            Printers_urls.append(x.get_attribute('href'))\n",
    "    except:\n",
    "        Printers_urls.append('-')\n",
    "len(Printers_urls)        "
   ]
  },
  {
   "cell_type": "code",
   "execution_count": null,
   "id": "26e59845",
   "metadata": {},
   "outputs": [],
   "source": []
  },
  {
   "cell_type": "markdown",
   "id": "3f70d737",
   "metadata": {},
   "source": [
    "### Now let's get Printers Data"
   ]
  },
  {
   "cell_type": "code",
   "execution_count": 502,
   "id": "6d14244b",
   "metadata": {},
   "outputs": [
    {
     "name": "stderr",
     "output_type": "stream",
     "text": [
      "100%|███████████████████████████████████████████████████████████████████| 960/960 [1:57:54<00:00,  7.37s/it]"
     ]
    },
    {
     "name": "stdout",
     "output_type": "stream",
     "text": [
      "len of ratings is:  4456\n",
      "len of Reviews is: 4755\n"
     ]
    },
    {
     "name": "stderr",
     "output_type": "stream",
     "text": [
      "\n"
     ]
    }
   ],
   "source": [
    "Ratings =[]\n",
    "Reviews = []\n",
    "for i in tqdm(Printers_urls):\n",
    "    driver.get(i)\n",
    "    try:\n",
    "        driver.find_element_by_xpath('//div[@class=\"_3UAT2v _16PBlm\"]').click() #click on more review\n",
    "    except:\n",
    "        pass\n",
    "    time.sleep(3)\n",
    "    try:\n",
    "        rating = driver.find_elements_by_xpath(\"//div[@class='col _2wzgFH K0kLPL']/div[1]/div[1]\") # get the ratings\n",
    "        for x in rating:\n",
    "            Ratings.append(x.text)\n",
    "    except:\n",
    "        Ratings.append(\"-\")\n",
    "    try:\n",
    "        review = driver.find_elements_by_xpath('//div[@class=\"t-ZTKy\"]//div/div')# get the reviews\n",
    "        for x in review:\n",
    "            Reviews.append(x.text)\n",
    "    except:\n",
    "        Reviews.append('-')  \n",
    "    time.sleep(2)    \n",
    "print('len of ratings is: ',len(Ratings))\n",
    "print('len of Reviews is:',len(Reviews))"
   ]
  },
  {
   "cell_type": "code",
   "execution_count": 503,
   "id": "7de09c1b",
   "metadata": {},
   "outputs": [],
   "source": [
    "data = pd.DataFrame({})\n",
    "data['Rating'] = Ratings\n",
    "data['Reviews'] = Reviews[:4456]\n",
    "data.to_csv('Data6.csv',index=False)"
   ]
  },
  {
   "cell_type": "code",
   "execution_count": 504,
   "id": "7c1afda5",
   "metadata": {},
   "outputs": [
    {
     "data": {
      "text/html": [
       "<div>\n",
       "<style scoped>\n",
       "    .dataframe tbody tr th:only-of-type {\n",
       "        vertical-align: middle;\n",
       "    }\n",
       "\n",
       "    .dataframe tbody tr th {\n",
       "        vertical-align: top;\n",
       "    }\n",
       "\n",
       "    .dataframe thead th {\n",
       "        text-align: right;\n",
       "    }\n",
       "</style>\n",
       "<table border=\"1\" class=\"dataframe\">\n",
       "  <thead>\n",
       "    <tr style=\"text-align: right;\">\n",
       "      <th></th>\n",
       "      <th>Rating</th>\n",
       "      <th>Reviews</th>\n",
       "    </tr>\n",
       "  </thead>\n",
       "  <tbody>\n",
       "    <tr>\n",
       "      <th>0</th>\n",
       "      <td>5</td>\n",
       "      <td>It has all the facilities to eliminate too man...</td>\n",
       "    </tr>\n",
       "    <tr>\n",
       "      <th>1</th>\n",
       "      <td>1</td>\n",
       "      <td>Honest review:-\\n- Unable to setup with Window...</td>\n",
       "    </tr>\n",
       "  </tbody>\n",
       "</table>\n",
       "</div>"
      ],
      "text/plain": [
       "  Rating                                            Reviews\n",
       "0      5  It has all the facilities to eliminate too man...\n",
       "1      1  Honest review:-\\n- Unable to setup with Window..."
      ]
     },
     "execution_count": 504,
     "metadata": {},
     "output_type": "execute_result"
    }
   ],
   "source": [
    "data.head(2)"
   ]
  },
  {
   "cell_type": "markdown",
   "id": "02589fd6",
   "metadata": {},
   "source": [
    "## Monitors"
   ]
  },
  {
   "cell_type": "code",
   "execution_count": 506,
   "id": "56cdaadb",
   "metadata": {},
   "outputs": [
    {
     "name": "stdout",
     "output_type": "stream",
     "text": [
      "Enter here for the products: Monitors\n"
     ]
    },
    {
     "data": {
      "text/plain": [
       "'https://www.flipkart.com/search?q=Monitors&otracker=search&otracker1=search&marketplace=FLIPKART&as-show=on&as=off&page=1'"
      ]
     },
     "execution_count": 506,
     "metadata": {},
     "output_type": "execute_result"
    }
   ],
   "source": [
    "# Opening the home page of flipkart using the above url\n",
    "driver.get('https://www.flipkart.com/')\n",
    "time.sleep(2)\n",
    "\n",
    "#Asking the user to input the keywords to search.\n",
    "user_input = input('Enter here for the products: ')\n",
    "time.sleep(2)\n",
    "input_srch = driver.find_element_by_xpath('//input[@class=\"_3704LK\"]')\n",
    "input_srch.clear()\n",
    "time.sleep(2)\n",
    "input_srch.send_keys(user_input)\n",
    "time.sleep(2)\n",
    "driver.find_element_by_xpath('//button[@class=\"L0Z3Pu\"]').click()\n",
    "time.sleep(2)\n",
    "btn_urls = driver.find_elements_by_xpath('//nav[@class=\"yFHi8N\"]//a')\n",
    "time.sleep(2)\n",
    "btn_urls_list=  [x.get_attribute('href') for x in btn_urls]\n",
    "btn_urls_list[0]"
   ]
  },
  {
   "cell_type": "markdown",
   "id": "593892a4",
   "metadata": {},
   "source": [
    "### let's create more urls of the button page using for loops"
   ]
  },
  {
   "cell_type": "code",
   "execution_count": 507,
   "id": "791541c3",
   "metadata": {},
   "outputs": [
    {
     "data": {
      "text/plain": [
       "['https://www.flipkart.com/search?q=Monitors&otracker=search&otracker1=search&marketplace=FLIPKART&as-show=on&as=off&page=1',\n",
       " 'https://www.flipkart.com/search?q=Monitors&otracker=search&otracker1=search&marketplace=FLIPKART&as-show=on&as=off&page=2']"
      ]
     },
     "execution_count": 507,
     "metadata": {},
     "output_type": "execute_result"
    }
   ],
   "source": [
    "Monitors_pages=[]\n",
    "for x in range(1,16):\n",
    "    x =str(x)\n",
    "    Monitors_pages.append(f\"https://www.flipkart.com/search?q=Monitors&otracker=search&otracker1=search&marketplace=FLIPKART&as-show=on&as=off&page={x}\")\n",
    "    \n",
    "Monitors_pages[:2]                        "
   ]
  },
  {
   "cell_type": "markdown",
   "id": "b1c627bd",
   "metadata": {},
   "source": [
    "### Now let's get the Urls of each Printers on each page"
   ]
  },
  {
   "cell_type": "code",
   "execution_count": 508,
   "id": "e34c8299",
   "metadata": {},
   "outputs": [
    {
     "name": "stderr",
     "output_type": "stream",
     "text": [
      "100%|███████████████████████████████████████████████████████████████████████| 15/15 [01:19<00:00,  5.29s/it]\n"
     ]
    },
    {
     "data": {
      "text/plain": [
       "360"
      ]
     },
     "execution_count": 508,
     "metadata": {},
     "output_type": "execute_result"
    }
   ],
   "source": [
    "Monitors_urls = []\n",
    "for x in tqdm(Monitors_pages):\n",
    "    driver.get(x)\n",
    "    time.sleep(3)\n",
    "    urls = driver.find_elements_by_xpath('//a[@class=\"_1fQZEK\"]') ## getting the headphones urls\n",
    "    try:\n",
    "        for x in urls:\n",
    "            Monitors_urls.append(x.get_attribute('href'))\n",
    "    except:\n",
    "        Monitors_urls.append('-')\n",
    "len(Monitors_urls)"
   ]
  },
  {
   "cell_type": "markdown",
   "id": "88dc0b7b",
   "metadata": {},
   "source": [
    "## Now let's get Monitors Data"
   ]
  },
  {
   "cell_type": "code",
   "execution_count": 509,
   "id": "527482b6",
   "metadata": {},
   "outputs": [
    {
     "name": "stderr",
     "output_type": "stream",
     "text": [
      "100%|█████████████████████████████████████████████████████████████████████| 360/360 [40:17<00:00,  6.72s/it]"
     ]
    },
    {
     "name": "stdout",
     "output_type": "stream",
     "text": [
      "len of ratings is:  1041\n",
      "len of Reviews is: 1173\n"
     ]
    },
    {
     "name": "stderr",
     "output_type": "stream",
     "text": [
      "\n"
     ]
    }
   ],
   "source": [
    "Ratings =[]\n",
    "Reviews = []\n",
    "for i in tqdm(Monitors_urls):\n",
    "    driver.get(i)\n",
    "    try:\n",
    "        driver.find_element_by_xpath('//div[@class=\"_3UAT2v _16PBlm\"]').click() #click on more review\n",
    "    except:\n",
    "        pass\n",
    "    time.sleep(3)\n",
    "    try:\n",
    "        rating = driver.find_elements_by_xpath(\"//div[@class='col _2wzgFH K0kLPL']/div[1]/div[1]\") # get the ratings\n",
    "        for x in rating:\n",
    "            Ratings.append(x.text)\n",
    "    except:\n",
    "        Ratings.append(\"-\")\n",
    "    try:\n",
    "        review = driver.find_elements_by_xpath('//div[@class=\"t-ZTKy\"]//div/div')# get the reviews\n",
    "        for x in review:\n",
    "            Reviews.append(x.text)\n",
    "    except:\n",
    "        Reviews.append('-')  \n",
    "    time.sleep(2)    \n",
    "print('len of ratings is: ',len(Ratings))\n",
    "print('len of Reviews is:',len(Reviews))"
   ]
  },
  {
   "cell_type": "code",
   "execution_count": 511,
   "id": "787a2016",
   "metadata": {},
   "outputs": [
    {
     "data": {
      "text/html": [
       "<div>\n",
       "<style scoped>\n",
       "    .dataframe tbody tr th:only-of-type {\n",
       "        vertical-align: middle;\n",
       "    }\n",
       "\n",
       "    .dataframe tbody tr th {\n",
       "        vertical-align: top;\n",
       "    }\n",
       "\n",
       "    .dataframe thead th {\n",
       "        text-align: right;\n",
       "    }\n",
       "</style>\n",
       "<table border=\"1\" class=\"dataframe\">\n",
       "  <thead>\n",
       "    <tr style=\"text-align: right;\">\n",
       "      <th></th>\n",
       "      <th>Rating</th>\n",
       "      <th>Reviews</th>\n",
       "    </tr>\n",
       "  </thead>\n",
       "  <tbody>\n",
       "    <tr>\n",
       "      <th>0</th>\n",
       "      <td>5</td>\n",
       "      <td>I have to change the resolution back to full h...</td>\n",
       "    </tr>\n",
       "    <tr>\n",
       "      <th>1</th>\n",
       "      <td>5</td>\n",
       "      <td>Very Good with Quality..</td>\n",
       "    </tr>\n",
       "    <tr>\n",
       "      <th>2</th>\n",
       "      <td>5</td>\n",
       "      <td>well.....Ist of all package was mind blowing s...</td>\n",
       "    </tr>\n",
       "  </tbody>\n",
       "</table>\n",
       "</div>"
      ],
      "text/plain": [
       "  Rating                                            Reviews\n",
       "0      5  I have to change the resolution back to full h...\n",
       "1      5                           Very Good with Quality..\n",
       "2      5  well.....Ist of all package was mind blowing s..."
      ]
     },
     "execution_count": 511,
     "metadata": {},
     "output_type": "execute_result"
    }
   ],
   "source": [
    "data = pd.DataFrame({})\n",
    "data['Rating'] = Ratings\n",
    "data['Reviews'] = Reviews[:1041]\n",
    "data.to_csv('Data7.csv',index=False)\n",
    "data.head(3)"
   ]
  },
  {
   "cell_type": "markdown",
   "id": "9d8d74cb",
   "metadata": {},
   "source": [
    "## Room heaters"
   ]
  },
  {
   "cell_type": "code",
   "execution_count": 512,
   "id": "2b396f7d",
   "metadata": {},
   "outputs": [
    {
     "name": "stdout",
     "output_type": "stream",
     "text": [
      "Enter here for the products: Room Heaters\n"
     ]
    },
    {
     "data": {
      "text/plain": [
       "'https://www.flipkart.com/search?q=Room+Heaters&otracker=search&otracker1=search&marketplace=FLIPKART&as-show=on&as=off&page=1'"
      ]
     },
     "execution_count": 512,
     "metadata": {},
     "output_type": "execute_result"
    }
   ],
   "source": [
    "# Opening the home page of flipkart using the above url\n",
    "driver.get('https://www.flipkart.com/')\n",
    "time.sleep(2)\n",
    "\n",
    "#Asking the user to input the keywords to search.\n",
    "user_input = input('Enter here for the products: ')\n",
    "time.sleep(2)\n",
    "input_srch = driver.find_element_by_xpath('//input[@class=\"_3704LK\"]')\n",
    "input_srch.clear()\n",
    "time.sleep(2)\n",
    "input_srch.send_keys(user_input)\n",
    "time.sleep(2)\n",
    "driver.find_element_by_xpath('//button[@class=\"L0Z3Pu\"]').click()\n",
    "time.sleep(2)\n",
    "btn_urls = driver.find_elements_by_xpath('//nav[@class=\"yFHi8N\"]//a')\n",
    "time.sleep(2)\n",
    "btn_urls_list=  [x.get_attribute('href') for x in btn_urls]\n",
    "btn_urls_list[0]"
   ]
  },
  {
   "cell_type": "markdown",
   "id": "64cba5f6",
   "metadata": {},
   "source": [
    "### let's create more urls of the button page using for loops"
   ]
  },
  {
   "cell_type": "code",
   "execution_count": 513,
   "id": "5105c920",
   "metadata": {},
   "outputs": [
    {
     "data": {
      "text/plain": [
       "['https://www.flipkart.com/search?q=Room+Heaters&otracker=search&otracker1=search&marketplace=FLIPKART&as-show=on&as=off&page=1',\n",
       " 'https://www.flipkart.com/search?q=Room+Heaters&otracker=search&otracker1=search&marketplace=FLIPKART&as-show=on&as=off&page=2']"
      ]
     },
     "execution_count": 513,
     "metadata": {},
     "output_type": "execute_result"
    }
   ],
   "source": [
    "Room_heater_pages=[]\n",
    "for x in range(1,26):\n",
    "    x =str(x)\n",
    "    Room_heater_pages.append(f\"https://www.flipkart.com/search?q=Room+Heaters&otracker=search&otracker1=search&marketplace=FLIPKART&as-show=on&as=off&page={x}\")\n",
    "    \n",
    "Room_heater_pages[:2]                        "
   ]
  },
  {
   "cell_type": "markdown",
   "id": "2252130b",
   "metadata": {},
   "source": [
    "### Now let's get the Urls of each Room theater on each page"
   ]
  },
  {
   "cell_type": "code",
   "execution_count": 514,
   "id": "a4d9c3bd",
   "metadata": {},
   "outputs": [
    {
     "name": "stderr",
     "output_type": "stream",
     "text": [
      "100%|███████████████████████████████████████████████████████████████████████| 25/25 [02:17<00:00,  5.49s/it]\n"
     ]
    },
    {
     "data": {
      "text/plain": [
       "1000"
      ]
     },
     "execution_count": 514,
     "metadata": {},
     "output_type": "execute_result"
    }
   ],
   "source": [
    "Room_heater_urls = []\n",
    "for x in tqdm(Room_heater_pages):\n",
    "    driver.get(x)\n",
    "    time.sleep(3)\n",
    "    urls = driver.find_elements_by_xpath('//a[@class=\"_2rpwqI\"]') ## getting the headphones urls\n",
    "    try:\n",
    "        for x in urls:\n",
    "            Room_heater_urls.append(x.get_attribute('href'))\n",
    "    except:\n",
    "        Room_heater_urls.append('-')\n",
    "len(Room_heater_urls)"
   ]
  },
  {
   "cell_type": "markdown",
   "id": "d70cb490",
   "metadata": {},
   "source": [
    "## Now let's get Room theater Data"
   ]
  },
  {
   "cell_type": "code",
   "execution_count": 515,
   "id": "c05644ef",
   "metadata": {},
   "outputs": [
    {
     "name": "stderr",
     "output_type": "stream",
     "text": [
      "100%|█████████████████████████████████████████████████████████████████| 1000/1000 [1:49:15<00:00,  6.56s/it]"
     ]
    },
    {
     "name": "stdout",
     "output_type": "stream",
     "text": [
      "len of ratings is:  2395\n",
      "len of Reviews is: 2707\n"
     ]
    },
    {
     "name": "stderr",
     "output_type": "stream",
     "text": [
      "\n"
     ]
    }
   ],
   "source": [
    "Ratings =[]\n",
    "Reviews = []\n",
    "for i in tqdm(Room_heater_urls):\n",
    "    driver.get(i)\n",
    "    try:\n",
    "        driver.find_element_by_xpath('//div[@class=\"_3UAT2v _16PBlm\"]').click() #click on more review\n",
    "    except:\n",
    "        pass\n",
    "    time.sleep(3)\n",
    "    try:\n",
    "        rating = driver.find_elements_by_xpath(\"//div[@class='col _2wzgFH K0kLPL']/div[1]/div[1]\") # get the ratings\n",
    "        for x in rating:\n",
    "            Ratings.append(x.text)\n",
    "    except:\n",
    "        Ratings.append(\"-\")\n",
    "    try:\n",
    "        review = driver.find_elements_by_xpath('//div[@class=\"t-ZTKy\"]//div/div')# get the reviews\n",
    "        for x in review:\n",
    "            Reviews.append(x.text)\n",
    "    except:\n",
    "        Reviews.append('-')  \n",
    "    time.sleep(2)    \n",
    "print('len of ratings is: ',len(Ratings))\n",
    "print('len of Reviews is:',len(Reviews))"
   ]
  },
  {
   "cell_type": "code",
   "execution_count": 516,
   "id": "bf7e9338",
   "metadata": {},
   "outputs": [
    {
     "data": {
      "text/html": [
       "<div>\n",
       "<style scoped>\n",
       "    .dataframe tbody tr th:only-of-type {\n",
       "        vertical-align: middle;\n",
       "    }\n",
       "\n",
       "    .dataframe tbody tr th {\n",
       "        vertical-align: top;\n",
       "    }\n",
       "\n",
       "    .dataframe thead th {\n",
       "        text-align: right;\n",
       "    }\n",
       "</style>\n",
       "<table border=\"1\" class=\"dataframe\">\n",
       "  <thead>\n",
       "    <tr style=\"text-align: right;\">\n",
       "      <th></th>\n",
       "      <th>Rating</th>\n",
       "      <th>Reviews</th>\n",
       "    </tr>\n",
       "  </thead>\n",
       "  <tbody>\n",
       "    <tr>\n",
       "      <th>0</th>\n",
       "      <td>5</td>\n",
       "      <td>very good</td>\n",
       "    </tr>\n",
       "    <tr>\n",
       "      <th>1</th>\n",
       "      <td>2</td>\n",
       "      <td>Below are the features that are listed on the ...</td>\n",
       "    </tr>\n",
       "    <tr>\n",
       "      <th>2</th>\n",
       "      <td>4</td>\n",
       "      <td>nice good decent product easy affordable</td>\n",
       "    </tr>\n",
       "  </tbody>\n",
       "</table>\n",
       "</div>"
      ],
      "text/plain": [
       "  Rating                                            Reviews\n",
       "0      5                                          very good\n",
       "1      2  Below are the features that are listed on the ...\n",
       "2      4           nice good decent product easy affordable"
      ]
     },
     "execution_count": 516,
     "metadata": {},
     "output_type": "execute_result"
    }
   ],
   "source": [
    "data = pd.DataFrame({})\n",
    "data['Rating'] = Ratings\n",
    "data['Reviews'] = Reviews[:len(Ratings)]\n",
    "data.to_csv('Data8.csv',index=False)\n",
    "data.head(3)"
   ]
  },
  {
   "cell_type": "code",
   "execution_count": null,
   "id": "914559ae",
   "metadata": {},
   "outputs": [],
   "source": []
  },
  {
   "cell_type": "code",
   "execution_count": null,
   "id": "5746afc3",
   "metadata": {},
   "outputs": [],
   "source": [
    " "
   ]
  },
  {
   "cell_type": "markdown",
   "id": "5e8cfd14",
   "metadata": {},
   "source": [
    "## Router"
   ]
  },
  {
   "cell_type": "code",
   "execution_count": 517,
   "id": "a3726c68",
   "metadata": {},
   "outputs": [
    {
     "name": "stdout",
     "output_type": "stream",
     "text": [
      "Enter here for the products: Router\n"
     ]
    },
    {
     "data": {
      "text/plain": [
       "'https://www.flipkart.com/search?q=Router&otracker=search&otracker1=search&marketplace=FLIPKART&as-show=on&as=off&page=1'"
      ]
     },
     "execution_count": 517,
     "metadata": {},
     "output_type": "execute_result"
    }
   ],
   "source": [
    "# Opening the home page of flipkart using the above url\n",
    "driver.get('https://www.flipkart.com/')\n",
    "time.sleep(2)\n",
    "\n",
    "#Asking the user to input the keywords to search.\n",
    "user_input = input('Enter here for the products: ')\n",
    "time.sleep(2)\n",
    "input_srch = driver.find_element_by_xpath('//input[@class=\"_3704LK\"]')\n",
    "input_srch.clear()\n",
    "time.sleep(2)\n",
    "input_srch.send_keys(user_input)\n",
    "time.sleep(2)\n",
    "driver.find_element_by_xpath('//button[@class=\"L0Z3Pu\"]').click()\n",
    "time.sleep(2)\n",
    "btn_urls = driver.find_elements_by_xpath('//nav[@class=\"yFHi8N\"]//a')\n",
    "time.sleep(2)\n",
    "btn_urls_list=  [x.get_attribute('href') for x in btn_urls]\n",
    "btn_urls_list[0]"
   ]
  },
  {
   "cell_type": "markdown",
   "id": "579e126e",
   "metadata": {},
   "source": [
    "### let's create more urls of the button page using for loops\n",
    "\n"
   ]
  },
  {
   "cell_type": "code",
   "execution_count": 518,
   "id": "e394c350",
   "metadata": {},
   "outputs": [
    {
     "data": {
      "text/plain": [
       "['https://www.flipkart.com/search?q=Router&otracker=search&otracker1=search&marketplace=FLIPKART&as-show=on&as=off&page=1',\n",
       " 'https://www.flipkart.com/search?q=Router&otracker=search&otracker1=search&marketplace=FLIPKART&as-show=on&as=off&page=2']"
      ]
     },
     "execution_count": 518,
     "metadata": {},
     "output_type": "execute_result"
    }
   ],
   "source": [
    "Router_pages=[]\n",
    "for x in range(1,13):\n",
    "    x =str(x)\n",
    "    Router_pages.append(f\"https://www.flipkart.com/search?q=Router&otracker=search&otracker1=search&marketplace=FLIPKART&as-show=on&as=off&page={x}\")\n",
    "    \n",
    "Router_pages[:2]                      "
   ]
  },
  {
   "cell_type": "markdown",
   "id": "9f4350ea",
   "metadata": {},
   "source": [
    "### Now let's get the Urls of each Routers on each page"
   ]
  },
  {
   "cell_type": "code",
   "execution_count": 519,
   "id": "e9154fbd",
   "metadata": {},
   "outputs": [
    {
     "name": "stderr",
     "output_type": "stream",
     "text": [
      "100%|███████████████████████████████████████████████████████████████████████| 12/12 [01:04<00:00,  5.37s/it]\n"
     ]
    },
    {
     "data": {
      "text/plain": [
       "465"
      ]
     },
     "execution_count": 519,
     "metadata": {},
     "output_type": "execute_result"
    }
   ],
   "source": [
    "Router_urls = []\n",
    "for x in tqdm(Router_pages):\n",
    "    driver.get(x)\n",
    "    time.sleep(3)\n",
    "    urls = driver.find_elements_by_xpath('//a[@class=\"_2rpwqI\"]') ## getting the headphones urls\n",
    "    try:\n",
    "        for x in urls:\n",
    "            Router_urls.append(x.get_attribute('href'))\n",
    "    except:\n",
    "        Router_urls.append('-')\n",
    "len(Router_urls)"
   ]
  },
  {
   "cell_type": "markdown",
   "id": "8f59893b",
   "metadata": {},
   "source": [
    "## Now let's get Routers Data"
   ]
  },
  {
   "cell_type": "code",
   "execution_count": 529,
   "id": "e7628d58",
   "metadata": {},
   "outputs": [
    {
     "name": "stderr",
     "output_type": "stream",
     "text": [
      "100%|█████████████████████████████████████████████████████████████████████| 465/465 [43:59<00:00,  5.68s/it]\n"
     ]
    },
    {
     "data": {
      "text/html": [
       "<div>\n",
       "<style scoped>\n",
       "    .dataframe tbody tr th:only-of-type {\n",
       "        vertical-align: middle;\n",
       "    }\n",
       "\n",
       "    .dataframe tbody tr th {\n",
       "        vertical-align: top;\n",
       "    }\n",
       "\n",
       "    .dataframe thead th {\n",
       "        text-align: right;\n",
       "    }\n",
       "</style>\n",
       "<table border=\"1\" class=\"dataframe\">\n",
       "  <thead>\n",
       "    <tr style=\"text-align: right;\">\n",
       "      <th></th>\n",
       "      <th>Rating</th>\n",
       "      <th>Reviews</th>\n",
       "    </tr>\n",
       "  </thead>\n",
       "  <tbody>\n",
       "    <tr>\n",
       "      <th>0</th>\n",
       "      <td>5</td>\n",
       "      <td>First of all, an awesome product. Super packag...</td>\n",
       "    </tr>\n",
       "    <tr>\n",
       "      <th>1</th>\n",
       "      <td>5</td>\n",
       "      <td>*********EDIT: Today is 8th March 2015, more t...</td>\n",
       "    </tr>\n",
       "    <tr>\n",
       "      <th>2</th>\n",
       "      <td>4</td>\n",
       "      <td>I Used this Router for 30 days, Really worth f...</td>\n",
       "    </tr>\n",
       "  </tbody>\n",
       "</table>\n",
       "</div>"
      ],
      "text/plain": [
       "  Rating                                            Reviews\n",
       "0      5  First of all, an awesome product. Super packag...\n",
       "1      5  *********EDIT: Today is 8th March 2015, more t...\n",
       "2      4  I Used this Router for 30 days, Really worth f..."
      ]
     },
     "execution_count": 529,
     "metadata": {},
     "output_type": "execute_result"
    }
   ],
   "source": [
    "Ratings =[]\n",
    "Reviews = []\n",
    "for i in tqdm(Router_urls):\n",
    "    driver.get(i)\n",
    "    try:\n",
    "        driver.find_element_by_xpath('//div[@class=\"_3UAT2v _16PBlm\"]').click() #click on more review\n",
    "    except:\n",
    "        pass\n",
    "    time.sleep(3)\n",
    "    try:\n",
    "        rating = driver.find_elements_by_xpath(\"//div[@class='col _2wzgFH K0kLPL']/div[1]/div[1]\") # get the ratings\n",
    "        for x in rating:\n",
    "            Ratings.append(x.text)\n",
    "    except:\n",
    "        Ratings.append(\"-\")\n",
    "    try:\n",
    "        review = driver.find_elements_by_xpath('//div[@class=\"t-ZTKy\"]//div/div')# get the reviews\n",
    "        for x in review:\n",
    "            Reviews.append(x.text)\n",
    "    except:\n",
    "        Reviews.append('-')  \n",
    "    time.sleep(1) \n",
    "data = pd.DataFrame({})\n",
    "data['Rating'] = Ratings\n",
    "data['Reviews'] = Reviews[:len(Ratings)]\n",
    "data.to_csv('Data9.csv',index=False)\n",
    "data.head(3)    "
   ]
  },
  {
   "cell_type": "code",
   "execution_count": 530,
   "id": "aa76f350",
   "metadata": {},
   "outputs": [
    {
     "data": {
      "text/plain": [
       "(1677, 2)"
      ]
     },
     "execution_count": 530,
     "metadata": {},
     "output_type": "execute_result"
    }
   ],
   "source": [
    "data.shape"
   ]
  },
  {
   "cell_type": "markdown",
   "id": "d6b024c0",
   "metadata": {},
   "source": [
    "# __Extension__"
   ]
  },
  {
   "cell_type": "code",
   "execution_count": 532,
   "id": "293cba55",
   "metadata": {},
   "outputs": [
    {
     "name": "stdout",
     "output_type": "stream",
     "text": [
      "Enter here for the products: Extension\n"
     ]
    },
    {
     "data": {
      "text/plain": [
       "'https://www.flipkart.com/search?q=Extension&otracker=search&otracker1=search&marketplace=FLIPKART&as-show=on&as=off&page=1'"
      ]
     },
     "execution_count": 532,
     "metadata": {},
     "output_type": "execute_result"
    }
   ],
   "source": [
    "# Opening the home page of flipkart using the above url\n",
    "driver.get('https://www.flipkart.com/')\n",
    "time.sleep(2)\n",
    "\n",
    "#Asking the user to input the keywords to search.\n",
    "user_input = input('Enter here for the products: ')\n",
    "time.sleep(2)\n",
    "input_srch = driver.find_element_by_xpath('//input[@class=\"_3704LK\"]')\n",
    "input_srch.clear()\n",
    "time.sleep(2)\n",
    "input_srch.send_keys(user_input)\n",
    "time.sleep(2)\n",
    "driver.find_element_by_xpath('//button[@class=\"L0Z3Pu\"]').click()\n",
    "time.sleep(2)\n",
    "btn_urls = driver.find_elements_by_xpath('//nav[@class=\"yFHi8N\"]//a')\n",
    "time.sleep(2)\n",
    "btn_urls_list=  [x.get_attribute('href') for x in btn_urls]\n",
    "btn_urls_list[0]"
   ]
  },
  {
   "cell_type": "markdown",
   "id": "72df1245",
   "metadata": {},
   "source": [
    "### let's create more urls of the button page using for loops"
   ]
  },
  {
   "cell_type": "code",
   "execution_count": 533,
   "id": "4258019e",
   "metadata": {},
   "outputs": [
    {
     "data": {
      "text/plain": [
       "['https://www.flipkart.com/search?q=Extension&otracker=search&otracker1=search&marketplace=FLIPKART&as-show=on&as=off&page=1',\n",
       " 'https://www.flipkart.com/search?q=Extension&otracker=search&otracker1=search&marketplace=FLIPKART&as-show=on&as=off&page=2']"
      ]
     },
     "execution_count": 533,
     "metadata": {},
     "output_type": "execute_result"
    }
   ],
   "source": [
    "Extension_pages=[]\n",
    "for x in range(1,26):\n",
    "    x =str(x)\n",
    "    Extension_pages.append(f\"https://www.flipkart.com/search?q=Extension&otracker=search&otracker1=search&marketplace=FLIPKART&as-show=on&as=off&page={x}\")\n",
    "    \n",
    "Extension_pages[:2]                    "
   ]
  },
  {
   "cell_type": "markdown",
   "id": "aa35f147",
   "metadata": {},
   "source": [
    "### Now let's get the Urls of each Routers on each page"
   ]
  },
  {
   "cell_type": "code",
   "execution_count": 534,
   "id": "f1aac57b",
   "metadata": {},
   "outputs": [
    {
     "name": "stderr",
     "output_type": "stream",
     "text": [
      "100%|███████████████████████████████████████████████████████████████████████| 25/25 [02:24<00:00,  5.78s/it]\n"
     ]
    },
    {
     "data": {
      "text/plain": [
       "1000"
      ]
     },
     "execution_count": 534,
     "metadata": {},
     "output_type": "execute_result"
    }
   ],
   "source": [
    "Extension_urls = []\n",
    "for x in tqdm(Extension_pages):\n",
    "    driver.get(x)\n",
    "    time.sleep(3)\n",
    "    urls = driver.find_elements_by_xpath('//a[@class=\"_2rpwqI\"]') ## getting the Extension urls\n",
    "    try:\n",
    "        for x in urls:\n",
    "            Extension_urls.append(x.get_attribute('href'))\n",
    "    except:\n",
    "        Extension_urls.append('-')\n",
    "len(Extension_urls)"
   ]
  },
  {
   "cell_type": "code",
   "execution_count": 535,
   "id": "e95c892a",
   "metadata": {},
   "outputs": [
    {
     "name": "stderr",
     "output_type": "stream",
     "text": [
      "100%|█████████████████████████████████████████████████████████████████| 1000/1000 [1:39:39<00:00,  5.98s/it]\n"
     ]
    },
    {
     "data": {
      "text/html": [
       "<div>\n",
       "<style scoped>\n",
       "    .dataframe tbody tr th:only-of-type {\n",
       "        vertical-align: middle;\n",
       "    }\n",
       "\n",
       "    .dataframe tbody tr th {\n",
       "        vertical-align: top;\n",
       "    }\n",
       "\n",
       "    .dataframe thead th {\n",
       "        text-align: right;\n",
       "    }\n",
       "</style>\n",
       "<table border=\"1\" class=\"dataframe\">\n",
       "  <thead>\n",
       "    <tr style=\"text-align: right;\">\n",
       "      <th></th>\n",
       "      <th>Rating</th>\n",
       "      <th>Reviews</th>\n",
       "    </tr>\n",
       "  </thead>\n",
       "  <tbody>\n",
       "    <tr>\n",
       "      <th>0</th>\n",
       "      <td>5</td>\n",
       "      <td>Its a really good extension box, its quite stu...</td>\n",
       "    </tr>\n",
       "    <tr>\n",
       "      <th>1</th>\n",
       "      <td>5</td>\n",
       "      <td>It's been almost two weeks since I bought this...</td>\n",
       "    </tr>\n",
       "    <tr>\n",
       "      <th>2</th>\n",
       "      <td>5</td>\n",
       "      <td>very nice product. lightweight. it's been a mo...</td>\n",
       "    </tr>\n",
       "  </tbody>\n",
       "</table>\n",
       "</div>"
      ],
      "text/plain": [
       "  Rating                                            Reviews\n",
       "0      5  Its a really good extension box, its quite stu...\n",
       "1      5  It's been almost two weeks since I bought this...\n",
       "2      5  very nice product. lightweight. it's been a mo..."
      ]
     },
     "execution_count": 535,
     "metadata": {},
     "output_type": "execute_result"
    }
   ],
   "source": [
    "Ratings =[]\n",
    "Reviews = []\n",
    "for i in tqdm(Extension_urls):\n",
    "    driver.get(i)\n",
    "    try:\n",
    "        driver.find_element_by_xpath('//div[@class=\"_3UAT2v _16PBlm\"]').click() #click on more review\n",
    "    except:\n",
    "        pass\n",
    "    time.sleep(3)\n",
    "    try:\n",
    "        rating = driver.find_elements_by_xpath(\"//div[@class='col _2wzgFH K0kLPL']/div[1]/div[1]\") # get the ratings\n",
    "        for x in rating:\n",
    "            Ratings.append(x.text)\n",
    "    except:\n",
    "        Ratings.append(\"-\")\n",
    "    try:\n",
    "        review = driver.find_elements_by_xpath('//div[@class=\"t-ZTKy\"]//div/div')# get the reviews\n",
    "        for x in review:\n",
    "            Reviews.append(x.text)\n",
    "    except:\n",
    "        Reviews.append('-')  \n",
    "    time.sleep(1)    \n",
    "data = pd.DataFrame({})\n",
    "data['Rating'] = Ratings\n",
    "data['Reviews'] = Reviews[:len(Ratings)]\n",
    "data.to_csv('Data10.csv',index=False)\n",
    "data.head(3)"
   ]
  },
  {
   "cell_type": "code",
   "execution_count": 536,
   "id": "57bcb8a9",
   "metadata": {},
   "outputs": [
    {
     "data": {
      "text/plain": [
       "(4274, 2)"
      ]
     },
     "execution_count": 536,
     "metadata": {},
     "output_type": "execute_result"
    }
   ],
   "source": [
    "data.shape"
   ]
  },
  {
   "cell_type": "markdown",
   "id": "d587745b",
   "metadata": {},
   "source": [
    "## Now let's concatinate above sub-dataset into a single dataset."
   ]
  },
  {
   "cell_type": "code",
   "execution_count": 537,
   "id": "53794689",
   "metadata": {},
   "outputs": [],
   "source": [
    "df1 = pd.read_csv('Data1.csv')\n",
    "df2 = pd.read_csv('Data2.csv')\n",
    "df3 = pd.read_csv('Data3.csv')\n",
    "df4 = pd.read_csv('Data4.csv')\n",
    "df5 = pd.read_csv('Data5.csv')\n",
    "df6 = pd.read_csv('Data6.csv')\n",
    "df7 = pd.read_csv('Data7.csv')\n",
    "df8 = pd.read_csv('Data8.csv')\n",
    "df9 = pd.read_csv('Data9.csv')\n",
    "df10 = pd.read_csv('Data10.csv')"
   ]
  },
  {
   "cell_type": "code",
   "execution_count": 538,
   "id": "8ba2f18c",
   "metadata": {},
   "outputs": [],
   "source": [
    "## let's create a single dataset\n",
    "\n",
    "DATA = pd.concat([df1,df2,df3,df4,df5,df6,df7,df8,df9,df10],axis=0)\n"
   ]
  },
  {
   "cell_type": "code",
   "execution_count": 539,
   "id": "d351fabe",
   "metadata": {},
   "outputs": [
    {
     "data": {
      "text/plain": [
       "(36048, 2)"
      ]
     },
     "execution_count": 539,
     "metadata": {},
     "output_type": "execute_result"
    }
   ],
   "source": [
    "DATA.shape"
   ]
  },
  {
   "cell_type": "code",
   "execution_count": 540,
   "id": "05b1ab9c",
   "metadata": {},
   "outputs": [],
   "source": [
    "DATA.to_csv('DATA.csv',index=False)"
   ]
  },
  {
   "cell_type": "code",
   "execution_count": null,
   "id": "04a17b6c",
   "metadata": {},
   "outputs": [],
   "source": [
    "\n"
   ]
  },
  {
   "cell_type": "code",
   "execution_count": null,
   "id": "07aa2e2b",
   "metadata": {},
   "outputs": [],
   "source": []
  }
 ],
 "metadata": {
  "kernelspec": {
   "display_name": "Python 3 (ipykernel)",
   "language": "python",
   "name": "python3"
  },
  "language_info": {
   "codemirror_mode": {
    "name": "ipython",
    "version": 3
   },
   "file_extension": ".py",
   "mimetype": "text/x-python",
   "name": "python",
   "nbconvert_exporter": "python",
   "pygments_lexer": "ipython3",
   "version": "3.9.7"
  }
 },
 "nbformat": 4,
 "nbformat_minor": 5
}
